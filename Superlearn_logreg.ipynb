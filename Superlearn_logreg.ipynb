{
  "nbformat": 4,
  "nbformat_minor": 0,
  "metadata": {
    "colab": {
      "provenance": [],
      "authorship_tag": "ABX9TyMtsPt28YClPf0z0eEOh1QC",
      "include_colab_link": true
    },
    "kernelspec": {
      "name": "python3",
      "display_name": "Python 3"
    },
    "language_info": {
      "name": "python"
    }
  },
  "cells": [
    {
      "cell_type": "markdown",
      "metadata": {
        "id": "view-in-github",
        "colab_type": "text"
      },
      "source": [
        "<a href=\"https://colab.research.google.com/github/sujathasivaraman/mlai/blob/main/Superlearn_logreg.ipynb\" target=\"_parent\"><img src=\"https://colab.research.google.com/assets/colab-badge.svg\" alt=\"Open In Colab\"/></a>"
      ]
    },
    {
      "cell_type": "code",
      "execution_count": null,
      "metadata": {
        "id": "R9pFOg3jdVb9"
      },
      "outputs": [],
      "source": [
        "# @title Import Packages (might take a couple minutes)\n",
        "\n",
        "%%capture\n",
        "\n",
        "# Data handling and visualization libraries\n",
        "import numpy as np\n",
        "import pandas as pd\n",
        "import seaborn as sns\n",
        "import matplotlib.pyplot as plt\n",
        "from sklearn.preprocessing import LabelEncoder\n",
        "%%capture\n",
        "\n",
        "from sklearn.preprocessing import LabelEncoder\n",
        "\n",
        "print(\"Ran the import part of the code sequence\")\n",
        "\n",
        "# @title\n",
        "\n",
        "# Please answer the following questions to clarify the goals and implications of your project.\n",
        "\n",
        "# What is the primary goal of this dataset?\n",
        "primary_goal = \"Find the \"  # @param {type:\"string\"}\n",
        "\n",
        "# If you can accurately predict this label, what real-world problem does it help solve?\n",
        "real_world_problem = \"Identify inequalities and patterns in salaries\"  # @param {type:\"string\"}\n",
        "\n",
        "# Who does it benefit? How might they use your prediction tool?\n",
        "benefits = \"Help ensure equality and fairness\"  # @param {type:\"string\"}\n",
        " # @title\n",
        "\n",
        "# Please answer the following questions to clarify the goals and implications of your project.\n",
        "\n",
        "# What could be the potential positive impacts of your project?\n",
        "positive_impacts = \"Enter your answer here\"  # @param {type:\"string\"}\n",
        "\n",
        "# Are there any potential negative impacts or risks associated with your project?\n",
        "risks = \"Enter your answer here\"  # @param {type:\"string\"}\n",
        "\n",
        "# @title\n",
        "\n",
        "idea_1 = \"Enter your answer here\"  # @param {type:\"string\"}\n",
        "\n",
        "idea_2 = \"Enter your answer here\"  # @param {type:\"string\"}\n",
        "\n",
        "# @title\n",
        "features_X = \"\" # @param {type:\"string\"}\n",
        "\n",
        "labels_y = \"\" # @param {type:\"string\"}"
      ]
    },
    {
      "cell_type": "code",
      "source": [
        "# @title Project Selection\n",
        "Project = \"Heart Disease Detection\" # @param [\"Salary Prediction\",\"Heart Disease Detection\",\"Weather Classification\"]\n",
        "\n",
        "if Project == \"Salary Prediction\":\n",
        "  url = \"https://drive.google.com/uc?id=10abbbVs3fQSK_Dqig_gzS22CKT6IMsOl\"\n",
        "  df = pd.read_csv(url)\n",
        "\n",
        "elif Project == \"Heart Disease Detection\":\n",
        "  url = \"https://drive.google.com/uc?id=1u5YfMAkLH2ybUt14d8o8OVFV8CKTHS8c\"\n",
        "  df = pd.read_csv(url)\n",
        "\n",
        "elif Project == \"Weather Classification\":\n",
        "  url = \"https://drive.google.com/uc?id=1ukw5BvceV-F2eeiS6pd3xRiffFBdtBGO\"\n",
        "  df = pd.read_csv(url)\n",
        "\n",
        "\n",
        "\n",
        "  print(\"Ran project selection\")"
      ],
      "metadata": {
        "id": "NWOYMcZmkzC5"
      },
      "execution_count": null,
      "outputs": []
    },
    {
      "cell_type": "code",
      "source": [
        "df.head()\n",
        "\n"
      ],
      "metadata": {
        "id": "yWtvvJA-mgEG"
      },
      "execution_count": null,
      "outputs": []
    },
    {
      "cell_type": "code",
      "source": [],
      "metadata": {
        "id": "pAIfQyIT7Qib"
      },
      "execution_count": null,
      "outputs": []
    },
    {
      "cell_type": "code",
      "source": [
        "#try display\n",
        "#Display data\n",
        "# # Create subplots: 1 row, 2 columns\n",
        " # fig, axs = plt.subplots(1, 2, figsize=(10, 5))\n",
        "\n",
        "# # heartdf = df.Dataframe()\n",
        "# chodata= df['Cholesterol'] #Cholesterol\n",
        "# sns.histplot(chodata)\n",
        "# # next plave?\n",
        "\n",
        "#agedata = df['Age']\n",
        "#sns.scatterplot(x=chodata,y=agedata)\n",
        "#tips = sns.load_dataset(\"tips\")\n",
        "#sns.catplot(data=tips, x=\"day\", y=\"total_bill\")\n",
        "\n",
        "# #experiment with graphs\n",
        "# # df = sns.load_dataset(\"iris\")\n",
        "# sns.displot(df, x='Age', y='Cholesterol', kind='hist')\n",
        "sns.relplot(df, x='Age', y='Cholesterol', kind='hist')\n",
        "bins = [0, 20, 40, 60, 80]\n",
        "labels = ['Young', 'Middleaged', 'Old', 'Senile']\n",
        "# # Add new 'Age_Range' column to DataFrame\n",
        "df['Age_Range'] = pd.cut(df['Age'], bins=bins, labels=labels, right=False)\n",
        "# sns.catplot(df, x='Age_Range', y='Blood Sugar', hue='Gender',kind='bar')\n",
        "\n",
        "\n",
        "\n",
        "sns.catplot(\n",
        "    df, x=\"Age_Range\", y=\"Blood Pressure\", hue=\"Gender\",\n",
        "    palette={\"Male\": \"g\", \"Female\": \"m\"},\n",
        "    markers=[\"^\", \"o\"], linestyles=[\"-\", \"--\"],\n",
        "    kind=\"point\"\n",
        ")\n",
        "#sns.stripplot(df, x='Age', y='Cholesterol',hue='Diabetes', kind='strip')\n",
        "sns.catplot(df, x='Age_Range', y='Cholesterol', kind='boxen')\n",
        "\n",
        "g = sns.catplot(df, x=\"Heart Rate\", y=\"Exercise Hours\", kind=\"bar\")\n",
        "sns.swarmplot(df, x=\"Heart Rate\", y=\"Exercise Hours\" , color=\"k\", size=3, ax=g.ax)\n",
        "\n",
        "\n",
        "\n",
        "# stripplot() (with kind=\"strip\"; the default)\n",
        "# swarmplot() (with kind=\"swarm\")\n",
        "# boxplot() (with kind=\"box\")\n",
        "# violinplot() (with kind=\"violin\")\n",
        "# boxenplot() (with kind=\"boxen\")\n",
        "# pointplot() (with kind=\"point\")\n",
        "# barplot() (with kind=\"bar\")\n",
        "# countplot() (with kind=\"count\")\n"
      ],
      "metadata": {
        "colab": {
          "base_uri": "https://localhost:8080/",
          "height": 211
        },
        "id": "KBym_2himp1u",
        "outputId": "b91b80f6-6a13-42ee-f11f-f00c9e37fa73"
      },
      "execution_count": 1,
      "outputs": [
        {
          "output_type": "error",
          "ename": "NameError",
          "evalue": "name 'sns' is not defined",
          "traceback": [
            "\u001b[0;31m---------------------------------------------------------------------------\u001b[0m",
            "\u001b[0;31mNameError\u001b[0m                                 Traceback (most recent call last)",
            "\u001b[0;32m/tmp/ipython-input-1-2735134878.py\u001b[0m in \u001b[0;36m<cell line: 0>\u001b[0;34m()\u001b[0m\n\u001b[1;32m     17\u001b[0m \u001b[0;31m# # df = sns.load_dataset(\"iris\")\u001b[0m\u001b[0;34m\u001b[0m\u001b[0;34m\u001b[0m\u001b[0m\n\u001b[1;32m     18\u001b[0m \u001b[0;31m# sns.displot(df, x='Age', y='Cholesterol', kind='hist')\u001b[0m\u001b[0;34m\u001b[0m\u001b[0;34m\u001b[0m\u001b[0m\n\u001b[0;32m---> 19\u001b[0;31m \u001b[0msns\u001b[0m\u001b[0;34m.\u001b[0m\u001b[0mrelplot\u001b[0m\u001b[0;34m(\u001b[0m\u001b[0mdf\u001b[0m\u001b[0;34m,\u001b[0m \u001b[0mx\u001b[0m\u001b[0;34m=\u001b[0m\u001b[0;34m'Age'\u001b[0m\u001b[0;34m,\u001b[0m \u001b[0my\u001b[0m\u001b[0;34m=\u001b[0m\u001b[0;34m'Cholesterol'\u001b[0m\u001b[0;34m,\u001b[0m \u001b[0mkind\u001b[0m\u001b[0;34m=\u001b[0m\u001b[0;34m'hist'\u001b[0m\u001b[0;34m)\u001b[0m\u001b[0;34m\u001b[0m\u001b[0;34m\u001b[0m\u001b[0m\n\u001b[0m\u001b[1;32m     20\u001b[0m \u001b[0mbins\u001b[0m \u001b[0;34m=\u001b[0m \u001b[0;34m[\u001b[0m\u001b[0;36m0\u001b[0m\u001b[0;34m,\u001b[0m \u001b[0;36m20\u001b[0m\u001b[0;34m,\u001b[0m \u001b[0;36m40\u001b[0m\u001b[0;34m,\u001b[0m \u001b[0;36m60\u001b[0m\u001b[0;34m,\u001b[0m \u001b[0;36m80\u001b[0m\u001b[0;34m]\u001b[0m\u001b[0;34m\u001b[0m\u001b[0;34m\u001b[0m\u001b[0m\n\u001b[1;32m     21\u001b[0m \u001b[0mlabels\u001b[0m \u001b[0;34m=\u001b[0m \u001b[0;34m[\u001b[0m\u001b[0;34m'Young'\u001b[0m\u001b[0;34m,\u001b[0m \u001b[0;34m'Middleaged'\u001b[0m\u001b[0;34m,\u001b[0m \u001b[0;34m'Old'\u001b[0m\u001b[0;34m,\u001b[0m \u001b[0;34m'Senile'\u001b[0m\u001b[0;34m]\u001b[0m\u001b[0;34m\u001b[0m\u001b[0;34m\u001b[0m\u001b[0m\n",
            "\u001b[0;31mNameError\u001b[0m: name 'sns' is not defined"
          ]
        }
      ]
    },
    {
      "cell_type": "code",
      "source": [
        "\n",
        "# Apply Label Encoding\n",
        "label_encoder = LabelEncoder()\n",
        "df['encoded_column'] = label_encoder.fit_transform(df['categorical_column'])\n",
        "\n",
        "# Apply One-Hot Encoding using pandas\n",
        "df = pd.get_dummies(df, columns=['categorical_column'], prefix='category')\n",
        "\n",
        "# Define ordinal mapping\n",
        "education_mapping = {'High School': 1, \"Bachelor's\": 2, \"Master's\": 3, 'PhD': 4}\n",
        "df['encoded_column'] = df['categorical_column'].map(education_mapping)\n",
        "\n",
        "# Create a boxplot to identify outliers\n",
        "plt.figure(figsize=(8, 6))\n",
        "plt.boxplot(df['Column_A'], vert=False, patch_artist=True, boxprops=dict(facecolor='lightblue'))\n",
        "plt.title('Boxplot of Column_A')\n",
        "plt.xlabel('Values')\n",
        "plt.show()\n",
        "\n",
        "# Create a histogram to visualize the distribution\n",
        "plt.figure(figsize=(8, 6))\n",
        "plt.hist(df['Column_A'], bins=10, color='skyblue', edgecolor='black')\n",
        "plt.title('Histogram of Column_A')\n",
        "plt.xlabel('Values')\n",
        "plt.ylabel('Frequency')\n",
        "plt.show()\n",
        "\n",
        "plt.savefig(\"YourName.jpg\")"
      ],
      "metadata": {
        "id": "bpiZZStGkEfj"
      },
      "execution_count": null,
      "outputs": []
    },
    {
      "cell_type": "code",
      "source": [
        "df.head()"
      ],
      "metadata": {
        "id": "JPd4dp8akIAI"
      },
      "execution_count": null,
      "outputs": []
    },
    {
      "cell_type": "code",
      "source": [
        "\n",
        "df.head()\n",
        "df[df.duplicated()]\n",
        "df.drop_duplicates()\n",
        "\n",
        "df.isnull().sum().sum()\n",
        "\n",
        "[ ]\n",
        "df.isnull().sum().sum()\n",
        "np.int64(10)\n",
        "\n",
        "df.isnull()\n",
        "# for column in df.columns:\n",
        "df_clean = df.dropna()\n",
        "df_clean\n"
      ],
      "metadata": {
        "id": "uOON6QvVj8Q_"
      },
      "execution_count": null,
      "outputs": []
    }
  ]
}