{
  "cells": [
    {
      "cell_type": "markdown",
      "metadata": {
        "id": "view-in-github",
        "colab_type": "text"
      },
      "source": [
        "<a href=\"https://colab.research.google.com/github/sujathasivaraman/mlai/blob/main/Copy_of_Student_Yelp_Review_Sentiment_Classification.ipynb\" target=\"_parent\"><img src=\"https://colab.research.google.com/assets/colab-badge.svg\" alt=\"Open In Colab\"/></a>"
      ]
    },
    {
      "cell_type": "markdown",
      "metadata": {
        "id": "TiM6gYg0nhkY"
      },
      "source": [
        "<font color=\"#de3023\"><h1><b>MAKE A COPY OF THIS NOTEBOOK SO YOUR EDITS ARE SAVED</b></h1></font>"
      ]
    },
    {
      "cell_type": "markdown",
      "metadata": {
        "id": "svLhCiU3Evm6"
      },
      "source": [
        "# Introduction to AI and Sentiment Analysis with Yelp Reviews\n",
        "\n",
        "Today, we will develop a machine learning model to determine sentiments expressed in Yelp reviews, classifying them as either positive or negative. This introduces the concept of **sentiment analysis**, a form of natural language processing (NLP) that quantifies individuals' opinions (i.e. **good or bad**) from their textual expressions.\n",
        "\n",
        "<!-- ---\n",
        "\n",
        "**Discussion Prompt:** Consider other contexts in which sentiment analysis could be beneficial for businesses or organizations. How might they leverage this technology?\n",
        "\n",
        "--- -->\n",
        "\n",
        "In this notebook, we'll:\n",
        "\n",
        "1. Explore and manipulate a real Yelp review dataset.\n",
        "2. Preprocess text data with tokenization and vectorization.\n",
        "3. Learn word embeddings using pre-trained models.\n",
        "4. Build and train an RNN for sentiment analysis.\n",
        "5. Evaluate the model's performance on unseen data.\n",
        "\n",
        "\n",
        "<!-- * **Explore and manipulate data:** Get hands-on experience with the Yelp review dataset created directly from real reviews from Yelp.\n",
        "* **Preprocess text data:** Learn to convert text into a format suitable for NLP tasks through tokenization and vectorization.\n",
        "* **Introduction to word embeddings:** Utilize pre-trained models to transform words into numerical representations.\n",
        "* **Build and train a model:** Implement a recurrent neural network (RNN) to analyze text data and predict sentiments.\n",
        "* **Evaluate and iterate:** Test the model's performance on unseen data! -->\n",
        "\n",
        "**Discussion Prompt:** Consider other contexts in which sentiment analysis could be beneficial for businesses or organizations. How might they leverage this technology?\n",
        "\n",
        "By the end of this, you will not only be able to build a sentiment analysis classifier but also gain insights into the practical challenges and decisions that come with developing AI models.\n",
        "\n",
        "Let's get started!"
      ]
    },
    {
      "cell_type": "markdown",
      "metadata": {
        "id": "BZgELVS8I6kc"
      },
      "source": [
        "<center> <img src=https://storage.googleapis.com/inspirit-ai-data-bucket-1/Data/AI%20Scholars/Sessions%201%20-%205/Session%203%20-%20NLP/Taco%20Bell%20Reviews.png> </center>"
      ]
    },
    {
      "cell_type": "code",
      "execution_count": null,
      "metadata": {
        "cellView": "form",
        "colab": {
          "base_uri": "https://localhost:8080/"
        },
        "collapsed": true,
        "id": "2jS5ThMCEvnC",
        "outputId": "05d36d5a-bed2-4d39-a1cd-6c7bb42af3c6"
      },
      "outputs": [
        {
          "name": "stderr",
          "output_type": "stream",
          "text": [
            "[nltk_data] Downloading package wordnet to /root/nltk_data...\n",
            "[nltk_data] Downloading package punkt to /root/nltk_data...\n",
            "[nltk_data]   Unzipping tokenizers/punkt.zip.\n"
          ]
        },
        {
          "name": "stdout",
          "output_type": "stream",
          "text": [
            "Collecting en-core-web-md==3.7.1\n",
            "  Downloading https://github.com/explosion/spacy-models/releases/download/en_core_web_md-3.7.1/en_core_web_md-3.7.1-py3-none-any.whl (42.8 MB)\n",
            "\u001b[2K     \u001b[90m━━━━━━━━━━━━━━━━━━━━━━━━━━━━━━━━━━━━━━━━\u001b[0m \u001b[32m42.8/42.8 MB\u001b[0m \u001b[31m11.5 MB/s\u001b[0m eta \u001b[36m0:00:00\u001b[0m\n",
            "\u001b[?25hRequirement already satisfied: spacy<3.8.0,>=3.7.2 in /usr/local/lib/python3.10/dist-packages (from en-core-web-md==3.7.1) (3.7.4)\n",
            "Requirement already satisfied: spacy-legacy<3.1.0,>=3.0.11 in /usr/local/lib/python3.10/dist-packages (from spacy<3.8.0,>=3.7.2->en-core-web-md==3.7.1) (3.0.12)\n",
            "Requirement already satisfied: spacy-loggers<2.0.0,>=1.0.0 in /usr/local/lib/python3.10/dist-packages (from spacy<3.8.0,>=3.7.2->en-core-web-md==3.7.1) (1.0.5)\n",
            "Requirement already satisfied: murmurhash<1.1.0,>=0.28.0 in /usr/local/lib/python3.10/dist-packages (from spacy<3.8.0,>=3.7.2->en-core-web-md==3.7.1) (1.0.10)\n",
            "Requirement already satisfied: cymem<2.1.0,>=2.0.2 in /usr/local/lib/python3.10/dist-packages (from spacy<3.8.0,>=3.7.2->en-core-web-md==3.7.1) (2.0.8)\n",
            "Requirement already satisfied: preshed<3.1.0,>=3.0.2 in /usr/local/lib/python3.10/dist-packages (from spacy<3.8.0,>=3.7.2->en-core-web-md==3.7.1) (3.0.9)\n",
            "Requirement already satisfied: thinc<8.3.0,>=8.2.2 in /usr/local/lib/python3.10/dist-packages (from spacy<3.8.0,>=3.7.2->en-core-web-md==3.7.1) (8.2.3)\n",
            "Requirement already satisfied: wasabi<1.2.0,>=0.9.1 in /usr/local/lib/python3.10/dist-packages (from spacy<3.8.0,>=3.7.2->en-core-web-md==3.7.1) (1.1.3)\n",
            "Requirement already satisfied: srsly<3.0.0,>=2.4.3 in /usr/local/lib/python3.10/dist-packages (from spacy<3.8.0,>=3.7.2->en-core-web-md==3.7.1) (2.4.8)\n",
            "Requirement already satisfied: catalogue<2.1.0,>=2.0.6 in /usr/local/lib/python3.10/dist-packages (from spacy<3.8.0,>=3.7.2->en-core-web-md==3.7.1) (2.0.10)\n",
            "Requirement already satisfied: weasel<0.4.0,>=0.1.0 in /usr/local/lib/python3.10/dist-packages (from spacy<3.8.0,>=3.7.2->en-core-web-md==3.7.1) (0.3.4)\n",
            "Requirement already satisfied: typer<0.10.0,>=0.3.0 in /usr/local/lib/python3.10/dist-packages (from spacy<3.8.0,>=3.7.2->en-core-web-md==3.7.1) (0.9.4)\n",
            "Requirement already satisfied: smart-open<7.0.0,>=5.2.1 in /usr/local/lib/python3.10/dist-packages (from spacy<3.8.0,>=3.7.2->en-core-web-md==3.7.1) (6.4.0)\n",
            "Requirement already satisfied: tqdm<5.0.0,>=4.38.0 in /usr/local/lib/python3.10/dist-packages (from spacy<3.8.0,>=3.7.2->en-core-web-md==3.7.1) (4.66.4)\n",
            "Requirement already satisfied: requests<3.0.0,>=2.13.0 in /usr/local/lib/python3.10/dist-packages (from spacy<3.8.0,>=3.7.2->en-core-web-md==3.7.1) (2.31.0)\n",
            "Requirement already satisfied: pydantic!=1.8,!=1.8.1,<3.0.0,>=1.7.4 in /usr/local/lib/python3.10/dist-packages (from spacy<3.8.0,>=3.7.2->en-core-web-md==3.7.1) (2.7.3)\n",
            "Requirement already satisfied: jinja2 in /usr/local/lib/python3.10/dist-packages (from spacy<3.8.0,>=3.7.2->en-core-web-md==3.7.1) (3.1.4)\n",
            "Requirement already satisfied: setuptools in /usr/local/lib/python3.10/dist-packages (from spacy<3.8.0,>=3.7.2->en-core-web-md==3.7.1) (67.7.2)\n",
            "Requirement already satisfied: packaging>=20.0 in /usr/local/lib/python3.10/dist-packages (from spacy<3.8.0,>=3.7.2->en-core-web-md==3.7.1) (24.0)\n",
            "Requirement already satisfied: langcodes<4.0.0,>=3.2.0 in /usr/local/lib/python3.10/dist-packages (from spacy<3.8.0,>=3.7.2->en-core-web-md==3.7.1) (3.4.0)\n",
            "Requirement already satisfied: numpy>=1.19.0 in /usr/local/lib/python3.10/dist-packages (from spacy<3.8.0,>=3.7.2->en-core-web-md==3.7.1) (1.25.2)\n",
            "Requirement already satisfied: language-data>=1.2 in /usr/local/lib/python3.10/dist-packages (from langcodes<4.0.0,>=3.2.0->spacy<3.8.0,>=3.7.2->en-core-web-md==3.7.1) (1.2.0)\n",
            "Requirement already satisfied: annotated-types>=0.4.0 in /usr/local/lib/python3.10/dist-packages (from pydantic!=1.8,!=1.8.1,<3.0.0,>=1.7.4->spacy<3.8.0,>=3.7.2->en-core-web-md==3.7.1) (0.7.0)\n",
            "Requirement already satisfied: pydantic-core==2.18.4 in /usr/local/lib/python3.10/dist-packages (from pydantic!=1.8,!=1.8.1,<3.0.0,>=1.7.4->spacy<3.8.0,>=3.7.2->en-core-web-md==3.7.1) (2.18.4)\n",
            "Requirement already satisfied: typing-extensions>=4.6.1 in /usr/local/lib/python3.10/dist-packages (from pydantic!=1.8,!=1.8.1,<3.0.0,>=1.7.4->spacy<3.8.0,>=3.7.2->en-core-web-md==3.7.1) (4.12.1)\n",
            "Requirement already satisfied: charset-normalizer<4,>=2 in /usr/local/lib/python3.10/dist-packages (from requests<3.0.0,>=2.13.0->spacy<3.8.0,>=3.7.2->en-core-web-md==3.7.1) (3.3.2)\n",
            "Requirement already satisfied: idna<4,>=2.5 in /usr/local/lib/python3.10/dist-packages (from requests<3.0.0,>=2.13.0->spacy<3.8.0,>=3.7.2->en-core-web-md==3.7.1) (3.7)\n",
            "Requirement already satisfied: urllib3<3,>=1.21.1 in /usr/local/lib/python3.10/dist-packages (from requests<3.0.0,>=2.13.0->spacy<3.8.0,>=3.7.2->en-core-web-md==3.7.1) (2.0.7)\n",
            "Requirement already satisfied: certifi>=2017.4.17 in /usr/local/lib/python3.10/dist-packages (from requests<3.0.0,>=2.13.0->spacy<3.8.0,>=3.7.2->en-core-web-md==3.7.1) (2024.6.2)\n",
            "Requirement already satisfied: blis<0.8.0,>=0.7.8 in /usr/local/lib/python3.10/dist-packages (from thinc<8.3.0,>=8.2.2->spacy<3.8.0,>=3.7.2->en-core-web-md==3.7.1) (0.7.11)\n",
            "Requirement already satisfied: confection<1.0.0,>=0.0.1 in /usr/local/lib/python3.10/dist-packages (from thinc<8.3.0,>=8.2.2->spacy<3.8.0,>=3.7.2->en-core-web-md==3.7.1) (0.1.5)\n",
            "Requirement already satisfied: click<9.0.0,>=7.1.1 in /usr/local/lib/python3.10/dist-packages (from typer<0.10.0,>=0.3.0->spacy<3.8.0,>=3.7.2->en-core-web-md==3.7.1) (8.1.7)\n",
            "Requirement already satisfied: cloudpathlib<0.17.0,>=0.7.0 in /usr/local/lib/python3.10/dist-packages (from weasel<0.4.0,>=0.1.0->spacy<3.8.0,>=3.7.2->en-core-web-md==3.7.1) (0.16.0)\n",
            "Requirement already satisfied: MarkupSafe>=2.0 in /usr/local/lib/python3.10/dist-packages (from jinja2->spacy<3.8.0,>=3.7.2->en-core-web-md==3.7.1) (2.1.5)\n",
            "Requirement already satisfied: marisa-trie>=0.7.7 in /usr/local/lib/python3.10/dist-packages (from language-data>=1.2->langcodes<4.0.0,>=3.2.0->spacy<3.8.0,>=3.7.2->en-core-web-md==3.7.1) (1.1.1)\n",
            "Installing collected packages: en-core-web-md\n",
            "Successfully installed en-core-web-md-3.7.1\n",
            "\u001b[38;5;2m✔ Download and installation successful\u001b[0m\n",
            "You can now load the package via spacy.load('en_core_web_md')\n",
            "\u001b[38;5;3m⚠ Restart to reload dependencies\u001b[0m\n",
            "If you are in a Jupyter or Colab notebook, you may need to restart Python in\n",
            "order to load all the package's dependencies. You can do this by selecting the\n",
            "'Restart kernel' or 'Restart runtime' option.\n",
            "yelp_final.csv      100%[===================>] 743.14K  1.15MB/s    in 0.6s    \n"
          ]
        }
      ],
      "source": [
        "#@title Import our libraries and data (Make sure you use a GPU runtime!)\n",
        "import pandas as pd   # Great for tables (google spreadsheets, microsoft excel, csv).\n",
        "import numpy as np\n",
        "import matplotlib.pyplot as plt\n",
        "import seaborn as sns\n",
        "import string\n",
        "import nltk\n",
        "import spacy\n",
        "import wordcloud\n",
        "import os # Good for navigating your computer's files\n",
        "import sys\n",
        "pd.options.mode.chained_assignment = None #suppress warnings\n",
        "\n",
        "from nltk.stem import WordNetLemmatizer\n",
        "from nltk.corpus import stopwords\n",
        "from nltk.tokenize import word_tokenize\n",
        "from spacy.lang.en.stop_words import STOP_WORDS\n",
        "nltk.download('wordnet')\n",
        "nltk.download('punkt')\n",
        "\n",
        "from wordcloud import WordCloud\n",
        "import matplotlib.pyplot as plt\n",
        "from sklearn.feature_extraction.text import CountVectorizer\n",
        "from sklearn.model_selection import train_test_split\n",
        "from sklearn.linear_model import LogisticRegression\n",
        "from sklearn.metrics import confusion_matrix, classification_report\n",
        "from sklearn.metrics import accuracy_score\n",
        "import locale\n",
        "locale.getpreferredencoding = lambda: \"UTF-8\"\n",
        "!python -m spacy download en_core_web_md\n",
        "import en_core_web_md\n",
        "text_to_nlp = spacy.load('en_core_web_md')\n",
        "\n",
        "import scipy\n",
        "# from scipy.spatial.distance import cosine\n",
        "from sklearn.metrics.pairwise import cosine_similarity\n",
        "\n",
        "def cosine(word1, word2):\n",
        "\n",
        "  vector1 = word1.reshape(1, -1)\n",
        "  vector2 = word2.reshape(1, -1)\n",
        "\n",
        "  return cosine_similarity(vector1, vector2)[0][0]\n",
        "\n",
        "\n",
        "# Import our data\n",
        "!wget -q --show-progress \"https://storage.googleapis.com/inspirit-ai-data-bucket-1/Data/AI%20Scholars/Sessions%201%20-%205/Session%203%20-%20NLP/yelp_final.csv\""
      ]
    },
    {
      "cell_type": "markdown",
      "metadata": {
        "id": "DQ267zCBOjet"
      },
      "source": [
        "# 🔍 Data Exploration"
      ]
    },
    {
      "cell_type": "markdown",
      "metadata": {
        "id": "_BLs_2JkEvnw"
      },
      "source": [
        "First, let's start by loading our review data. The data is stored in a file named `yelp_final.csv`. You can see this file for yourself by clicking the folder icon on the left-hand side of the screen. We will use the `read_csv` function from the pandas library to load the data! Good times."
      ]
    },
    {
      "cell_type": "code",
      "execution_count": null,
      "metadata": {
        "colab": {
          "base_uri": "https://localhost:8080/",
          "height": 206
        },
        "id": "8dZ_lymcN_K9",
        "outputId": "3882d17f-f867-42dc-c9ef-d6f3b1417070"
      },
      "outputs": [
        {
          "data": {
            "application/vnd.google.colaboratory.intrinsic+json": {
              "summary": "{\n  \"name\": \"yelp_full\",\n  \"rows\": 1000,\n  \"fields\": [\n    {\n      \"column\": \"business_id\",\n      \"properties\": {\n        \"dtype\": \"string\",\n        \"num_unique_values\": 819,\n        \"samples\": [\n          \"5GpvSL1tlAjpgdJKZ5eLpg\",\n          \"K4Oo7A5Kp5eSgBV7MgOu8Q\",\n          \"JJDaF4yFPLgQ3u678qyL2w\"\n        ],\n        \"semantic_type\": \"\",\n        \"description\": \"\"\n      }\n    },\n    {\n      \"column\": \"stars\",\n      \"properties\": {\n        \"dtype\": \"number\",\n        \"std\": 1,\n        \"min\": 1,\n        \"max\": 5,\n        \"num_unique_values\": 5,\n        \"samples\": [\n          4,\n          1,\n          3\n        ],\n        \"semantic_type\": \"\",\n        \"description\": \"\"\n      }\n    },\n    {\n      \"column\": \"text\",\n      \"properties\": {\n        \"dtype\": \"string\",\n        \"num_unique_values\": 1000,\n        \"samples\": [\n          \"Apparently I'm late to the party on this one, but my first visit to Sierra Bonita Grill was last weekend for brunch. I'm hesitant to add another good review of this great place because I didn't have to fight anyone for a table, and I would like to be able get one in the future.\\n\\nAnyway... I'm a huge fan of brunch (and especially of Mexican/Latin American-type brunches), so I was thrilled to try this place. My friend ordered the Verde Vaqueros, which are their verison of biscuits and gravy. But the biscuits are no ordinary biscuits, they're Green chile beer biscuits (!) with smoked sausage gravy from Schreiners. The biscuits were delicious. I could eat them with anything... or really without anything else. My friend cleaned his plate. I got the stacked chicken enchiladas because I'm a sucker for anything with hatch chiles, and they did not disappoint. The sauce was flavorful, and the crispy tortillas were a nice texture contrast to the rest of the dish.\\n\\nWill definitely be back, and would definitely recommend that people check this place out for brunch... just don't take my table.\",\n          \"Kabuki was great....A lovely little middle-of-the-afternoon oasis found in Tempe Marketplace!  I scoped out the menu had some some sushi for happy hour, including some rare beef sashimi, some unusual and unique rolls and complimentary edamame.  Although I did not dine here for a full meal, I feel justified in expressing my enjoyment of their happy hour.  The tiny bar was cozy and the service was good.  The happy hour prices were enticing and I would definitely return for it:)  Although for my personal taste the ambiance of Kabuki seemed a little too corporate for me I definitely would return for their happy hour and maybe to sample other menu items.  I will keep you posted on my next visit:)\",\n          \"Whew!  What a hike.  Coming from Colorado, though, the relative comparison makes it just a 3.  \\n\\nFirstly, it's definitely treacherous.  When we arrived between 730 and 8 on a Saturday morning, there were about four, maybe five firetrucks in the parking area...these rescue/aid teams just camp out there, I think, because of all the doofuses who don't plan accordingly waterwise or overestimate their ability to make this climb.  Also, two different areas of the Echo Canyon trail are especially steep and potentially slick, so they've installed some metal railings to help you along there...but only if you've got some gloves or if the temperature is moderate (uhhhh,...that doesn't really happen in Phoenix during the day in summer), because those damn things get hot enough to fry an egg.  Also - water, water, water.  Bring a LOT, or top off at the start of the trail before you go up (though the water out of that tap attached to the water fountain is about 85 degrees, yuk). \\n\\nIt was a fun jaunt.  The view was worth it - not entirely picturesque as far as nature goes, but it was nice view of the city and surrounding area.  If you go, just be wary of the sun/heat, and know that you'll be clambering over and around boulders and such.  (If you trip, it's CURTAINS!)\"\n        ],\n        \"semantic_type\": \"\",\n        \"description\": \"\"\n      }\n    },\n    {\n      \"column\": \"user_id\",\n      \"properties\": {\n        \"dtype\": \"string\",\n        \"num_unique_values\": 892,\n        \"samples\": [\n          \"8Uuzc8YpvQgGLeB0X-Ferw\",\n          \"gh2OwESXrgVyufGz_NPHxw\",\n          \"xg4AdOGHFxJyWByFbG8stA\"\n        ],\n        \"semantic_type\": \"\",\n        \"description\": \"\"\n      }\n    },\n    {\n      \"column\": \"cool\",\n      \"properties\": {\n        \"dtype\": \"number\",\n        \"std\": 2,\n        \"min\": 0,\n        \"max\": 28,\n        \"num_unique_values\": 17,\n        \"samples\": [\n          2,\n          0,\n          11\n        ],\n        \"semantic_type\": \"\",\n        \"description\": \"\"\n      }\n    },\n    {\n      \"column\": \"useful\",\n      \"properties\": {\n        \"dtype\": \"number\",\n        \"std\": 2,\n        \"min\": 0,\n        \"max\": 28,\n        \"num_unique_values\": 20,\n        \"samples\": [\n          5,\n          10,\n          11\n        ],\n        \"semantic_type\": \"\",\n        \"description\": \"\"\n      }\n    },\n    {\n      \"column\": \"funny\",\n      \"properties\": {\n        \"dtype\": \"number\",\n        \"std\": 2,\n        \"min\": 0,\n        \"max\": 39,\n        \"num_unique_values\": 20,\n        \"samples\": [\n          0,\n          17,\n          16\n        ],\n        \"semantic_type\": \"\",\n        \"description\": \"\"\n      }\n    }\n  ]\n}",
              "type": "dataframe",
              "variable_name": "yelp_full"
            },
            "text/html": [
              "\n",
              "  <div id=\"df-7dd4c67a-88d2-4c10-9cbb-3a841d400890\" class=\"colab-df-container\">\n",
              "    <div>\n",
              "<style scoped>\n",
              "    .dataframe tbody tr th:only-of-type {\n",
              "        vertical-align: middle;\n",
              "    }\n",
              "\n",
              "    .dataframe tbody tr th {\n",
              "        vertical-align: top;\n",
              "    }\n",
              "\n",
              "    .dataframe thead th {\n",
              "        text-align: right;\n",
              "    }\n",
              "</style>\n",
              "<table border=\"1\" class=\"dataframe\">\n",
              "  <thead>\n",
              "    <tr style=\"text-align: right;\">\n",
              "      <th></th>\n",
              "      <th>business_id</th>\n",
              "      <th>stars</th>\n",
              "      <th>text</th>\n",
              "      <th>user_id</th>\n",
              "      <th>cool</th>\n",
              "      <th>useful</th>\n",
              "      <th>funny</th>\n",
              "    </tr>\n",
              "  </thead>\n",
              "  <tbody>\n",
              "    <tr>\n",
              "      <th>0</th>\n",
              "      <td>9yKzy9PApeiPPOUJEtnvkg</td>\n",
              "      <td>5</td>\n",
              "      <td>My wife took me here on my birthday for breakf...</td>\n",
              "      <td>rLtl8ZkDX5vH5nAx9C3q5Q</td>\n",
              "      <td>2</td>\n",
              "      <td>5</td>\n",
              "      <td>0</td>\n",
              "    </tr>\n",
              "    <tr>\n",
              "      <th>1</th>\n",
              "      <td>ZRJwVLyzEJq1VAihDhYiow</td>\n",
              "      <td>5</td>\n",
              "      <td>I have no idea why some people give bad review...</td>\n",
              "      <td>0a2KyEL0d3Yb1V6aivbIuQ</td>\n",
              "      <td>0</td>\n",
              "      <td>0</td>\n",
              "      <td>0</td>\n",
              "    </tr>\n",
              "    <tr>\n",
              "      <th>2</th>\n",
              "      <td>_1QQZuf4zZOyFCvXc0o6Vg</td>\n",
              "      <td>5</td>\n",
              "      <td>Rosie, Dakota, and I LOVE Chaparral Dog Park!!...</td>\n",
              "      <td>uZetl9T0NcROGOyFfughhg</td>\n",
              "      <td>1</td>\n",
              "      <td>2</td>\n",
              "      <td>0</td>\n",
              "    </tr>\n",
              "    <tr>\n",
              "      <th>3</th>\n",
              "      <td>6ozycU1RpktNG2-1BroVtw</td>\n",
              "      <td>5</td>\n",
              "      <td>General Manager Scott Petello is a good egg!!!...</td>\n",
              "      <td>vYmM4KTsC8ZfQBg-j5MWkw</td>\n",
              "      <td>0</td>\n",
              "      <td>0</td>\n",
              "      <td>0</td>\n",
              "    </tr>\n",
              "    <tr>\n",
              "      <th>4</th>\n",
              "      <td>zp713qNhx8d9KCJJnrw1xA</td>\n",
              "      <td>5</td>\n",
              "      <td>Drop what you're doing and drive here. After I...</td>\n",
              "      <td>wFweIWhv2fREZV_dYkz_1g</td>\n",
              "      <td>7</td>\n",
              "      <td>7</td>\n",
              "      <td>4</td>\n",
              "    </tr>\n",
              "  </tbody>\n",
              "</table>\n",
              "</div>\n",
              "    <div class=\"colab-df-buttons\">\n",
              "\n",
              "  <div class=\"colab-df-container\">\n",
              "    <button class=\"colab-df-convert\" onclick=\"convertToInteractive('df-7dd4c67a-88d2-4c10-9cbb-3a841d400890')\"\n",
              "            title=\"Convert this dataframe to an interactive table.\"\n",
              "            style=\"display:none;\">\n",
              "\n",
              "  <svg xmlns=\"http://www.w3.org/2000/svg\" height=\"24px\" viewBox=\"0 -960 960 960\">\n",
              "    <path d=\"M120-120v-720h720v720H120Zm60-500h600v-160H180v160Zm220 220h160v-160H400v160Zm0 220h160v-160H400v160ZM180-400h160v-160H180v160Zm440 0h160v-160H620v160ZM180-180h160v-160H180v160Zm440 0h160v-160H620v160Z\"/>\n",
              "  </svg>\n",
              "    </button>\n",
              "\n",
              "  <style>\n",
              "    .colab-df-container {\n",
              "      display:flex;\n",
              "      gap: 12px;\n",
              "    }\n",
              "\n",
              "    .colab-df-convert {\n",
              "      background-color: #E8F0FE;\n",
              "      border: none;\n",
              "      border-radius: 50%;\n",
              "      cursor: pointer;\n",
              "      display: none;\n",
              "      fill: #1967D2;\n",
              "      height: 32px;\n",
              "      padding: 0 0 0 0;\n",
              "      width: 32px;\n",
              "    }\n",
              "\n",
              "    .colab-df-convert:hover {\n",
              "      background-color: #E2EBFA;\n",
              "      box-shadow: 0px 1px 2px rgba(60, 64, 67, 0.3), 0px 1px 3px 1px rgba(60, 64, 67, 0.15);\n",
              "      fill: #174EA6;\n",
              "    }\n",
              "\n",
              "    .colab-df-buttons div {\n",
              "      margin-bottom: 4px;\n",
              "    }\n",
              "\n",
              "    [theme=dark] .colab-df-convert {\n",
              "      background-color: #3B4455;\n",
              "      fill: #D2E3FC;\n",
              "    }\n",
              "\n",
              "    [theme=dark] .colab-df-convert:hover {\n",
              "      background-color: #434B5C;\n",
              "      box-shadow: 0px 1px 3px 1px rgba(0, 0, 0, 0.15);\n",
              "      filter: drop-shadow(0px 1px 2px rgba(0, 0, 0, 0.3));\n",
              "      fill: #FFFFFF;\n",
              "    }\n",
              "  </style>\n",
              "\n",
              "    <script>\n",
              "      const buttonEl =\n",
              "        document.querySelector('#df-7dd4c67a-88d2-4c10-9cbb-3a841d400890 button.colab-df-convert');\n",
              "      buttonEl.style.display =\n",
              "        google.colab.kernel.accessAllowed ? 'block' : 'none';\n",
              "\n",
              "      async function convertToInteractive(key) {\n",
              "        const element = document.querySelector('#df-7dd4c67a-88d2-4c10-9cbb-3a841d400890');\n",
              "        const dataTable =\n",
              "          await google.colab.kernel.invokeFunction('convertToInteractive',\n",
              "                                                    [key], {});\n",
              "        if (!dataTable) return;\n",
              "\n",
              "        const docLinkHtml = 'Like what you see? Visit the ' +\n",
              "          '<a target=\"_blank\" href=https://colab.research.google.com/notebooks/data_table.ipynb>data table notebook</a>'\n",
              "          + ' to learn more about interactive tables.';\n",
              "        element.innerHTML = '';\n",
              "        dataTable['output_type'] = 'display_data';\n",
              "        await google.colab.output.renderOutput(dataTable, element);\n",
              "        const docLink = document.createElement('div');\n",
              "        docLink.innerHTML = docLinkHtml;\n",
              "        element.appendChild(docLink);\n",
              "      }\n",
              "    </script>\n",
              "  </div>\n",
              "\n",
              "\n",
              "<div id=\"df-b94b3c10-3779-4be4-970a-7bc896c52de1\">\n",
              "  <button class=\"colab-df-quickchart\" onclick=\"quickchart('df-b94b3c10-3779-4be4-970a-7bc896c52de1')\"\n",
              "            title=\"Suggest charts\"\n",
              "            style=\"display:none;\">\n",
              "\n",
              "<svg xmlns=\"http://www.w3.org/2000/svg\" height=\"24px\"viewBox=\"0 0 24 24\"\n",
              "     width=\"24px\">\n",
              "    <g>\n",
              "        <path d=\"M19 3H5c-1.1 0-2 .9-2 2v14c0 1.1.9 2 2 2h14c1.1 0 2-.9 2-2V5c0-1.1-.9-2-2-2zM9 17H7v-7h2v7zm4 0h-2V7h2v10zm4 0h-2v-4h2v4z\"/>\n",
              "    </g>\n",
              "</svg>\n",
              "  </button>\n",
              "\n",
              "<style>\n",
              "  .colab-df-quickchart {\n",
              "      --bg-color: #E8F0FE;\n",
              "      --fill-color: #1967D2;\n",
              "      --hover-bg-color: #E2EBFA;\n",
              "      --hover-fill-color: #174EA6;\n",
              "      --disabled-fill-color: #AAA;\n",
              "      --disabled-bg-color: #DDD;\n",
              "  }\n",
              "\n",
              "  [theme=dark] .colab-df-quickchart {\n",
              "      --bg-color: #3B4455;\n",
              "      --fill-color: #D2E3FC;\n",
              "      --hover-bg-color: #434B5C;\n",
              "      --hover-fill-color: #FFFFFF;\n",
              "      --disabled-bg-color: #3B4455;\n",
              "      --disabled-fill-color: #666;\n",
              "  }\n",
              "\n",
              "  .colab-df-quickchart {\n",
              "    background-color: var(--bg-color);\n",
              "    border: none;\n",
              "    border-radius: 50%;\n",
              "    cursor: pointer;\n",
              "    display: none;\n",
              "    fill: var(--fill-color);\n",
              "    height: 32px;\n",
              "    padding: 0;\n",
              "    width: 32px;\n",
              "  }\n",
              "\n",
              "  .colab-df-quickchart:hover {\n",
              "    background-color: var(--hover-bg-color);\n",
              "    box-shadow: 0 1px 2px rgba(60, 64, 67, 0.3), 0 1px 3px 1px rgba(60, 64, 67, 0.15);\n",
              "    fill: var(--button-hover-fill-color);\n",
              "  }\n",
              "\n",
              "  .colab-df-quickchart-complete:disabled,\n",
              "  .colab-df-quickchart-complete:disabled:hover {\n",
              "    background-color: var(--disabled-bg-color);\n",
              "    fill: var(--disabled-fill-color);\n",
              "    box-shadow: none;\n",
              "  }\n",
              "\n",
              "  .colab-df-spinner {\n",
              "    border: 2px solid var(--fill-color);\n",
              "    border-color: transparent;\n",
              "    border-bottom-color: var(--fill-color);\n",
              "    animation:\n",
              "      spin 1s steps(1) infinite;\n",
              "  }\n",
              "\n",
              "  @keyframes spin {\n",
              "    0% {\n",
              "      border-color: transparent;\n",
              "      border-bottom-color: var(--fill-color);\n",
              "      border-left-color: var(--fill-color);\n",
              "    }\n",
              "    20% {\n",
              "      border-color: transparent;\n",
              "      border-left-color: var(--fill-color);\n",
              "      border-top-color: var(--fill-color);\n",
              "    }\n",
              "    30% {\n",
              "      border-color: transparent;\n",
              "      border-left-color: var(--fill-color);\n",
              "      border-top-color: var(--fill-color);\n",
              "      border-right-color: var(--fill-color);\n",
              "    }\n",
              "    40% {\n",
              "      border-color: transparent;\n",
              "      border-right-color: var(--fill-color);\n",
              "      border-top-color: var(--fill-color);\n",
              "    }\n",
              "    60% {\n",
              "      border-color: transparent;\n",
              "      border-right-color: var(--fill-color);\n",
              "    }\n",
              "    80% {\n",
              "      border-color: transparent;\n",
              "      border-right-color: var(--fill-color);\n",
              "      border-bottom-color: var(--fill-color);\n",
              "    }\n",
              "    90% {\n",
              "      border-color: transparent;\n",
              "      border-bottom-color: var(--fill-color);\n",
              "    }\n",
              "  }\n",
              "</style>\n",
              "\n",
              "  <script>\n",
              "    async function quickchart(key) {\n",
              "      const quickchartButtonEl =\n",
              "        document.querySelector('#' + key + ' button');\n",
              "      quickchartButtonEl.disabled = true;  // To prevent multiple clicks.\n",
              "      quickchartButtonEl.classList.add('colab-df-spinner');\n",
              "      try {\n",
              "        const charts = await google.colab.kernel.invokeFunction(\n",
              "            'suggestCharts', [key], {});\n",
              "      } catch (error) {\n",
              "        console.error('Error during call to suggestCharts:', error);\n",
              "      }\n",
              "      quickchartButtonEl.classList.remove('colab-df-spinner');\n",
              "      quickchartButtonEl.classList.add('colab-df-quickchart-complete');\n",
              "    }\n",
              "    (() => {\n",
              "      let quickchartButtonEl =\n",
              "        document.querySelector('#df-b94b3c10-3779-4be4-970a-7bc896c52de1 button');\n",
              "      quickchartButtonEl.style.display =\n",
              "        google.colab.kernel.accessAllowed ? 'block' : 'none';\n",
              "    })();\n",
              "  </script>\n",
              "</div>\n",
              "    </div>\n",
              "  </div>\n"
            ],
            "text/plain": [
              "              business_id  stars  \\\n",
              "0  9yKzy9PApeiPPOUJEtnvkg      5   \n",
              "1  ZRJwVLyzEJq1VAihDhYiow      5   \n",
              "2  _1QQZuf4zZOyFCvXc0o6Vg      5   \n",
              "3  6ozycU1RpktNG2-1BroVtw      5   \n",
              "4  zp713qNhx8d9KCJJnrw1xA      5   \n",
              "\n",
              "                                                text                 user_id  \\\n",
              "0  My wife took me here on my birthday for breakf...  rLtl8ZkDX5vH5nAx9C3q5Q   \n",
              "1  I have no idea why some people give bad review...  0a2KyEL0d3Yb1V6aivbIuQ   \n",
              "2  Rosie, Dakota, and I LOVE Chaparral Dog Park!!...  uZetl9T0NcROGOyFfughhg   \n",
              "3  General Manager Scott Petello is a good egg!!!...  vYmM4KTsC8ZfQBg-j5MWkw   \n",
              "4  Drop what you're doing and drive here. After I...  wFweIWhv2fREZV_dYkz_1g   \n",
              "\n",
              "   cool  useful  funny  \n",
              "0     2       5      0  \n",
              "1     0       0      0  \n",
              "2     1       2      0  \n",
              "3     0       0      0  \n",
              "4     7       7      4  "
            ]
          },
          "execution_count": 2,
          "metadata": {},
          "output_type": "execute_result"
        }
      ],
      "source": [
        "# read our data in using 'pd.read_csv('file')'\n",
        "yelp_full = pd.read_csv('yelp_final.csv')\n",
        "yelp_full.head()"
      ]
    },
    {
      "cell_type": "markdown",
      "metadata": {
        "id": "QjL5FrSLEvoP"
      },
      "source": [
        "💬 **Discussion:**\n",
        "\n",
        "- **Output Variable Identification:** Which column in the dataset represents the user's sentiment about the restaurant? Think about how the data in this column could be used as a label (i.e. good or bad) for training our model.\n",
        "\n",
        "- **Input Variable Identification:** Which column in the dataset represents the user's review about the restaurant?\n",
        "\n",
        "- **Privacy Considerations:**\n",
        "   - Notice that the business and user identifiers are not real names but appear as random strings. This technique is known as [hashing](https://medium.com/tech-tales/what-is-hashing-6edba0ebfa67), a common method to ensure privacy.\n",
        "   - Discuss why you think real names are not included in this dataset. What are the potential risks of using real names in publicly available data?\n",
        "\n",
        "**Next Steps:**\n",
        "We will keep only the columns necessary for our sentiment analysis. Which are they? Put the columns names in the list below!"
      ]
    },
    {
      "cell_type": "code",
      "execution_count": null,
      "metadata": {
        "colab": {
          "base_uri": "https://localhost:8080/",
          "height": 206
        },
        "id": "pB1yKcUtcpg9",
        "outputId": "7e521fb5-a6db-4358-930f-1da657b80190"
      },
      "outputs": [
        {
          "data": {
            "application/vnd.google.colaboratory.intrinsic+json": {
              "summary": "{\n  \"name\": \"yelp\",\n  \"rows\": 1000,\n  \"fields\": [\n    {\n      \"column\": \"stars\",\n      \"properties\": {\n        \"dtype\": \"number\",\n        \"std\": 1,\n        \"min\": 1,\n        \"max\": 5,\n        \"num_unique_values\": 5,\n        \"samples\": [\n          4,\n          1,\n          3\n        ],\n        \"semantic_type\": \"\",\n        \"description\": \"\"\n      }\n    },\n    {\n      \"column\": \"text\",\n      \"properties\": {\n        \"dtype\": \"string\",\n        \"num_unique_values\": 1000,\n        \"samples\": [\n          \"Apparently I'm late to the party on this one, but my first visit to Sierra Bonita Grill was last weekend for brunch. I'm hesitant to add another good review of this great place because I didn't have to fight anyone for a table, and I would like to be able get one in the future.\\n\\nAnyway... I'm a huge fan of brunch (and especially of Mexican/Latin American-type brunches), so I was thrilled to try this place. My friend ordered the Verde Vaqueros, which are their verison of biscuits and gravy. But the biscuits are no ordinary biscuits, they're Green chile beer biscuits (!) with smoked sausage gravy from Schreiners. The biscuits were delicious. I could eat them with anything... or really without anything else. My friend cleaned his plate. I got the stacked chicken enchiladas because I'm a sucker for anything with hatch chiles, and they did not disappoint. The sauce was flavorful, and the crispy tortillas were a nice texture contrast to the rest of the dish.\\n\\nWill definitely be back, and would definitely recommend that people check this place out for brunch... just don't take my table.\",\n          \"Kabuki was great....A lovely little middle-of-the-afternoon oasis found in Tempe Marketplace!  I scoped out the menu had some some sushi for happy hour, including some rare beef sashimi, some unusual and unique rolls and complimentary edamame.  Although I did not dine here for a full meal, I feel justified in expressing my enjoyment of their happy hour.  The tiny bar was cozy and the service was good.  The happy hour prices were enticing and I would definitely return for it:)  Although for my personal taste the ambiance of Kabuki seemed a little too corporate for me I definitely would return for their happy hour and maybe to sample other menu items.  I will keep you posted on my next visit:)\",\n          \"Whew!  What a hike.  Coming from Colorado, though, the relative comparison makes it just a 3.  \\n\\nFirstly, it's definitely treacherous.  When we arrived between 730 and 8 on a Saturday morning, there were about four, maybe five firetrucks in the parking area...these rescue/aid teams just camp out there, I think, because of all the doofuses who don't plan accordingly waterwise or overestimate their ability to make this climb.  Also, two different areas of the Echo Canyon trail are especially steep and potentially slick, so they've installed some metal railings to help you along there...but only if you've got some gloves or if the temperature is moderate (uhhhh,...that doesn't really happen in Phoenix during the day in summer), because those damn things get hot enough to fry an egg.  Also - water, water, water.  Bring a LOT, or top off at the start of the trail before you go up (though the water out of that tap attached to the water fountain is about 85 degrees, yuk). \\n\\nIt was a fun jaunt.  The view was worth it - not entirely picturesque as far as nature goes, but it was nice view of the city and surrounding area.  If you go, just be wary of the sun/heat, and know that you'll be clambering over and around boulders and such.  (If you trip, it's CURTAINS!)\"\n        ],\n        \"semantic_type\": \"\",\n        \"description\": \"\"\n      }\n    }\n  ]\n}",
              "type": "dataframe",
              "variable_name": "yelp"
            },
            "text/html": [
              "\n",
              "  <div id=\"df-b9045b42-07ac-4e87-b586-2ca39108af88\" class=\"colab-df-container\">\n",
              "    <div>\n",
              "<style scoped>\n",
              "    .dataframe tbody tr th:only-of-type {\n",
              "        vertical-align: middle;\n",
              "    }\n",
              "\n",
              "    .dataframe tbody tr th {\n",
              "        vertical-align: top;\n",
              "    }\n",
              "\n",
              "    .dataframe thead th {\n",
              "        text-align: right;\n",
              "    }\n",
              "</style>\n",
              "<table border=\"1\" class=\"dataframe\">\n",
              "  <thead>\n",
              "    <tr style=\"text-align: right;\">\n",
              "      <th></th>\n",
              "      <th>stars</th>\n",
              "      <th>text</th>\n",
              "    </tr>\n",
              "  </thead>\n",
              "  <tbody>\n",
              "    <tr>\n",
              "      <th>0</th>\n",
              "      <td>5</td>\n",
              "      <td>My wife took me here on my birthday for breakf...</td>\n",
              "    </tr>\n",
              "    <tr>\n",
              "      <th>1</th>\n",
              "      <td>5</td>\n",
              "      <td>I have no idea why some people give bad review...</td>\n",
              "    </tr>\n",
              "    <tr>\n",
              "      <th>2</th>\n",
              "      <td>5</td>\n",
              "      <td>Rosie, Dakota, and I LOVE Chaparral Dog Park!!...</td>\n",
              "    </tr>\n",
              "    <tr>\n",
              "      <th>3</th>\n",
              "      <td>5</td>\n",
              "      <td>General Manager Scott Petello is a good egg!!!...</td>\n",
              "    </tr>\n",
              "    <tr>\n",
              "      <th>4</th>\n",
              "      <td>5</td>\n",
              "      <td>Drop what you're doing and drive here. After I...</td>\n",
              "    </tr>\n",
              "  </tbody>\n",
              "</table>\n",
              "</div>\n",
              "    <div class=\"colab-df-buttons\">\n",
              "\n",
              "  <div class=\"colab-df-container\">\n",
              "    <button class=\"colab-df-convert\" onclick=\"convertToInteractive('df-b9045b42-07ac-4e87-b586-2ca39108af88')\"\n",
              "            title=\"Convert this dataframe to an interactive table.\"\n",
              "            style=\"display:none;\">\n",
              "\n",
              "  <svg xmlns=\"http://www.w3.org/2000/svg\" height=\"24px\" viewBox=\"0 -960 960 960\">\n",
              "    <path d=\"M120-120v-720h720v720H120Zm60-500h600v-160H180v160Zm220 220h160v-160H400v160Zm0 220h160v-160H400v160ZM180-400h160v-160H180v160Zm440 0h160v-160H620v160ZM180-180h160v-160H180v160Zm440 0h160v-160H620v160Z\"/>\n",
              "  </svg>\n",
              "    </button>\n",
              "\n",
              "  <style>\n",
              "    .colab-df-container {\n",
              "      display:flex;\n",
              "      gap: 12px;\n",
              "    }\n",
              "\n",
              "    .colab-df-convert {\n",
              "      background-color: #E8F0FE;\n",
              "      border: none;\n",
              "      border-radius: 50%;\n",
              "      cursor: pointer;\n",
              "      display: none;\n",
              "      fill: #1967D2;\n",
              "      height: 32px;\n",
              "      padding: 0 0 0 0;\n",
              "      width: 32px;\n",
              "    }\n",
              "\n",
              "    .colab-df-convert:hover {\n",
              "      background-color: #E2EBFA;\n",
              "      box-shadow: 0px 1px 2px rgba(60, 64, 67, 0.3), 0px 1px 3px 1px rgba(60, 64, 67, 0.15);\n",
              "      fill: #174EA6;\n",
              "    }\n",
              "\n",
              "    .colab-df-buttons div {\n",
              "      margin-bottom: 4px;\n",
              "    }\n",
              "\n",
              "    [theme=dark] .colab-df-convert {\n",
              "      background-color: #3B4455;\n",
              "      fill: #D2E3FC;\n",
              "    }\n",
              "\n",
              "    [theme=dark] .colab-df-convert:hover {\n",
              "      background-color: #434B5C;\n",
              "      box-shadow: 0px 1px 3px 1px rgba(0, 0, 0, 0.15);\n",
              "      filter: drop-shadow(0px 1px 2px rgba(0, 0, 0, 0.3));\n",
              "      fill: #FFFFFF;\n",
              "    }\n",
              "  </style>\n",
              "\n",
              "    <script>\n",
              "      const buttonEl =\n",
              "        document.querySelector('#df-b9045b42-07ac-4e87-b586-2ca39108af88 button.colab-df-convert');\n",
              "      buttonEl.style.display =\n",
              "        google.colab.kernel.accessAllowed ? 'block' : 'none';\n",
              "\n",
              "      async function convertToInteractive(key) {\n",
              "        const element = document.querySelector('#df-b9045b42-07ac-4e87-b586-2ca39108af88');\n",
              "        const dataTable =\n",
              "          await google.colab.kernel.invokeFunction('convertToInteractive',\n",
              "                                                    [key], {});\n",
              "        if (!dataTable) return;\n",
              "\n",
              "        const docLinkHtml = 'Like what you see? Visit the ' +\n",
              "          '<a target=\"_blank\" href=https://colab.research.google.com/notebooks/data_table.ipynb>data table notebook</a>'\n",
              "          + ' to learn more about interactive tables.';\n",
              "        element.innerHTML = '';\n",
              "        dataTable['output_type'] = 'display_data';\n",
              "        await google.colab.output.renderOutput(dataTable, element);\n",
              "        const docLink = document.createElement('div');\n",
              "        docLink.innerHTML = docLinkHtml;\n",
              "        element.appendChild(docLink);\n",
              "      }\n",
              "    </script>\n",
              "  </div>\n",
              "\n",
              "\n",
              "<div id=\"df-1a764458-2d09-43b1-a2d1-96b774cc7c41\">\n",
              "  <button class=\"colab-df-quickchart\" onclick=\"quickchart('df-1a764458-2d09-43b1-a2d1-96b774cc7c41')\"\n",
              "            title=\"Suggest charts\"\n",
              "            style=\"display:none;\">\n",
              "\n",
              "<svg xmlns=\"http://www.w3.org/2000/svg\" height=\"24px\"viewBox=\"0 0 24 24\"\n",
              "     width=\"24px\">\n",
              "    <g>\n",
              "        <path d=\"M19 3H5c-1.1 0-2 .9-2 2v14c0 1.1.9 2 2 2h14c1.1 0 2-.9 2-2V5c0-1.1-.9-2-2-2zM9 17H7v-7h2v7zm4 0h-2V7h2v10zm4 0h-2v-4h2v4z\"/>\n",
              "    </g>\n",
              "</svg>\n",
              "  </button>\n",
              "\n",
              "<style>\n",
              "  .colab-df-quickchart {\n",
              "      --bg-color: #E8F0FE;\n",
              "      --fill-color: #1967D2;\n",
              "      --hover-bg-color: #E2EBFA;\n",
              "      --hover-fill-color: #174EA6;\n",
              "      --disabled-fill-color: #AAA;\n",
              "      --disabled-bg-color: #DDD;\n",
              "  }\n",
              "\n",
              "  [theme=dark] .colab-df-quickchart {\n",
              "      --bg-color: #3B4455;\n",
              "      --fill-color: #D2E3FC;\n",
              "      --hover-bg-color: #434B5C;\n",
              "      --hover-fill-color: #FFFFFF;\n",
              "      --disabled-bg-color: #3B4455;\n",
              "      --disabled-fill-color: #666;\n",
              "  }\n",
              "\n",
              "  .colab-df-quickchart {\n",
              "    background-color: var(--bg-color);\n",
              "    border: none;\n",
              "    border-radius: 50%;\n",
              "    cursor: pointer;\n",
              "    display: none;\n",
              "    fill: var(--fill-color);\n",
              "    height: 32px;\n",
              "    padding: 0;\n",
              "    width: 32px;\n",
              "  }\n",
              "\n",
              "  .colab-df-quickchart:hover {\n",
              "    background-color: var(--hover-bg-color);\n",
              "    box-shadow: 0 1px 2px rgba(60, 64, 67, 0.3), 0 1px 3px 1px rgba(60, 64, 67, 0.15);\n",
              "    fill: var(--button-hover-fill-color);\n",
              "  }\n",
              "\n",
              "  .colab-df-quickchart-complete:disabled,\n",
              "  .colab-df-quickchart-complete:disabled:hover {\n",
              "    background-color: var(--disabled-bg-color);\n",
              "    fill: var(--disabled-fill-color);\n",
              "    box-shadow: none;\n",
              "  }\n",
              "\n",
              "  .colab-df-spinner {\n",
              "    border: 2px solid var(--fill-color);\n",
              "    border-color: transparent;\n",
              "    border-bottom-color: var(--fill-color);\n",
              "    animation:\n",
              "      spin 1s steps(1) infinite;\n",
              "  }\n",
              "\n",
              "  @keyframes spin {\n",
              "    0% {\n",
              "      border-color: transparent;\n",
              "      border-bottom-color: var(--fill-color);\n",
              "      border-left-color: var(--fill-color);\n",
              "    }\n",
              "    20% {\n",
              "      border-color: transparent;\n",
              "      border-left-color: var(--fill-color);\n",
              "      border-top-color: var(--fill-color);\n",
              "    }\n",
              "    30% {\n",
              "      border-color: transparent;\n",
              "      border-left-color: var(--fill-color);\n",
              "      border-top-color: var(--fill-color);\n",
              "      border-right-color: var(--fill-color);\n",
              "    }\n",
              "    40% {\n",
              "      border-color: transparent;\n",
              "      border-right-color: var(--fill-color);\n",
              "      border-top-color: var(--fill-color);\n",
              "    }\n",
              "    60% {\n",
              "      border-color: transparent;\n",
              "      border-right-color: var(--fill-color);\n",
              "    }\n",
              "    80% {\n",
              "      border-color: transparent;\n",
              "      border-right-color: var(--fill-color);\n",
              "      border-bottom-color: var(--fill-color);\n",
              "    }\n",
              "    90% {\n",
              "      border-color: transparent;\n",
              "      border-bottom-color: var(--fill-color);\n",
              "    }\n",
              "  }\n",
              "</style>\n",
              "\n",
              "  <script>\n",
              "    async function quickchart(key) {\n",
              "      const quickchartButtonEl =\n",
              "        document.querySelector('#' + key + ' button');\n",
              "      quickchartButtonEl.disabled = true;  // To prevent multiple clicks.\n",
              "      quickchartButtonEl.classList.add('colab-df-spinner');\n",
              "      try {\n",
              "        const charts = await google.colab.kernel.invokeFunction(\n",
              "            'suggestCharts', [key], {});\n",
              "      } catch (error) {\n",
              "        console.error('Error during call to suggestCharts:', error);\n",
              "      }\n",
              "      quickchartButtonEl.classList.remove('colab-df-spinner');\n",
              "      quickchartButtonEl.classList.add('colab-df-quickchart-complete');\n",
              "    }\n",
              "    (() => {\n",
              "      let quickchartButtonEl =\n",
              "        document.querySelector('#df-1a764458-2d09-43b1-a2d1-96b774cc7c41 button');\n",
              "      quickchartButtonEl.style.display =\n",
              "        google.colab.kernel.accessAllowed ? 'block' : 'none';\n",
              "    })();\n",
              "  </script>\n",
              "</div>\n",
              "    </div>\n",
              "  </div>\n"
            ],
            "text/plain": [
              "   stars                                               text\n",
              "0      5  My wife took me here on my birthday for breakf...\n",
              "1      5  I have no idea why some people give bad review...\n",
              "2      5  Rosie, Dakota, and I LOVE Chaparral Dog Park!!...\n",
              "3      5  General Manager Scott Petello is a good egg!!!...\n",
              "4      5  Drop what you're doing and drive here. After I..."
            ]
          },
          "execution_count": 3,
          "metadata": {},
          "output_type": "execute_result"
        }
      ],
      "source": [
        "needed_columns = ['stars', 'text']  # Replace the empty list with the column names as strings\n",
        "\n",
        "# Using only the needed columns from the original dataset\n",
        "yelp = yelp_full[needed_columns]\n",
        "yelp.head()"
      ]
    },
    {
      "cell_type": "markdown",
      "metadata": {
        "id": "MExj8roOEvog"
      },
      "source": [
        "\n",
        "Currently, our main focus is on the 'text' column, which contains the reviews. These reviews express the users' sentiments and provide insights into how they felt about the businesses. Let's examine a few of these reviews to gain a better understanding of our dataset."
      ]
    },
    {
      "cell_type": "code",
      "execution_count": null,
      "metadata": {
        "cellView": "form",
        "colab": {
          "base_uri": "https://localhost:8080/"
        },
        "id": "la3rUPKgEvoi",
        "outputId": "a1651051-535e-476f-ccd5-507d3ad6b044"
      },
      "outputs": [
        {
          "name": "stdout",
          "output_type": "stream",
          "text": [
            "Displaying the first 20 reviews rated with 5 stars:\n",
            "\n",
            "\n",
            "\n",
            "My wife took me here on my birthday for breakfast and it was excellent.  The weather was perfect which made sitting outside overlooking their grounds an absolute pleasure.  Our waitress was excellent and our food arrived quickly on the semi-busy Saturday morning.  It looked like the place fills up pretty quickly so the earlier you get here the better.\n",
            "\n",
            "Do yourself a favor and get their Bloody Mary.  It was phenomenal and simply the best I've ever had.  I'm pretty sure they only use ingredients from their garden and blend them fresh when you order it.  It was amazing.\n",
            "\n",
            "While EVERYTHING on the menu looks excellent, I had the white truffle scrambled eggs vegetable skillet and it was tasty and delicious.  It came with 2 pieces of their griddled bread with was amazing and it absolutely made the meal complete.  It was the best \"toast\" I've ever had.\n",
            "\n",
            "Anyway, I can't wait to go back!\n",
            "\n",
            "\n",
            "\n",
            "--------------------------------------------------------------------------------------------------------------------------------------------------------------------------------------------------------------------------------------------------------------------------------------------------------------------------------------------------------------------------------------------------------------------------------------------------------------------------------------------------------------------------------------------------------------------------------------------------------------------------------------------------------------------------------------------------------------------------------------------------------------------------------------------------------------------------------------------------------------------------------------------------------------------------------------------------------------------------------------------------------------------------------------------------------------------------------------------------------------------------------------------------------------------------------------------------------------------------------------------------------------------------------------------------------------------------------------------------------------------------------------------------------------------------------------------------------------------------------------------------------------------------------------------------------------------------------------------------------------------------------------------------------------------------------------------------------------------------------------------------------------------------------------------------------------------------------------------------------------------------------------------------------------------------------------------------------------------------------------------------------------------------------------------------------------------------------\n",
            "\n",
            "\n",
            "I have no idea why some people give bad reviews about this place. It goes to show you, you can please everyone. They are probably griping about something that their own fault...there are many people like that.\n",
            "\n",
            "In any case, my friend and I arrived at about 5:50 PM this past Sunday. It was pretty crowded, more than I thought for a Sunday evening and thought we would have to wait forever to get a seat but they said we'll be seated when the girl comes back from seating someone else. We were seated at 5:52 and the waiter came and got our drink orders. Everyone was very pleasant from the host that seated us to the waiter to the server. The prices were very good as well. We placed our orders once we decided what we wanted at 6:02. We shared the baked spaghetti calzone and the small \"Here's The Beef\" pizza so we can both try them. The calzone was huge and we got the smallest one (personal) and got the small 11\" pizza. Both were awesome! My friend liked the pizza better and I liked the calzone better. The calzone does have a sweetish sauce but that's how I like my sauce!\n",
            "\n",
            "We had to box part of the pizza to take it home and we were out the door by 6:42. So, everything was great and not like these bad reviewers. That goes to show you that  you have to try these things yourself because all these bad reviewers have some serious issues.\n",
            "\n",
            "\n",
            "\n",
            "--------------------------------------------------------------------------------------------------------------------------------------------------------------------------------------------------------------------------------------------------------------------------------------------------------------------------------------------------------------------------------------------------------------------------------------------------------------------------------------------------------------------------------------------------------------------------------------------------------------------------------------------------------------------------------------------------------------------------------------------------------------------------------------------------------------------------------------------------------------------------------------------------------------------------------------------------------------------------------------------------------------------------------------------------------------------------------------------------------------------------------------------------------------------------------------------------------------------------------------------------------------------------------------------------------------------------------------------------------------------------------------------------------------------------------------------------------------------------------------------------------------------------------------------------------------------------------------------------------------------------------------------------------------------------------------------------------------------------------------------------------------------------------------------------------------------------------------------------------------------------------------------------------------------------------------------------------------------------------------------------------------------------------------------------------------------------------\n",
            "\n",
            "\n",
            "Rosie, Dakota, and I LOVE Chaparral Dog Park!!! It's very convenient and surrounded by a lot of paths, a desert xeriscape, baseball fields, ballparks, and a lake with ducks.\n",
            "\n",
            "The Scottsdale Park and Rec Dept. does a wonderful job of keeping the park clean and shaded.  You can find trash cans and poopy-pick up mitts located all over the park and paths.\n",
            "\n",
            "The fenced in area is huge to let the dogs run, play, and sniff!\n",
            "\n",
            "\n",
            "\n",
            "--------------------------------------------------------------------------------------------------------------------------------------------------------------------------------------------------------------------------------------------------------------------------------------------------------------------------------------------------------------------------------------------------------------------------------------------------------------------------------------------------------------------------------------------------------------------------------------------------------------------------------------------------------------------------------------------------------------------------------------------------------------------------------------------------------------------------------------------------------------------------------------------------------------------------------------------------------------------------------------------------------------------------------------------------------------------------------------------------------------------------------------------------------------------------------------------------------------------------------------------------------------------------------------------------------------------------------------------------------------------------------------------------------------------------------------------------------------------------------------------------------------------------------------------------------------------------------------------------------------------------------------------------------------------------------------------------------------------------------------------------------------------------------------------------------------------------------------------------------------------------------------------------------------------------------------------------------------------------------------------------------------------------------------------------------------------------------\n",
            "\n",
            "\n",
            "General Manager Scott Petello is a good egg!!! Not to go into detail, but let me assure you if you have any issues (albeit rare) speak with Scott and treat the guy with some respect as you state your case and I'd be surprised if you don't walk out totally satisfied as I just did. Like I always say..... \"Mistakes are inevitable, it's how we recover from them that is important\"!!!\n",
            "\n",
            "Thanks to Scott and his awesome staff. You've got a customer for life!! .......... :^)\n",
            "\n",
            "\n",
            "\n",
            "--------------------------------------------------------------------------------------------------------------------------------------------------------------------------------------------------------------------------------------------------------------------------------------------------------------------------------------------------------------------------------------------------------------------------------------------------------------------------------------------------------------------------------------------------------------------------------------------------------------------------------------------------------------------------------------------------------------------------------------------------------------------------------------------------------------------------------------------------------------------------------------------------------------------------------------------------------------------------------------------------------------------------------------------------------------------------------------------------------------------------------------------------------------------------------------------------------------------------------------------------------------------------------------------------------------------------------------------------------------------------------------------------------------------------------------------------------------------------------------------------------------------------------------------------------------------------------------------------------------------------------------------------------------------------------------------------------------------------------------------------------------------------------------------------------------------------------------------------------------------------------------------------------------------------------------------------------------------------------------------------------------------------------------------------------------------------------\n",
            "\n",
            "\n",
            "Drop what you're doing and drive here. After I ate here I had to go back the next day for more.  The food is that good.\n",
            "\n",
            "This cute little green building may have gone competely unoticed if I hadn't been driving down Palm Rd to avoid construction.  While waiting to turn onto 16th Street the \"Grand Opening\" sign caught my eye and my little yelping soul leaped for joy!  A new place to try!\n",
            "\n",
            "It looked desolate from the outside but when I opened the door I was put at easy by the decor, smell and cleanliness inside.  I ordered dinner for two, to go.  The menu was awesome.  I loved seeing all the variety: poblano peppers, mole, mahi mahi, mushrooms...something wrapped in banana leaves.  It made it difficult to choose something.  Here's what I've had so far: La Condesa Shrimp Burro and Baja Sur Dogfish Shark Taco.  They are both were very delicious meals but the shrimp burro stole the show.  So much flavor.  I snagged some bites from my hubbys mole and mahi mahi burros- mmmm such a delight.  The salsa bar is endless.  I really stocked up.  I was excited to try the strawberry salsa but it was too hot, in fact it all was, but I'm a big wimp when it comes to hot peppers. The horchata is handmade and delicious.  They throw pecans and some fruit in there too which is a yummy bonus!\n",
            "\n",
            "As if the good food wasn't enough to win me over the art in this restaurant sho did!  I'm a sucker for Mexican folk art and Frida Kahlo is my Oprah.  There's a painting of her and Diego hanging over the salsa bar, it's amazing.  All the paintings are great, love the artist.\n",
            "\n",
            "\n",
            "\n",
            "--------------------------------------------------------------------------------------------------------------------------------------------------------------------------------------------------------------------------------------------------------------------------------------------------------------------------------------------------------------------------------------------------------------------------------------------------------------------------------------------------------------------------------------------------------------------------------------------------------------------------------------------------------------------------------------------------------------------------------------------------------------------------------------------------------------------------------------------------------------------------------------------------------------------------------------------------------------------------------------------------------------------------------------------------------------------------------------------------------------------------------------------------------------------------------------------------------------------------------------------------------------------------------------------------------------------------------------------------------------------------------------------------------------------------------------------------------------------------------------------------------------------------------------------------------------------------------------------------------------------------------------------------------------------------------------------------------------------------------------------------------------------------------------------------------------------------------------------------------------------------------------------------------------------------------------------------------------------------------------------------------------------------------------------------------------------------------\n",
            "\n",
            "\n",
            "Nobuo shows his unique talents with everything on the menu. Carefully crafted features with much to drink. Start with the pork belly buns and a stout. Then go on until you can no longer.\n",
            "\n",
            "\n",
            "\n",
            "--------------------------------------------------------------------------------------------------------------------------------------------------------------------------------------------------------------------------------------------------------------------------------------------------------------------------------------------------------------------------------------------------------------------------------------------------------------------------------------------------------------------------------------------------------------------------------------------------------------------------------------------------------------------------------------------------------------------------------------------------------------------------------------------------------------------------------------------------------------------------------------------------------------------------------------------------------------------------------------------------------------------------------------------------------------------------------------------------------------------------------------------------------------------------------------------------------------------------------------------------------------------------------------------------------------------------------------------------------------------------------------------------------------------------------------------------------------------------------------------------------------------------------------------------------------------------------------------------------------------------------------------------------------------------------------------------------------------------------------------------------------------------------------------------------------------------------------------------------------------------------------------------------------------------------------------------------------------------------------------------------------------------------------------------------------------------------\n",
            "\n",
            "\n",
            "The oldish man who owns the store is as sweet as can be.  Perhaps sweeter than the cookies or ice cream.\n",
            "\n",
            "Here's the lowdown: Giant ice cream cookie sandwiches for super cheap.  The flavor permutations are basically endless.  I had snickerdoodle with cookies and cream ice cream.  It was marvelous.\n",
            "\n",
            "\n",
            "\n",
            "--------------------------------------------------------------------------------------------------------------------------------------------------------------------------------------------------------------------------------------------------------------------------------------------------------------------------------------------------------------------------------------------------------------------------------------------------------------------------------------------------------------------------------------------------------------------------------------------------------------------------------------------------------------------------------------------------------------------------------------------------------------------------------------------------------------------------------------------------------------------------------------------------------------------------------------------------------------------------------------------------------------------------------------------------------------------------------------------------------------------------------------------------------------------------------------------------------------------------------------------------------------------------------------------------------------------------------------------------------------------------------------------------------------------------------------------------------------------------------------------------------------------------------------------------------------------------------------------------------------------------------------------------------------------------------------------------------------------------------------------------------------------------------------------------------------------------------------------------------------------------------------------------------------------------------------------------------------------------------------------------------------------------------------------------------------------------------\n",
            "\n",
            "\n",
            "Wonderful Vietnamese sandwich shoppe. Their baguettes are great hot out of the oven with butter or in one of their many sandwich choices. They have a modest selection of baked goods along with some of the best egg rolls around. Bring cash or your ATM card as no credit cards are accepted but they have an ATM on premises.\n",
            "\n",
            "\n",
            "\n",
            "--------------------------------------------------------------------------------------------------------------------------------------------------------------------------------------------------------------------------------------------------------------------------------------------------------------------------------------------------------------------------------------------------------------------------------------------------------------------------------------------------------------------------------------------------------------------------------------------------------------------------------------------------------------------------------------------------------------------------------------------------------------------------------------------------------------------------------------------------------------------------------------------------------------------------------------------------------------------------------------------------------------------------------------------------------------------------------------------------------------------------------------------------------------------------------------------------------------------------------------------------------------------------------------------------------------------------------------------------------------------------------------------------------------------------------------------------------------------------------------------------------------------------------------------------------------------------------------------------------------------------------------------------------------------------------------------------------------------------------------------------------------------------------------------------------------------------------------------------------------------------------------------------------------------------------------------------------------------------------------------------------------------------------------------------------------------------------\n",
            "\n",
            "\n",
            "They have a limited time thing going on right now with BBQ chicken pizza (not sure how long it's going to last) but let me just say it was amazing.  Probably THE best BBQ Chicken pizza I have ever had.  I have tried other things too, like the tomato basil soup, and many of their sandwiches ... very good, very fresh - every time.  \n",
            "\n",
            "The 5 stars is for the pizza, but if I were to rate Jason's Deli over all they would get about a 4.\n",
            "\n",
            "\n",
            "\n",
            "--------------------------------------------------------------------------------------------------------------------------------------------------------------------------------------------------------------------------------------------------------------------------------------------------------------------------------------------------------------------------------------------------------------------------------------------------------------------------------------------------------------------------------------------------------------------------------------------------------------------------------------------------------------------------------------------------------------------------------------------------------------------------------------------------------------------------------------------------------------------------------------------------------------------------------------------------------------------------------------------------------------------------------------------------------------------------------------------------------------------------------------------------------------------------------------------------------------------------------------------------------------------------------------------------------------------------------------------------------------------------------------------------------------------------------------------------------------------------------------------------------------------------------------------------------------------------------------------------------------------------------------------------------------------------------------------------------------------------------------------------------------------------------------------------------------------------------------------------------------------------------------------------------------------------------------------------------------------------------------------------------------------------------------------------------------------------------\n",
            "\n",
            "\n",
            "okay this is the best place EVER! i grew up shopping at the one in los gatos, and the one in Oakville. i was shock when i saw the best store in the world in Scottsdale and then not surprised at all. the have all the good stuff. from cheese down to wine. i can't tell you how happy i am that this store is here in Arizona. now if we could just get dean and deluca!\n",
            "\n",
            "\n",
            "\n",
            "--------------------------------------------------------------------------------------------------------------------------------------------------------------------------------------------------------------------------------------------------------------------------------------------------------------------------------------------------------------------------------------------------------------------------------------------------------------------------------------------------------------------------------------------------------------------------------------------------------------------------------------------------------------------------------------------------------------------------------------------------------------------------------------------------------------------------------------------------------------------------------------------------------------------------------------------------------------------------------------------------------------------------------------------------------------------------------------------------------------------------------------------------------------------------------------------------------------------------------------------------------------------------------------------------------------------------------------------------------------------------------------------------------------------------------------------------------------------------------------------------------------------------------------------------------------------------------------------------------------------------------------------------------------------------------------------------------------------------------------------------------------------------------------------------------------------------------------------------------------------------------------------------------------------------------------------------------------------------------------------------------------------------------------------------------------------------------\n",
            "\n",
            "\n",
            "This place shouldn't even be reviewed - because it is the kind of place I want to keep for myself...  =)\n",
            "\n",
            "\n",
            "\n",
            "--------------------------------------------------------------------------------------------------------------------------------------------------------------------------------------------------------------------------------------------------------------------------------------------------------------------------------------------------------------------------------------------------------------------------------------------------------------------------------------------------------------------------------------------------------------------------------------------------------------------------------------------------------------------------------------------------------------------------------------------------------------------------------------------------------------------------------------------------------------------------------------------------------------------------------------------------------------------------------------------------------------------------------------------------------------------------------------------------------------------------------------------------------------------------------------------------------------------------------------------------------------------------------------------------------------------------------------------------------------------------------------------------------------------------------------------------------------------------------------------------------------------------------------------------------------------------------------------------------------------------------------------------------------------------------------------------------------------------------------------------------------------------------------------------------------------------------------------------------------------------------------------------------------------------------------------------------------------------------------------------------------------------------------------------------------------------------\n",
            "\n",
            "\n",
            "first time my friend and I went there... it was delicious!  The food, garlic knots our favorite and of course the wine!  We will be going back ALOT!\n",
            "\n",
            "\n",
            "\n",
            "--------------------------------------------------------------------------------------------------------------------------------------------------------------------------------------------------------------------------------------------------------------------------------------------------------------------------------------------------------------------------------------------------------------------------------------------------------------------------------------------------------------------------------------------------------------------------------------------------------------------------------------------------------------------------------------------------------------------------------------------------------------------------------------------------------------------------------------------------------------------------------------------------------------------------------------------------------------------------------------------------------------------------------------------------------------------------------------------------------------------------------------------------------------------------------------------------------------------------------------------------------------------------------------------------------------------------------------------------------------------------------------------------------------------------------------------------------------------------------------------------------------------------------------------------------------------------------------------------------------------------------------------------------------------------------------------------------------------------------------------------------------------------------------------------------------------------------------------------------------------------------------------------------------------------------------------------------------------------------------------------------------------------------------------------------------------------------\n",
            "\n",
            "\n",
            "I love this place! I have been coming here for ages.\n",
            "My favorites: Elsa's Chicken sandwich, any of their burgers, dragon chicken wings, china's little chicken sandwich, and the hot pepper chicken sandwich. The atmosphere is always fun and the art they display is very abstract but totally cool!\n",
            "\n",
            "\n",
            "\n",
            "--------------------------------------------------------------------------------------------------------------------------------------------------------------------------------------------------------------------------------------------------------------------------------------------------------------------------------------------------------------------------------------------------------------------------------------------------------------------------------------------------------------------------------------------------------------------------------------------------------------------------------------------------------------------------------------------------------------------------------------------------------------------------------------------------------------------------------------------------------------------------------------------------------------------------------------------------------------------------------------------------------------------------------------------------------------------------------------------------------------------------------------------------------------------------------------------------------------------------------------------------------------------------------------------------------------------------------------------------------------------------------------------------------------------------------------------------------------------------------------------------------------------------------------------------------------------------------------------------------------------------------------------------------------------------------------------------------------------------------------------------------------------------------------------------------------------------------------------------------------------------------------------------------------------------------------------------------------------------------------------------------------------------------------------------------------------------------\n",
            "\n",
            "\n",
            "I love love LOVE this place. My boss (who is into healthy eating) recommended this place. I went over with some highly skeptical friends and one dinner was enough to convert them into believers! The food here is so good! We had the Shrimp dumplings and the Onion tart as starters. We ordered the Shirataki noodles and street tacos as entrees. So also ordered the Kale-aid. All of the dishes were yummy. \n",
            "I have gone back many times since then and have never been disappointed! I have gone after yoga to get some Kale salad or the chicken chopped salad. I always have to get the Kale aid. \n",
            "Once, a guy at the next table, uprooted a whole plant by mistake (on the patio) and was highly embarrassed as was his date! Ever since, I have very careful not to throw my arms around as I can be quite clumsy sometimes! I do NOT want to be banned from my favorite place for my clumsiness! I don't think I can live without True Food!\n",
            "\n",
            "\n",
            "\n",
            "--------------------------------------------------------------------------------------------------------------------------------------------------------------------------------------------------------------------------------------------------------------------------------------------------------------------------------------------------------------------------------------------------------------------------------------------------------------------------------------------------------------------------------------------------------------------------------------------------------------------------------------------------------------------------------------------------------------------------------------------------------------------------------------------------------------------------------------------------------------------------------------------------------------------------------------------------------------------------------------------------------------------------------------------------------------------------------------------------------------------------------------------------------------------------------------------------------------------------------------------------------------------------------------------------------------------------------------------------------------------------------------------------------------------------------------------------------------------------------------------------------------------------------------------------------------------------------------------------------------------------------------------------------------------------------------------------------------------------------------------------------------------------------------------------------------------------------------------------------------------------------------------------------------------------------------------------------------------------------------------------------------------------------------------------------------------------------\n",
            "\n",
            "\n",
            "Disclaimer: Like many of you, I am a sucker for charming little homes that have been re-purposed into restaurants. I am certain that this colored my opinion of Cibo.\n",
            "\n",
            "That being said, I absolutely love having lunch here the other day. I unknowingly arrived at 2:05 (5 minutes after they close between lunch and dinner) but was served anyway. I had the salscicia sandwich and a side of fruit. The sandwich was excellent, served on perfectly crisp, chewy saltimbocca bread. The sausage was flavorful and was complimented by roasted red peppers and onions. All this was finished off with a great quality mozzarella cheese. Really, really delicious.\n",
            "\n",
            "I should also say that the atmosphere here was friendly and  comfortable, though a bit small. This would be a great place to hang out if you lived nearby.\n",
            "\n",
            "\n",
            "\n",
            "--------------------------------------------------------------------------------------------------------------------------------------------------------------------------------------------------------------------------------------------------------------------------------------------------------------------------------------------------------------------------------------------------------------------------------------------------------------------------------------------------------------------------------------------------------------------------------------------------------------------------------------------------------------------------------------------------------------------------------------------------------------------------------------------------------------------------------------------------------------------------------------------------------------------------------------------------------------------------------------------------------------------------------------------------------------------------------------------------------------------------------------------------------------------------------------------------------------------------------------------------------------------------------------------------------------------------------------------------------------------------------------------------------------------------------------------------------------------------------------------------------------------------------------------------------------------------------------------------------------------------------------------------------------------------------------------------------------------------------------------------------------------------------------------------------------------------------------------------------------------------------------------------------------------------------------------------------------------------------------------------------------------------------------------------------------------------------\n",
            "\n",
            "\n",
            "Never having dealt with a Discount Tire in Phoenix before (only in Texas, and their service has been great all the time), I came in not knowing what kind of service to expect. I was pleasantly surprised! The store had a good amount of parking, and the store front was clean, open and had adequate seating around the perimeters. There were already 5-6 people sitting and waiting for their cars to be finished, and 2 people waiting infront of me to see a representative. All the guys working there were busy helping someone, yet were saying hello to us and reassuring they'd get to us very soon. I didn't wait an unneccesary amount of time and then was helped by Wally. He inspected my tires, recommended a plan of action gave me options, and we headed back into the store. After I made my decision to replace 2 of the tires, he checked their stock, and unfortunately they didn't have them there. BUT he called another store and had them picked up for the next morning, so I could just come back the next day to this same store and get those bad boys installed. Great! The prices were not as heafty (relief), and although there were a good amount of people the next day waiting for their cars to also be serviced, it took exactly the amount of time they'd told me (45 min). They apologized for the wait, but no need for that! The guy who helped me on the 2nd day (I'm sorry I forgot his name) was also very professional and great. I recommend this store and will be bringing my car here in the future most definitely. Thanks, guys!\n",
            "\n",
            "TIP: If you know you need to bring your car in, you can make an appointment with them online. They take walk-ins, but I believe it helps them manage their customers easier, and that in turn benefits you.\n",
            "\n",
            "\n",
            "\n",
            "--------------------------------------------------------------------------------------------------------------------------------------------------------------------------------------------------------------------------------------------------------------------------------------------------------------------------------------------------------------------------------------------------------------------------------------------------------------------------------------------------------------------------------------------------------------------------------------------------------------------------------------------------------------------------------------------------------------------------------------------------------------------------------------------------------------------------------------------------------------------------------------------------------------------------------------------------------------------------------------------------------------------------------------------------------------------------------------------------------------------------------------------------------------------------------------------------------------------------------------------------------------------------------------------------------------------------------------------------------------------------------------------------------------------------------------------------------------------------------------------------------------------------------------------------------------------------------------------------------------------------------------------------------------------------------------------------------------------------------------------------------------------------------------------------------------------------------------------------------------------------------------------------------------------------------------------------------------------------------------------------------------------------------------------------------------------------------\n",
            "\n",
            "\n",
            "(Un)fortunately for me, lux is close to my house.  I walk there nearly every day and am much poorer because of it.  The coffee and pastries are amazing.  They always play really great music too!\n",
            "\n",
            "\n",
            "\n",
            "--------------------------------------------------------------------------------------------------------------------------------------------------------------------------------------------------------------------------------------------------------------------------------------------------------------------------------------------------------------------------------------------------------------------------------------------------------------------------------------------------------------------------------------------------------------------------------------------------------------------------------------------------------------------------------------------------------------------------------------------------------------------------------------------------------------------------------------------------------------------------------------------------------------------------------------------------------------------------------------------------------------------------------------------------------------------------------------------------------------------------------------------------------------------------------------------------------------------------------------------------------------------------------------------------------------------------------------------------------------------------------------------------------------------------------------------------------------------------------------------------------------------------------------------------------------------------------------------------------------------------------------------------------------------------------------------------------------------------------------------------------------------------------------------------------------------------------------------------------------------------------------------------------------------------------------------------------------------------------------------------------------------------------------------------------------------------------\n",
            "\n",
            "\n",
            "Fred M. pretty much said what I would say, so I won't beat a dead horse.  I'll add, though, that they offer a wide variety of deep-fried quesadillas.  \n",
            "\n",
            "Did you catch that?\n",
            "\n",
            "DEEP FRIED QUESADILLAS!\n",
            "\n",
            "\n",
            "\n",
            "--------------------------------------------------------------------------------------------------------------------------------------------------------------------------------------------------------------------------------------------------------------------------------------------------------------------------------------------------------------------------------------------------------------------------------------------------------------------------------------------------------------------------------------------------------------------------------------------------------------------------------------------------------------------------------------------------------------------------------------------------------------------------------------------------------------------------------------------------------------------------------------------------------------------------------------------------------------------------------------------------------------------------------------------------------------------------------------------------------------------------------------------------------------------------------------------------------------------------------------------------------------------------------------------------------------------------------------------------------------------------------------------------------------------------------------------------------------------------------------------------------------------------------------------------------------------------------------------------------------------------------------------------------------------------------------------------------------------------------------------------------------------------------------------------------------------------------------------------------------------------------------------------------------------------------------------------------------------------------------------------------------------------------------------------------------------------------\n",
            "\n",
            "\n",
            "Alright, I have been away from Yelp for quite some time, and I feel that this place is fitting to be my comeback review...\n",
            "\n",
            "Chicken and Waffles.  Yes, chicken and M'Fin waffles.  \n",
            "\n",
            "In the ghetto?  Check\n",
            "Has sweet tea?  Check\n",
            "Has no-nonsense, quick service?  Check\n",
            "Ridiculously long wait?  Check\n",
            "Best thing that I have eaten in the last year?  Check\n",
            "\n",
            "I have to say, not the best fried chicken I have ever had, but pretty damn good- it could use more seasoning.  Now the waffles, probably the best ever...  The waffles are deliciously soft inside, a little crispy out with a wonderful cinammoness to them.  The seating is cramped, but it doesn't matter as soon as your food is delivered your table goes quiet, you get tunnel vision and after the first bite you are taken away to an orgy of goodness.\n",
            "\n",
            "If you are in Phoenix, this is a requirement.  Come real early or be prepared to wait.  Don't forget to order the Red Velvet cake and they have Kool-Aid if that fits your fancy.  Even after I came home from Arizona, I couldn't stop talking about LoLo's for like 2 weeks.  Shoot, two months later and I am still drooling thinking about it...\n",
            "\n",
            "\n",
            "\n",
            "--------------------------------------------------------------------------------------------------------------------------------------------------------------------------------------------------------------------------------------------------------------------------------------------------------------------------------------------------------------------------------------------------------------------------------------------------------------------------------------------------------------------------------------------------------------------------------------------------------------------------------------------------------------------------------------------------------------------------------------------------------------------------------------------------------------------------------------------------------------------------------------------------------------------------------------------------------------------------------------------------------------------------------------------------------------------------------------------------------------------------------------------------------------------------------------------------------------------------------------------------------------------------------------------------------------------------------------------------------------------------------------------------------------------------------------------------------------------------------------------------------------------------------------------------------------------------------------------------------------------------------------------------------------------------------------------------------------------------------------------------------------------------------------------------------------------------------------------------------------------------------------------------------------------------------------------------------------------------------------------------------------------------------------------------------------------------------\n",
            "\n",
            "\n",
            "This restaurant is incredible, and has the best pasta carbonara and the best tiramisu I've had in my life. All the food is wonderful, though. The calamari is not fried. The bread served with dinner comes right out of the oven, and the tomatoes are the freshest I've tasted outside of my mom's own garden. This is great attention to detail.\n",
            "\n",
            "I can no longer eat at any other Italian restaurant without feeling slighted. This is the first place I want take out-of-town visitors I'm looking to impress.\n",
            "\n",
            "The owner, Jon, is helpful, friendly, and really cares about providing a positive dining experience. He's spot on with his wine recommendations, and he organizes wine tasting events which you can find out about by joining the mailing list or Facebook page.\n",
            "\n",
            "\n",
            "\n",
            "--------------------------------------------------------------------------------------------------------------------------------------------------------------------------------------------------------------------------------------------------------------------------------------------------------------------------------------------------------------------------------------------------------------------------------------------------------------------------------------------------------------------------------------------------------------------------------------------------------------------------------------------------------------------------------------------------------------------------------------------------------------------------------------------------------------------------------------------------------------------------------------------------------------------------------------------------------------------------------------------------------------------------------------------------------------------------------------------------------------------------------------------------------------------------------------------------------------------------------------------------------------------------------------------------------------------------------------------------------------------------------------------------------------------------------------------------------------------------------------------------------------------------------------------------------------------------------------------------------------------------------------------------------------------------------------------------------------------------------------------------------------------------------------------------------------------------------------------------------------------------------------------------------------------------------------------------------------------------------------------------------------------------------------------------------------------------------\n"
          ]
        }
      ],
      "source": [
        "#@title Explore Reviews Based on Star Ratings\n",
        "#@markdown Use this interactive tool to examine how the content of reviews varies with different star ratings.\n",
        "\n",
        "\n",
        "# Set the number of stars to select reviews\n",
        "num_stars =  5 #@param {type:\"integer\"}\n",
        "\n",
        "# Print the first 20 reviews that match the selected star rating\n",
        "print(f\"Displaying the first 20 reviews rated with {num_stars} stars:\\n\")\n",
        "for review_text in yelp[yelp['stars'] == num_stars]['text'].head(20).values:\n",
        "    print(\"\\n\")\n",
        "    print(review_text + \"\\n\")\n",
        "    print(\"\\n\")\n",
        "    print(\"-\"*2000)\n"
      ]
    },
    {
      "cell_type": "markdown",
      "metadata": {
        "id": "0GZ6NN4yEvos"
      },
      "source": [
        "💬 **Discussion:**\n",
        "\n",
        "- **Vocabulary in High Ratings:** What common words or phrases do you find in reviews with high ratings (e.g., 4 or 5 stars)?\n",
        "  \n",
        "- **Vocabulary in Low Ratings:** What words or phrases frequently appear in reviews with low ratings (e.g., 1 or 2 stars)?\n",
        "\n",
        "- **Notable Exceptions:** Can you identify any reviews that contain unexpected phrases or sentiments?\n",
        "\n",
        "**Consider Further:**\n",
        "\n",
        "- **Impact of Language on Perception:** How might the language used in a review influence a reader's perception of the business? Discuss the potential consequences for businesses based on the language used in customer reviews."
      ]
    },
    {
      "cell_type": "code",
      "execution_count": null,
      "metadata": {
        "cellView": "form",
        "colab": {
          "base_uri": "https://localhost:8080/"
        },
        "id": "X79o35cF9ZJT",
        "outputId": "f6445f31-6921-4044-963f-5ae40dba3131"
      },
      "outputs": [
        {
          "name": "stdout",
          "output_type": "stream",
          "text": [
            "Words for 5 star reviews:  [\"['My\", 'wife', 'took', 'me', 'here', 'on', 'my', 'birthday', 'for', 'breakfast', 'and', 'it', 'was', 'excellent.', 'The', 'weather', 'was', 'perfect', 'which', 'made', 'sitting', 'outside', 'overlooking', 'their', 'grounds', 'an', 'absolute', 'pleasure.', 'Our', 'waitress', 'was', 'excellent', 'and', 'our', 'food', 'arrived', 'quickly', 'on', 'the', 'semi-busy', 'Saturday', 'morning.', 'It', 'looked', 'like', 'the', 'place', 'fills', 'up', 'pretty', 'quickly', 'so', 'the', 'earlier', 'you', 'get', 'here', 'the', 'better.\\\\n\\\\nDo', 'yourself', 'a', 'favor', 'and', 'get', 'their', 'Bloody', 'Mary.', 'It', 'was', 'phenomenal', 'and', 'simply', 'the', 'best', \"I\\\\'ve\", 'ever', 'had.', \"I\\\\'m\", 'pretty', 'sure', 'they', 'only', 'use', 'ingredients', 'from', 'their', 'garden', 'and', 'blend', 'them', 'fresh', 'when', 'you', 'order', 'it.', 'It', 'was', 'amazing.\\\\n\\\\nWhile', 'EVERYTHING', 'on', 'the', 'menu', 'looks', 'excellent,', 'I', 'had', 'the', 'white', 'truffle', 'scrambled', 'eggs', 'vegetable', 'skillet', 'and', 'it', 'was', 'tasty', 'and', 'delicious.', 'It', 'came', 'with', '2', 'pieces', 'of', 'their', 'griddled', 'bread', 'with', 'was', 'amazing', 'and', 'it', 'absolutely', 'made', 'the', 'meal', 'complete.', 'It', 'was', 'the', 'best', '\"toast\"', \"I\\\\'ve\", 'ever', 'had.\\\\n\\\\nAnyway,', 'I', \"can\\\\'t\", 'wait', 'to', 'go', \"back!'\", \"'I\", 'have', 'no', 'idea', 'why', 'some', 'people', 'give', 'bad', 'reviews', 'about', 'this', 'place.', 'It', 'goes', 'to', 'show', 'you,', 'you', 'can', 'please', 'everyone.', 'They', 'are', 'probably', 'griping', 'about', 'something', 'that', 'their', 'own', 'fault...there', 'are', 'many', 'people', 'like', 'that.\\\\n\\\\nIn', 'any', 'case,', 'my', 'friend', 'and', 'I', 'arrived', 'at', 'about', '5:50', 'PM', 'this', 'past', 'Sunday.', 'It', 'was', 'pretty', 'crowded,', 'more', 'than', 'I', 'thought', 'for', 'a', 'Sunday', 'evening', 'and', 'thought', 'we', 'would', 'have', 'to', 'wait', 'forever', 'to', 'get', 'a', 'seat', 'but', 'they', 'said', \"we\\\\'ll\", 'be', 'seated', 'when', 'the', 'girl', 'comes', 'back', 'from', 'seating', 'someone', 'else.', 'We', 'were', 'seated', 'at', '5:52', 'and', 'the', 'waiter', 'came', 'and', 'got', 'our', 'drink', 'orders.', 'Everyone', 'was', 'very', 'pleasant', 'from', 'the', 'host', 'that', 'seated', 'us', 'to', 'the', 'waiter', 'to', 'the', 'server.', 'The', 'prices', 'were', 'very', 'good', 'as', 'well.', 'We', 'placed', 'our', 'orders', 'once', 'we', 'decided', 'what', 'we', 'wanted', 'at', '6:02.', 'We', 'shared', 'the', 'baked', 'spaghetti', 'calzone', 'and', 'the', 'small', '\"Here\\\\\\'s', 'The', 'Beef\"', 'pizza', 'so', 'we', 'can', 'both', 'try', 'them.', 'The', 'calzone', 'was', 'huge', 'and', 'we', 'got', 'the', 'smallest', 'one', '(personal)', 'and', 'got', 'the', 'small', '11\"', 'pizza.', 'Both', 'were', 'awesome!', 'My', 'friend', 'liked', 'the', 'pizza', 'better', 'and', 'I', 'liked', 'the', 'calzone', 'better.', 'The', 'calzone', 'does', 'have', 'a', 'sweetish', 'sauce', 'but', \"that\\\\'s\", 'how', 'I', 'like', 'my', 'sauce!\\\\n\\\\nWe', 'had', 'to', 'box', 'part', 'of', 'the', 'pizza', 'to', 'take', 'it', 'home', 'and', 'we', 'were', 'out', 'the', 'door', 'by', '6:42.', 'So,', 'everything', 'was', 'great', 'and', 'not', 'like', 'these', 'bad', 'reviewers.', 'That', 'goes', 'to', 'show', 'you', 'that', 'you', 'have', 'to', 'try', 'these', 'things', 'yourself', 'because', 'all', 'these', 'bad', 'reviewers', 'have', 'some', 'serious', \"issues.'\", '\"Rosie,', 'Dakota,', 'and', 'I', 'LOVE', 'Chaparral', 'Dog', 'Park!!!', \"It's\", 'very', 'convenient', 'and', 'surrounded', 'by', 'a', 'lot', 'of', 'paths,', 'a', 'desert', 'xeriscape,', 'baseball', 'fields,', 'ballparks,', 'and', 'a', 'lake', 'with', 'ducks.\\\\n\\\\nThe', 'Scottsdale', 'Park', 'and', 'Rec', 'Dept.', 'does', 'a', 'wonderful', 'job', 'of', 'keeping', 'the', 'park', 'clean', 'and', 'shaded.', 'You', 'can', 'find', 'trash', 'cans', 'and', 'poopy-pick', 'up', 'mitts', 'located', 'all', 'over', 'the', 'park', 'and', 'paths.\\\\n\\\\nThe', 'fenced', 'in', 'area', 'is', 'huge', 'to', 'let', 'the', 'dogs', 'run,', 'play,', 'and', 'sniff!\"', \"'General\", 'Manager', 'Scott', 'Petello', 'is', 'a', 'good', 'egg!!!', 'Not', 'to', 'go', 'into', 'detail,', 'but', 'let', 'me', 'assure', 'you', 'if', 'you', 'have', 'any', 'issues', '(albeit', 'rare)', 'speak', 'with', 'Scott', 'and', 'treat', 'the', 'guy', 'with', 'some', 'respect', 'as', 'you', 'state', 'your', 'case', 'and', \"I\\\\'d\", 'be', 'surprised', 'if', 'you', \"don\\\\'t\", 'walk', 'out', 'totally', 'satisfied', 'as', 'I', 'just', 'did.', 'Like', 'I', 'always', 'say.....', '\"Mistakes', 'are', 'inevitable,', \"it\\\\'s\", 'how', 'we', 'recover', 'from', 'them', 'that', 'is', 'important\"!!!\\\\n\\\\nThanks', 'to', 'Scott', 'and', 'his', 'awesome', 'staff.', \"You\\\\'ve\", 'got', 'a', 'customer', 'for', 'life!!', '..........', \":^)'\", \"'Drop\", 'what', \"you\\\\'re\", 'doing', 'and', 'drive', 'here.', 'After', 'I', 'ate', 'here', 'I', 'had', 'to', 'go', 'back', 'the', 'next', 'day', 'for', 'more.', 'The', 'food', 'is', 'that', 'good.\\\\n\\\\nThis', 'cute', 'little', 'green', 'building', 'may', 'have', 'gone', 'competely', 'unoticed', 'if', 'I', \"hadn\\\\'t\", 'been', 'driving', 'down', 'Palm', 'Rd', 'to', 'avoid', 'construction.', 'While', 'waiting', 'to', 'turn', 'onto', '16th', 'Street', 'the', '\"Grand', 'Opening\"', 'sign', 'caught', 'my', 'eye', 'and', 'my', 'little', 'yelping', 'soul', 'leaped', 'for', 'joy!', 'A', 'new', 'place', 'to', 'try!\\\\n\\\\nIt', 'looked', 'desolate', 'from', 'the', 'outside', 'but', 'when', 'I', 'opened', 'the', 'door', 'I', 'was', 'put', 'at', 'easy', 'by', 'the', 'decor,', 'smell', 'and', 'cleanliness', 'inside.', 'I', 'ordered', 'dinner', 'for', 'two,', 'to', 'go.', 'The', 'menu', 'was', 'awesome.', 'I', 'loved', 'seeing', 'all', 'the', 'variety:', 'poblano', 'peppers,', 'mole,', 'mahi', 'mahi,', 'mushrooms...something', 'wrapped', 'in', 'banana', 'leaves.', 'It', 'made', 'it', 'difficult', 'to', 'choose', 'something.', \"Here\\\\'s\", 'what', \"I\\\\'ve\", 'had', 'so', 'far:', 'La', 'Condesa', 'Shrimp', 'Burro', 'and', 'Baja', 'Sur', 'Dogfish', 'Shark', 'Taco.', 'They', 'are', 'both', 'were', 'very', 'delicious', 'meals', 'but', 'the', 'shrimp', 'burro', 'stole', 'the', 'show.', 'So', 'much', 'flavor.', 'I', 'snagged', 'some', 'bites', 'from', 'my', 'hubbys', 'mole', 'and', 'mahi', 'mahi', 'burros-', 'mmmm', 'such', 'a', 'delight.', 'The', 'salsa', 'bar', 'is', 'endless.', 'I', 'really', 'stocked', 'up.', 'I', 'was', 'excited', 'to', 'try', 'the', 'strawberry', 'salsa', 'but', 'it', 'was', 'too', 'hot,', 'in', 'fact', 'it', 'all', 'was,', 'but', \"I\\\\'m\", 'a', 'big', 'wimp', 'when', 'it', 'comes', 'to', 'hot', 'peppers.', 'The', 'horchata', 'is', 'handmade', 'and', 'delicious.', 'They', 'throw', 'pecans', 'and', 'some', 'fruit', 'in', 'there', 'too', 'which', 'is', 'a', 'yummy', 'bonus!\\\\n\\\\nAs', 'if', 'the', 'good', 'food', \"wasn\\\\'t\", 'enough', 'to', 'win', 'me', 'over', 'the', 'art', 'in', 'this', 'restaurant', 'sho', 'did!', \"I\\\\'m\", 'a', 'sucker', 'for', 'Mexican', 'folk', 'art', 'and', 'Frida', 'Kahlo', 'is', 'my', 'Oprah.', \"There\\\\'s\", 'a', 'painting', 'of', 'her', 'and', 'Diego', 'hanging', 'over', 'the', 'salsa', 'bar,', \"it\\\\'s\", 'amazing.', 'All', 'the', 'paintings', 'are', 'great,', 'love', 'the', \"artist.'\", \"'Nobuo\", 'shows', 'his', 'unique', 'talents', 'with', 'everything', 'on', 'the', 'menu.', 'Carefully', 'crafted', 'features', 'with', 'much', 'to', 'drink.', 'Start', 'with', 'the', 'pork', 'belly', 'buns', 'and', 'a', 'stout.', 'Then', 'go', 'on', 'until', 'you', 'can', 'no', \"longer.'\", '\"The', 'oldish', 'man', 'who', 'owns', 'the', 'store', 'is', 'as', 'sweet', 'as', 'can', 'be.', 'Perhaps', 'sweeter', 'than', 'the', 'cookies', 'or', 'ice', \"cream.\\\\n\\\\nHere's\", 'the', 'lowdown:', 'Giant', 'ice', 'cream', 'cookie', 'sandwiches', 'for', 'super', 'cheap.', 'The', 'flavor', 'permutations', 'are', 'basically', 'endless.', 'I', 'had', 'snickerdoodle', 'with', 'cookies', 'and', 'cream', 'ice', 'cream.', 'It', 'was', 'marvelous.\"', \"'Wonderful\", 'Vietnamese', 'sandwich', 'shoppe.', 'Their', 'baguettes', 'are', 'great', 'hot', 'out', 'of', 'the', 'oven', 'with', 'butter', 'or', 'in', 'one', 'of', 'their', 'many', 'sandwich', 'choices.', 'They', 'have', 'a', 'modest', 'selection', 'of', 'baked', 'goods', 'along', 'with', 'some', 'of', 'the', 'best', 'egg', 'rolls', 'around.', 'Bring', 'cash', 'or', 'your', 'ATM', 'card', 'as', 'no', 'credit', 'cards', 'are', 'accepted', 'but', 'they', 'have', 'an', 'ATM', 'on', \"premises.'\", '\"They', 'have', 'a', 'limited', 'time', 'thing', 'going', 'on', 'right', 'now', 'with', 'BBQ', 'chicken', 'pizza', '(not', 'sure', 'how', 'long', \"it's\", 'going', 'to', 'last)', 'but', 'let', 'me', 'just', 'say', 'it', 'was', 'amazing.', 'Probably', 'THE', 'best', 'BBQ', 'Chicken', 'pizza', 'I', 'have', 'ever', 'had.', 'I', 'have', 'tried', 'other', 'things', 'too,', 'like', 'the', 'tomato', 'basil', 'soup,', 'and', 'many', 'of', 'their', 'sandwiches', '...', 'very', 'good,', 'very', 'fresh', '-', 'every', 'time.', '\\\\n\\\\nThe', '5', 'stars', 'is', 'for', 'the', 'pizza,', 'but', 'if', 'I', 'were', 'to', 'rate', \"Jason's\", 'Deli', 'over', 'all', 'they', 'would', 'get', 'about', 'a', '4.\"', '\"okay', 'this', 'is', 'the', 'best', 'place', 'EVER!', 'i', 'grew', 'up', 'shopping', 'at', 'the', 'one', 'in', 'los', 'gatos,', 'and', 'the', 'one', 'in', 'Oakville.', 'i', 'was', 'shock', 'when', 'i', 'saw', 'the', 'best', 'store', 'in', 'the', 'world', 'in', 'Scottsdale', 'and', 'then', 'not', 'surprised', 'at', 'all.', 'the', 'have', 'all', 'the', 'good', 'stuff.', 'from', 'cheese', 'down', 'to', 'wine.', 'i', \"can't\", 'tell', 'you', 'how', 'happy', 'i', 'am', 'that', 'this', 'store', 'is', 'here', 'in', 'Arizona.', 'now', 'if', 'we', 'could', 'just', 'get', 'dean', 'and', 'deluca!\"', '\"This', 'place', \"shouldn't\", 'even', 'be', 'reviewed', '-', 'because', 'it', 'is', 'the', 'kind', 'of', 'place', 'I', 'want', 'to', 'keep', 'for', 'myself...', '=)\"', \"'first\", 'time', 'my', 'friend', 'and', 'I', 'went', 'there...', 'it', 'was', 'delicious!', 'The', 'food,', 'garlic', 'knots', 'our', 'favorite', 'and', 'of', 'course', 'the', 'wine!', 'We', 'will', 'be', 'going', 'back', \"ALOT!'\", '\"I', 'love', 'this', 'place!', 'I', 'have', 'been', 'coming', 'here', 'for', 'ages.\\\\nMy', 'favorites:', \"Elsa's\", 'Chicken', 'sandwich,', 'any', 'of', 'their', 'burgers,', 'dragon', 'chicken', 'wings,', \"china's\", 'little', 'chicken', 'sandwich,', 'and', 'the', 'hot', 'pepper', 'chicken', 'sandwich.', 'The', 'atmosphere', 'is', 'always', 'fun', 'and', 'the', 'art', 'they', 'display', 'is', 'very', 'abstract', 'but', 'totally', 'cool!\"', '\"I', 'love', 'love', 'LOVE', 'this', 'place.', 'My', 'boss', '(who', 'is', 'into', 'healthy', 'eating)', 'recommended', 'this', 'place.', 'I', 'went', 'over', 'with', 'some', 'highly', 'skeptical', 'friends', 'and', 'one', 'dinner', 'was', 'enough', 'to', 'convert', 'them', 'into', 'believers!', 'The', 'food', 'here', 'is', 'so', 'good!', 'We', 'had', 'the', 'Shrimp', 'dumplings', 'and', 'the', 'Onion', 'tart', 'as', 'starters.', 'We', 'ordered', 'the', 'Shirataki', 'noodles', 'and', 'street', 'tacos', 'as', 'entrees.', 'So', 'also', 'ordered', 'the', 'Kale-aid.', 'All', 'of', 'the', 'dishes', 'were', 'yummy.', '\\\\nI', 'have', 'gone', 'back', 'many', 'times', 'since', 'then', 'and', 'have', 'never', 'been', 'disappointed!', 'I', 'have', 'gone', 'after', 'yoga', 'to', 'get', 'some', 'Kale', 'salad', 'or', 'the', 'chicken', 'chopped', 'salad.', 'I', 'always', 'have', 'to', 'get', 'the', 'Kale', 'aid.', '\\\\nOnce,', 'a', 'guy', 'at', 'the', 'next', 'table,', 'uprooted', 'a', 'whole', 'plant', 'by', 'mistake', '(on', 'the', 'patio)', 'and', 'was', 'highly', 'embarrassed', 'as', 'was', 'his', 'date!', 'Ever', 'since,', 'I', 'have', 'very', 'careful', 'not', 'to', 'throw', 'my', 'arms', 'around', 'as', 'I', 'can', 'be', 'quite', 'clumsy', 'sometimes!', 'I', 'do', 'NOT', 'want', 'to', 'be', 'banned', 'from', 'my', 'favorite', 'place', 'for', 'my', 'clumsiness!', 'I', \"don't\", 'think', 'I', 'can', 'live', 'without', 'True', 'Food!\"', \"'Disclaimer:\", 'Like', 'many', 'of', 'you,', 'I', 'am', 'a', 'sucker', 'for', 'charming', 'little', 'homes', 'that', 'have', 'been', 're-purposed', 'into', 'restaurants.', 'I', 'am', 'certain', 'that', 'this', 'colored', 'my', 'opinion', 'of', 'Cibo.\\\\n\\\\nThat', 'being', 'said,', 'I', 'absolutely', 'love', 'having', 'lunch', 'here', 'the', 'other', 'day.', 'I', 'unknowingly', 'arrived', 'at', '2:05', '(5', 'minutes', 'after', 'they', 'close', 'between', 'lunch', 'and', 'dinner)', 'but', 'was', 'served', 'anyway.', 'I', 'had', 'the', 'salscicia', 'sandwich', 'and', 'a', 'side', 'of', 'fruit.', 'The', 'sandwich', 'was', 'excellent,', 'served', 'on', 'perfectly', 'crisp,', 'chewy', 'saltimbocca', 'bread.', 'The', 'sausage', 'was', 'flavorful', 'and', 'was', 'complimented', 'by', 'roasted', 'red', 'peppers', 'and', 'onions.', 'All', 'this', 'was', 'finished', 'off', 'with', 'a', 'great', 'quality', 'mozzarella', 'cheese.', 'Really,', 'really', 'delicious.\\\\n\\\\nI', 'should', 'also', 'say', 'that', 'the', 'atmosphere', 'here', 'was', 'friendly', 'and', 'comfortable,', 'though', 'a', 'bit', 'small.', 'This', 'would', 'be', 'a', 'great', 'place', 'to', 'hang', 'out', 'if', 'you', 'lived', \"nearby.'\", '\"Never', 'having', 'dealt', 'with', 'a', 'Discount', 'Tire', 'in', 'Phoenix', 'before', '(only', 'in', 'Texas,', 'and', 'their', 'service', 'has', 'been', 'great', 'all', 'the', 'time),', 'I', 'came', 'in', 'not', 'knowing', 'what', 'kind', 'of', 'service', 'to', 'expect.', 'I', 'was', 'pleasantly', 'surprised!', 'The', 'store', 'had', 'a', 'good', 'amount', 'of', 'parking,', 'and', 'the', 'store', 'front', 'was', 'clean,', 'open', 'and', 'had', 'adequate', 'seating', 'around', 'the', 'perimeters.', 'There', 'were', 'already', '5-6', 'people', 'sitting', 'and', 'waiting', 'for', 'their', 'cars', 'to', 'be', 'finished,', 'and', '2', 'people', 'waiting', 'infront', 'of', 'me', 'to', 'see', 'a', 'representative.', 'All', 'the', 'guys', 'working', 'there', 'were', 'busy', 'helping', 'someone,', 'yet', 'were', 'saying', 'hello', 'to', 'us', 'and', 'reassuring', \"they'd\", 'get', 'to', 'us', 'very', 'soon.', 'I', \"didn't\", 'wait', 'an', 'unneccesary', 'amount', 'of', 'time', 'and', 'then', 'was', 'helped', 'by', 'Wally.', 'He', 'inspected', 'my', 'tires,', 'recommended', 'a', 'plan', 'of', 'action', 'gave', 'me', 'options,', 'and', 'we', 'headed', 'back', 'into', 'the', 'store.', 'After', 'I', 'made', 'my', 'decision', 'to', 'replace', '2', 'of', 'the', 'tires,', 'he', 'checked', 'their', 'stock,', 'and', 'unfortunately', 'they', \"didn't\", 'have', 'them', 'there.', 'BUT', 'he', 'called', 'another', 'store', 'and', 'had', 'them', 'picked', 'up', 'for', 'the', 'next', 'morning,', 'so', 'I', 'could', 'just', 'come', 'back', 'the', 'next', 'day', 'to', 'this', 'same', 'store', 'and', 'get', 'those', 'bad', 'boys', 'installed.', 'Great!', 'The', 'prices', 'were', 'not', 'as', 'heafty', '(relief),', 'and', 'although', 'there', 'were', 'a', 'good', 'amount', 'of', 'people', 'the', 'next', 'day', 'waiting', 'for', 'their', 'cars', 'to', 'also', 'be', 'serviced,', 'it', 'took', 'exactly', 'the', 'amount', 'of', 'time', \"they'd\", 'told', 'me', '(45', 'min).', 'They', 'apologized', 'for', 'the', 'wait,', 'but', 'no', 'need', 'for', 'that!', 'The', 'guy', 'who', 'helped', 'me', 'on', 'the', '2nd', 'day', \"(I'm\", 'sorry', 'I', 'forgot', 'his', 'name)', 'was', 'also', 'very', 'professional', 'and', 'great.', 'I', 'recommend', 'this', 'store', 'and', 'will', 'be', 'bringing', 'my', 'car', 'here', 'in', 'the', 'future', 'most', 'definitely.', 'Thanks,', 'guys!\\\\n\\\\nTIP:', 'If', 'you', 'know', 'you', 'need', 'to', 'bring', 'your', 'car', 'in,', 'you', 'can', 'make', 'an', 'appointment', 'with', 'them', 'online.', 'They', 'take', 'walk-ins,', 'but', 'I', 'believe', 'it', 'helps', 'them', 'manage', 'their', 'customers', 'easier,', 'and', 'that', 'in', 'turn', 'benefits', 'you.\"', \"'(Un)fortunately\", 'for', 'me,', 'lux', 'is', 'close', 'to', 'my', 'house.', 'I', 'walk', 'there', 'nearly', 'every', 'day', 'and', 'am', 'much', 'poorer', 'because', 'of', 'it.', 'The', 'coffee', 'and', 'pastries', 'are', 'amazing.', 'They', 'always', 'play', 'really', 'great', 'music', \"too!'\", '\"Fred', 'M.', 'pretty', 'much', 'said', 'what', 'I', 'would', 'say,', 'so', 'I', \"won't\", 'beat', 'a', 'dead', 'horse.', \"I'll\", 'add,', 'though,', 'that', 'they', 'offer', 'a', 'wide', 'variety', 'of', 'deep-fried', 'quesadillas.', '\\\\n\\\\nDid', 'you', 'catch', 'that?\\\\n\\\\nDEEP', 'FRIED', 'QUESADILLAS!\"', '\"Alright,', 'I', 'have', 'been', 'away', 'from', 'Yelp', 'for', 'quite', 'some', 'time,', 'and', 'I', 'feel', 'that', 'this', 'place', 'is', 'fitting', 'to', 'be', 'my', 'comeback', 'review...\\\\n\\\\nChicken', 'and', 'Waffles.', 'Yes,', 'chicken', 'and', \"M'Fin\", 'waffles.', '\\\\n\\\\nIn', 'the', 'ghetto?', 'Check\\\\nHas', 'sweet', 'tea?', 'Check\\\\nHas', 'no-nonsense,', 'quick', 'service?', 'Check\\\\nRidiculously', 'long', 'wait?', 'Check\\\\nBest', 'thing', 'that', 'I', 'have', 'eaten', 'in', 'the', 'last', 'year?', 'Check\\\\n\\\\nI', 'have', 'to', 'say,', 'not', 'the', 'best', 'fried', 'chicken', 'I', 'have', 'ever', 'had,', 'but', 'pretty', 'damn', 'good-', 'it', 'could', 'use', 'more', 'seasoning.', 'Now', 'the', 'waffles,', 'probably', 'the', 'best', 'ever...', 'The', 'waffles', 'are', 'deliciously', 'soft', 'inside,', 'a', 'little', 'crispy', 'out', 'with', 'a', 'wonderful', 'cinammoness', 'to', 'them.', 'The', 'seating', 'is', 'cramped,', 'but', 'it', \"doesn't\", 'matter', 'as', 'soon', 'as', 'your', 'food', 'is', 'delivered', 'your', 'table', 'goes', 'quiet,', 'you', 'get', 'tunnel', 'vision', 'and', 'after', 'the', 'first', 'bite', 'you', 'are', 'taken', 'away', 'to', 'an', 'orgy', 'of', 'goodness.\\\\n\\\\nIf', 'you', 'are', 'in', 'Phoenix,', 'this', 'is', 'a', 'requirement.', 'Come', 'real', 'early', 'or', 'be', 'prepared', 'to', 'wait.', \"Don't\", 'forget', 'to', 'order', 'the', 'Red', 'Velvet', 'cake', 'and', 'they', 'have', 'Kool-Aid', 'if', 'that', 'fits', 'your', 'fancy.', 'Even', 'after', 'I', 'came', 'home', 'from', 'Arizona,', 'I', \"couldn't\", 'stop', 'talking', 'about', \"LoLo's\", 'for', 'like', '2', 'weeks.', 'Shoot,', 'two', 'months', 'later', 'and', 'I', 'am', 'still', 'drooling', 'thinking', 'about', 'it...\"', '\"This', 'restaurant', 'is', 'incredible,', 'and', 'has', 'the', 'best', 'pasta', 'carbonara', 'and', 'the', 'best', 'tiramisu', \"I've\", 'had', 'in', 'my', 'life.', 'All', 'the', 'food', 'is', 'wonderful,', 'though.', 'The', 'calamari', 'is', 'not', 'fried.', 'The', 'bread', 'served', 'with', 'dinner', 'comes', 'right', 'out', 'of', 'the', 'oven,', 'and', 'the', 'tomatoes', 'are', 'the', 'freshest', \"I've\", 'tasted', 'outside', 'of', 'my', \"mom's\", 'own', 'garden.', 'This', 'is', 'great', 'attention', 'to', 'detail.\\\\n\\\\nI', 'can', 'no', 'longer', 'eat', 'at', 'any', 'other', 'Italian', 'restaurant', 'without', 'feeling', 'slighted.', 'This', 'is', 'the', 'first', 'place', 'I', 'want', 'take', 'out-of-town', 'visitors', \"I'm\", 'looking', 'to', 'impress.\\\\n\\\\nThe', 'owner,', 'Jon,', 'is', 'helpful,', 'friendly,', 'and', 'really', 'cares', 'about', 'providing', 'a', 'positive', 'dining', 'experience.', \"He's\", 'spot', 'on', 'with', 'his', 'wine', 'recommendations,', 'and', 'he', 'organizes', 'wine', 'tasting', 'events', 'which', 'you', 'can', 'find', 'out', 'about', 'by', 'joining', 'the', 'mailing', 'list', 'or', 'Facebook', 'page.\"', '\"This', 'an', 'incredible', 'church', 'that', 'embraces', 'the', 'principle', 'that', '......Christ', 'Life', 'Church', 'exists', 'to', 'bring', 'people', 'into', 'a', 'life-changing', 'relationship', 'with', 'Jesus', 'Christ.', 'Three', 'campuses', 'allow', 'Christ', 'Life', 'to', 'reach', 'into', 'several', 'locations...online,', 'Tempe', 'and', 'Casa', 'Grande.', 'The', 'wonderful', \"children's\", 'and', 'youth', 'programs', 'appeal', 'to', 'a', 'wide', 'perspective', 'of', 'people.\"', \"'This\", 'is', 'our', 'favorite', 'breakfast', 'place.', 'The', 'food', 'is', 'good.', 'They', 'have', 'the', 'best', 'biscuits', '&', 'gravy', 'of', 'any', 'restaurant', 'I', 'have', 'eaten', 'at.', 'The', 'wait', 'staff', 'is', 'friendly.', 'The', 'only', 'complaint', 'I', 'have', 'is', 'that', 'Sunday', 'mornings', 'are', 'packed,', 'so', 'there', 'can', 'be', 'a', 'wait', 'to', 'be', \"seated.'\", \"'I\", 'had', 'looked', 'at', 'several', 'invitation', 'websites', 'along', 'with', 'catalogs', 'with', 'no', 'luck', 'in', 'finding', 'just', 'the', 'right', 'balance', 'of', 'wedding', 'colors/design.', 'Thomas', 'at', 'Alphagraphics', 'helped', 'me', 'every', 'step', 'of', 'the', 'way', 'of', 'designing', 'and', 'printing', 'our', 'wedding', 'invitations', 'and', 'programs.', 'I', 'knew', 'I', 'wanted', 'a', 'booklet-style,', 'but', 'needed', 'a', 'little', 'design', 'creativity', 'from', 'Alphagraphics', 'which', 'they', 'nailed!', 'I', 'highly', 'recommend', 'Alphagraphics', 'to', 'anyone', 'needing', 'any', 'print', 'work', 'done', '-', 'not', 'just', 'wedding', 'invitations.', 'Thomas', 'and', 'his', 'crew', 'are', \"stellar!!'\", '\"I', 'absolutely', 'love', 'this', 'little', 'spot!', \"It's\", 'a', 'great', 'little', 'known', 'boutique', 'with', 'incredibly', 'unique', 'gift', 'items', 'that', 'I', \"don't\", 'have', 'to', 'drive', 'clear', 'out', 'to', 'Scottsdale', 'to', 'find.', \"I've\", 'been', 'shopping', 'at', 'Vignettes', 'for', 'about', '8', 'years.', 'Whenever', 'I', 'am', 'in', 'a', 'quandary', 'about', 'what', 'to', 'get', 'someone,', 'this', 'is', 'the', 'first', 'place', 'that', 'I', 'head', 'to.', 'Mostly', 'it', 'is', 'because', 'of', 'the', 'wide', 'range', 'of', 'specialty', 'items', 'that', 'they', 'have', 'on', 'hand.', 'Whether', \"it's\", 'something', 'for', 'the', 'garden,', 'a', 'gift', 'for', 'the', 'new', 'bride', 'or', 'baby,', 'a', 'unique', 'piece', 'of', 'art,', 'or', 'heavenly', 'scented', 'candles', '-', 'you', 'will', 'not', 'be', 'disappointed.\\\\n\\\\nThe', 'owners', '/', 'staff', 'are', 'super', 'friendly', 'and', 'have', 'always', 'been', 'more', 'than', 'willing', 'to', 'help', 'find', 'something', 'within', 'a', 'price', 'range', 'or', 'based', 'on', 'occasion', '/', 'need.', 'And', 'they', 'do', 'the', 'most', 'amazing', 'wrap', 'jobs,', 'making', 'gift', 'giving', 'even', 'easier.\\\\n\\\\nThe', 'final', 'bonus', 'is', 'their', 'annual', 'Clearance', 'sale.', 'For', 'three', 'days', 'each', 'year', 'they', 'basically', 'blow', 'out', 'their', 'stock', 'to', 'make', 'way', 'for', 'new', 'finds.', 'Ask', 'to', 'be', 'put', 'on', 'their', 'mailing', 'list', 'to', 'ensure', 'your', 'have', 'a', 'heads', 'up', 'and', 'get', 'there', 'early', 'because', 'long', 'time', 'customers', 'like', 'myself', 'never', 'miss', 'it.', ':', ')\"', \"'Came\", 'here', 'with', 'a', 'large', 'group', 'a', 'while', 'back.', 'We', 'were', 'there', 'to', 'eat', 'and', 'have', 'a', 'beer', 'before', 'a', 'concert', 'there.', 'It', 'was', 'a', 'weekday', 'so', 'we', 'made', 'it', 'to', 'happy', 'hour.', 'Happy', 'Hour', 'pricing', 'was', 'fair.', 'The', 'food', 'was', 'pretty', 'good.', 'The', 'very', 'best', 'thing', 'there', 'is', 'the', 'beer!', 'They', 'had', 'like', 'everything', 'on', 'tap!', \"MMMM!'\", '\"Beer...or', 'Yoga?\\\\n\\\\nLocated', 'in', 'a', 'small', 'center', 'just', 'east', 'of', 'Four', 'Peaks', 'Brewery', 'in', 'Tempe', '(a', 'reasonable', 'distance', 'from', 'the', 'light', 'rail', 'on', 'Apache),', 'is', 'an', 'amazing,', 'classy', 'studio', 'for', 'the', 'Mind-Body', 'connection.\\\\n\\\\nMr.', 'Mustachio', 'had', 'decided', 'after', 'doing', 'a', 'couple', 'yoga', 'classes', 'with', 'me', 'at', 'the', 'ASU', 'gym', 'that', 'he', 'loved', 'the', 'stretch,', 'so', 'pursued', 'a', 'class', 'for', 'a', 'semester', 'at', 'ASU', 'this', 'Spring', 'and', 'had', 'the', 'pleasure', 'of', 'practicing', 'with', 'Tish', 'Hegel.', 'After', 'seeing', 'his', 'body', 'transform', 'to', 'only', '16.2%', 'body', 'fat,', 'all', 'his', 'jeans', 'get', 'too', 'big', 'on', 'him', 'and', 'fill', 'out', 'his', 'American', 'Apparel', 'briefs', 'nicely', 'I', 'was', 'super', 'jealous.', 'He', 'raved', 'about', 'his', 'teacher', 'and', 'I', 'could', 'tell', 'he', 'had', 'de-stressed', 'a', 'lot', 'since', 'he', 'started', 'the', 'practice.\\\\n\\\\nLuckily,', 'she', 'opened', 'up', 'a', 'studio', 'recently,', 'and', 'it', 'simply', 'goregous.', 'The', 'waiting', 'area', 'is', 'filled', 'with', 'yoga', 'material', 'and', 'a', 'very', 'calming', 'space', 'with', 'a', 'remodeled', 'bathroom', 'and', 'dressing', 'rooms', 'to', 'change', 'if', 'coming', 'from', 'work/school.', 'Not', 'at', 'all', 'cheesy', 'like', 'the', 'SouthWest', 'Inst', 'with', 'the', 'way', 'too', 'many', 'angels', 'imagery', '(creepy!).', 'But', 'the', 'gem', 'is', 'truly', 'the', 'practice', 'space.', 'Hardwood', 'floors,', 'high', 'ceilings,', 'a', 'beautiful', 'staircase,', 'tasteful', 'decorations', 'and', 'absolutely', 'NO', 'MIRRORS.', '\\\\n\\\\nThat', 'is', 'right-', 'the', 'only', 'person', 'staring', 'at', 'my', 'pudge', 'rolls', 'is', 'my', 'teacher', 'and', 'who-ever', \"isn't\", 'focusing', 'on', 'their', 'tree', 'posture-not', 'the', 'entire', 'class!', 'It', 'really', 'relieves', 'a', 'lot', 'of', 'stress', 'and', 'helps', 'me', 'concentrate', 'on', 'how', 'a', 'posture', 'feels', 'as', 'opposed', 'to', 'just', 'looks.\\\\n\\\\nAs', 'for', 'Tish', 'Hegel,', 'she', 'is', 'simply', 'outstanding-she', 'has', 'so', 'many', 'credentials,', 'you', 'have', 'to', 'read', 'her', 'biography', 'for', 'yourself.', 'She', 'has', 'been', 'practicing', 'for', 'a', 'loooong', 'time,', 'and', 'her', 'hands-on', 'instruction', 'and', 'confident', 'voice', 'echoes', 'in', 'my', 'ears', 'even', 'now', '(bring', 'those', 'shoulders', 'down!).', '\\\\n\\\\nSo', 'far,', 'I', 'have', 'done:', 'Ashtanga', 'Inspired', 'Flow', '(pretty', 'intense,', 'really', 'hurt', 'for', '3', 'days,', 'would', 'recommend', 'after', 'getting', 'into', 'yoga', 'for', 'a', 'while),', 'Sivananda', '(ditto),', 'Focus', 'Class', '(did', 'a', 'lot', 'of', 'bike', 'riding', 'and', 'she', 'focused', 'on', \"everybody's\", 'body', 'issues', 'and', 'did', 'the', 'sequence', 'right', 'then', 'and', 'there', 'for', 'us', 'and', 'my', 'lower', 'back', 'and', 'knees', 'felt', 'amazing', 'the', 'day', 'after)', 'and', 'this', 'morning', 'brought', 'my', 'friend', 'to', 'Kinetic', 'Yoga:', 'Morning', 'Movement', 'and', 'Flow,', 'which', 'kicked', 'our', '6am', 'asses', 'a', 'little', 'bit', 'but', 'we', 'both', 'felt', 'amazing', 'afterwards!', 'She', 'does', 'tons', 'of', 'modifications,', 'is', 'always', 'making', 'sure', 'we', 'are', 'okay,', 'and', 'is', 'just', 'super', 'personable.\\\\n\\\\nI', 'did', 'the', 'huge', 'package', 'since', 'I', \"didn't\", 'renew', 'my', 'ASU', 'gym', 'membership', 'for', 'this', 'summer,', 'but', 'you', 'can', 'do', 'drop-in.', '\\\\n\\\\nNow', 'for', 'the', 'cliched', 'Yoga', 'Review', 'ending:', '\\\\n\\\\nNAMASTE!\"', \"'Figured\", 'it', 'is', 'time', 'to', 'write', 'a', 'review', 'after', 'going', 'here', 'for', 'quite', 'a', 'few', 'years', 'for', 'dinner', 'on', 'special', 'occasions', 'or', 'just', 'to', 'have', 'some', 'of', 'the', 'best', 'seafood', 'and', 'Bone', 'in', 'fillet', 'around.', '\\\\n\\\\nFirst', 'off', 'you', 'have', 'to', 'understand', 'that', 'the', 'cuts', 'are', 'top', 'quality', 'so', 'you', 'can', 'order', 'almost', 'any', 'steak', 'off', 'the', 'menus', 'and', 'be', 'dazzled', 'by', 'the', 'flavor,', 'which', 'is', 'fantastic', 'to', 'the', 'point', 'that', 'adding', 'anything', 'to', 'it', 'would', 'destroy', 'the', 'integrity', 'of', 'the', 'taste', 'as', 'is.\\\\n', 'I', 'mean', 'the', 'meat', 'is', 'perfection', 'on', 'a', 'plate', 'and', 'this', 'needs', 'no', 'other', 'explaining.\\\\n\\\\nIf', 'with', 'friends', 'or', 'even', 'your', 'significant', 'other', 'you', 'must', 'start', 'with', 'the', 'the', 'seafood', 'tower,', 'which', 'can', 'be', 'order', 'in', 'many', 'different', 'ways', 'to', 'match', 'your', 'appetite', 'and', 'likes.', 'When', 'presented', 'at', 'the', 'table', 'you', 'and', 'your', 'guests', 'will', 'be', 'blown', 'away', 'at', 'the', 'quality', 'of', 'the', 'seafood', 'and', 'rightly', 'so', 'as', 'it', 'is', 'brought', 'in', 'fresh', 'daily.\\\\n\\\\nThe', 'sides', 'are', 'too', 'awesome', 'in', 'their', 'taste', 'and', 'quality', 'and', 'i', 'suggest', 'the', 'Lobster', 'mash', 'or', 'the', 'Maestros', 'Mash', 'potatoes', 'neither', 'of', 'which', 'will', 'leave', 'you', 'hungry', 'in', 'their', 'own', 'right,', 'but', 'often', 'wanting', 'more', ':)', '\\\\n\\\\nWine', 'selection', 'is', 'great', 'and', 'the', 'atmosphere', 'is', 'top', 'notch,', 'but', 'topping', 'it', 'with', 'some', 'of', 'the', 'best', 'servers', 'in', 'town', 'makes', 'this', 'one', 'of', 'my', 'favorites', 'for', 'entertaining.', '\\\\n\\\\nyou', 'will', 'not', 'be', \"disappointed.'\", '\"I', \"can't\", 'describe', 'to', 'you', 'how', 'amazing', 'these', 'gourmet', 'adult', 'hot', 'pockets', 'taste!', 'They', 'literally', 'MELT', 'in', 'your', 'mouth-', 'a', 'few', 'of', 'my', 'favorites', 'are', 'the', 'Cajun', 'Chicken,', 'Dill', 'Salmon,', 'and', 'the', 'Stilton', '&', 'Steak---Bon', 'Appetit', 'everyone!', 'And', \"don't\", 'forget', 'about', 'the', 'all', 'day', 'everyday-$3', 'car', 'bombs(you', \"can't\", 'beat', 'that', 'price)', 'their', 'happy', 'hour', 'is', 'amazing,', 'too!\"', \"'So\", 'very', 'Portlandia', 'in', 'its', 'hipsterness', 'and', 'decor.', 'Premium', 'coffee', 'roasted', 'in-house,', 'in', 'the', 'middle', 'of', 'the', 'desert,', 'no', 'less!', 'Who', 'would', 'have', 'thunk', 'it.\\\\n\\\\nBaristas', 'were', 'profesh', 'and', 'friendly.', 'They', 'even', 'warmed', 'up', 'our', 'pastries', 'upon', 'request.', 'Perfectly', 'foamed', 'milk', 'and', 'fruity', 'noted', 'espresso.', 'I', 'hope', 'this', 'place', 'has', 'a', 'long', 'life', 'in', 'Scottsdale,', 'where', 'great', 'coffee', 'is', 'few', 'and', 'far', \"between.'\", \"'Awesome\", 'subs', 'clean', 'and', 'friendly', 'well', \"priced.'\", \"'I\", 'LOVE', 'Chic', 'Nails!\\\\n\\\\nI', 'used', 'to', 'go', 'to', 'Tip', '&', 'Toes', 'on', '48th', 'street', 'and', 'Ray', 'Road,', 'until', 'one', 'day', 'they', 'were', '\"too', 'busy\"', 'to', 'take', 'my', 'friend', 'and', 'I', 'in', 'for', 'pedicured.', 'We', 'discovered', 'Chic', 'Nails', 'and', 'have', 'been', 'doing', 'all', 'of', 'our', 'manicures', 'and', 'pedicures', 'there', 'since.', '\\\\n\\\\nThe', 'staff', 'is', 'extremely', 'friendly', 'and', 'they', 'give', 'the', 'best', 'pedicures', 'for', 'a', 'very', 'reasonable', 'price.', 'I', 'highly', 'recommend', 'this', 'nail', 'salon', 'over', 'any', 'other!\\\\n\\\\nP.S.', 'It', 'is', 'extremely', 'close', 'to', \"CK\\\\'s\", 'Bar', '&', 'Grill', 'to', 'go', 'for', 'happy', 'hour', 'after!', \":)'\", '\"After', 'the', 'Padres', 'Spring', 'Training', 'game,', 'we', 'had', 'reservations', 'at', 'Don', '&', \"Charlie's\", 'in', 'Scottsdale', '.', 'None', 'of', 'us', 'had', 'been', 'here', 'before', 'and', 'it', 'came', 'highly', 'recommended', 'by', 'my', 'dad.', 'As', 'soon', 'as', 'you', 'walk', 'into', 'Don', 'and', \"Charlie's\", 'your', 'eyes', 'start', 'feasting', 'on', 'all', 'the', 'signed', 'baseballs', 'down', 'the', 'left', 'wall.', 'Now', 'everywhere', 'you', 'look', 'from', 'floor', 'to', 'ceiling', 'and', 'even', 'the', 'ceiling', 'itself', 'is', 'covered', 'in', 'memorabilia', 'and', 'autographed', 'items', 'from', 'athletes', 'of', 'all', 'sports', 'and', 'other', 'celebrities.', 'Besides', 'the', 'amazing', 'assortment', 'of', 'sports', 'artifacts,', 'I', 'especially', 'like', 'the', 'Cactus', 'League', 'Beer', 'List', 'which', 'pairs', 'a', 'beer', 'with', 'each', 'city', 'that', 'has', 'a', 'team', 'in', 'the', 'Cactus', 'League.', 'Colorado', '=', 'Coors', 'Light', ',', 'Texas', '=Shiner', 'Bock,', 'Chicago', '=Old', 'Style,', 'and', 'San', 'Diego', '=Stone', 'IPA,', 'etc.', 'Also', 'worth', 'mentioning', 'is', 'the', 'complimentary', 'chopped', 'liver', 'platter', 'with', 'rye', 'bread', 'and', 'bagel', 'chips', 'they', 'bring', 'as', 'soon', 'as', 'you', 'are', 'seated.', 'I', 'had', 'the', 'ribs', 'with', 'coconut', 'shrimp', 'combo', 'which', 'was', 'great.', 'I', \"wasn't\", 'thrilled', 'with', 'the', 'side', 'dish:', \"potato's\", 'au', 'gratin', 'which', 'is', 'a', '$2.50', 'upcharge.', 'They', 'also', 'bring', 'a', 'huge', 'bowl', 'of', 'cole', 'slaw', 'with', 'each', 'entrée', 'or', 'you', 'can', 'choose', 'soup', 'which', 'comes', 'in', 'a', 'smaller', 'bowl', 'than', 'the', 'cole', 'slaw!', 'We', 'were', 'too', 'full', 'for', 'dessert', 'and', 'as', 'we', 'walked', 'out,', 'this', 'place', 'was', 'packed!', 'I', 'found', 'myself', 'trying', 'to', 'take', 'in', 'as', 'much', 'memorabilia', 'as', 'possible', 'and', 'then', 'on', 'one', 'side', 'of', 'the', 'crowded', 'lobby', 'there', 'sat', 'Willie', 'Mays', 'himself.', 'He', 'was', 'signing', 'his', 'book', '(or', 'a', 'baseball)', 'for', 'a', '$200', 'charitable', 'donation', 'to', 'his', 'foundation.', 'Needless', 'to', 'say,', 'I', \"'m\", 'not', 'bringing', 'home', 'any', 'memorabilia', 'myself!\"', \"'Best\", 'food,', 'super', 'friendly', 'staff,', 'and', 'great', 'prices.', 'Love', \"it!'\", '\"Christy', 'is', 'an', 'amazing', 'cake', 'artist.', 'She', 'has', 'an', 'impressive', 'portfolio', 'as', 'she', 'has', 'a', 'flair', 'for', 'creativity.', 'Her', 'cakes', 'are', 'amazing', 'and', 'are', 'truly', 'one-of-a-kind.', 'She', 'also', 'has', 'several', 'delicious', 'cake', 'flavors', 'to', 'choose', 'from', 'or', 'she', 'can', 'create', 'one', 'for', 'you.', 'She', 'has', 'made', 'several', 'cakes', 'for', 'our', 'family', 'and', 'I', 'have', 'been', 'impressed', 'with', 'everyone', 'of', 'them.', 'I', 'was', 'also', 'excited', 'to', 'see', 'her', 'compete', 'on', \"TLC's\", 'Ultimate', 'Cake', 'Off', 'show', 'early', 'this', 'spring.', 'If', \"you're\", 'looking', 'for', 'a', 'sculpted', 'cake', 'or', 'one', 'that', 'will', 'be', 'the', 'center', 'of', 'attention', 'at', 'your', 'next', 'party,', 'then', 'I', 'recommend', 'you', 'call', 'Phoenix', 'Cake', 'Company.\"', '\"After', 'driving', 'down', 'a', 'teeny', 'dimly', 'lit', 'road', 'and', 'coming', 'across', 'what', 'looked', 'like', 'a', 'medical', 'office', 'building', 'in', 'the', \"60's,\", 'my', 'husband', 'and', 'I', 'found', 'the', 'amazing', 'Fuego', 'Bistro.', 'We', 'had', 'a', 'perfect', 'meal', 'there.', 'Amazing', 'ambiance,', 'twinkly', 'lights', 'in', 'the', 'courtyard,', 'live', 'musician.', 'Great', 'wine.', 'Food', 'was', 'so', 'unique', 'and', 'delicious-', \"I'd\", 'describe', 'it', 'as', 'Southern-Spanish', 'fusion.', 'This', 'meal', 'was', 'the', 'highlight', 'of', 'our', 'trip', 'to', 'Phoenix.', '\\\\n\\\\nIf', 'you', 'live', 'in', 'Phoenix,', 'you', 'have', 'no', 'excuse', 'to', 'not', 'come', 'here.', 'I', 'live', 'in', 'Chicago', 'and', \"I'm\", 'sure', \"I'll\", 'be', 'back.\"', '\"It\\'s', 'just', 'like', 'pizza', 'bianco', 'without', 'the', 'wait.', 'This', 'pizza', 'is', 'a', '9.9999', 'and', 'bianco', 'is', 'a', '10.', 'This', 'place', 'has', 'a', 'much', 'larger', 'menu', 'and', 'their', 'deserts', 'are', 'to', 'die', 'for.', '\\\\n\\\\nIf', 'bianco', 'has', 'more', 'then', 'a', '30', 'min', 'wait', 'just', 'drive', 'and', 'or', 'walk', 'here.\"', '\"As', 'mentioned', 'earlier,', 'the', 'best', 'thing', 'about', 'this', 'place', 'is', 'the', 'super', 'cheap,', 'but', 'super', 'delicious', 'lunch', 'bentos.', 'You', 'get', 'a', 'main', 'dish,', 'rice,', 'salad,', 'and', 'an', 'orange', 'for', 'under', '$4.', 'If', \"that's\", 'not', 'enough,', 'you', 'can', 'get', 'double', 'meat', 'for', 'a', 'buck', 'or', 'two', 'more.', 'I', 'highly', 'recommend', 'the', 'ginger', 'pork', 'or', 'the', 'katsu.', 'My', 'friend', 'I', 'normally', 'go', 'with', 'is', 'a', 'big', 'fan', 'of', 'the', 'white', 'fish', '(fried', 'or', 'grilled).', 'The', 'sushi', 'here', \"isn't\", 'bad.', \"It's\", 'nothing', 'super', 'special,', 'but', 'I', \"don't\", 'come', 'here', 'for', 'the', 'sushi', 'so', \"it's\", 'not', 'a', 'big', 'knock', 'against', 'the', 'place.\\\\n\\\\nAs', 'they', 'would', 'say', 'on', 'ebay:', 'A+++', 'Great', 'Seller!', 'Would', 'eat', 'here', 'again!!!\"', \"'twas\", 'the', 'night', 'before', 'booyah\\\\nand', 'all', 'the', 'through', 'the', 'city\\\\npeople', 'were', 'piecing', '\\\\nsome', 'pretty', 'shitty\\\\ncostumes', 'together\\\\nat', 'savers,', 'good', 'will\\\\ngeorge', 'w', 'bush\\\\nclintons,', 'bill', 'and', 'hill\\\\njay-z', '&', 'beyonce\\\\nbiden', 'and', 'obama\\\\neven', 'saw', 'kanye\\\\noprah,', 'super', 'mamma\\\\nyep,', 'octomom\\\\nbrad', 'pitt', '&', 'jolie\\\\nand', 'men', 'as', 'madonna\\\\nand', 'lynn', 'sue', 'cooney', '\\\\ni', 'went', 'to', \"Easley\\\\'s\\\\nto\", 'see', 'what', 'they', 'had\\\\nof', 'course,', 'it', 'was', 'madness\\\\nevery', 'kid,', 'mom', 'and', 'dad\\\\ncrammed', 'into', 'the', 'isles\\\\npulling', 'on', 'wigs\\\\nvampire', 'masks\\\\nand', 'noises', 'of', 'pigs\\\\nall', 'being', 'assisted', '\\\\nby', 'the', 'yellow', \"tee\\\\'d\", 'staff\\\\nso', 'very', 'helpful\\\\nno', 'panic,', 'just', 'laughs\\\\n\"yes', 'we', 'have', 'liberace\\\\nin', 'fact,', 'we', 'have', 'two\\\\ntry', 'both', 'of', 'them', \"on\\\\ni\\\\'ll\", 'grab', \"\\\\'em\", 'for', 'you\"\\\\nthey', 'found', 'me', 'a', 'boa\\\\na', 'wig', 'and', 'make', 'up\\\\ntook', 'just', 'fifteen', 'minutes\\\\ncase', 'opened', 'and', 'shut\\\\nand', 'all', 'around', 'me\\\\nthis', 'repeated', 'itself\\\\nthe', 'people', 'rolled', 'in\\\\npleased', 'people', 'rolled', 'out\\\\ninto', 'the', 'darkness\\\\nparties', 'around', 'town\\\\nwonder', 'how', 'many\\\\nwere', 'out', \"gettin\\\\'\", 'down\\\\nin', 'get', 'ups', 'from', \"Easley\\\\'s\\\\ni\\\\'m\", 'guessing', 'a', 'ton\\\\nso', 'check', 'out', 'Bert', \"Easley\\\\'s\\\\nmake\", 'up,', 'magic,', 'fun\\\\nbright', 'yellow', 'building\\\\nsouth', 'side', 'of', 'mcdowell\\\\nsince', 'nineteen', 'sixty', \"four\\\\nmakin\\\\'\", 'halloween,', \"howl'\", \"'Took\", 'my', \"fiance\\\\'\", 'there', 'for', \"Valentine\\\\'s\", 'day/', 'Birthday.', 'I', 'did', 'a', 'lot', 'of', 'research', 'of', 'romantic', 'places', 'around', 'the', 'Valley,', 'and', 'this', 'one', 'really', 'caught', 'my', 'eye.', 'Immediately', 'after', 'walking', 'through', 'the', 'door,', \"you\\\\'ll\", 'notice', 'a', 'dark', 'and', 'romantic', 'ambiance', 'with', 'a', 'lot', 'of', 'candle', 'light.', 'Seating', 'is', 'a', 'bit', 'tight,', 'but', 'it', \"wasn\\\\'t\", 'bad', 'enough', 'for', 'me', 'to', 'give', 'it', 'a', 'lower', 'review.', 'We', 'began', 'with', 'an', 'appetizer', 'called', '\"Table', 'side', 'guacamole\"', 'which', 'was', 'incredible', 'to', 'say', 'the', 'least.', 'It', 'literally', 'is', 'made', 'in', 'front', 'of', 'your', 'table.', 'Then', 'it', 'was', 'onto', 'the', 'main', 'dish...', 'Build-your-own', 'Pork', 'tacos.', 'Talk', 'about', 'tender', 'meat!!', 'The', 'shoulder', 'of', 'pork', 'literally', 'fell', 'right', 'off', 'onto', 'the', 'fork.', 'The', 'tortillas', 'were', 'exceptional,', 'and', 'so', 'was', 'the', 'tasty', 'sauce', 'which', 'included', 'pineapple', 'glaze.', 'So,', 'the', 'food', 'was', 'absolutely', 'delicious...but', 'the', 'service', 'was', 'equally', 'impressive.', 'My', 'water', 'level', 'never', 'reached', 'the', 'bottom', 'of', 'the', 'glass', 'the', 'entire', 'night,', 'and', 'I', 'drink', 'plenty!', 'Everyone', 'was', 'incredibly', 'nice', 'and', 'cheerfully', 'said', '\"Happy', \"Valentine\\\\'s\", 'Day!\"', 'and', '\"Happy', 'Birthday!\"', 'to', 'my', \"fiance\\\\',\", 'which', 'made', 'the', 'experience', 'even', 'better.', 'A', 'fantastic', 'place', 'that', \"I\\\\'ll\", 'have', 'no', 'problem', 'recommending', 'to', 'others', 'to', \"visit!'\", '\"I', 'have', 'had', 'a', 'great', 'experience', 'every', 'time', 'I', 'have', 'been', 'there.', 'The', 'food', 'is', 'hard', 'to', 'beat', 'and', 'the', 'service', 'was', 'pleasant.', '\\\\n\\\\nPortions', 'are', 'reasonable,', 'not', 'huge', \"(I'm\", 'a', 'big', 'feller),', 'and', 'I', 'was', 'satified', 'every', 'time', 'I', 'ate', 'there.', '\\\\n\\\\nVery', 'pleasant', 'environment,', 'clean,', 'spacious', 'and', 'calm.\"', '\"I', 'love', 'this', 'restaurant!!', 'I', 'have', 'been', 'a', 'fan', 'of', 'the', 'Newport', 'Beach', 'location', 'for', 'years.', 'Scottsdale', 'definitely', 'did', 'not', 'disappoint!', 'The', 'staff', 'is', 'friendly', 'and', 'knowledgeable.', 'The', 'drinks', 'are', 'fresh', '(worth', 'the', 'extra', 'wait', 'for', 'the', 'tasty', 'Cucumber', 'Jalapeño', 'marg).', 'And', 'the', 'food?', 'Goes', 'without', 'saying,', \"it's\", 'CRAVE', 'worthy.', 'This', 'is', 'a', 'new', 'location,', 'so', 'I', 'expected', 'the', 'usual', 'growing', 'pains.', 'But', 'overall,', 'a', 'great', 'dining', 'experience.', 'Welcome', 'to', 'the', 'neighborhood,', 'SOL', 'Cocina!\"', \"'That\", 'darn', 'Smokehouse', 'burger', 'is', 'awesome.', '5', 'stars.', '\\\\n\\\\nThe', 'smoked', 'corn', 'was', 'a', 'little', 'Meh...', 'it', 'was', 'oily', 'like', 'not', 'butter', 'oily...', 'not', 'a', 'huge', 'fan', 'of', 'the', 'texture', 'either.', 'I', 'like', 'corn', 'crunchy', 'and', 'it', 'was', 'not.', '\\\\n\\\\nService', 'was', 'great.', '\\\\n\\\\nI', 'did', 'see', 'an', 'unmentionable', 'bug', 'running', 'around', 'near', 'the', 'back', 'entrance', 'towards', 'the', 'chicken', 'rotisserie', 'thing,', 'but', 'bugs', 'have', 'to', 'eat', 'too', 'right?', '(still', '5', 'stars', \"lol)'\", \"'Very\", 'friendly', 'and', 'knowledgeable', \"guys.'\", '\"I', 'have', 'been', 'here', 'several', 'times', 'now', 'and', 'have', 'never', 'had', 'a', 'bad', 'experience', 'yet.', 'Good', 'food,', 'good', 'service;', 'no', 'complaints.', 'Still', 'have', 'never', 'made', 'it', 'here', 'for', 'happy', 'hour,', 'but', 'their', 'specials', 'during', 'that', 'time', 'seem', 'like', 'quite', 'a', 'deal.', 'The', 'staff', 'are', 'always', 'friendly', 'and', 'seem', 'to', 'remember', 'us', 'from', 'one', 'visit', 'to', 'another.', \"I've\", 'only', 'ever', 'eaten', 'sushi', 'here,', 'but', 'they', 'have', 'a', 'lot', 'of', 'other', 'menu', 'items', 'that', 'I', 'would', 'like', 'to', 'try', 'at', 'some', 'point,', 'but', 'I', 'always', 'turn', 'to', 'the', 'sushi', 'as', 'it', 'has', 'always', 'been', 'good', 'and', 'fresh.', 'I', 'would', 'recommend', 'trying', 'this', 'restaurant.\"', \"'I\\\\'m\", 'from', 'Chicago', 'so', \"I\\\\'m\", 'picky', 'with', 'my', 'pizza--this', 'place', 'does', 'it', 'right', '(NY', 'style)!', 'I', 'love', 'the', '\"hole', 'in', 'the', 'wall\"', 'feel.', 'Every', 'customer', 'that', 'walked', 'in', 'was', 'a', 'regular', 'which', 'was', 'a', 'good', 'sign.', 'I', 'ordered', 'the', 'Mozzarella', 'sticks', 'and', 'a', 'large', 'Monster', 'Pie', '(Sausage,', 'pepperoni,', 'bell', 'peppers,', 'onion', 'and', 'cheese).', 'The', 'mozzarella', 'sticks', 'took', 'a', 'little', 'while', 'to', 'come', 'out', 'but', 'they', 'were', 'cooked', 'to', 'perfection.', 'They', 'also', 'threw', 'in', 'a', 'few', 'garlic', 'knots', 'which', 'was', 'awesome.', 'The', 'pizza', 'was', 'unbelievable--I', 'think', 'the', 'crumbled', 'sausage', 'really', 'did', 'it!', 'They', 'have', 'great', 'deals', 'like', 'large', 'pie', '&', '20', 'wings', 'for', '$20', 'which', 'I', 'definitely', 'will', 'be', 'taking', 'advantage', 'of', 'during', 'football', 'games', 'on', 'Sunday.', 'Glad', 'to', 'have', 'found', 'a', 'new', 'place', 'where', 'I', 'can', 'also', 'be', 'a', \"regular!'\", '\"Perhaps', 'it', 'was', 'foolish', 'for', 'me', 'to', 'give', 'La', 'Condesa', 'only', 'four', 'stars', 'at', 'first,', 'given', 'the', 'fact', 'that', 'I', 'really', 'liked', 'it.', 'What', 'can', 'I', 'say?', \"I'm\", 'critical', 'by', 'nature.', 'I', 'knew', 'I', 'was', 'going', 'back', 'soon,', 'so', 'I', 'felt', 'like', 'I', 'had', 'to', 'save', 'the', 'last', 'for', 'a', 'return', 'visit.', 'Well,', 'it', 'just', 'got', 'it.\\\\n\\\\nThis', 'place', 'is', 'fantastic.', 'In', 'fact,', 'if', 'CenPho', 'lets', 'this', 'one', 'go', 'under,', 'I', 'will', 'personally', 'hold', 'all', 'of', 'you', 'responsible;', 'watch', 'out', 'for', 'a', \"citizen's\", 'arrest', 'if', 'I', 'ever', 'see', 'you.', 'However,', 'that', 'is', 'unlikely', 'to', 'happen,', 'because', 'the', 'food', 'is', 'damn', 'tasty.', '\\\\n\\\\nToday,', 'the', 'Oaxaca', 'black', 'mole', 'chicken', 'taco', 'had', 'me', 'swooning,', 'topped', 'with', 'pickled', 'onions;', 'the', 'chicken', 'is', 'tender', 'and', 'simmered', 'in', 'the', 'lovely', 'sauce.', 'The', 'Soronan', 'carne', 'asada', 'taco,', 'char-grilled', 'over', 'mesquite', 'charcoal', 'is', 'no', 'slouch', 'either;', \"I'd\", 'rate', 'it', 'right', 'up', 'there', 'with', 'some', 'of', 'my', 'favorites', 'in', 'town.', '\\\\n\\\\nGo', 'to', 'this', 'place;', 'I', 'have', 'a', 'feeling', \"I'll\", 'be', 'here', 'at', 'least', 'weekly.', 'When', 'and', 'if', 'they', 'ever', 'get', 'a', 'beer/liquor', 'license...probably', 'more.\"', \"'Great\", 'place', 'for', 'brunch', 'or', 'to', 'relax', 'with', 'a', 'coffee.', 'Their', 'hot', 'chocolate', 'is', \"amazing.'\", '\"Hands', 'down', 'the', 'best', 'breakfast', \"I've\", 'ever', 'had,', 'anywhere.', 'It', 'definitely', 'feels', 'like', 'home', 'cooked', 'breakfast.', \"I've\", 'never', 'been', 'to', 'this', 'place', 'on', 'the', 'weekend', 'when', 'it', \"isn't\", 'packed', 'out', 'the', 'door.', \"I'm\", 'not', 'the', 'only', 'person', 'that', 'loves', 'this', 'place!\"', \"'This\", 'place', 'is', 'fantastic!\\\\n\\\\nWe', 'went', 'in', 'on', 'Sunday', 'the', '29th', 'of', 'July', 'around', '5:00pm.', 'The', 'guy', 'behind', 'the', 'counter', 'told', 'us', 'to', 'enjoy', 'ourselves,', 'take', 'our', 'time,', 'ask', 'if', 'we', 'had', 'any', 'questions.', 'We', 'wandered', 'around', 'for', 'a', 'bit,', 'I', 'found', 'a', 'bottle', 'of', 'Argyle', 'bubbly', 'that', 'I', 'wanted,', 'and', 'then', 'began', 'to', 'stare', 'with', 'lust', 'in', 'my', 'eyes', 'at', 'the', 'selection', 'of', 'Absinthe.', '\\\\n\\\\nGirlfriend', 'wandered', 'over', 'to', 'ask', 'the', 'guy', 'to', 'recommend', 'a', 'white', 'that', \"wasn\\\\'t\", 'a', 'Chard', 'as', 'we', 'both', 'really', \"don\\\\'t\", 'like', 'buttery', 'oak', 'anything.', 'He', 'took', 'a', 'few', 'cues', 'from', 'her,', 'and', 'found', 'a', 'great', 'bottle', 'of', 'white', 'which', 'we', 'drank', 'with', 'great', 'glee', 'last', 'night.', '\\\\n\\\\nThis', 'was', 'a', 'test', 'for', 'the', 'guy', 'behind', 'the', 'counter.', 'She', \"didn\\\\'t\", 'set', 'a', 'price', 'limit,', 'just', 'said', '\"show', 'me', 'your', 'favorite.\"', 'He', 'could', 'have', 'done', 'what', 'many', 'others', 'have', 'in', 'the', 'past', 'and', 'shown', 'us', 'a', '$50', 'bottle,', 'but', 'instead', 'he', 'showed', 'us', 'a', 'kick', 'ass', 'bottle', 'at', 'the', '$14', 'price', 'point.', 'This', 'is', 'the', 'mark', 'of', 'a', 'good', 'wine', 'seller.', 'Find', 'you', 'what', 'you', 'want', 'without', 'bending', 'you', 'over', 'on', 'the', 'price.', 'Yes,', 'sometimes', 'I', 'want', 'to', 'spend', '$400', 'a', 'bottle,', 'but', 'not', 'all', 'that', 'often.', \"I\\\\'d\", 'rather', 'get', 'my', 'drink', 'on', 'at', 'the', 'price', 'he', 'found,', 'and', 'he', 'turned', 'us', 'onto', 'a', 'white', 'we', 'both', 'REALLY', 'liked,', 'which', 'is', 'super', 'rare', 'as', 'we', 'have', 'very', 'different', \"tastes.\\\\n\\\\nWe\\\\'ll\", 'absolutely', 'be', 'going', 'back', 'to', 'buy', 'more', 'fermented', 'grape', 'from', 'this', 'place!\\\\n\\\\nPrices', 'are', 'on', 'par', 'with', 'Total', 'Wine,', 'but', 'what', \"you\\\\'re\", 'really', 'paying', 'for', 'is', 'the', 'help', 'of', 'someone', 'who', 'knows', 'what', 'they', 'sell', 'and', 'likes', 'their', 'job.', 'Great', 'job', \"Sportsman\\\\'s,\", 'see', 'you', 'next', 'Sunday', 'for', 'afternoon', \"drinking!'\", \"'Recently\", 'moved', 'back', 'to', 'Mesa,', 'I', 'have', 'been', 'on', 'the', 'hunt', 'for', 'a', 'place', 'to', 'get', 'a', 'good', 'sandwich', 'and', 'fresh', 'bread.', 'This', 'place', 'now', 'tops', 'my', 'list', 'of', 'places', 'in', 'the', 'East', 'Valley', 'to', 'get', 'a', 'good', 'sandwich.', 'My', 'first', 'sandwich', 'was', 'the', 'Atlantic', 'Haddock', 'Provencal.', 'A', 'sandwich', 'made', 'with', 'seared,', 'lightly', 'breaded', 'haddock,', 'sliced', 'hard-boiled', 'egg,', 'fresh', 'basil,', 'romaine', 'lettuce,', 'tomato,', 'Provencal', 'tartar', 'sauce', 'on', 'a', 'grilled', 'Brioche', 'roll.', 'The', 'brioche', 'was', 'amazing.', 'It', 'was', 'light', 'and', 'fluffy.', 'The', 'haddock', 'was', 'perfectly', 'cooked', 'with', 'just', 'the', 'right', 'amount', 'of', 'breading,', 'and', 'the', 'vegetables', 'were', 'fresh', 'and', 'in', 'perfect', 'proportions', 'as', 'to', 'not', 'overpower', 'the', 'bread', 'and', 'haddock.', 'Sometimes', 'when', 'you', 'go', 'to', 'a', 'sandwich', 'shop', 'they', 'overload', 'it', 'with', 'everything', 'else', 'that', 'the', 'meat', 'and', 'bread', 'are', 'just', 'there', 'to', 'accessorize', 'the', 'vegetables', 'and', 'sauce.', 'This', 'was', 'perfectly', 'done.', 'The', 'atmosphere', 'is', 'pleasant', 'and', 'open', 'with', 'nice', 'music', 'as', 'the', 'light', 'smell', 'of', 'fresh', 'bread', 'in', 'the', 'background', 'salivates', 'me.', 'This', 'is', 'a', 'must-visit', 'lunch', 'time', 'destination.', 'Dinner', 'review', \"shortly.'\", \"'What\", 'a', 'wonderful', 'night.', 'It', \"didn\\\\'t\", 'start', 'out', 'that', 'way.', 'I', 'found', 'this', 'restaurant', 'on', 'yelp,', 'not', 'realizing', 'that', 'it', 'was', 'sixteen', 'miles', 'from', 'the', 'hotel', 'my', 'wife', 'and', 'i', 'were', 'staying', 'at.', 'I', 'heard', 'the', 'grief', 'all', 'the', 'way', 'there.', '\"Come', 'on', 'honey,', \"it\\\\'s\", 'an', 'adventure!\".', '\\\\n\\\\nWe', 'arrived,', 'and', 'were', 'greeted', 'warmly', 'and', 'shown', 'right', 'to', 'our', 'table.', 'Zach,', 'our', 'waiter,', 'was', 'right', 'there', 'to', 'offer', 'us', 'drinks', 'and', 'appetizers.', 'We', 'had', 'the', 'Summer', 'Rolls', 'and', 'they', 'were', 'delicious!', '\\\\n\\\\nI', 'explained', 'to', 'Zach', 'that', 'I', 'was', 'allergic', 'to', 'wheat', 'and', 'he', 'brought', 'us', 'a', 'special', '\"gluten', 'free\"', 'menu', 'the', 'owner', 'had', 'created', 'for', 'those', 'of', 'us', 'who', 'are', 'allergic', 'to', 'wheat.', 'Zach', 'even', 'brought', 'us', 'some', 'special', 'wheat-free', 'dipping', 'sauce', 'for', 'the', 'Summer', 'rolls.', 'He', 'showed', 'great', 'care,', 'provided', 'great', 'customer', 'service,', 'and', 'the', 'sauce', 'was', 'delicious!\\\\n\\\\nThe', 'portions', 'were', 'good', 'sized', 'and', 'the', 'presentation', 'was', 'beautiful.', 'But', 'the', 'wonderful', 'tastes', 'and', 'personal', 'service', 'made', 'the', 'night', 'special.', 'Oh,', 'the', 'bathrooms', 'were', 'clean', 'too.', 'Thanks', 'Zach,', 'and', 'thanks', \"Malee\\\\'s.\", 'It', 'was', 'a', 'great', 'night', 'my', 'wife', 'and', 'I', 'look', 'forward', 'to', 'repeating.', '(Yes,', 'she', 'admitted', 'after', 'dinner', 'that', 'the', 'drive', 'was', 'worth', \"it.)'\", '\"I', 'am', 'a', 'way', 'more', 'frequent', 'visitor', 'of', 'the', 'bell', 'rd', 'location,', 'but', 'sometimes', 'I', 'have', 'to', 'travel', 'downtown', 'for', 'work.', 'When', 'I', 'do,', 'I', 'make', 'my', 'route', 'pass', 'by', 'this', 'place', 'because', 'I', 'have', 'to', 'have', 'dutch', 'bros.', 'The', 'guys', 'at', 'the', 'bell', 'location', 'are', 'pretty', 'familiar', 'with', 'me', 'by', 'now', 'but', 'these', 'guys', 'still', 'treat', 'you', 'as', 'if', 'you', 'are', 'there', 'best', 'customer.', 'And', \"it's\", 'the', 'best', 'coffee', \"I've\", 'ever', 'had.\"', \"'Even\", 'more', 'great', 'news....on', 'Tuesdays', 'there', 'is', 'a', 'special', 'of', '35c', 'per', 'ounce.', 'Not', 'that', 'I', 'needed', 'another', 'incentive...but', 'this', 'is', \"GREAT.'\", '\"Where', 'to', 'begin?\\\\n\\\\nThis', 'is', 'my', 'favorite', 'Mexican', 'food', 'establishment', 'ever.', \"I've\", 'been', 'frequenting', \"Carolina's\", 'for', 'years', 'and', 'never', 'once', 'have', 'I', 'been', 'disappointed.', 'Some', 'might', 'compare', 'it', 'to', \"Filiberto's\", 'or', 'any', 'of', 'those', '[insert', 'surname', \"here]berto's\", 'but', 'this', 'is', 'on', 'a', 'whole', 'different', 'level.\\\\n\\\\nAtmosphere-wise', \"it's\", 'one', 'step', 'above', 'a', 'sketchy', 'hole-in-the-wall', 'but', 'the', 'food', 'makes', 'up', 'for', 'everything', 'the', 'appearance', 'of', 'the', 'place', 'lacks.', 'I', \"don't\", 'know', 'their', 'secret', 'but', 'their', 'beans,', 'the', 'tortillas,', 'the', 'salsa...', \"it's\", 'all', 'to', 'die', 'for.', 'And', \"IT'S.\", 'SO.', 'CHEAP.', 'Like,', 'seriously,', \"I'd\", 'dish', 'out', 'more', 'money', 'for', 'this', 'food', 'but', 'the', 'fact', 'that', 'it', 'really', 'is', 'that', 'cheap', 'is', 'the', 'icing', 'on', 'the', 'cake.', \"\\\\n\\\\nIt's\", 'almost', 'always', 'busy', 'but', \"it's\", 'always', 'worth', 'the', 'wait.', 'Always.\\\\n\\\\nIf', 'you', \"haven't\", 'gone...', \"you're\", 'missing', 'out.\"', '\"I', 'just', 'got', 'back', 'from', 'an', 'Arizona', 'spring', 'training', 'vacation,', 'and', 'one', 'of', 'the', 'highlights', 'was', 'definitely', 'the', 'Desert', 'Botanical', 'Gardens.', 'We', 'came', 'really', 'close', 'to', 'skipping', 'on', 'a', 'visit', 'altogether', 'because', 'it', 'was', '5:00pm,', 'but', 'decided', 'to', 'give', 'it', 'a', 'shot...it', 'was', 'worth', 'it!', 'I', 'was', 'a', 'little', 'disappointed', 'that', 'the', 'Butterfly', 'Pavillion', 'had', 'closed', 'for', 'the', 'day', 'at', '5:00pm,', 'and', 'several', 'walking', 'areas', 'were', 'being', 'used', 'for', 'weddings/receptions', '(who', 'could', 'blame', 'these', 'people??)', 'but', 'still', 'got', 'to', 'see', 'a', 'lot', 'of', 'beautiful', 'desert', 'plants', 'and', 'wildlife.', 'We', 'managed', 'to', 'get', 'in', 'for', 'free,', 'not', 'sure', 'if', 'it', 'was', 'because', 'of', 'the', 'time', 'of', 'the', 'day', 'or', 'all', 'the', 'people', 'just', 'walking', 'in', 'for', 'the', 'weddings', 'though,', 'which', 'totally', 'made', 'the', 'park', 'that', 'much', 'more', 'fun.', 'I', 'am', 'not', 'sure', 'I', 'would', 'have', 'gotten', 'as', 'much', 'enjoyment', 'out', 'of', 'it', 'if', \"I'd\", 'had', 'to', 'pay', '$5', 'to', 'get', 'in...\\\\n\\\\nThe', 'little', 'desert', 'rat-sqirrels,', 'and', 'rabbits', 'were', 'totally', 'fun', 'to', 'try', 'to', 'find', 'hiding', 'in', 'the', 'many', 'different', 'plants', 'and', 'burrows.', 'I', 'felt', 'like', 'a', 'little', 'kid', 'ooh-ing', 'and', 'ah-ing', 'at', 'the', 'different', 'varieties', 'of', 'cacti', 'and', 'desert', 'wildflowers,', 'and', 'have', 'to', 'give', 'this', 'place', 'the', 'ultimate', 'rating', '.', 'If', \"you're\", 'ever', 'in', 'Arizona,', 'please', 'give', 'this', 'place', 'a', 'try,', \"it's\", 'very', 'well', 'put', 'together', 'and', 'a', 'beautiful', 'site', 'to', 'see.\"', '\"Being', 'Indian,', 'and', 'having', 'grown', 'up', 'in', 'London,', 'I', 'have', 'been', 'pretty', 'spoilt', 'for', 'Indian', 'food.', 'Imagine', 'my', 'dismay', 'when', 'I', 'moved', 'to', 'Phoenix!', \"I've\", 'tried', 'many', 'different', 'places', 'here', 'in', 'town', 'desperately', 'trying', 'to', 'recapture', 'the', 'memory', 'of', 'a', 'good', 'London', 'curry', 'house', 'but', 'each', 'time', \"I've\", 'left', 'either', 'disappointed', 'or', 'clutching', 'my', 'guts', 'fearing', 'what', 'may', 'come.\\\\n\\\\nCouple', 'of', 'friends', 'introduced', 'me', 'to', 'this', 'place', 'a', 'few', 'months', 'ago', 'and', \"I'm\", 'stoked.', \"It's\", 'not', 'as', 'good', 'as', 'the', 'stuff', 'back', 'home.', 'And', \"I'm\", 'sure', 'you', 'can', 'get', 'better', 'in', 'San', 'Francisco', 'or', 'New', 'York.', 'But', 'if', 'you', 'are', 'looking', 'for', 'something', 'closer', 'to', 'home', 'you', \"can't\", 'go', 'wrong.\\\\n\\\\nPlus', 'its', 'got', 'the', 'real', 'live', 'Indians', 'eating', 'in', 'there', 'too.', \"Can't\", 'be', 'bad!!\"', \"'Gaylee\", 'is', 'great!', 'She', 'is', 'super', 'sweet', 'and', 'so', 'professional!', 'Her', 'work', 'is', 'amazing.', 'I', 'found', 'her', 'through', 'one', 'of', 'those', 'online', 'deals', 'and', 'now', 'I', 'am', 'convinced', 'that', 'I', 'will', 'never', 'go', 'elsewhere.', 'Keep', 'up', 'the', 'great', \"work!'\", \"'The\", 'praise', 'and', 'worship', 'with', 'Pastor', 'BJ', 'just', 'sets', 'up', 'a', 'God', 'Filled', 'service', 'with', 'the', 'charismatic', 'and', 'awesome', 'Pastor', 'Maiden', '...', 'Going', 'the', 'Past', '18', 'months', 'has', 'made', 'our', 'Marriage', 'Stronger', 'and', 'Faith', \"Magical'\", \"'I\", 'come', 'here', 'probably', 'at', 'least', 'once', 'a', 'week.', 'The', 'prices', 'are', 'right,', \"there\\\\'s\", 'a', 'good', 'variety', 'of', '\"ethnic\"', 'food,', 'the', 'cashiers', 'are', 'quick', 'and', 'friendly,', 'and', \"they\\\\'re\", 'just', 'helpful.', 'I', 'locked', 'myself', 'out', 'of', 'my', 'car', 'when', 'having', 'a', 'space-cadet', 'moment', 'and', 'they', 'let', 'me', 'use', 'their', 'phone', 'to', 'call', 'AAA', 'to', 'bail', 'me', 'out.', '\\\\n\\\\nFresh', 'flowers', '+', 'great', 'selection', 'of', 'wine', 'and', 'cheese', '+', 'all', 'the', 'essentials', '\\\\n\\\\nThey', 'deal', 'is', 'that', 'they', 'cut', 'out', 'the', 'middle', 'man', 'to', 'get', 'great', 'prices', 'for', 'quality', 'products', 'and', 'they', \"don\\\\'t\", 'have', 'sales', 'because', 'they', 'always', 'sell', 'their', 'products', 'at', 'the', 'best', 'price', 'possible.', '=)', 'GO', \"TJ\\\\'S!'\", '\"I', 'have', 'only', 'gotten', 'the', 'cafe', 'sua', 'da', '(iced', 'coffee)', 'here', 'but', \"it's\", 'the', 'best', 'I', 'have', 'had', 'yet.', 'When', 'you', 'walk', 'in', 'there', 'is', 'always', 'fresh', 'coffee', 'lined', 'up', 'in', 'cups', 'on', 'the', 'counter', 'ready', 'to', 'be', 'mixed', 'with', 'sweetened', 'condensed', 'milk.', 'I', \"don't\", 'get', 'to', 'Mesa', 'often', 'but', 'when', 'I', 'do', 'I', 'go', 'here', 'for', 'the', 'wonderful,', 'rich,', 'dark', 'and', 'creamy', 'coffee.', 'This', 'is', 'strong', 'stuff;', 'that', 'first', 'sip', 'is', 'so', 'good.', 'The', 'richness,', 'full', 'flavor,', 'creamy', 'caramel', 'flavors', 'are', 'heavenly.', 'And', 'as', 'the', 'ice', 'melts,', 'it', 'mellows', 'out', 'the', 'flavor', 'a', 'little', 'and', \"it's\", 'still', 'great.', 'I', \"can't\", 'say', 'I', 'have', 'had', 'all', 'the', 'cafe', 'sua', 'da', 'in', 'the', 'valley,', 'but', 'what', 'I', 'have', 'had;', 'this', 'is', 'my', 'favorite.', '\\\\n\\\\nNext', 'time', 'I', 'come', 'to', 'Mesa', 'for', 'work', 'I', 'will', 'need', 'to', 'come', 'at', 'lunch', 'time', 'so', 'I', 'can', 'try', 'the', 'pho.\"', \"'Hippies\", 'scare', 'me.', 'So', 'in', 'my', 'preparation', 'to', 'go', 'to', 'this', 'place', 'I', 'ordered', 'Xanax', 'from', 'an', 'on-line', 'Canadian', 'pharmacy,', 'which', 'I', 'have', 'been', 'taking', 'for', 'three', 'days', 'now.', 'Bought', 'a', 'tazer', 'from', 'Spy', 'Headquarters', 'in', 'case', 'one', 'of', 'them', 'tries', 'to', 'hold', 'me', 'down', 'and', 'pours', 'patchouli', 'oil', 'on', 'me.', 'The', 'fifth', 'of', 'gin', 'that', 'I', 'slammed', 'in', 'the', 'parking', 'lot', 'really', 'helped', 'with', 'that', 'last', 'bit', 'of', 'extra', 'courage', 'that', 'I', 'needed', 'to', 'partake', 'my', 'journey', 'into', 'hippie-land.\\\\n\\\\nIt', 'was', 'all', 'for', 'nothing.', 'No', 'hippies', 'around,', 'just', 'a', 'teenager', 'behind', 'the', 'counter.', 'This', 'place', 'is', 'tiny', 'and', 'the', 'counters', 'are', 'about', 'at', 'mouth', 'level.', 'I', \"don\\\\'t\", 'know', 'how', 'anyone', 'under', '7\\\\\\'6\"', 'could', 'easily', 'eat', 'off', 'of', 'them.', '\\\\n\\\\nAnyways', 'for', '$5', 'flat,', 'you', 'get', 'a', 'kick', 'ass', 'burger,', 'a', 'school', 'lunch', 'bag', 'half', 'full', 'of', 'well', 'seasoned', 'skin-on', 'fries,', 'and', 'a', 'can', 'of', 'soda.', \"It\\\\'s\", 'true', 'that', 'the', 'fries', 'could', 'have', 'been', 'a', 'bit', 'more', 'crispy', 'but', 'they', 'tasted', 'so', 'good', 'I', 'got', 'over', 'it', 'real', \"quick.\\\\n\\\\nI\\\\'d\", 'be', 'afraid', 'to', 'ask', 'what', 'the', 'special', 'ingredient', 'is', 'because', 'they', 'might', 'say', '\"it\\\\\\'s', 'organic,', \"don\\\\'t\", 'panic\".', \"\\\\n\\\\nJerry\\\\'s\", 'dead,', 'but', 'this', 'place', 'lives', 'on.', 'Thanks', \"hippies!'\", '\"Man,', 'do', 'I', 'LOVE', 'a', 'restaurant', 'with', 'REALLY', 'GOOD', 'food', 'and', 'friendly', 'service!', 'Liberty', 'Market', 'is', 'definitely', 'that!', '\\\\n\\\\nFunny', 'thing', 'is', 'that', 'I', 'was', 'originally', 'going', 'to', 'eat', 'at', \"Joe's\", 'Farm', 'Grill,', 'but', 'ended', 'up', 'here', '(after', 'a', 'search', 'here', 'on', 'YELP).\\\\n\\\\nNice', 'laid', 'back', 'decor', 'too.\\\\n\\\\nYou', 'wait', 'in', 'line', 'to', 'place', 'your', 'order,', 'pay,', 'and', 'they', 'give', 'you', 'a', 'stand', 'with', 'a', 'number', 'on', 'it', '(like', 'at', 'Sizzler),', 'then', 'someone', 'brings', 'your', 'order.\\\\n\\\\nI', 'like', 'places', 'that', 'spend', 'the', 'time', 'to', 'make', 'their', 'own', 'salad', 'dressings', 'and', 'take', 'care', 'with', 'creating', 'a', 'delicious', 'salad.', 'The', 'Italia', 'was', 'DELICIOUS', 'and', 'a', 'perfect', 'size!', 'The', 'homemade', 'Minestrone', 'soup', 'was', 'loaded', 'with', 'fresh', 'ingredients', 'and', 'was', 'REALLY', 'fantastic', 'too!\\\\n\\\\nI', 'forgot', 'to', 'try', 'one', 'of', 'their', 'desserts...the', 'last', 'Red', 'Velvet', 'cupcake', 'was', 'ALMOST', 'snatched', 'up', 'by', 'another', 'customer,', 'but', 'the', 'Food', 'Server', 'was', 'so', 'kind', 'to', 'offer', 'to', 'get', 'it', 'to', 'me', '(maybe', 'I', 'had', 'a', 'look', 'of', 'panic', 'on', 'my', 'face??)...WOW!!', 'This', 'service', 'is', 'rare', 'to', 'find!\\\\n\\\\nThe', 'restrooms', 'are', 'quite', 'amusing!', 'Saw', 'a', 'similar', 'set-up', 'in', 'NYC.', 'Each', 'toilet/water-closet', 'is', 'individual...no', 'stalls.', 'They', 'were', 'VERY', 'CLEAN', 'too', '(ok,', 'I', 'was', 'seriously', 'apprehensive', 'that', 'it', 'might', 'smell', 'like', 'a', \"men's\", 'restroom,', 'since', 'it', 'was', 'all', 'unisex...no', 'worries!!!!)\\\\n\\\\nI', \"can't\", 'wait', 'to', 'visit', 'here', 'again...but,', 'after', 'I', 'check', 'out', 'their', 'other', 'place', 'across', 'the', 'street:', \"Joe's\", 'Real', 'BBQ.', 'YUM!\"', '\"Great', 'experience', 'from', 'start', 'to', 'finish.', 'Host', '(who', 'was', 'the', 'owner)', 'seated', 'us', 'at', 'a', 'table', 'with', 'a', 'view.', 'Was', 'given', 'house', 'made', 'foccacia', 'bread', 'and', 'olive', 'oil.', 'Was', 'awesome.', 'Some', 'of', 'the', 'best', 'bread', \"I've\", 'ever', 'had', 'before', 'a', 'meal.', 'The', 'olive', 'oil', 'was', 'seasoned', 'perfectly', 'too.', 'My', 'grandma', 'got', 'the', 'burger', 'and', 'I', 'got', 'the', 'pesto', 'penne', 'primavera.', 'The', 'pasta', 'came', 'with', 'shrimp,', 'squash,', 'and', 'some', 'other', 'vegetables.', 'I', 'love', 'pesto,', 'so', 'this', 'hit', 'the', 'spot.', 'Good', 'serving', 'size,', 'but', 'not', 'too', 'much.', 'The', 'food', 'tasted', 'fresh.', 'They', 'make', 'their', 'own', 'pasta,', 'which', 'was', 'delicious.', 'The', 'burger', 'was', 'huge.', 'Looked', 'like', 'you', 'get', 'your', 'moneys', 'worth.', 'The', 'ice', 'tea', 'was', 'even', 'good.', 'The', 'place', 'was', 'clean', 'and', 'sleek.', 'They', 'played', 'good', 'music', 'and', 'the', 'service', 'was', 'perfect.', 'It', 'has', 'been', 'a', 'while', 'since', 'I', 'had', 'such', 'a', 'good', 'overall', 'experience', 'with', 'no', 'complaints.', 'I', 'will', 'be', 'coming', 'back.', 'The', 'host,', 'who', 'we', 'later', 'found', 'out', 'was', 'the', 'owner,', 'was', 'working', 'that', 'night', 'and', 'asked', 'us', 'how', 'we', 'liked', 'everything.', \"I've\", 'said', 'it', 'before,', 'but', 'that', 'is', 'a', 'rare', 'and', 'good', 'touch', 'for', 'any', 'restaurant.', 'Well', 'done.\"', \"'Great\", 'customer', 'service,', 'competitive', 'rates,', 'and', 'I', 'always', 'get', 'a', 'call', 'right', 'back', 'from', 'Jeff!', 'Nice', 'to', 'have', 'an', 'agent', 'who', 'actually', 'cares', 'about', 'his', 'customers.', 'I', 'would', 'recommend', 'giving', 'him', 'a', \"call.'\", '\"We', 'went', 'to', 'The', 'Farm', 'today', 'for', 'lunch', 'to', 'enjoy', 'a', 'picnic', 'on', 'such', 'an', 'awesome', 'beautiful', 'day.', 'I', 'had', 'the', 'Tuscan', 'sandwich', 'and', 'it', 'was', 'awesome.', 'I', 'had', 'expected', 'it', 'to', 'be', 'good', 'but', 'was', 'surprised', 'at', 'just', 'how', 'enjoyable', 'it', 'really', 'was.', \"I'm\", 'sure', 'sitting', 'outside', 'in', 'beautiful', 'surroundings', 'on', 'a', 'perfect', 'day', 'helped', 'with', 'the', 'experience.', 'This', 'is', 'the', 'prefect', 'place', 'for', 'lunch', 'on', 'a', 'beautiful', 'day.', 'My', 'date', 'was', 'equally', 'impressed', 'so', \"I'm\", 'sure', 'I', 'will', 'be', 'back!\"', '\"Screw', 'Disneyland-', 'Sephora', 'is', 'the', 'happiest', 'place', 'on', 'earth!', 'They', 'have', 'everything', 'a', 'girly', 'girl', 'or', 'a', 'girly', 'guy', 'could', 'possibly', 'dream', 'of', 'and', 'then', 'some!', 'They', 'have', 'all', 'the', 'best', 'brands', 'in', 'cosmetics,', 'skin', 'care', 'and', 'perfume', 'and', \"they're\", 'always', 'adding', 'new', 'items', 'to', 'their', 'extensive', 'product', 'selection.', 'To', 'me,', 'getting', 'a', 'gift', 'card', 'to', 'Sephora', 'is', 'like', 'having', 'Christmas', 'morning', 'over', 'and', 'over', 'again.', 'Everywhere', 'you', 'look', 'there', 'are', 'sparkly', 'blushes,', 'lip', 'plumping', 'glosses,', 'lash-extending', 'mascaras', 'and', 'anti-aging', 'face', 'creams-', 'what', 'more', 'could', 'anyone', 'ask', 'for?', 'I', 'can', 'understand', 'why', 'men', 'might', 'hate', 'going', 'into', 'Sephora-', 'but', 'they', 'do', 'have', 'some', 'products', 'for', 'guys', 'too-', 'although', 'not', 'many.', 'As', 'far', 'as', 'I', 'know,', 'Scottsdale', 'Fashion', 'Square', 'is', 'home', 'to', 'the', 'only', 'Sephora', 'in', 'Scottsdale,', 'but', 'even', 'as', 'great', 'as', 'it', 'is,', 'it', 'still', \"can't\", 'beat', 'the', 'one', 'right', 'on', 'the', 'strip', 'in', 'Vegas.', \"They're\", 'open', 'really', 'late', 'and', 'you', 'can', 'shop', 'with', 'a', 'drink', 'in', 'your', 'hand-', 'what', 'could', 'be', 'better', 'than', 'that?\"', \"'I\", 'loved', 'this', 'little', 'slice', 'of', 'heaven.', 'Reasonable', 'prices,', 'tiny', 'dining', 'room,', 'very', 'personal', 'service.', 'Pablo', 'was', 'laid', 'back,', 'but', 'with', 'only', '4', 'couples', 'in', 'the', 'small', 'establishment,', 'he', 'did', 'a', 'great', 'job', 'of', 'making', 'sure', 'we', 'were', 'taken', 'care', \"of.'\", '\"AZ-88', 'is', 'at', 'once', 'chic,', 'urban,', 'fun,', 'and', 'just', 'enough', 'Scottsdale', 'without', 'making', 'me', 'want', 'to', 'stab', 'myself', 'in', 'the', 'face,', 'as', 'a', 't-shirt-and-jeans-wearing,', 'overweight', \"guy.\\\\n\\\\nYou'll\", 'first', 'notice', 'the', 'atmosphere,', 'and', 'with', 'good', \"reason--it's\", 'perfectly', 'lit,', 'with', 'noticeable', 'but', 'not', 'mind-numbingly', 'blaring', 'music,', 'and', 'even', 'better,', 'they', 'have', 'a', 'live', 'DJ', 'who', 'goes', 'through', 'no', 'small', 'trouble', 'to', 'beat', 'match', 'and', 'keep', 'things', 'rolling', 'throughout', 'your', 'Wednesday-Saturday', 'evening', 'dining', 'experience.', 'When', 'I', 'first', 'hit', 'AZ-88,', 'it', 'had', 'an', 'enormous', 'deconstructed', 'NY', 'taxicab', 'suspended', 'from', 'the', 'ceiling', 'which', 'was', 'a', 'fantastical', 'conversation', 'piece.', 'The', 'wall', 'behind', 'the', 'bar', 'was', 'completely', 'covered', 'in', 'names', 'and', 'numbers.', '(I', 'was', 'far', 'too', 'proud', 'when', 'I', 'accurately', 'guessed', 'that', 'they', 'were', 'the', 'names', 'of', 'cabbies', 'and', 'the', 'numbers', 'were', 'their', 'license', 'numbers.)', 'Overall,', 'a', 'very', 'different,', 'fun', 'look.\\\\n\\\\nComfortable', 'chairs', 'and', 'very', 'full', 'cocktails', 'abound,', 'and', 'while', 'they', 'typically', 'have', 'a', 'rock-steady', 'delivery,', 'more', 'than', 'a', 'little', 'cosmo', 'has', 'ended', 'up', 'in', 'my', \"friend's\", 'purse,', 'to', 'her', 'chagrin.', 'That', 'aside,', 'the', 'food', 'is', 'fantastic', 'and', 'even', 'though', \"it's\", 'a', 'bit', 'hard', 'to', 'get', 'out', 'of', 'here', 'for', 'under', '$30', 'per', 'person', '(because', 'you', 'simply', 'must', 'try', 'the', 'cheesecake,', 'and', 'drinks', 'are', 'pushing', '$14),', \"it's\", 'worth', 'it', 'as', 'a', 'classy-but-casual', 'night', 'out', 'that', 'you', 'can', 'really', 'enjoy.\\\\n\\\\nThey', 'have', 'a', 'great', 'patio,', 'the', 'burger', 'is', 'dripping', 'with', 'flavor', '(and,', 'in', 'fact,', 'cheese),', 'and', 'they', 'have', 'waffle', 'fries', 'with', 'pretty', 'much', 'everything.', 'Great', 'salads', 'and', 'sandwiches', 'help', 'round', 'things', 'out,', 'and', 'they', 'ship', 'their', 'cheesecake', 'in', 'from', 'Carnegie', 'Deli', 'in', 'New', 'York', 'which', 'is', 'just', 'about', 'the', 'most', 'perfect', 'cheesecake', \"you'll\", 'have', 'the', 'good', 'chance', 'to', 'try.', 'Forget', 'that', 'Cheesecake', 'Factory', 'nonsense,', 'these', 'people', 'know', 'how', 'a', 'cheesecake', 'is', 'done.', 'It', 'is', 'rich,', 'thick,', 'with', 'just', 'a', 'hint', 'of', 'sour,', 'and', 'an', 'amazing', 'flavor', 'that', 'takes', 'your', 'tongue', 'hostage', 'and', 'demands', 'whipped', 'cream', 'ransom.\\\\n\\\\nOverall,', 'a', 'wonderful', 'place', 'for', 'drinks', 'and', 'good', 'food', 'with', 'friends,', 'and', 'the', 'staff', 'is', 'pointed', 'but', 'efficient', 'and', 'will', 'throw', 'back', 'any', 'shit', 'you', 'give', 'them,', 'in', 'good', 'humor', 'or,', 'as', 'appropriate,', 'not.', \"(We've\", 'never', 'run', 'afoul', 'of', 'that', 'rule,', 'but', 'you', \"wouldn't\", 'want', 'to,', 'I', 'assure', 'you.)\"', '\"Fun,', 'with', 'caps', 'if', 'I', 'did', 'that', 'sort', 'of', 'thing.', 'The', 'whole', 'experience', 'was', 'great', '(you', \"won't\", 'get', 'any', 'specifics,', 'this', 'review', 'is', '3', 'weeks', 'after,', 'I', \"can't\", 'remember,', 'sorry).', 'Service', 'was', 'by', 'that', 'waitress', 'who', 'does', 'everything', 'perfectly.', 'Explain', 'food,', 'wine,', \"doesn't\", 'stay', 'too', 'long.', 'Nice', 'interesting', 'big', 'room', 'decor.', 'Looking', 'forward', 'to', 'the', 'next', 'time.\"', '\"Who', \"dosen't\", 'like', 'Cosco,', 'I', 'love', 'this', 'place.', 'The', 'pizza', 'is', 'cheap', 'and', 'good.\"', \"'A\", 'group', 'of', 'us', 'from', 'the', 'IVAA', 'Summit', 'went', 'to', 'Zinburger', 'last', 'night.', 'The', 'food', '&', 'service', 'was', 'great!', 'I', 'think', 'we', 'scared', 'our', 'poor', 'server', '(Mike),', 'but', 'he', 'was', \"wonderful!'\", \"'I\", 'love', 'this', 'restaurant', '(even', 'though', \"it\\\\'s\", 'a', 'chain', 'and', 'I', 'can', 'hear', 'my', 'brother', 'saying', \"it\\\\'s\", 'just', 'a', '\"glorified', 'Red', 'Lobster\").', '\\\\n\\\\nI', 'ordered', 'the', 'Crab', 'and', 'Lobster', 'Bisque', 'soup', 'and', 'am', 'drooling', 'thinking', 'about', 'how', 'much', 'I', 'wish', 'I', 'could', 'eat', 'it', 'right', 'now.', 'For', 'my', 'entree', 'I', 'ordered', 'the', 'Atlantic', 'Salmon', '(stuffed', 'with', 'crab,', 'shrimp,', 'and', 'brie', 'cheese)', 'which', 'was', 'unbelievably', 'amazing.', 'I', 'also', 'had', 'some', 'scalloped', 'potatoes', 'which', 'was', 'basically', 'in', 'the', 'shape', 'of', 'a', 'brick', 'covered', 'with', 'cheesy', 'goodness.', 'I', 'wanted', 'to', 'eat', 'the', 'apple', 'pie', 'for', 'dessert', 'because', 'it', 'looked', 'so', 'delicious,', 'but', 'could', 'barely', 'breathe', 'after', 'eating', 'all', 'that', 'food.', '\\\\n\\\\nThe', 'service', 'was', 'outstanding,', 'although', 'the', 'manager', 'stopping', 'by', 'the', 'table', 'several', 'times', 'throughout', 'dinner', 'was', 'annoying.', '\\\\n\\\\nI', \"can\\\\'t\", 'wait', 'to', 'come', 'back', \"here.'\", \"'On\", 'one', 'of', 'my', 'many', 'visits', 'to', 'see', 'mi', 'amore,', 'he', 'took', 'me', 'to', 'this', 'fantastic', 'little', 'pizza', 'joint.', 'The', 'aesthetics', 'of', 'the', 'place', 'were', 'overwhelmingly', 'perfect.', 'I', 'believe', 'the', 'maximum', 'seating', 'capacity', 'of', 'the', 'dining', 'area', 'is', '45,', 'yes', 'folks,', '45.', 'So', 'the', '2', '1/2', 'hour', 'wait', 'was', 'expected,', 'and', 'very', 'VERY', 'worth', 'it.', 'The', 'pizzas', 'are', 'baked', 'to', 'order', 'in', 'a', 'classic', 'brick', 'house', 'oven.', 'The', 'toppings', 'arent', 'what', 'youd', 'find', 'in', 'your', 'local', 'Pizza', 'Hut,', 'either.', 'You', 'can', 'choose', 'from', 'fresh', 'slices', 'of', 'mozzarella,', 'slices', 'of', 'perfectly', 'seasoned', 'italian', 'sausage,', 'pepperoni', 'slices,', 'salami', 'slices,', 'arugula,', 'fresh', 'basil', 'leaves,', 'tomatoes,', 'etc.', 'Basically', 'what', 'Im', 'getting', 'at,', 'is', 'this', 'is', 'beyond', 'words', 'delicious,', 'classic', 'LEGIT', 'Italian', 'pizza.', 'Around', 'the', 'dining', 'area,', 'you', 'will', 'see', 'freshly', 'baked', 'loaves', 'of', 'focaccia', 'bread,', 'that', 'is', 'later', 'served', 'to', 'you', 'with', 'extra', 'virgin', 'olive', 'oil', 'for', 'dipping', 'once', 'you', 'are', 'seated.', 'The', 'smell', 'in', 'that', 'place', 'is', 'heavenly.....incredibly', 'reminiscent', 'of', 'my', 'grandmothers', 'kitchen!!\\\\n\\\\nPS', 'GET', 'THERE', \"EARLY!!'\", \"'The\", 'pizza', 'is', 'my', 'favorite', 'in', 'Phoenix.', 'It', 'is', 'light,', 'airy', 'and', 'tasty', 'and', 'does', 'not', 'give', 'you', 'that', '\"I', 'am', 'reading', 'to', 'explode', 'as', 'my', 'cotton', 'mouth', 'is', 'making', 'me', 'drink', 'two', 'liters', 'of', 'water', 'every', 'half', 'hour\"', 'feeling.\\\\n\\\\nThe', 'ingredients', 'are', 'fresh', 'and', 'delicious.', '\\\\n\\\\nI', 'am', \"hooked!'\", '\"I', 'was', 'a', 'regular', 'at', \"Mia's\", 'first', 'location', 'in', 'Wrigleyville/Chicago.', 'Scott', '(the', 'original', 'founder/chef', 'and', 'present', 'owner)', 'is', 'the', 'reason', 'Mia', 'Francesca', 'is', 'what', 'it', 'is.', 'Not', 'sure', 'if', 'us', 'folks', 'up', 'here', 'in', 'Scottsdale', 'know', 'how', 'lucky', 'we', 'are', 'he', 'landed', 'on', 'our', 'door', 'step.', 'Food,', 'service,', 'vibe...if', 'I', 'could', 'give', 'it', 'six', 'stars', 'I', 'would.\"', \"'Excellent\", 'service', 'and', 'food', '\\\\n\\\\nenjoyed', 'live', 'music', 'on', \"patio'\", \"'Love\", \"Krista!'\", '\"I', 'attended', 'one', 'of', 'her', 'classes', 'for', 'pressure', 'cookers,', 'and', 'had', 'to', 'leave', 'with', 'one.', 'Luckily,', 'she', 'offers', 'great', 'discounts', 'after', 'her', 'classes!\\\\n\\\\nSince', 'then', 'I', 'have', 'also', 'gotten', 'a', 'bosch', 'mixer', \"(don't\", 'know', 'how', 'I', 'lived', 'without', 'one', 'all', 'these', 'years!)', 'and', 'also', 'a', 'wheat', 'grinder.', 'Everytime', 'I', 'go', 'in', 'here', 'I', 'find', 'something', 'I', \"can't\", 'live', 'without!\\\\n\\\\nShar', 'has', 'great', 'classes,', 'and', 'tips', 'on', 'how', 'to', 'utilize', 'all', 'her', 'products.', 'Well', 'worth', 'it', 'to', 'attend', 'a', 'class.', 'I', 'just', 'wish', 'the', 'store', 'was', 'closer', 'to', 'Glendale!\\\\n\\\\nSo', 'glad', 'I', 'found', \"shar's,\", 'now', 'my', 'family', 'enjoys', 'homemade', 'wheat', 'bread', 'and', 'pizzas', 'and', 'all', 'sorts', 'of', 'yummy', 'things', 'that', 'are', 'good', 'for', 'them', 'too!\"', \"'Need\", 'fig', 'preserves?', \"They\\\\'ve\", 'got', 'it.', 'Fennel?', \"It\\\\'s\", 'beautifully', 'packed', 'on', 'ice', 'and', 'extremely', 'fresh', 'in', 'the', 'produce', 'department.', 'Need', 'boneless', 'pork', 'loin', 'roast', 'from', 'the', 'blade', 'end?', 'The', 'butcher', 'has', 'your', 'back.', 'Duck', 'fat?', 'Just', 'take', 'a', 'peek', 'in', 'the', 'freezer', 'section.', 'Sometimes,', \"it\\\\'s\", 'the', 'little', 'things', 'that', 'normally', 'go', 'unnoticed', 'that', 'gets', 'you', 'five', \"stars...\\\\n\\\\nAJ\\\\'s\", 'closed', 'early', 'the', 'other', 'night', 'in', 'lieu', 'of', 'the', 'holidays', 'and', 'I', 'ran', 'around', 'to', 'FOUR', 'different', 'stores', 'looking', 'for', 'something', 'as', 'simple', 'as', 'whole', 'grain', 'mustard', 'and', 'fennel.', 'I', 'came', 'up', 'empty', 'handed', 'on', 'both', 'items.', 'I', 'say', '\"simple\"', 'items', '-', 'but', \"it\\\\'s\", 'amazing', 'when', 'you', 'rely', 'on', 'a', 'grocer', 'like', 'this', 'as', 'much', 'as', 'I', 'do', 'and', 'realize', 'that', 'most', 'items', 'are', 'out', 'of', 'reach', 'otherwise.', \"AJ\\\\'s\", 'carries', 'practically', 'anything', 'my', 'culinary', 'desires', 'could', 'ask', 'for!\\\\n\\\\nAlthough', 'I', 'had', 'to', 'wait', 'a', 'day', 'to', 'go', 'shopping', 'again', 'and', 'to', 'make', 'the', 'recipe', 'i', 'was', 'wanted,', 'it', 'was', 'during', 'my', 'adventures', 'to', 'the', '4', 'stores', 'that', 'I', 'realized', 'how', 'much', 'I', 'truly', 'appreciate', 'this', 'grocer.', 'How', 'is', 'it', 'I', 'can', 'get', 'wireless', 'internet', 'via', 'laptop', 'on', 'the', 'I-10', 'freeway', 'courtesy', 'of', 'my', 'phone', 'company,', 'but', \"can\\\\'t\", 'find', 'fennel', 'within', 'a', '10', 'mile', 'radius?\\\\n\\\\nThis', 'my', 'friends,', 'is', 'why', 'I', 'love', \"AJ\\\\'s.\", 'And', 'as', 'someone', 'who', 'watches', \"America\\\\'s\", 'Test', 'Kitchen', 'as', 'though', 'it', 'were', 'food', 'porn,', 'I', 'can', 'say', 'that', 'any', 'other', 'grocer', \"doesn\\\\'t\", 'stand', 'a', 'chance', 'against', 'Eddie', \"Bashas\\\\'\", 'high', 'end', 'store.\\\\n\\\\nYou', 'truly', 'do', 'get', 'what', 'you', 'pay', 'for.', 'For', 'all', 'the', 'employees', 'at', \"AJ\\\\'s\", 'I', 'say', '\"THANK', 'YOU!!\"', 'for', 'the', 'great', 'service', 'you', 'provide', 'and', 'the', 'products', 'you', \"offer.'\", '\"Love', 'me', 'some', 'hidden', 'house!', '\\\\n\\\\nThe', 'music', 'is', 'too', 'loud.', 'The', 'drinks', 'too', 'cheap.', 'The', 'clientele', 'too', 'local.', 'But', \"I've\", 'never', 'had', 'anything', 'but', 'a', 'good', 'time', 'there.', 'Whether', \"it's\", 'karaoke', 'or', 'weird', 'shit', 'on', 'the', 'weekends', \"you'll\", 'have', 'fun', 'if', 'you', \"don't\", 'expect', 'it', 'to', 'be', 'Merc,', 'cuz', 'Merc', 'it', \"ain't.\", 'And', 'not', 'for', 'one', 'moment', 'in', \"it's\", 'life', 'has', 'it', 'pretended', 'to', 'be.', 'But', 'I', 'love', 'it', 'for', 'what', 'it', 'is', 'and', \"that's\", 'an', 'experience.\"', '\"Cowboy', 'Ciao', 'is', 'one', 'my', 'favorite', 'restaurants', 'in', 'Old', 'Town', 'Scottsdale.', 'To', 'start', 'with,', 'they', 'share', 'a', 'wine', 'list', 'with', 'Kazimierz.', 'My', 'favorite', 'menu', 'item', 'is', 'the', 'Stetson', 'Chopped', 'salad.', 'My', 'only', 'wish', 'is', 'that', 'the', 'serving', 'was', 'bigger!', 'I', \"can't\", 'get', 'enough...and', \"I'm\", 'too', 'embarrassed', 'to', 'order', 'two.', 'The', 'flavors', 'in', 'this', 'salad', 'are', 'amazing!', 'Smoked', 'salmon,', 'Israeli', 'cous', 'cous,', 'creamy', 'dressing.\\\\n\\\\nFor', 'dinner,', 'I', 'actually', 'like', 'the', 'Exotic', 'Mushroom', 'Pan', 'Fry.', 'The', 'tastes', 'are', 'really', 'unique', 'and', 'I', 'got', 'to', 'try', 'mushrooms', 'I', \"hadn't\", 'had', 'before.', \"It's\", 'great!\\\\n\\\\nI', 'did', 'try', 'the', 'Bacon', 'Peanut', 'Brittle', 'for', 'dessert', 'and', 'I', 'cannot', 'recommend', 'this.', 'It', 'was', 'not', 'good', 'at', 'all.', 'It', 'just', 'makes', 'the', 'brittle', 'really', 'greasy', 'and', 'then', 'you', 'run', 'into', 'chunks', 'of', 'bacon...ick.', 'Thank', 'God', 'my', 'husband', 'ordered', 'the', 'Chocolate/Peanut', 'Butter', 'pot', 'pie', 'so', 'I', 'could', 'steal', 'from', 'him!\"', \"'Great\", 'Mexican', 'food.', '\\\\nAuthentic', 'street', 'tacos', 'plus', 'a', 'full', 'menu', 'of', 'tasty', 'dishes.', '\\\\nHalibut', 'tacos', 'remind', 'me', 'of', 'Ensenada\\\\nMichelada', 'with', 'Pacifico', 'beer', 'is', 'a', 'perfect', 'beverage', 'for', 'any', \"dish.'\", \"'What\", 'a', 'fabulous', 'dining', 'experience!', 'My', 'boyfriend', 'and', 'I', 'are', 'always', 'looking', 'for', 'new', 'places', 'to', 'try', 'and', 'came', 'upon', 'this', 'place', 'on', 'Yelp', 'when', 'our', 'regular', 'Saturday', 'spot', 'decided', 'to', 'no', 'longer', 'be', 'opened', 'for', 'lunch', 'Saturdays.', 'Right', 'upon', 'entering', 'we', 'were', 'greeted', 'by', 'someone', 'behind', 'the', 'register', 'and', 'he', 'sat', 'us', 'down', 'at', 'a', 'booth.', 'The', 'decor', 'was', 'great', 'and', 'the', 'place', 'was', 'spotless.', 'We', 'ordered', 'the', 'Saturday', 'special', 'of', 'Monte', 'Cristo,', 'the', 'potatoes', 'and', 'the', 'biscuits', 'and', 'gravy', 'among', 'other', 'items.', 'The', 'Monte', 'Cristo', 'was', 'perfection', 'and', 'the', 'home', 'made', 'blueberry', 'and', 'strawberry', 'jam', 'was', 'excellent!', 'The', 'potatoes', 'were', 'seasoned', 'to', 'perfection', 'and', 'eggs', 'cooked', 'perfectly.', 'I', 'would', 'definitely', 'recommend', 'this', 'place', 'to', 'anyone', 'and', 'this', 'is', 'now', 'going', 'to', 'be', 'our', 'regular', 'weekend', 'breakfast/brunch', \"place.'\", '\"I', 'was', 'sad', 'to', 'come', 'back', 'to', 'lai', \"lai's\", 'and', 'they', 'no', 'longer', 'had', 'the', 'Mongolian', ':(', 'boo,,', 'but', 'i', 'took', 'my', 'mom', 'there', 'and', 'we', 'were', 'starving', 'so', 'we', 'decided', 'to', 'order', 'off', 'the', 'menu.', 'My', 'mom', 'is', 'allergic', 'to', 'msg', 'and', 'they', 'helped', 'us', 'with', 'what', 'we', 'should', 'order.', 'and', 'she', \"didn't\", 'get', 'sick!!', 'woo', 'hoo..', 'we', 'ordered', 'three', 'dishes', 'and', 'an', 'appetizer', 'to', 'share', 'between', 'her', ',', 'my', 'bf,', 'and', 'myself,', 'and', 'we', 'stilll', 'brought', 'food', 'home,', 'and', 'I', 'dont', 'think', 'we', 'spent', 'over', '$30', 'bucks', 'for', 'all', 'that', 'food!!', 'it', 'was', 'very', 'good', 'to!', 'i', 'love', 'good', 'cheap', 'food!!', 'Ill', 'be', 'back,', 'they', 'are', 'always', 'friendly.\"', '\"Very', 'good.', 'My', 'wife', 'and', 'I', 'stopped', 'by', 'randomly', 'on', 'our', 'way', 'back', 'and', 'had', 'beef', 'pho', 'and', 'veggie', 'pho.', 'I', 'eat', 'large', 'portions', 'and', 'this', 'is', 'the', 'first', 'time', 'ever', 'I', \"didn't\", 'finish', 'a', 'bowl', 'of', 'pho.', 'If', 'in', 'the', 'area', 'we', 'will', 'stop', 'again', 'for', 'sure.\"', '\"Went', 'here', 'today', 'Sunday', 'about', '8:50', 'and', 'it', 'was', 'crowded', 'but', 'not', 'to', 'bad,', 'about', '1/2', 'hour', 'wait.', 'Im', 'warning', 'you', 'now,', 'dont', 'ask', 'how', 'much', 'longer', 'after', 'you', 'put', 'your', 'name', 'in', 'if', 'they', 'told', 'you', 'how', 'long', 'when', 'you', 'checked', 'in.', '\\\\n\\\\nAbout', '10am', 'is', 'when', 'it', 'really', 'got', 'packed,', 'just', 'about', 'when', 'we', 'got', 'done.', 'I', 'ordered', 'the', 'chicken', 'and', 'waffles', 'and', 'i', 'really', 'liked', 'it.', 'I', 'asked', 'for', 'some', 'butter', 'for', 'my', 'waffle', 'because', 'it', 'didnt', 'come', 'with', 'any', 'and', 'it', 'made', 'the', 'dish', 'perfect', 'for', 'me.', 'The', 'chicken', 'had', 'great', 'flavor', 'and', 'when', 'you', 'take', 'a', 'bite', 'with', 'the', 'waffle', 'and', 'butter', 'and', 'the', 'syrup,', 'heaven.', 'I', 'tried', 'some', 'bites', 'without', 'the', 'butter', 'and', 'it', 'wasnt', 'even', 'close', 'to', 'be', 'the', 'same', 'for', 'me.', '\\\\nMy', 'grandma', 'got', 'some', 'omellete', 'and', 'she', 'gave', 'me', 'some', 'because', 'she', 'knew', 'she', 'wouldnt', 'finish', 'it', 'and', 'i', 'would', 'order', 'that', 'also.', 'The', 'omelletes', 'are', 'pretty', 'good', 'size', 'but', 'my', 'wifes', 'dish,', 'my', 'sons', 'and', 'mine', 'where', 'not', 'that', 'much', 'food', 'especially', 'for', '$9.', 'We', 'are', 'use', 'to', 'getting', 'enough', 'food', 'for', '2', 'when', 'you', 'eat', 'at', 'breakfast', 'places', 'and', 'slighty', 'cheaper.', 'Not', 'complaining', 'because', 'it', 'was', 'good', 'but', 'be', 'ready.', '\\\\nThere', 'was', '2', 'guys', 'sitting', 'next', 'to', 'use', 'and', 'trying', 'to', 'eat', 'there', '30', 'minute', 'food', 'challange.', 'big', 'ass', 'egg', 'plate', 'with', 'bacon', 'and', 'hash', 'browns,', 'they', 'both', 'only', 'made', 'thru', 'about', 'halfway.', 'I', 'would', 'definilty', 'go', 'back', 'and', 'get', 'the', 'same', 'stuff.', 'I', 'also', 'got', 'a', 'lemonade', 'with', 'mint', 'and', 'it', 'was', 'just', 'right.', 'My', 'son', 'really', 'didnt', 'like', 'his', \"reese's\", 'pancakes.\\\\nId', 'like', 'to', 'go', 'back', 'and', 'try', 'some', 'of', 'this', 'stuff', 'ham', 'steak', 'w/', 'gravy,', 'chicken', 'fried', 'steak', 'w/', 'hashbrowns,', 'bannana', 'pecan', 'caramel', 'french', 'toast\"', \"'Love\", 'this', 'location', 'at', 'Gainey', 'Ranch!', 'Great', 'food', \"consistently!'\", \"'Our\", 'server', 'Gary', 'was', 'awesome.', 'Food', 'was', 'amazing...an', \"experience.'\", \"'We\", 'started', 'each', 'morning', 'of', 'our', 'vacation', 'at', 'The', 'Breakfast', 'Club.', 'Everything', 'was', 'so', 'tasty;', 'juices', 'are', 'fresh-squeezed.', 'Menu', 'has', 'quite', 'a', 'variety', 'and', 'portions', 'are', 'very', 'filling', 'It', 'gets', 'busy', 'early.', 'Be', 'sure', 'to', 'give', 'it', 'a', \"try.'\", '\"I', 'had', 'other', 'piercings', 'done', 'here', 'and', 'then', 'went', 'out', 'of', 'state', 'and', 'got', 'my', 'nose', 'pierced', 'with', 'a', 'friend', 'and', 'when', 'i', 'got', 'back', 'I', 'was', 'having', 'problems', 'with', 'it.', 'I', 'went', 'in', 'and', 'talked', 'to', 'them', 'and', 'they', 'changed', 'out', 'the', 'stud', 'for', 'me', 'gave', 'me', 'a', 'discount', 'on', 'the', 'jewelry', 'and', 'were', 'really', 'fun,', 'friendly,', 'professional', 'and', 'very', 'informative.', 'This', 'place', 'is', 'top', 'notch.', \"Won't\", 'go', 'to', 'another', 'place', 'for', 'my', 'piercings', 'again!', 'No', 'way!', 'It', 'is', 'very', 'clean,', 'and', 'these', 'guys', 'know', 'their', 'stuff!', 'Really', 'impressed...I', 'could', 'go', 'on', 'and', 'on!', 'I', \"won't\", 'get', 'my', 'jewelry', 'anywhere', 'else', 'either...they', 'have', 'a', 'a', 'great', 'variety', 'and', 'if', 'they', \"don't\", 'have', 'something', 'you', 'want', 'they', 'order', 'it,', 'easy', 'peasy.', 'Love', 'it!\"', '\"The', 'food', 'here', 'is', 'awesome', 'every', 'time', 'I', 'come', 'here', 'we', 'have', 'a', 'great', 'time', 'And', 'the', 'waitress', 'kimberly', \"Couldn't\", 'ask', 'for', 'better', 'waitress\"', '\"OK,', \"I've\", 'decided', 'that', 'other', 'coffee', 'shops', 'sell', 'swill.', 'I', 'think', 'about', 'Dazbog', 'coffee', 'in', 'a', 'dreamy', 'sort', 'of', 'way,', 'like', 'unstressed', 'people', 'think', 'about', 'sex.', 'I', 'mourn', 'often', 'that', 'they', 'open', 'so', 'damn', 'late', 'in', 'the', 'morning.', 'Seriously,', 'I', 'would', 'be', 'there', 'every', 'day...', '\\\\n\\\\nThe', 'chocolate', 'cappuccino', 'rocks', 'my', 'world', 'and', 'perks', 'me', 'right', 'the', 'hell', 'up,', 'even', 'on', 'the', 'mushiest', 'afternoon.', 'No', 'bitterness,', 'not', 'overly', 'sweet,', 'just', 'blissful-', 'in', 'an', \"I've-just-been-bitch-slapped-by-caffeine\", 'sort', 'of', 'way,', 'of', 'course.', '\\\\n\\\\nOh,', 'and', 'the', 'sandwiches', 'I', 'complained', 'about?', 'Replaced', 'by', 'real', 'deli', 'looking', 'ones', 'in', 'clam-shells.', 'Far', 'more', 'appetizing.', 'But', 'what', 'the', 'hell', 'do', 'I', 'need', 'a', 'sandwich', 'for', 'when', 'I', 'can', 'have', 'a', 'giant', 'red', 'velvet', 'cupcake?', \"\\\\n\\\\nDon't\", 'make', 'me', 'break', 'out', 'the', 'voodoo,', 'Dazbog.', 'Just', 'open', 'at', '6:00', 'am', 'like', 'any', 'other', 'coffee', 'shop', 'and', \"we'll\", 'be', 'BFFs.\"', '\"What\\'s', 'not', 'to', 'love?', 'Herb', 'n', 'Flavors', 'uses', 'local,', 'high', 'quality', 'ingredients,', 'the', 'food', 'tastes', 'GREAT', 'and', 'they', 'are', 'vegetarian,', 'vegan', 'and', 'gluten-free', 'friendly!', 'I', 'especially', 'liked', 'their', 'vegan', 'spinach', 'and', 'artichoke', 'dip!', 'We', 'will', 'definitely', 'be', 'back', 'soon', ':', ')\"', \"'Excellent\", 'New', 'Mexico', 'style', 'food,', 'great', 'hatch', 'green', \"chile.'\", \"'I\", 'love', 'this', 'location!', 'The', 'food', 'is', 'always', 'great', 'and', 'the', 'service', 'is', 'good.', 'Wi-fi', 'is', 'a', 'plus', 'especially', 'since', 'I', 'am', 'going', 'to', 'school.', 'I', 'come', 'here', 'almost', 'everyday.', 'I', 'recommend', 'this', 'location', 'to', \"everyone.'\", '\"Awesome', 'country', 'club.', 'Great', 'new', 'remodled', 'gym,', 'heated', 'Olympic', 'pool', 'for', 'year', 'round', 'use.', 'Love', 'the', 'family', 'like', 'atmosphere,', 'plenty', 'of', 'planned', 'family', 'events/pool', 'parties.', '\\\\n\\\\nOnly', 'complaint,', 'wish', 'members', 'who', \"didn't\", 'pay', 'for', 'the', 'monthy', 'tennis', 'membership', 'could', 'still', 'rent', 'a', 'court', 'on', 'a', 'need', 'by', 'need', 'basis.', 'Regardless', 'courts', 'are', 'top', 'notch,', 'great', 'facilities', 'and', 'friendly', 'staff.\"', \"'This\", 'is', 'probably', 'the', 'sweet', 'I', 'crave', 'the', 'most!', 'Salted', 'Butter', 'Caramel!', 'Yummmm!', 'When', 'I', 'cant', 'make', 'it', 'up', 'to', 'Scottsdale,', 'I', 'stop', 'by', 'my', 'local', 'Whole', 'Foods', 'in', 'Chandler', 'and', 'pick', 'up', 'a', 'pint', 'from', 'the', 'freezer', 'section', 'and', 'it', 'is', 'just', 'as', \"good.'\", '\"This', 'was', 'the', 'first', 'real', 'ballet', 'I', 'have', 'ever', 'been', 'to,', 'and', 'I', 'was', 'so', 'excited', 'it', 'was', 'the', 'Nutcracker!', 'I', 'have', 'been', 'wanting', 'to', 'see', 'the', 'Nutcracker', 'for', 'years.', '\\\\n\\\\nThanks', 'to', 'Lindsey', 'and', 'Yelp,', 'I', 'had', 'the', 'opportunity', 'to', 'go', 'and', 'the', 'performance', 'was', 'just', 'stunning.', 'When', 'I', 'walked', 'in,', 'I', 'noticed', 'the', 'lobby', 'was', 'beautifully', 'decorated,', 'a', 'gentleman', 'reading', 'a', 'story', 'to', 'children', 'and', 'a', 'ballet', 'dancer', 'posing', 'for', 'pictures.', 'The', 'bartenders', 'we', 'bought', 'our', 'drinks', 'from,', 'was', 'very', 'friendly', 'and', 'accomodating.', '\\\\n\\\\nI', \"can't\", 'say', 'enough', 'about', 'how', 'beautiful', 'the', 'performance', 'was', 'from', 'the', 'dancers,', 'the', 'sets,', 'the', 'costumes,', 'etc.', 'Just', 'incredible.', 'I', 'may', 'just', 'take', 'my', 'daughter', 'to', 'see', 'it', 'with', 'me', 'this', 'season....\"', \"'Great\", \"service'\", '\"My', 'favorite', 'Starbucks', 'in', 'Mesa.', \"It's\", 'not', 'even', 'the', 'closest', 'one', 'to', 'my', 'home,', 'but', 'worth', 'the', 'experience.', 'GREAT', 'staff.\"', '\"The', 'food', 'was', 'flavorful', 'and', 'plenty', 'of', 'it.', 'Eating', 'with', 'only', 'your', 'fingers', 'is', 'quite', 'fun', '-', 'make', 'your', 'momma', 'proud.', 'My', 'girlfriend', 'won', 'the', 'best', 'dish', 'of', 'the', 'night', '-', 'lentils', 'and', 'chicken', 'and', 'cabage/carrots.', 'It', 'all', 'had', 'kind', 'of', 'sweetish/bitterish/spicy', 'flavor.', 'I', 'had', 'the', 'lamb', 'and', 'jalapeño', 'dish,', 'which', 'was', 'kind', 'of', 'greasy.', 'You', 'eat', 'with', 'your', 'fingers', 'and', 'can', 'scoop', 'up', 'the', 'food', 'with', 'the', 'bread', 'they', 'give', 'you', '-', 'a', 'tartish', 'type', 'crepe,', 'which', 'goes', 'well', 'with', 'the', 'food.', \"I'd\", 'be', 'happy', 'to', 'go', 'back', 'and', 'try', 'something', 'different.', 'If', 'you', 'are', 'used', 'to', 'frozen', 'pizzas', 'and', 'Burger', 'King,', 'you', 'might', 'want', 'to', 'stick', 'with', 'that', 'as', 'this', 'experience', 'might', 'bit', 'be', 'as', 'enjoyable', 'as', 'those', 'who', 'are', 'more', 'open', 'to', 'what', 'they', 'consume.\"', '\"I', 'honestly', 'have', 'only', 'positive', 'things', 'to', 'say', 'about', \"Postino's\", 'since', 'every', 'one', 'of', 'my', 'visits', 'here', 'has', 'been', 'very', 'pleasant.', 'From', 'the', 'valet', 'who', 'is', 'running', 'his', 'ass', 'off', 'to', 'the', 'food', 'and', 'everything', 'in', 'between,', 'this', 'place', 'does', 'it', 'all', 'right!', 'If', 'you', 'go', 'here', 'hungry,', 'you', 'should', 'know', 'that', 'your', 'options', 'are', 'basically', 'a', 'panini,', 'a', 'salad', 'or', 'some', 'bruschetta.', \"I've\", 'had', 'a', 'little', 'bit', 'of', 'everything', 'and', 'for', 'the', 'value', 'and', 'quality', 'you', \"can't\", 'go', 'wrong', 'the', 'the', 'bruschetta.', 'I', 'recently', 'determined', 'my', 'favorite', 'to', 'be', 'the', 'ricotta,', 'dates', 'and', 'pistachio', 'but', 'a', 'close', 'second', 'is', 'the', 'salami', 'and', 'pesto.\\\\n\\\\nWine', 'by', 'the', 'glass', 'can', 'be', 'a', 'bit', 'steep', 'so', 'if', \"you're\", 'planning', 'to', 'stay', 'for', 'a', 'bit', 'and', 'can', 'agree', 'on', 'a', 'style', 'with', 'your', 'company,', 'you', 'might', 'be', 'better', 'off', 'getting', 'a', 'bottle.', 'A', 'bottle', 'is', 'pretty', 'much', '3x', 'the', 'price', 'of', 'a', 'glass', 'so', 'you', 'end', 'up', 'getting', '1', '1/2', 'glasses', 'extra.', 'Bonus!\\\\n\\\\nSomeday,', \"I'll\", 'actually', 'take', 'advantage', 'of', 'their', '$20', 'deal', 'for', 'wine', 'and', 'bruschetta!\"', \"'we\", 'went', 'back', 'here', 'again', 'this', 'past', 'weekend...actually', 'we', 'went', 'there', '3', 'more', 'times', 'this', 'past', 'weekend', 'alone!', 'we', \"couldn\\\\'t\", 'resist', 'the', 'awesome', 'service', 'and', 'great', 'prices...and', 'great', 'live', 'music.', 'this', 'is', 'definately', 'going', 'to', 'be', 'one', 'of', 'our', '\"regular', 'joints.\"', 'if', 'you', 'like', 'the', 'country...country', 'girls....and', 'good', 'old', 'rowdy', 'shit..then', 'stop', 'by', 'and', 'check', 'it', 'out', 'for', 'yourself.', 'i', 'bet', 'you', 'will', 'like', 'this', 'place.', '\\\\nthere', 'is', 'a', 'large', 'dance', 'floor', 'for', 'some', 'shit', \"kickin\\\\'\", '...about', '3', 'pool', 'tables..big', 'buck', 'hunter', 'and', 'an', 'outdoor', 'area', 'for', 'smokin', 'and', 'boozin', 'and', 'dart', \"throwin\\\\'.\", 'i', 'love', 'this', 'place.', 'this', 'is', 'what', 'toby', 'keith', 'should', 'have', 'been', 'singing', \"about...seriously!'\", '\"I', 'found', 'this', 'little', 'hot', 'spot', 'on', 'Yelp', 'and', 'used', 'my', 'phone', 'to', 'navigate', 'me', 'there;', 'I', \"wouldn't\", 'have', 'found', 'it', 'otherwise.', 'This', 'small', 'establishment', 'is', 'hidden', 'in', 'a', 'neighborhood', 'right', 'off', 'of', 'Historic', 'Downtown', 'Chandler.', \"It's\", 'a', 'quaint', 'little', 'diner', 'with', 'modest', 'décor.', 'I', 'felt', 'very', 'comfortable', 'there', 'and', 'the', 'service', 'was', 'fast', 'and', 'friendly.', 'As', 'I', 'looked', 'over', 'the', 'menu', 'the', 'first', 'thing', 'I', 'saw', 'was', 'the', 'Morning', 'Monte', 'and', 'havarti', 'cheese', 'as', 'one', 'of', 'the', 'ingredients.', 'Cheddar', \"isn't\", 'better;', \"it's\", 'all', 'about', 'havarti', 'folks!', 'I', \"needn't\", 'look', 'further;', 'I', 'knew', \"that's\", 'what', 'I', 'was', 'having.', 'Hawaiian', 'bread', 'French', 'toast,', 'bacon,', 'turkey,', 'egg', 'and', 'the', 'havarti', '-', 'absolutely', 'delicious!', \"Can't\", 'wait', 'to', 'come', 'back', 'and', 'bring', 'everyone', 'I', 'know.\"', '\"The', 'mall', 'of', 'malls,', 'for', 'sure!', 'So', 'many', 'designer', 'boutiques,', 'so', 'little', 'time!', 'On', 'this', 'trip,', 'I', 'was', 'given', 'the', 'utmost', 'in', 'attention', 'from', 'the', 'fabulous', 'women', 'at', 'the', 'Fossil', 'store....what', 'fun', 'they', 'were!', 'I', 'enjoyed', 'a', 'smoked', 'chicken', '&', 'black', 'bean', 'salad', '@', 'Z', 'Tejas', 'next', 'and', 'the', 'service', 'was', 'excellent.', 'I', 'then', 'perused', 'the', 'new', 'styles', 'at', 'Aqua', 'before', 'finding', 'a', 'great', 'pair', 'of', 'shades', 'at', 'Solstice', '=', \"shopper's\", 'bliss', ':)\\\\nThis', 'review', 'is', 'a', 'bit', 'late;', 'I', 'visited', 'the', 'center', 'on', '1/27/12', '-', 'and', \"I'll\", 'be', 'back', ':)\"', '\"What', 'an', 'unbelievable', 'night', 'we', 'had', 'at', \"Mastro's\", 'City', 'Hall', 'Steakhouse.', 'Everything', 'we', 'ate', 'was', 'top', 'notch,', 'the', 'atmosphere', 'is', 'fun,', 'and', 'the', 'service', 'is', 'spectacular.', 'How', 'many', 'steakhouses', 'play', 'Jim', 'Croce,', 'Beatles,', 'and', 'Beach', 'Boys?', \"It's\", 'a', 'very', 'welcome', \"change.\\\\n\\\\nIt's\", 'dark,', \"it's\", 'sexy,', 'and', \"it's\", 'probably', 'the', 'best', 'steakhouse', 'in', 'Arizona.', '\\\\n\\\\nThe', 'seafood', 'tower', 'featured', 'totally', 'fresh', 'and', 'delicious', 'oysters,', 'crab', 'legs,', 'claws,', 'and', 'huge', 'shrimp.', 'My', 'Kansas', 'City', 'Strip', 'was', 'out', 'of', 'this', 'world', 'and', 'probably', 'the', 'best', 'piece', 'of', 'meat', \"I've\", 'had', 'all', 'year.', 'Gorgonzola', 'mac', '&', 'cheese', 'and', 'sauteed', 'mushrooms', 'were', 'real', 'winners', 'as', 'well.', \"I'm\", 'not', 'a', 'dessert', 'person,', 'but', 'the', 'warm', 'butter', 'cake', 'should', 'be', 'illegal', \"it's\", 'so', 'good.', 'I', 'was', 'stuffed', 'already', 'when', 'it', 'came', 'to', 'the', 'table,', 'and', 'then', 'I', 'ate', 'all', 'of', 'it.', '\\\\n\\\\nThe', 'only', 'hiccup', 'all', 'night', 'was', 'our', 'seafood', 'tower', 'was', 'short', 'a', 'shrimp,', 'and', 'when', 'I', 'told', 'the', 'waiter', \"don't\", 'worry', 'about', 'it', 'he', 'said', 'ok,', 'and', 'then', 'proceeded', 'to', 'bring', 'us', 'a', 'fourth', 'shrimp', 'on', \"it's\", 'own', 'bed', 'of', 'ice.', 'It', 'was', 'a', 'really', 'top', 'notch', 'recovery.', 'This', 'place', 'is', 'absolutely', 'amazing.\"', '\"So', 'your', 'going', 'to', 'Scottsdale', 'via', 'Paradise', 'Valley....or', 'your', 'coming', 'from', 'Scottsdale', 'heading', 'east....your', 'stomach', 'is', 'growling', 'but', 'you', \"don't\", 'want', 'the', 'usual...then', 'look', 'no', 'further', 'than', \"Jason's\", 'Deli.', 'I', 'was', 'in', 'that', 'situation', 'on', 'Friday', 'night', 'and', 'decided', 'to', 'give', 'this', 'locale', 'a', 'try....and', 'I', 'must', 'say', 'I', 'was', 'not', 'disappointed.', 'I', 'had', 'the', 'Smokey', 'Jack', 'Panini', 'with', 'Smoked', 'turkey', 'breast....guacamole....provolone', 'cheese....lettuce...tomato....bacon', 'on', 'the', 'side', 'which', 'I', 'gave', 'to', 'my', 'wife....LOL...since', 'I', \"don't\", 'eat', 'red', 'meat....and', 'Russian', 'dressing.', 'However', 'sandwich', 'was', 'made', 'to', 'order', 'and', 'pressed', 'perfectly', 'on', 'the', 'grill....and', 'the', 'flavor', 'was', 'outstanding.', 'They', 'give', 'you', 'a', 'pickle', 'and', 'homemade', 'potato', 'chips', 'on', 'the', 'side....and', 'I', 'also', 'had', 'some', 'lemonade', 'which', 'comes', 'from', 'a', 'fountain', 'with', 'free', 'refills.', '\\\\n\\\\nI', 'almost', 'missed', 'out', 'on', 'the', 'free', 'Ice', 'Cream....but', 'I', 'seen', 'people', 'walking', 'around', 'with', 'cones', 'of', 'Ice', 'Cream', 'and', 'I', 'had', 'my', 'wife', 'ask', 'was', 'it', 'free.', 'Indeed', 'it', 'was', 'and', 'we', 'both', 'enjoyed', 'a', 'nice', 'Ice', 'Cream', 'cone....mine', 'was', 'chocolate', 'vanilla', 'swirl...and', 'you', 'can', 'also', 'get', 'it', 'in', 'a', 'cup', 'as', 'well.', 'The', 'service', 'was', 'great', 'and', 'the', 'whole', 'place', 'had', 'a', 'real', 'nice', 'neighborhood', 'feel', 'to', 'it.....I', 'look', 'forward', 'to', 'returning', 'here', 'very', 'soon.', 'Eat,', 'Drink,', 'and', 'be', 'Merry', 'my', 'Friends!!!!\"', '\"After', 'a', 'year', 'in', 'the', 'Valley,', 'one', 'of', 'my', 'girlfriends', 'took', 'me', 'to', 'Side', 'Bar.', 'I', 'really', 'like', 'the', 'atmosphere.', 'It', 'was', 'sleek', 'yet', 'cozy.', 'The', 'night', 'we', 'went', 'in,', 'it', 'was', 'hopping', 'but', 'not', 'overly', 'crowded.', 'A', 'welcome', 'sight', 'considering', 'much', 'of', 'my', 'first', 'year', 'in', 'the', 'Valley', 'was', 'spent', 'in', 'crowded,', 'pretentious', 'Scottsdale', 'hotspots.', '\\\\n\\\\nAs', 'I', 'get', 'older,', 'I', 'crave', 'more', 'intimate', 'setting', 'and', 'SideBar', 'fits', 'the', 'bill.', 'Also,', 'I', 'give', 'five', 'stars', 'to', 'any', 'business', 'who', 'goes', 'out', 'of', 'their', 'way', 'to', 'help', 'a', 'good', 'cause.', 'SideBar', 'is', 'just', 'that', 'kind', 'of', 'establishment.', 'If', 'anyone', 'is', 'on', 'Twitter,', 'follow', '#buzzcation.', '@SideBarphx', 'has', 'let', '#buzzcation', 'folks', 'hold', 'a', 'number', 'of', 'networking', 'and', 'fundraising', 'happy', 'hours.', \"It's\", 'a', 'cool', 'crew', 'so', 'come', 'out', 'and', 'joing', 'and', 'I', 'commend', 'SideBar', 'for', 'always', 'accomodating', 'this', 'crazy', 'crew', 'of', 'tweeples.', ':)\"', '\"I\\'ve', 'been', 'a', 'bunch', 'of', 'times', 'for', 'takeout', 'and', 'took', 'a', 'seriously', 'picky', 'foodie', 'friend', 'this', 'past', 'weekend.', 'Everything', \"I've\", 'had', 'here', 'has', 'been', 'excellent', 'and', 'I', 'mean,', 'excellent.', '\\\\n\\\\nIn', 'the', 'past', \"I've\", 'had', 'the', 'margherita', 'pizza,', 'eggplant', 'parm', 'and', 'fried', 'calamari.', 'All', 'good.', 'This', 'weekend', 'we', 'had', 'the', 'comp', 'tapenade,', 'beef', 'carpacchio,', 'lasagna', 'and', 'one', 'of', 'the', 'pizzas', \"(can't\", 'remember', 'name', '--', 'had', 'olives,', 'art', 'hearts,', 'ham', 'and', '?).', 'All', 'delicious.', 'The', 'lasagna', 'was', 'so', 'delicate', 'but', 'melded', 'perfectly', 'with', 'the', 'sauce.\\\\n\\\\nMy', 'very', 'particular', 'picky', 'friend', 'LOVED', 'the', 'place.', 'Seriously', 'loved', 'it.\"', '\"As', 'good', 'as', 'it', 'gets.', 'We', 'ate', 'here', 'for', 'a', 'birthday', 'celebration', 'and', 'we', 'were', 'taken', 'away', 'by', 'the', 'great', 'food', 'and', 'service', '(as', 'usual).', 'We', 'requested', 'the', 'V', 'Lounge', 'and', 'were', 'given', 'a', 'nice', 'corner', 'booth.', 'When', 'we', 'sat', 'down', 'there', 'was', 'a', 'birthday', 'card', 'signed', 'by', 'the', 'employees', 'of', 'the', 'restaurant', '--', 'a', 'very', 'nice', 'touch.', 'For', 'appetizers,', 'we', 'had', 'oysters', 'and', 'the', '(best)', 'crab', 'cakes', '(anywhere).', 'Steaks', 'and', 'seafood', 'as', 'our', 'main', 'courses', 'paired', 'well', 'with', 'the', 'red', 'cabernet', 'wine.', 'Overall,', 'just', 'incredible.', 'Completely', 'up', 'to', 'par', 'with', 'Eddie', \"V's\", 'standards', '--', 'comparing', 'to', 'Houston', 'and', 'Austin.', 'My', 'mom', 'forgot', 'her', 'sweater', 'at', 'the', 'booth', 'and', 'a', 'hostess', 'ran', 'out', 'to', 'give', 'it', 'to', 'her.', 'We', 'also', 'got', 'a', 'follow-up', 'phone', 'call', 'the', 'next', 'day', 'asking', 'how', 'everything', 'went.', 'For', 'those', 'special', 'occasions', 'or', 'a', 'fun', 'happy', 'hour,', 'Eddie', \"V's\", 'never', 'lets', 'you', 'down!', 'Also,', 'their', \"Banana's\", 'Foster', 'is', 'divine!', 'Save', 'room', 'for', 'it', 'or', 'just', 'stuff', 'your', 'face', 'and', 'go', 'to', 'the', 'gym', 'the', 'next', 'day', '--', 'delish!\"', '\"Heart', 'be', 'still', 'I', 'loved', 'this', 'place.', 'Way', 'better', 'than', 'I', 'expected.', 'I', 'had', 'the', 'spicy', 'noodles', 'and', 'they', 'were', 'delicious,', 'flavor', 'great', 'and', 'quality', 'was', 'on', 'point.', 'For', 'desert', 'the', 'sticky', 'rice', 'with', 'mango,', 'I', 'dream', 'about', 'it', 'now.', 'Highly', 'recommend', 'if', 'you', 'are', 'in', 'the', 'mood', 'for', 'Thai', 'food.', \"I'll\", 'be', 'back!\"', '\"Still', '5', 'stars,', 'but', 'sadly', 'Amber', 'is', 'closing', 'up', 'shop.', \"Don't\", 'feel', 'bad', 'for', 'her', 'as', 'it', 'is', 'not', 'for', 'the', 'lack', 'of', 'business.', 'She', 'is', 'getting', 'married', 'and', 'leaving', 'the', 'state', 'and', 'taking', 'Spoken', 'with', 'her.', 'Damn', 'her!!!', 'I', 'did', 'pick', 'up', 'some', 'jeans', 'and', '3', 'shirts,', 'all', 'at', '60%', 'off.', 'So', 'hurry', 'over', 'and', 'pick', 'up', 'some', 'bargains!', 'And', 'wish', 'Amber', 'good', 'luck!\"', '\"This', 'is', 'my', 'favorite', 'spa', 'in', 'the', 'world!', 'Hopefully,', \"I'll\", 'make', 'it', 'to', 'others...but', 'if', 'I', 'could', 'only', 'get', 'to', 'the', 'Camelback', 'Inn,', \"I'd\", 'be', 'in', 'heaven.', \"Here's\", 'the', 'rundown', 'of', 'how', 'I', 'enjoy', 'the', 'place:', 'Early', 'morning', 'appointment', 'for', 'massage', '-', 'Rose', 'does', 'fantastic', 'hot', 'stone', '-', 'I', 'like', 'her', 'the', 'best.', 'Then', 'I', 'shower', 'and', 'get', 'into', 'the', 'eucalyptus', 'steam', 'room.', 'Next', 'I', 'head', 'out', 'to', 'the', 'pool', 'and', 'savor', 'the', 'view', 'of', 'Camelback', 'Mountain', 'and', 'the', 'amazing', 'desert', 'landscaping', \"they've\", 'procured.', 'I', 'drink', 'some', 'water', 'and', 'as', 'I', 'lounge', 'there,', 'I', 'order', 'a', 'small,', 'healthy', 'and', 'very', 'tasty', 'meal', '(usually', 'breakfast).', 'I', 'swim', 'a', 'little,', 'lounge', 'a', 'lot', '-', 'regardless', 'of', 'the', 'time', 'of', 'year.', 'If', 'I', 'have', 'planned', 'it,', 'I', 'then', 'head', 'back', 'into', 'the', 'showers', 'and', 'clean', 'up', 'for', 'my', 'next', 'treatment.', 'I', 'spend', 'hours', 'there', 'and', 'if', 'I', 'feel', 'like', 'I', 'might', 'be', 'pressed', 'for', 'time,', 'I', 'reschedule.\"', \"'3\", 'syllables', 'for', 'this', 'place.', '\\\\nA-MAZ-ING!\\\\n\\\\nThe', 'best', 'Phoenix', 'has', 'to', \"offer.'\", '\"I\\'ve', 'been', 'coming', 'here', 'since', 'the', \"70's\", 'when', 'it', 'was', 'across', 'the', 'street', 'and', 'had', 'a', 'screen', 'door.', 'I', 'know', 'the', 'staff', 'and', 'the', 'daily', 'specials', 'by', 'heart.', 'When', 'I', 'lived', 'away', 'from', 'PHX', 'it', 'was', 'the', 'place', 'I', 'wished', 'for.', 'When', 'I', 'go', 'to', 'NYC', 'I', 'have', 'to', 'take', 'RM', 'food', 'to', 'my', 'friends.', 'The', 'whole', 'family', 'agrees.', 'I', \"don't\", 'understand', 'the', 'negative', 'reviews.', 'The', 'reviewers', 'must', 'have', 'had', 'a', 'bad', 'day.', 'I', 'love', 'the', 'food', 'and', 'so', 'has', 'everyone', 'I', 'know.\"', '\"The', 'food', 'and', 'service', 'were', 'both', 'amazing.', \"I've\", 'had', 'the', 'gyro', 'pita,', 'orzo', 'and', 'greek', 'potatoes.', 'All', 'were', 'fantastic.', 'Try', 'the', 'gelato', 'also.', \"It's\", 'the', 'best', 'in', 'town!', 'The', 'owners', 'are', 'very', 'friendly', 'and', 'happy', 'to', 'speak', 'with', 'each', 'customer.\"', '\"Rita\\'s', 'Kitchen', 'is', 'a', 'hidden', 'gem', 'located', 'right', 'smack', 'in', 'the', 'center', 'of', 'the', 'Camelback', 'Inn.', 'While', 'this', 'may', 'be', 'a', 'hot-spot', 'for', 'hotel', 'guests,', 'I', 'think', 'that', 'locals', 'might', 'be', 'missing', 'out', 'on', 'its', 'charm.', '\\\\n\\\\nI', 'am', 'a', 'huge', 'fan', 'of', 'anything', 'the', 'Camelback', 'Inn', 'does,', 'especially', 'since', 'they', 'offer', 'live', 'music', 'and', 'a', 'great', 'space', 'for', 'relaxation', 'and', \"Rita's\", 'Kitchen', 'is', 'no', 'exception.', 'This', 'restaurant', 'is', 'airy', 'and', 'opens', 'up', 'to', 'the', 'spacious', 'Camelback', 'Inn', 'patio', 'where', 'they', 'play', 'live', 'music', 'every', 'night.', '\\\\n\\\\nBreakfast:', '\\\\n\\\\nBreakfast', 'at', \"Rita's\", 'is', 'sublime', 'and', 'pretty', 'reasonably', 'priced.', 'They', 'offer', 'a', 'breakfast', 'buffet', 'for', 'around', '$23', 'which', 'includes', 'eggs', 'made', 'to', 'order', '(including', 'omelets),', 'pancakes,', 'waffles,', 'pastries,', 'fresh', 'fruit,', 'bacon,', 'sausage', 'and', 'hashbrowns.', \"It's\", 'a', 'great', 'pick', 'for', 'a', 'leisurely', 'weekend', 'breakfast.', 'Just', 'today', 'was', \"Mother's\", 'Day', 'and', 'while', 'we', 'only', 'did', 'the', 'breakfast', 'buffet,', 'I', 'did', 'catch', 'a', 'glimpse', 'of', 'the', \"Mother's\", 'Day', 'brunch', 'and', 'holy', 'moly', 'do', 'they', 'know', 'how', 'to', 'wow', 'a', 'crowd!', 'Not', 'only', 'did', 'they', 'have', 'stations', 'set', 'up', 'all', 'throughout', 'the', 'restaurant,', 'patio', 'and', 'R-Bar,', 'but', 'they', 'also', 'had', 'an', 'extensive', 'dessert', 'area', 'with', 'build-your-own', 'sundaes,', 'freshly', 'made', 'cotton', 'candy', '(in', 'an', 'old', 'fashioned', 'cotton', 'candy', 'maker)', 'and', 'a', 'long', 'dessert', 'table', 'with', 'a', 'chocolate', 'fountain.', '\\\\n\\\\nLunch:\\\\n\\\\nLunch', 'here', 'is', 'sublime', 'and', 'I', 'also', 'enjoy', 'either', 'the', 'tacos', 'or', 'the', 'chicken', 'sandwich.', 'The', 'chicken', 'sandwich', 'is', 'particularly', 'a', 'favorite', 'of', 'mine', 'due', 'to', 'the', 'cheese', 'and', 'sauce.', 'The', 'fries', 'are', 'tasty', 'as', 'well', 'and', 'you', 'can', 'either', 'get', 'sweet', 'potato', 'or', 'regular.', 'I', 'also', 'get', 'sweet', 'potato', 'then', 'regret', 'not', 'just', 'getting', 'the', 'regular', 'which', 'are', 'better', 'in', 'my', 'mind.', 'If', 'the', 'weather', 'permits,', 'sit', 'on', 'the', 'patio', 'and', 'enjoy', 'the', 'beautiful', 'water', 'fountains,', 'views', 'of', 'the', 'mountain', 'and', 'tropical/desert', 'setting.\"', \"'We\", 'happened', 'upon', 'this', 'location', 'when', 'meeting', 'a', 'friend', 'for', 'dinner.', 'When', 'I', 'showed', 'up', 'there', 'was', 'a', 'line', 'of', 'about', '20', 'people', 'ahead', 'of', 'me.', 'i', 'asked', 'them', 'to', 'put', 'me', 'in', 'first', 'available', 'and', 'they', 'said', '15-20min', 'and', 'then', '45min', 'for', 'a', 'booth.\\\\n\\\\nOk,', \"I\\\\'ll\", 'wait.\\\\n\\\\nOur', 'friends', 'showed', 'up', 'and', 'my', 'girlfriend', 'had', 'asked', 'if', 'there', 'was', 'a', 'spot', 'at', 'the', 'bar', 'we', 'could', 'sit', 'in', 'the', 'mean', 'time.', 'We', 'were', 'there', 'for', 'about', '10min', 'already.', \"That\\\\'s\", 'when', 'she', 'said', 'to', 'us.', '\"Your', 'table', 'inside', 'is', 'ready\"', 'she', 'walked', 'us', 'right', 'there', 'and', 'we', 'were', 'sat.', 'WOW!', 'that', 'was', 'quick!\\\\n\\\\nWe', 'ordered', 'drinks', 'and', 'food.', 'I', 'got', 'these', 'jerk', 'chicken', 'wings', 'for', 'an', 'appetizer', 'and', 'holy', 'cow,', 'they', 'were', 'delicious.', 'For', 'my', 'main', 'dish', 'I', 'ordered', 'a', 'garlic', 'noodle', 'dish.', 'It', 'definitely', 'hit', 'the', 'spot.', 'My', 'only', 'beef', 'would', 'be', 'that', 'it', 'was', 'hard', 'to', 'talk', 'with', 'so', 'many', 'people', 'inside.', 'I', 'wont', 'let', 'that', 'affect', 'the', 'rating', 'though.\\\\n\\\\nAwesome', \"place!'\", '\"We', 'stayed', 'at', 'the', 'Hyatt', 'Gainey', 'Ranch', 'during', 'spring', 'break', 'and', 'had', 'a', 'fabulous', 'time.', 'We', 'ate', 'at', 'SWB', 'for', 'lunch', 'and', 'enjoyed', 'it', 'so', 'much', 'we', 'ordered', 'dinner', 'that', 'evening', 'to', 'eat', 'in', 'the', 'room', 'with', 'our', 'kids.', 'My', 'husband', 'ordered', 'me', 'the', 'chocolate', 'caramel', 'tart', 'which', 'turned', 'out', 'to', 'be', 'one', 'of', 'the', 'best', 'desserts', \"I've\", 'ever', 'had.', 'I', 'tried', 'looking', 'for', 'the', 'recipe', 'and', \"couldn't\", 'find', 'it', 'so', 'I', 'figured', 'it', \"wouldn't\", 'hurt', 'to', 'ask', 'for', 'it.', 'Surprisingly', 'I', 'received', 'an', 'almost', 'immediate', 'response', 'from', 'the', 'hotel', 'that', 'they', 'would', 'let', 'the', 'chef', 'know.', 'Within', 'a', 'few', 'hours', 'the', 'recipe', 'from', 'the', 'chef', 'was', 'in', 'my', 'e-mail', 'with', 'additional', 'tips!', 'Now', 'I', 'call', 'that', 'customer', 'service.', 'We', 'loved', 'the', 'hotel', 'and', 'loved', 'the', 'restaurant.', 'Looking', 'forward', 'to', 'going', 'back', 'someday.\"', '\"Called', 'these', 'guys', 'when', 'an', 'evap', 'cooler', 'water', 'pressure', 'line', 'at', 'my', 'office', 'burst.', 'A', 'guy', 'with', 'a', 'clean', 'white', 'shirt', 'tucked', 'in', 'to', 'his', 'pants', 'introduced', 'himself', 'to', 'me,', 'assessed', 'my', 'problem,', 'and', 'quoted', 'a', 'very', 'fair', 'price', 'to', 'fix', 'it.', 'This', 'guy', 'was', 'way', 'too', 'clean,', 'personable', 'and', 'professional', 'to', 'be', 'the', 'plumber?', 'He', 'went', 'right', 'to', 'work', 'and', 'had', 'everything', 'back', 'to', 'normal', 'for', 'me', 'in', 'no', 'time!', 'You', 'have', 'to', 'understand...', 'I', 'am', 'use', 'to', 'a', 'dirty,', 'loud,', 'intrusive', 'plumber', 'that', 'smiles', 'with', 'his', 'butt!', 'These', 'guys', 'won', 'me', 'over', 'and', 'their', 'telephone', 'number', '623-977-4458', 'is', 'in', 'my', 'cell', 'phone', 'now.', 'I', 'highly', 'recommend', \"Palmer's\", 'Plumbing!!!\"', '\"I', 'got', 'a', 'coupon', 'at', 'a', 'past', 'Yelp', 'event', 'to', 'try', 'them', 'out', 'and', \"I'm\", 'SO', 'glad', 'I', 'did!', 'Massage', 'Envy', 'really', 'exceeded', 'my', 'wildest', 'expectations', 'for', 'a', 'chain', 'that', 'offers', 'affordable', 'rates', 'for', 'massage', 'therapy.', 'I', 'was', 'pleasantly', 'surprised', 'by', 'the', 'level', 'of', 'expertise', 'and', 'professionalism', 'that', 'I', 'experienced!\\\\n\\\\nMy', 'massage', 'therapist', 'was', 'Dannie', 'and', 'she', 'worked', 'through', 'my', 'trigger', 'points', 'and', 'loosened', 'my', 'tight', 'muscles', 'with', 'an', 'intuition', 'that', 'I', 'have', 'rarely', 'experienced.\\\\n\\\\nI', 'highly', 'recommend', 'this', 'place', 'and', 'hope', 'to', 'return', 'soon!\"', \"'Ask\", 'for', 'Alex', '-', 'he', 'is', 'very', 'helpful', 'and', 'knowledgeable', 'with', 'products', 'in', 'the', 'store.', 'He', 'is', 'a', 'young', 'college', 'student', 'and', 'works', 'part', 'time', 'but', 'always', 'has', 'a', 'great', 'attitude', 'and', 'finds', 'the', 'best', 'deals', 'for', 'our', 'family.', 'Thanks', \"Alex!'\", '\"It\\'s', 'the', 'place', 'to', 'be.', '\\\\n\\\\nI', 'went', 'before', 'heading', 'over', 'to', 'Symphony', 'Hall', 'and', 'seeing', 'Ballet', 'AZ', 'perform', 'Giselle.', 'Having', 'heard', 'great', 'reviews', 'about', 'the', 'place,', \"it's\", 'food', 'and', 'the', 'vibe...', 'I', 'had', 'to', 'try', 'it.\\\\n\\\\nRestored', 'into', 'a', 'restaurant', 'and', 'bar', 'from', 'an', 'old', 'department', 'store,', \"Hanny's\", 'has', 'the', 'feel', 'straight', 'of', 'of', 'New', 'York', 'City.', 'The', 'lighting', 'is', 'dim', 'enough', 'to', 'give', 'that', 'sexy,', 'intimate', 'feelings', 'and', 'with', 'long,', 'pew', 'style', 'seating', 'with', 'individual', 'tables,', 'the', 'vibe', 'is', 'very', 'posh.\\\\n\\\\nMy', 'roommate', 'and', 'I', 'ordered', 'the', 'bruscetta', 'plate', 'and', 'the', 'margarita', 'pizza.', 'Very', 'good', 'choice!', 'The', 'bruscetta', 'plate', 'was', 'on', 'the', 'saltier', 'side,', 'so', 'be', 'wary', 'of', 'that', 'but', 'it', 'was', 'delish.', 'The', 'pizza', 'was', 'much', 'bigger', 'than', 'we', 'expected.', 'For', '$10', 'you', 'really', 'do', 'get', 'a', 'good', 'deal.', '\\\\n\\\\nWe', 'each', 'orded', 'drinks.', 'A', 'orded', 'the', 'peach', 'martini', 'and', 'a', 'glass', 'of', 'giseling.', \"Wasn't\", 'a', 'HUGE', 'fan', 'of', 'the', 'martini', 'and', 'I', 'thought', 'it', 'tasted', 'like', 'cough', 'syrup', 'but', 'it', 'was', 'also', 'my', 'very', 'first', 'martini', 'so', 'I', 'am', 'not', 'holding', 'Hannys', 'against', 'anything.', 'My', 'roommate', 'on', 'the', 'other', 'hand', 'said', 'it', 'was', 'the', 'best', 'Manhattan', \"he'd\", 'ever', 'had,', 'which', 'I', 'believe.\\\\n\\\\nHannys', 'has', 'a', 'modern', 'feel', 'with', 'a', 'touch', 'of', 'Mad', 'Men', 'and', 'I', 'simply', 'cannot', 'wait', 'to', 'go', 'back.\"', '\"Definitely', 'one', 'of', 'my', 'favorite', 'places', 'to', 'eat,', 'hands', 'down.', 'I', 'love', 'their', 'enchiladas', 'verdes', 'combo.', 'Their', 'refried', 'beans', 'are', 'THE', 'BEST!', 'I', 'have', 'been', 'eating', 'here', 'for', 'over', '15', 'years', 'and', 'the', 'waitresses', 'are', 'mostly', 'the', 'same.', 'Definitely', 'feels', 'like', 'you', 'are', 'at', 'an', 'old', 'friends', 'house', 'when', 'you', 'are', 'there.', 'Yes,', 'it', 'is', 'in', 'a', 'bad', 'area,', 'but', 'that', \"hasn't\", 'ever', 'deterred', 'me', 'from', 'telling', 'everyone', 'I', 'know', 'that', 'if', 'they', 'want', 'really', 'good,', 'real', 'Mexican', 'food', 'at', 'a', 'great', 'price,', 'to', 'head', 'down', 'there.', 'And', 'their', 'green', 'salsa', 'for', 'dipping', 'chips', 'is', 'amazing.\"', '\"This', 'is', 'a', 'great', 'QT', 'for', 'when', \"you're\", 'driving', 'through', 'Phoenix', 'on', 'I-17.', \"It's\", 'right', 'off', 'the', 'freeway', 'so', \"it's\", 'perfect', 'for', 'stopping', 'for', 'gas', 'and', 'grabbing', 'a', 'tasty', 'snack.\\\\n\\\\nPlus', \"it's\", 'a', 'QuikTrip,', 'there', \"isn't\", 'really', 'any', 'part', 'of', 'it', 'that', \"isn't\", 'awesome.\"', '\"flemings', 'is', 'always', 'top', 'notch.', 'we', 'went', 'for', 'the', 'thursday', 'night', 'wine', 'tasting', '20', 'wines', 'for', '$25', 'introducing', 'there', 'new', '100', 'wines', 'by', 'the', 'glass.', 'The', 'selection', 'was', 'good', 'from', 'lite', 'whites', 'to', 'deep', 'reds', 'a', 'great', 'way', 'to', 'sample', 'a', 'portion', 'of', 'there', 'new', 'wine', 'list.', 'then', 'to', 'top', 'it', 'off', 'we', 'received', '$25', 'gift', 'cards', 'for', 'dinner.', 'so', 'we', 'stayed', 'and', 'had', 'the', 'AZ', 'resturant', 'week', 'pre', 'fix', 'dinner', 'for', '$39', 'the', 'food', 'was', 'wonderful.', 'salads,', 'soup', 'lamb', 'chops', 'and', 'filet.', 'i', 'guess', 'to', 'sum', 'it', 'up', 'you', \"can't\", 'go', 'wrong', 'with', 'a', 'meal', 'from', 'flemings.', 'they', 'also', 'have', 'a', 'great', 'happy', 'hour.\"', '\"I', 'really', 'like', 'this', 'place', 'and', 'I', 'must', 'say', \"it's\", 'the', 'best', 'pizza', 'I', 'have', 'had', 'West', 'of', 'Chicago.', 'The', 'sauce', 'is', 'on', 'the', 'sweet', 'side,', 'but', 'I', 'like', 'that.', \"It's\", 'kid', 'friendly', 'so', \"it's\", 'a', 'great', 'casual', 'place', 'to', 'be', 'with', 'family', 'and', 'friends', 'without', 'a', 'pretentious', 'side', 'to', 'it.\\\\n\\\\nThe', 'lines', 'can', 'be', 'a', 'little', 'long', 'at', 'times', 'but', 'I', 'think', \"it's\", 'worth', 'the', 'wait.\"', \"'Green\", 'is', 'by', 'far', 'one', 'of', 'my', 'favorite', 'restaurants', 'to', 'eat', 'at.', 'My', 'husband', 'loves', 'it', 'too', 'and', 'he', 'is', 'a', 'carnivore!', 'Our', 'favorite', 'things', 'to', 'get', 'are', 'the', '\"boneless', 'buffalo', 'wings\"', 'and', 'something', 'that', 'another', 'customer', 'shared', 'with', 'me', 'while', 'waiting', 'in', 'line', 'that', 'is', 'not', 'on', 'the', 'menu', '\"the', \"Wendy\\\\'s\", 'pickle', 'sandwich\"', 'It', 'is', 'amazing!', 'Another', 'special', 'they', 'have', 'from', 'time', 'to', 'time', 'is', '\"the', 'big', 'WAC\"', 'and', 'I', 'must', 'say', 'it', 'is', 'better', 'than', 'the', 'real', \"thing!!!!!'\", \"'This\", 'is', 'a', 'must', 'try', 'for', 'any', 'Mani', 'Pedi', 'fan.', 'I', 'use', 'to', 'drive', 'to', 'Scottsdale', 'for', 'all', 'of', 'my', 'services', 'until', 'I', 'found', 'this', 'spot.', 'Get', 'the', 'pedi,', 'no', 'metal', 'file', 'pedi', 'once', '-', 'and', 'you', 'will', 'NEVER', 'go', 'any', 'where', 'else.', 'Have', 'fun.', 'I', 'do..Customer', 'service', '-', 'top', 'end.', \"Thanks'\", \"'I\", 'had', 'the', 'best', 'culinary', 'experience', 'of', 'my', '8', 'years', 'in', 'Phoenix', 'tonight.', 'First', 'time', 'at', 'Switch.', 'Started', 'off', 'with', 'some', 'appetizers;', 'pesto', '&', 'sun', 'dried', 'tomato', 'risotto,', 'marinated', 'chicken', 'breast,', 'Mac', 'n', 'cheese.', 'All', 'delicious!', '\\\\n\\\\nNext', 'my', 'wife', 'orders', 'the', 'blackened', 'salmon.', 'I', 'looked', 'at', 'her', 'with', 'my', 'wtf', 'scowl.', 'We', \"don\\\\'t\", 'even', 'eat', 'seafood.', '\"It', 'looks', 'interesting\"', 'she', 'says.', 'Whatever.', 'It', 'gets', 'to', 'the', 'table', 'and', \"it\\\\'s\", 'the', 'biggest', 'hunk', 'of', 'salmon', \"I\\\\'ve\", 'seen.', 'We', 'simultaneously', 'stab', 'into', 'it', 'with', 'our', 'forks,', 'take', 'a', 'bite,', 'and', 'we', 'look', 'at', 'each', 'other', 'like', 'the', 'first', 'time', 'we', 'fell', 'in', 'love.', 'The', 'combination', 'of', 'the', 'salmon,', 'bacon', 'and', 'sautéed', 'greens', 'was', 'out', 'of', 'this', 'world.', 'Coupled', 'with', 'the', 'bread', 'pudding', 'and', 'sweet', 'tomato', 'concoction', 'put', 'me', 'over', 'the', 'top.', '\\\\n\\\\nWe', 'let', 'the', 'waitress', 'know', 'what', 'we', 'experienced', 'and', 'to', 'thank', 'the', 'chef.', 'She', 'brought', 'him', 'out', 'and', 'he', 'spoke', 'with', 'us', 'for', 'about', '15', 'minutes.', 'Jason', 'is', 'touched', 'by', 'the', 'hand', 'of', 'God.', 'He', 'proceeded', 'to', 'tell', 'us', 'what', 'he', 'had', 'planned', 'for', \"tomorrow\\\\'s\", 'dinner', 'menu', 'and', 'we', 'made', 'reservations', 'on', 'the', 'spot', 'for', 'tomorrow', 'night.', '\\\\n\\\\nI', 'never', 'knew', 'food', 'could', 'profoundly', 'affect', 'your', 'mood', 'but', 'I', 'was', 'driving', 'home', 'singing', 'my', 'heart', 'out', 'to', 'my', 'iPod.', 'Got', 'home,', 'plugged', 'the', 'iPod', 'into', 'the', 'stereo', 'and', 'continued', 'the', 'concert,', 'danced', 'with', 'my', 'dog', 'and', 'made', 'me', 'a', 'latte.', 'Perfect', 'night.', '\\\\n\\\\nThank', 'you', 'Jason', 'and', \"Switch.'\", '\"New', 'to', 'the', 'Scottsdale', 'area,', \"I've\", 'been', 'searching', 'for', 'a', 'nail', 'salon', 'for', 'a', 'few', 'weeks.', 'I', 'stumbled', 'upon', 'this', 'place', 'and', 'was', 'very', 'happy.', 'Although', \"it's\", 'in', 'a', 'weird', 'strip', 'mall,', \"it's\", 'really', 'relaxing', 'inside.', 'My', 'gel', 'manicure', 'was', 'perfect,', 'and', 'the', 'shoulder', 'massage', 'was', 'a', 'nice', 'added', 'extra!', 'Totally', 'recommend!\"', \"'The\", 'pizza', 'is', 'incredible,', 'they', 'use', 'really', 'high', 'quality', 'ingredients', 'and', 'the', 'prices', 'are', 'great.', 'I', 'would', 'recommend', 'cooking', 'it', 'on', 'the', 'bottom', 'rack', 'of', 'your', 'oven', 'for', 'a', 'slightly', 'better', 'texture', 'on', 'the', 'crust.\\\\n\\\\nI', 'want', 'someone', 'to', 'mark', 'that', 'this', 'post', 'is', 'funny,', 'so', 'I', 'will', 'add', 'a', 'joke:\\\\n\\\\nMushroom', 'walks', 'into', 'a', 'bar...', 'Bartender', 'says,', '\"sorry,', 'we', \"don\\\\'t\", 'serve', 'your', 'type', 'here.\"', 'Mushroom', 'says', '\"why', 'not?', \"I\\\\'m\", 'a', 'fungi', '(fun', 'guy).\"\\'', \"'RIP\", 'AZ', 'Coffee', 'Connection.', ':(', 'I', 'stopped', 'by', 'two', 'days', 'ago', 'unaware', 'that', 'they', 'had', 'closed.', 'I', 'am', 'severely', 'bummed.', 'This', 'place', 'is', 'irreplaceable!', 'Damn', 'you,', 'Starbucks', 'and', \"McDonalds!'\", \"'I\", 'am', 'ready', 'to', 'update', 'you', 'to', 'a', 'five', 'because', 'the', 'last', 'three', 'times', 'I', 'have', 'been', 'there,', 'your', 'service', 'has', 'been', 'better,', 'the', 'huevos', 'rancheros', 'has', 'been', 'consistently', 'perfect,', 'I', 'have', 'never', 'had', 'to', 'wait', 'for', 'a', 'seat', 'at', 'the', 'bar', 'and', 'I', 'want', 'to', 'hug', 'the', 'cute', 'new', 'bartender', 'because', 'she', 'is', 'quirkily', 'cute!!', '\\\\n\\\\nIf', 'you', 'were', 'still', 'serving', 'breakfast', 'at', '6pm,', 'I', 'would', 'come', 'eat', 'you', \"now.'\", '\"I', 'have', 'passed', 'this', 'place', 'for', '20', 'years', 'and', 'had', 'always', 'heard', 'good', 'things.', 'Well', 'one', 'night', 'when', 'we', 'were', 'kidless', 'we', 'went.', 'It', 'was', 'pricier', 'that', 'we', 'thought', 'but', 'we', 'forgot', 'the', 'price', 'once', 'the', 'meals', 'arrived.', 'We', 'were', 'both', 'very', 'impressed.', 'Warm', 'homemade', 'bread.', 'Awesome', 'salads.', 'I', 'tried', 'the', 'escolar', \"(it's\", 'a', 'fish', 'that', 'a', 'friend', 'of', 'mine', 'loved', 'but', 'I', 'had', 'never', 'tried', 'it)', 'and', 'it', 'absolutely', 'melted', 'in', 'my', 'mouth.', 'My', 'husband', 'enjoyed', 'his', 'sausage', 'and', 'peppers.', 'We', 'will', 'definitely', 'go', 'back!\"', '\"Once', 'again', 'Wildflower', 'proves', 'why', \"it's\", 'my', 'favorite', 'breakfast', 'hangout!', 'Jeff', 'the', 'Manager', 'on', 'staff', 'today', 'rocks!', '\\\\n\\\\nSome', 'of', 'us', 'hangout', 'at', 'a', 'restaurant', 'to', 'make', 'it', 'a', 'working', 'meal...and', 'sometimes,', 'during', 'that', 'time', 'Nature', 'calls...so', 'I', 'asked', 'the', 'busboy', 'to', 'not', 'clear', 'my', 'table', 'as', 'I', 'needed', 'to', 'step', 'away', 'for', 'a', 'moment', 'and', 'he', 'cheerfully', 'agreed.', 'I', 'came', 'back', 'to', 'find', 'my', 'table', 'cleared', 'by', 'new', 'patrons', 'who', 'had', 'taken', 'it', 'upon', 'themselves', 'to', 'steal', 'my', 'table', '(I', 'guess', 'the', 'fact', 'that', 'the', 'food', 'was', 'only', 'half', 'eaten,', 'and', 'the', 'water', 'and', 'coffee', 'were', 'still', 'half', 'filled', 'were', 'no', 'clue).', 'The', 'busboy', 'was', 'upset', 'that', \"he'd\", 'turned', 'his', 'back', 'for', 'just', 'a', 'moment', 'and', 'Jeff', 'came', 'to', 'the', 'rescue...after', 'apologizing', 'to', 'me', 'and', 'finding', 'the', 'perfect', 'way', 'to', 'make', 'it', 'right,', 'he', 'vowed', 'to', 'let', 'the', 'new', 'people', 'know', 'that', 'they', 'were', 'rather', 'um', \"'overly\", \"proactive'\", 'in', 'clearing', 'the', 'table', 'themselves', 'and', 'that', 'he', 'had', 'some', 'people', 'who', 'regularly', 'relaxed', 'and', 'worked', 'in', 'the', 'restaurant', 'and', 'do', 'step', 'away.\\\\n\\\\nHe', 'handled', 'the', 'situation', 'with', 'me', 'just', 'right', 'and', 'I', 'am', 'sure', 'that', 'those', 'people', 'that', 'took', 'my', 'table', 'were', 'made', 'to', 'gently', 'understand', 'that', 'they', 'need', 'to', 'ask', 'before', 'taking', 'an', 'uncleared', 'table.\\\\n\\\\nKudos', 'to', 'Jeff', 'and', 'the', 'staff', 'for', 'making', 'me', 'so', 'happy', 'I', 'had', 'to', 'tell', 'everyone', 'here...and', 'to', 'the', 'couple', 'who', 'took', 'my', 'table,', 'if', 'you', 'are', 'reading', 'this...did', 'you', 'REALLY', 'need', 'that', 'booth?', 'I', 'mean,', 'when', 'I', 'came', 'out', 'of', 'the', 'can', 'there', 'were', 'like,', 'I', 'dunno,', '5', 'empty', 'tables...seriously?', 'Like,', 'did', 'you', 'propose', 'there', 'or', 'something????\"', '\"There', 'are', 'no', 'words', 'to', 'express', 'the', 'value', 'of', 'the', 'quality', 'of', 'service', 'that', 'you', 'receive', 'from', 'Tina', \"Yragui's\", 'Hands', '4', 'Healing', 'therapeutic', 'overall', 'body', 'care.', 'The', 'value', 'of', 'knowledge', 'of', 'the', 'body,', 'the', 'commitment', 'of', 'service,', 'the', 'excellence', 'of', 'research', 'for', 'each', 'individual', 'client.', 'The', 'degree', 'that', 'she', 'possesses', 'cannot', 'be', 'measured', 'with', 'a', 'dollar', 'amount', 'because', 'no', 'dollar', 'amount', 'can', 'beat', 'this', 'value.', 'It', 'is', 'value', 'what', 'goes', 'far', 'beyond', 'what', 'you', 'receive', 'each', 'and', 'every', 'time', 'you', 'see', 'Tina.', '\\\\n\\\\nTina', 'is', 'a', 'healer', 'and', 'is', 'dedicated', 'to', 'you.', '\\\\n\\\\nIt', 'just', \"doesn't\", 'get', 'any', 'better!\\\\n\\\\nCarol', 'Taylor-Tassone\\\\nErica', 'Elizabeth', 'Tassone\"', '\"I', 'have', 'been', 'here', 'many', 'times,', 'pretty', 'much', \"can't\", 'go', 'wrong', 'here.', 'prices', 'are', 'good', 'service', 'is', 'prompt', 'and', 'friendly.\"', '\"As', 'an', 'artist,', \"I've\", 'come', 'to', 'be', 'very', 'picky', 'about', 'the', 'stores', 'from', 'which', 'I', 'purchase', 'my', 'art', 'supplies.', 'Arizona', 'Art', 'Supply', 'is', 'a', 'GREAT', 'store!!!', 'Every', 'time', 'I', 'visit', 'I', 'overhear', 'the', \"staff's\", 'experienced', 'recommendations;', 'they', 'take', 'the', 'time', 'to', 'ensure', 'that', 'every', \"customer's\", 'needs', 'are', 'satisfied.', '\\\\n\\\\nI', 'am', 'always', 'immediately', 'welcomed', 'as', 'I', 'delve', 'into', 'the', 'fully', 'stocked', 'and', 'well-organized', 'aisles.', 'Yes,', 'this', 'is', 'my', 'kind', 'of', 'art', 'supply', 'store!', 'As', 'I', 'browse', 'the', 'expansive', 'selection', 'of', 'everything', 'from', 'drawing', 'supplies', 'to', 'paint,', 'easels', 'and', 'canvases', 'to', 'ceramic', 'tools,', 'an', 'overwheming', 'desire', 'to', 'create', 'comes', 'over', 'me.', 'AZ', 'Art', 'Supply', 'has', 'a', 'HUGE', 'selection', 'of', 'my', 'favorite', 'brands--Prismacolor', 'and', 'Golden', 'Paints!', '\\\\n\\\\nAlthough', 'this', 'store', 'is', 'smaller,', 'the', 'prices', 'are', 'reasonable--they', 'beat', 'out', \"Michael's\", 'prices', 'for', 'nearly', 'every', 'item.', 'If', \"you're\", 'looking', 'for', 'exceptional', 'quality,', 'a', 'diverse', 'selection', 'and', 'a', 'knowledgeable', 'staff,', 'Arizona', 'Art', 'Supply', 'is', 'your', 'best', 'bet.\"', \"'So\", 'yummy', 'in', 'my', 'tummy.', 'My', 'sister', 'and', 'I', 'went', 'here', 'for', 'dinner', 'and', 'the', 'food', 'was', 'as', 'always--', 'very', 'yummy.', 'We', 'had', 'the', 'marinated', 'BBQ', 'pork', 'and', 'the', 'seafood', 'hot', 'pot', 'at', 'hot.', 'We', 'finished', 'half', 'the', 'of', 'the', 'plates', 'because', 'they', 'give', 'you', 'a', 'lot.', 'It', 'would', 'be', 'better', 'of', 'the', 'price', \"wasn\\\\'t\", 'as', 'pricey.', 'But', 'overall,', 'awesome', 'service', 'and', 'yummy', 'food!', 'We', 'will', 'be', 'back!!\\\\n\\\\nThey', 'first', 'serve', 'you', 'lil', 'condiment', 'plates', 'from', 'seaweed', 'to', 'kimchi', '(spicy', 'marinated', 'cabbage', 'that', 'has', 'been', 'fermentated).', 'When', 'they', 'serve', 'you', 'your', 'food,', 'they', 'will', 'ask', 'if', 'you', 'want', 'egg', 'in', 'the', 'soup--', 'of', 'course!!!', 'They', 'crack', 'it', 'in', 'front', 'of', 'you', 'in', 'the', 'sizzling', 'hot', 'soup...drools.', 'Serving', 'you', 'some', 'extra', 'rice', 'for', 'the', 'soup', 'and', 'pork.', 'We', 'had', 'to', 'pack', 'to', 'go', 'boxes', 'because', 'it', 'was', 'a', 'lot', 'of', 'food.', '\\\\n\\\\nToday,', 'we', 'went', 'again', 'for', \"Father\\\\'s\", 'Day', 'and', 'our', 'family', 'agreed', 'this', 'was', 'so', 'yummy.', 'We', 'had', 'the', 'BBQ', 'pork', 'again', 'with', 'Dumpling', 'Tofu', 'soup', '(\"Yum-O\"', 'Rachael', 'Ray)', 'and', 'Bibimbap', 'with', 'rice!', 'The', 'Bibimbap', 'was', 'okay', 'but', 'everything', 'was', 'excellent.', 'Our', 'family', 'of', 'five', 'finished', 'nearly', 'everything.', ':D', 'so', 'GOOOOOD!', 'Going', 'to', 'come', 'back', 'soon!', '\\\\n\\\\nCheck', 'this', 'place', \"out!'\", \"'LOVE\", 'the', \"food!!!!'\", '\"I', 'am', 'a', 'huge', 'Suns', 'fan', 'but', 'my', 'review', 'is', 'about', 'the', 'fundraising', 'options', 'that', 'the', 'Suns', 'have', 'to', 'offer', 'as', 'well', 'as', 'their', 'back-office', 'staff.\\\\n\\\\nFirst', 'and', 'foremost,', 'talk', 'about', 'a', 'professional,', 'classy', 'organization.', 'Whether', 'you', 'have', 'fundraising', 'experience', 'or', 'are', 'a', 'total', 'novice,', 'the', 'staff', 'treats', 'you', 'like', 'you', 'are', 'the', 'only', 'group', 'they', 'are', 'working', 'with.', 'My', 'contact', 'is', 'Kyle', 'Pottinger', 'and', 'he', 'is', 'always', 'a', 'gentleman.', 'No', 'matter', 'what', 'questions', 'I', 'have,', 'he', 'always', 'answers', 'them', 'promptly', 'and', 'never', 'makes', 'me', 'feel', 'like', \"I'm\", 'bothering', 'him.', '\\\\n\\\\nThe', 'fundraising', 'process', 'is', 'easy', 'and', 'the', 'tickets', 'practically', 'sell', 'themselves', 'because', 'who', \"doesn't\", 'want', 'the', 'chance', 'to', 'purchase', 'discounted', 'tickets?', '\\\\n\\\\nThe', 'process', 'is', 'easy', 'and', 'the', 'rewards', 'can', 'be', 'lucrative', 'depending', 'on', 'the', 'target', 'audience', 'you', 'are', 'working', 'with.', 'The', 'Suns', 'will', 'treat', 'you', 'professionally', 'and', 'courteously.', 'You', \"won't\", 'be', 'disappointed.\"', '\"These', 'guys', 'helped', 'me', 'out', 'with', 'my', 'rear', 'windshield', 'wiper.', 'They', 'could', 'have', 'just', 'shrugged', 'their', 'shoulders', 'and', 'said', 'they', \"didn't\", 'have', 'the', 'part,', 'but', 'they', 'worked', 'with', 'me', 'and', 'tried', 'a', 'couple', 'of', 'different', 'options', 'until', 'we', 'found', 'a', 'solution.', 'Everyone', 'I', 'encountered', 'was', 'great.\"', \"'Eating\", 'in', 'is', 'a', 'decent', 'experience,', 'but', 'for', 'delivery,', 'I', 'have', 'yet', 'to', 'meet', 'their', 'match.', 'When', 'I', 'order', 'delivery', 'I', 'always', 'get', 'a', '16\"', 'chicken', 'pizza', 'with', 'alfredo', 'sauce', 'on', 'top,', 'and', 'for', 'the', 'last', '6', 'years', 'I', 'have', 'received', 'it', 'in', '30', 'minutes', 'or', 'less', 'all', 'but', '2', 'times.', 'Its', 'always', 'tasty,', 'fresh,', 'and', 'is', 'my', 'preeminent', 'food', 'for', 'delivery,', 'ever,', \"period.'\", \"'I\", 'love', 'boba', 'drinks', 'but', 'hate', 'the', 'word', '\"boba\".', 'I', 'always', 'feel', 'like', 'an', 'ape', 'when', 'I', 'say', 'that', 'word.', '\\\\n', '\\\\nAnyways.\\\\n\\\\nThere', 'was', 'a', 'period', 'where', 'I', 'use', 'to', 'drink', 'this', 'stuff', 'at', 'least', '3', 'times', 'a', 'week', 'when', 'I', 'was', 'living', 'in', 'San', 'Francisco,', 'so', 'when', 'I', 'say', 'I', 'love', 'something,', 'I', 'really', 'do', '(or', 'is', 'it', 'more', 'like', 'a', 'creepy', 'obsession?)', 'So!', 'When', 'I', 'found', 'a', 'boba', 'place', 'here', 'I', 'got', 'excited,', 'especially', 'when', 'I', 'saw', 'that', 'they', 'had', 'green', 'milk', 'tea.\\\\n\\\\nI', \"can\\\\'t\", 'vouch', 'for', 'all', 'of', 'their', 'drinks,', 'as', \"I\\\\'ve\", 'only', 'tried', 'the', 'green', 'milk', 'tea', 'and', 'avocado', 'snow,', 'but', 'every', 'time', 'I', 'have', 'ordered', 'them', 'they', 'have', 'been', 'super', \"good.'\", '\"I', 'found', 'Cake', 'Frenzy', 'through', 'an', 'service', 'listing', 'on', 'Craigslist', 'while', 'looking', 'for', 'someone', 'to', 'create', 'our', 'wedding', 'cake/cupcakes.', 'Not', 'only', 'were', 'we', 'on', 'a', 'tight', 'budget', 'we', 'only', 'had', 'about', '2', '1/2', 'months', 'to', 'plan', 'for', 'the', 'venue', 'we', 'wanted', 'only', 'had', 'a', 'few', 'dates', 'available.', 'I', 'met', 'Jennifer', 'about', 'a', 'month', 'prior,', 'my', \"fiance'\", 'and', 'I', 'knew', 'we', 'wanted', 'a', 'peanut', 'butter', '&', 'jelly', 'cake', 'and', 'she', 'happily', 'obliged.', 'I', 'emailed', 'her', 'a', 'picture', 'of', 'what', 'I', 'wanted', 'and', 'the', 'day', 'of', 'our', 'wedding', 'when', 'I', 'first', 'saw', 'our', 'cake', 'I', 'almost', 'cried.', 'She', 'went', 'above', 'and', 'beyond', 'my', 'expectations.', 'The', 'cake', 'was', 'beautiful', 'with', 'sugar', 'flowers', 'and', 'gelatin', 'butterflies.', 'All', 'of', 'our', 'guests', 'loved', 'the', 'flavor', 'combinations', 'and', 'the', 'decorations.', 'I', 'highly', 'recommend', 'Cake', 'Frenzy,', 'she', 'is', 'professional,', 'she', 'takes', 'pride', 'in', 'her', 'work', 'and', 'extremely', 'reasonable.\"', '\"Love', 'it.\\\\n\\\\nLast', 'night', 'I', 'dropped', 'into', \"Romanelli's\", 'for', 'the', 'first', 'time', 'after', 'driving', 'past', 'a', 'time', 'or', 'two.', 'Glad', 'I', \"did.\\\\n\\\\nIt's\", 'a', 'bakery', 'and', 'deli', 'that', 'offers', 'a', 'fine', 'selections', 'of', 'meats,', 'cheeses', 'and', 'breads.', 'They', 'also', 'sell', 'all', 'things', 'culinary', 'Italia.', '\\\\n\\\\nWhen', 'I', 'stopped', 'in', 'it', 'was', '30-40', 'minutes', 'to', 'close.', 'I', 'went', 'directly', 'to', 'the', 'deli', 'counter', 'for', 'a', 'sub', 'and', 'was', 'met', 'with', 'a', 'challenge', 'as', 'I', 'decided', 'which', 'to', 'try.', 'I', 'opted', 'for', \"George's\", 'Special', '(ham,', 'capicolla,', 'salami,', 'mortadella,', 'pepperoni,', 'provolone', 'and', 'hot', 'peppers).', 'Given', 'the', 'close', 'proximity', 'to', 'closing', 'time', 'I', 'was', 'expecting', 'a', 'sub', 'on', 'older', 'bread', 'that', 'had', 'been', 'sitting', 'around', 'all', 'day', 'but', 'it', 'was', 'still', 'soft', 'and', 'very', 'fresh.', 'The', 'sub', 'is', 'easily', 'the', 'best', \"I've\", 'had.', 'Amazing.\\\\n\\\\nI', 'also', 'purchased', 'a', 'cannoli.', \"I'm\", 'picky', 'about', 'these', 'things.', 'Too', 'many', 'places', 'fill', \"'em\", 'and', 'stock', \"'em\", 'and', 'the', 'filling', 'makes', 'the', 'shell', 'soggy.', \"Romanelli's\", 'fills', 'them', 'upon', 'order', 'just', 'like', 'the', 'Italian', 'bakery', 'near', 'a', 'friends', 'house', 'in', 'Newark,', 'NJ', '(until', 'last', 'night', 'the', 'best', 'cannoli', \"I've\", 'had).', 'The', 'cannoli', 'was', 'top', 'notch.', 'Simply', 'the', 'best.\\\\n\\\\nRight', 'here', 'in', 'Phoenix,', 'on', 'one', 'night,', 'I', 'had', 'one', 'of', 'the', 'best', 'meals', 'ever.', 'I', 'cannot', 'wait', 'to', 'return.', 'I', 'only', 'open', 'they', 'were', 'open', 'past', '6pm.\"', \"'My\", 'Fiance', 'and', 'I', 'went', 'here', 'today', 'for', 'the', 'first', 'time.', 'We', 'shared', 'a', 'meat', 'pie\\\\nand', 'a', 'serving', 'of', 'the', 'largest', 'Bosnian', 'Sausage', 'dish.', '\\\\n', 'ALL', 'of', 'it', 'was', 'amazing.', 'I', 'cannot', 'speak', 'highly', 'enough', 'of', 'their', 'food.', 'Service', 'was', 'very', 'prompt', 'and', 'the', 'waitress', 'courteous', 'and', 'quick.', 'The', 'food', 'was', 'very', 'reasonably', 'priced', 'and', 'the', 'restaurant', 'itself', 'was', 'very', 'charming', 'and', 'nicely', 'decorated.', 'All', 'over,', 'the', 'ambiance', 'was', 'pleasant.', 'I', 'look', 'forward', 'to', \"returning!'\", '\"Buckle', 'is', 'a', 'really', 'cool', 'store.', 'They', 'carry', 'both', 'men', 'and', \"women's\", 'clothing', 'and', 'they', 'have', 'a', 'huge', 'selection', 'of', 'jeans.', 'From', 'Silver', 'to', 'Lucky,', \"they're\", 'all', 'there!', '\\\\n\\\\nThey', 'also', 'have', 'really', 'cute', 'tops-', 'from', 'casual', 'to', 'dressier', 'ones', 'you', 'could', 'wear', 'out', 'to', 'a', 'club', 'or', 'bar.', \"It's\", 'nice', 'because', 'this', 'store', 'has', 'its', 'own', 'style...kinda', 'casual,', 'a', 'little', 'funky,', 'but', 'definitely', 'different', 'than', 'anything', \"you'd\", 'find', 'at', \"Macy's\", 'or', \"Nordstrom's.\", '\\\\n\\\\nThey', 'also', 'carry', 'some', 'shoes', 'and', 'accessories', 'and', 'the', 'staff', 'is', 'really', 'helpful.', \"You'll\", 'also', 'get', 'a', 'little', 'punch', 'card', 'with', 'your', 'first', 'purchase', 'and', 'after', 'so', 'many', 'punches,', \"you'll\", 'get', '$10', 'or', '$15', 'off.\\\\n\\\\nThe', 'clothes', 'range', 'in', 'price,', 'but', 'generally,', \"I'd\", 'say', 'everything', 'in', 'the', 'store', 'is', 'pretty', 'reasonable.', 'This', 'location', 'is', 'in', 'Paradise', 'Valley', 'Mall-', 'check', 'it', 'out!\"', \"'Like\", 'others,', 'I', 'found', 'this', 'studio', 'through', 'a', 'Living', 'Social', 'coupon.', 'It', 'is', 'a', 'great', 'studio.', 'Kim', 'is', 'so', 'friendly', 'and', 'fun.', 'I', 'would', 'highly', 'recommend', 'the', 'yoga', 'classes.', 'They', 'are', 'both', 'challenging', 'and', 'relaxing!', 'It', 'is', 'a', 'small', 'studio,', 'but', 'that', 'gives', 'it', 'a', 'really', 'nice,', 'intimate', 'feel.', 'I', 'definitely', 'recommend', \"it!'\", '\"I', 'freakin', 'love', 'this', 'place.', 'My', 'favorite', 'thing', 'is', 'to', 'sit', 'and', 'eat', 'facing', 'the', 'counter', 'and', 'watch', 'new', 'people', 'come', 'in', 'and', 'get', 'all', 'confused.', 'Now', \"that's\", 'just', 'funny.', 'My', 'first', 'time', 'I', 'was', 'the', 'same', 'way,', 'like', 'what', 'the', 'hell', 'do', 'I', 'do', 'here.', 'Now', \"I'm\", 'a', 'pro.', 'Stack', 'it', 'deep', 'and', 'use', 'another', 'bowl', 'for', 'smashing,', 'Soba', 'noodles', 'piled', 'so', 'high', 'it', 'looks', 'like', 'a', 'circus', 'act', 'getting', 'the', 'bowl', 'to', 'the', 'cook.', 'Mmmm....good.\"', \"'If\", 'you', 'want', 'to', 'go', 'back', 'to', 'the', 'future', 'at', 'the', 'movie', 'theater', 'Silver', 'Cinemas', 'is', 'the', 'place', 'for', 'you-', 'I', 'felt', 'like', 'I', 'was', 'in', 'the', '1980-', 'the', 'decor', 'LITTERALLY', 'says', 'it', 'all..', 'I', 'kid', 'you', 'not,', 'I', 'am', 'as', 'frugle', 'as', 'the', 'come', 'and', 'you', 'get', '&', 'more', 'than', 'you', 'pay', 'for', 'here', '-($3.00', 'everyday', 'except', 'for', 'tuesdays', '$1.50)\\\\nhave', 'I', 'mentioned', 'the', 'minnie', 'arcade?', 'Epic', 'place', 'to', 'relive', 'your', 'childhood', 'on', 'date', 'after', 'drinks', 'next', 'door', \"...'\", '\"Until', 'Bobby', \"Q's\", 'entered', 'my', 'life', 'i', 'wasnt', 'a', 'fan', 'of', 'BBQ', 'anything!', 'made', 'me', 'kinda', 'sad', 'to', 'see', 'so', 'many', 'people', 'enjoying', 'some', 'messy', 'ribs', 'but', 'anyways', 'I', 'i', 'digress...This', 'place', 'has', 'changed', 'my', 'life', 'for', 'the', 'better!.', 'Their', 'St.', 'Louis', 'ribs', 'are', 'fall', 'off', 'the', 'bone', 'AMAZING!', 'and', 'their', 'Mac', 'n', 'Cheese', 'is', 'a', 'must', 'have!', 'I', 'have', 'to', 'admit', 'this', 'place', 'has', 'made', 'me', 'a', 'bit', 'of', 'a', 'ribs', 'snob,', 'if', 'something', 'doesnt', 'come', 'close', 'to', 'Bobby', \"Q's\", 'i', 'automatically', 'right', 'that', 'place', 'off.\\\\n\\\\nA', 'short', 'review', 'but', 'you', 'get', 'the', 'gist', 'of', 'it...\"', '\"WOW', 'this', 'place', 'is', 'good!', 'SO', 'good!', 'And', 'not', 'just', 'yummy', 'good,', 'but', 'intrinsically', 'good.', 'Check', 'out', 'their', 'amazing', 'list', 'of', 'environmentally', 'responsible', 'business', 'practices', '-', 'http://essencebakery.com/essence_bakery_environmentally_friendly.shtml', '!', '\\\\n\\\\nThat,', 'and', \"it's\", 'cute.', 'And', 'it', 'tastes', 'Yummy!', 'And', 'they', 'are', 'SO', 'nice!', 'SOOO', 'nice!', 'And', 'their', 'deserts', 'are', 'just', 'disgustingly', 'cute', 'and', 'beautiful', 'and', 'freaking', 'good.', 'I', 'almost', 'bought', 'the', 'mini', 'box', 'of', '4', 'cupcakes', 'for', 'just', '$3.50.', 'Bite', 'sized', 'so', 'not', 'too', 'bad,', 'but', 'if', 'I', 'bought', 'them', 'today', \"they'd\", 'be', 'gone', 'before', 'I', 'got', 'home.', '\\\\n\\\\nI', 'got', 'their', 'grilled', 'cheese', 'w/', 'mozzarella,', 'basil', 'and', 'tomato', 'on', 'grilled', 'buttery', 'brioche', 'bread', 'with', 'a', 'light', 'and', 'tasty', 'green', 'salad', 'on', 'the', 'side.', 'It', 'will', 'be', 'hard', 'to', 'not', 'come', 'here', 'every', 'week.', 'I', 'love', 'that', 'all', 'the', 'drinks', 'are', 'refillable', '-', 'and', \"it's\", 'up', 'to', 'you', 'to', 'refill', 'them.', 'Coffee,', 'tea', 'or', 'soda,', 'just', 'walk', 'on', 'up', 'and', 'fill', 'your', 'glass.', 'And', 'I', 'love', 'that', \"it's\", 'all', 'so', 'fresh', 'and', 'local!', '\\\\n\\\\nImportant', 'note', '-', 'You', 'order', 'at', 'the', 'counter,', 'they', 'give', 'you', 'a', 'number', 'and', 'bring', 'out', 'your', 'food.', 'If', \"you're\", 'paying', 'w/', 'debit', 'card,', 'they', 'will', 'ask', 'you', 'if', 'you', 'want', 'to', 'include', 'a', 'tip.', 'That', 'threw', 'me.', \"I'd\", 'been', 'in', 'the', 'place', 'less', 'than', '2', 'minutes', '-', 'how', 'do', 'I', 'know', 'if', \"it's\", 'worth', 'the', 'tip', '-', 'or', 'how', 'much', 'of', 'a', 'tip', \"it's\", 'worth??', 'Bring', 'some', 'cash', 'or', 'plan', 'to', 'deal', 'w/', 'that', 'question', 'accordingly.\"', \"'What\", 'a', 'cool', 'little', 'place', 'tucked', 'away', 'behind', 'a', 'strip', 'mall.', 'Would', 'never', 'have', 'found', 'this', 'if', 'it', 'was', 'not', 'suggested', 'by', 'a', 'good', 'friend', 'who', 'raved', 'about', 'the', 'cappuccino!', 'He', 'is', 'world', 'traveler,', 'so,', \"it\\\\'s\", 'a', 'must', 'try', 'if', \"it\\\\'s\", 'the', 'best', 'cup', \"he\\\\'s\", 'ever', 'had.', 'He', 'was', 'right!', \"Don\\\\'t\", 'know', 'if', \"it\\\\'s\", 'in', 'the', 'beans', 'or', 'the', 'care', 'that', 'they', 'take', 'to', 'make', 'it', 'with', 'a', 'fab', 'froth', 'decoration', 'on', 'top.', 'My', 'hubby', 'and', 'I', 'loved', 'the', 'caramel', 'brulee', 'taste..', 'My', 'son', 'loved', 'the', 'hot', '\"warm\"', 'cocoa.', 'Yeah,', 'we', 'walked', 'in', 'as', 'a', 'family', 'last', 'night', 'and', 'almost', 'everyone', 'turned', 'our', 'way', 'since', 'we', 'did', 'not', 'fit', 'the', 'hip', 'college', 'crowd.', 'Everyone', 'was', 'really', 'friendly,', 'though.', 'The', 'sweet', 'young', 'man', 'behind', 'the', 'counter', 'gave', 'my', 'son', 'some', 'micro', 'cinnamon', 'doughnuts', 'and', 'scored', 'major', 'points', 'with', 'the', 'little', 'dude!', 'We', 'will', 'be', \"back.'\", \"'Love\", 'it!!!', 'Wish', 'we', 'still', 'lived', 'in', 'Arizona', 'as', 'Chino', 'is', 'the', 'one', 'thing', 'we', 'miss.', 'Every', 'time', 'I', 'think', 'about', 'Chino', 'Bandido', 'my', 'mouth', 'starts', 'watering.', 'If', 'I', 'am', 'ever', 'in', 'the', 'state', 'again', 'I', 'will', 'drive', 'out', 'of', 'my', 'way', 'just', 'to', 'go', 'to', 'it', 'again.', \"YUMMY!'\", '\"I', 'lived', 'off', 'Salazar', 'Bros', 'my', 'first', 'year', 'of', 'college', 'because', 'I', 'lived', 'right', 'near', 'it.', 'Must', 'have', 'eaten', 'there', 'twice', 'a', 'week', 'minimum.', 'I', 'was', 'heartbroken', 'when', 'it', 'turned', 'into', 'Armando', 'Bros', 'because', 'as', 'much', 'as', 'people', 'told', 'me', 'they', 'just', 'changed', 'their', 'name,', 'they', \"didn't.\", 'It', 'was', 'a', 'different', 'restaurant.', '\\\\n\\\\nI', 'had', 'written', 'it', 'off', 'as', 'another', 'great', 'place', 'gone', 'to', 'the', 'pages', 'of', 'history', 'until', 'I', 'moved', 'near', '48th', 'and', 'Baseline,', 'and', \"'lo\", 'and', 'behold', 'there', 'was', \"Salazar's,\", 'tucked', 'away', 'in', 'the', \"Fry's\", 'parking', 'lot', 'next', 'to', 'a', 'Little', 'Caesars', 'and', 'a', 'clothing', 'outlet', 'that', 'appears', 'to', 'have', 'escaped', 'from', 'the', 'mall.', '\\\\n\\\\nThe', 'interior', 'itself', 'is', 'cheaply', 'thrown', 'together', 'and', 'completely', 'forgettable.', 'The', 'only', 'thing', 'the', 'employees', 'seem', 'to', 'care', 'about', 'is', 'making', 'food.', 'And', 'none', 'of', 'this', 'bothers', 'me', 'because', 'they', 'make', 'some', 'damn', 'amazing', 'food', 'for', 'cheap', 'prices.\\\\n\\\\nI', 'recommend', 'the', 'adobada', 'burrito', 'with', 'extra', 'sour', 'cream', 'and', '2', 'things', 'of', 'red', 'sauce.', \"It's\", 'pork', 'brushed', 'with', 'a', 'delicious', 'sauce', 'of', 'some', 'sort.', 'Comes', 'with', 'pico', 'and', 'guacamole.', 'I', 'sometimes', 'have', 'to', 'convince', 'myself', 'to', 'try', 'something', 'new', 'off', 'the', 'menu.', 'Brownie', 'points', 'for', 'carrying', 'Pepsi', 'products', 'as', 'well,', 'I', 'take', 'Mountain', 'Dew', 'with', 'my', 'burritos.\"', '\"I', 'have', 'now', 'visited', 'Herb', \"n'\", 'Flavors', 'several', 'times.', 'I', 'love', 'supporting', 'local', 'businesses', 'who', 'have', 'sustainable', 'practices.', 'This', 'place', 'uses', 'local', 'farms', 'for', 'their', 'produce,', 'safe', 'from', \"GMO's\", 'and', 'pesticides.', 'So,', 'I', 'was', 'already', 'a', 'fan', 'before', 'I', 'walked', 'in!', 'Everything', 'I', 'have', 'tried', 'has', 'been', 'delicious,', 'and', 'the', 'owner', 'is', 'such', 'a', 'cool', 'guy-', 'always', 'so', 'friendly', 'to', 'the', 'customers.', 'The', 'food', 'always', 'tastes', 'so', 'fresh,', 'and', 'full', 'of', 'flavor!', 'They', 'have', 'a', 'little', 'something', 'for', 'everyone.', 'I', 'am', 'a', 'gluten', 'free', 'vegan', 'and', 'my', 'husband', 'has', 'no', 'dietary', 'restrictions.', 'We', 'always', 'both', 'leave', 'happy.', 'I', 'definitely', 'recommend', 'this', 'place.', 'I', 'would', 'like', 'to', 'see', 'their', 'business', 'continue', 'to', 'grow', 'and', 'stick', 'around', 'for', 'a', 'long', 'time!', ':)\"', \"'Tried\", 'them', 'out', 'for', 'Restaurant', 'Week.', 'The', 'food', 'and', 'service', 'was', 'excellent.', 'I', 'will', 'certainly', 'be', 'back', 'and', 'loved', 'the', 'atmosphere.', 'We', 'sat', 'at', 'a', 'booth', 'and', 'very', 'comfortably', 'sat', '3', 'adults.', 'The', 'wait', 'staff', 'was', 'non', 'stop', 'on', 'refilling', 'drinks,', 'bringing', 'more', 'bread,', 'making', 'sure', 'the', 'food', 'was', 'cooked', 'to', \"order.'\", \"'It\", 'does', 'not', 'get', 'much', 'better', 'than', 'this,', 'fellas.\\\\n\\\\nBS', 'West', 'is', 'hands', 'down', 'the', 'best', 'gay', 'bar', 'in', 'Phoenix.\\\\n\\\\nFriendly', 'bartenders,', 'cheap', 'drinks,', 'good-looking', 'crowd,', 'great', \"music..it\\\\'s\", 'definitely', 'got', 'it', 'all.\\\\n\\\\nBest', 'night', 'to', 'check', 'out', 'is', 'the', 'obvious', '2-4-1', 'Wednesday.', '\\\\n\\\\nThursdays', 'and', 'Sundays', 'can', 'also', 'be', 'fun', 'if', \"you\\\\'re\", 'into', 'karaoke.', 'Saturdays', 'are', 'a', 'nice', 'alternative', 'if', 'you', \"don\\\\'t\", 'really', 'dig', 'Forbidden', 'or', 'Amsterdam,', \"it\\\\'s\", 'a', 'different', 'crowd.\\\\n\\\\nIt', 'definitely', 'has', 'a', '\"Cheers\"', 'feeling', 'to', 'it...', 'not', 'pretentious', 'whatsoever.', 'Great', 'patios', 'too,', 'especially', 'the', 'back', 'one', 'with', 'the', 'new', 'video', 'screen', 'they', 'installed.\\\\n\\\\nOh,', 'and', 'their', 'Halloween', 'bash', 'is', 'THE', 'party', 'to', 'be', 'at.', '3,000', 'people', 'attended', 'in', \"2007.'\", '\"I', 'really', 'like', 'this', 'place', 'alot.', 'their', \"pizza's\", 'are', 'really', 'different', 'but', 'really', 'good!', 'I', 'wish', 'i', 'could', 'say', 'i', 'had', 'a', 'favorite', 'but', 'ive', 'liked', 'every', 'pizza', 'ive', 'gotten', 'except', 'the', 'portabello', 'mushrooms', 'cause', 'i', 'dont', 'like', 'mushrooms', 'but', 'other', 'than', 'that', 'they', 'have', 'an', 'amazing', 'beer', 'selection!', 'Major', 'thumbs', 'up!!\"', \"'Sportsman\\\\'s\", 'is', 'on', 'top', 'of', 'the', 'game', 'when', 'it', 'comes', 'to', 'wine!', 'The', 'staff', 'is', 'more', 'knowledgeable', 'and', 'helpful', 'than', 'any', 'other', 'place', 'that', 'I', 'have', 'bought', 'wine', 'at', 'before.', 'I', \"didn\\\\'t\", 'feel', 'like', 'I', 'was', 'being', 'judged', 'for', 'trying', 'to', 'find', 'a', 'cheaper', 'bottle', 'and', 'there', 'was', 'no', 'pretentiousness', 'in', 'the', 'air.', 'While', 'I', 'was', 'inquiring', 'about', 'dry', 'resling,', 'one', 'of', 'the', 'vino', 'gurus', 'offered', 'to', 'get', 'me', 'a', 'taste', 'of', 'one', 'from', 'their', 'bar', '-', 'and', 'came', 'back', 'with', 'TWO', 'samples', 'for', 'me', 'to', 'try!', \"\\\\n\\\\nSportsman\\\\'s\", 'also', 'has', 'a', 'very', 'intriguing', 'liquor', 'section', '-', 'I', 'enjoy', 'wandering', 'around', 'and', 'looking', 'at', 'all', 'the', 'fabulous', 'bottles', 'I', 'have', 'never', 'seen', 'nor', 'heard', 'of.', '\\\\n\\\\nSeveral', 'times', 'a', 'month,', 'they', 'offer', 'complimentary', 'wine', 'tastings', 'and', 'special', 'discounts', 'on', 'most', 'of', 'the', 'bottles', 'being', 'sampled.', 'They', 'also', 'have', 'a', 'full', 'service', 'restaurant/bar', 'off', 'to', 'the', 'side', 'where', 'they', 'have', 'a', 'huge', '\"by', 'the', 'glass\"', 'list', '-', 'you', 'are', 'also', 'welcome', 'to', 'pick', 'out', 'any', 'bottle', 'from', 'their', 'store,', 'they', 'cork', 'it', 'free', 'of', 'charge,', 'and', 'you', 'can', 'enjoy', 'your', 'retail', 'priced', 'bottle', 'with', 'dinner!', '\\\\n\\\\nThe', 'portabello', 'sliders', 'that', 'I', 'had', 'for', 'dinner', 'were', 'amazing', 'and', 'I', 'am', 'still', 'having', 'dreams', 'about', 'them!', '\\\\n\\\\nMy', 'one', 'complaint', 'is', 'petty:', 'their', 'website.', 'Its', 'overrun', 'with', 'text', 'and', 'finding', 'important', 'information', 'is', 'difficult,', 'it', 'also', 'needs', 'to', 'be', 'better', 'updated', 'with', 'their', 'amazing', 'tasting', \"events!'\", '\"Alright,', 'went', 'back', 'last', 'night,', 'felt', 'bad', 'because', 'we', 'were', 'the', 'late', 'nighters,', 'and', 'everything', 'was', 'perfect.', 'The', 'pizza,', 'the', 'salads', 'and', 'the', 'wine', 'were', 'all', 'so', 'well', 'done.', 'And', 'what', 'finally', 'brought', 'me', 'to', 'five', 'stars', 'was', 'the', 'crepe', 'with', 'Nuteila', 'and', 'Mascarpone.', 'OMG', 'amazing.', \"I'm\", 'currently', 'craving', 'it', 'the', 'day', 'after.', 'Totally', 'beats', 'out', 'the', 'crepe', 'with', 'nutella', 'and', 'banana', 'that', 'I', 'also', 'love...\"', \"'I\", 'love', 'supporting', 'local', 'coffee', 'houses', 'and', 'this', 'one', 'is', 'my', 'favorite.', 'They', 'are', 'always', 'super', 'friendly', 'even', 'if', 'I', 'sit', 'in', 'there', 'for', 'hours', 'studying', 'and', 'only', 'order', 'one', 'drink.', 'I', 'LOVE', 'their', 'sugar', 'free', \"avalanches!'\", '\"This', 'is', 'one', 'of', 'best', 'libraries', 'I', 'have', 'ever', 'been', 'to.', 'I', 'live', 'very', 'close', 'by', 'and', 'it', 'is', 'very', 'easy', 'to', 'stop', 'by', 'to', 'pick', 'something', 'up', 'or', 'drop', 'something', 'off.', 'This', 'is', 'always', 'a', 'must', 'visit', 'before', 'road', 'trips', 'to', 'California', 'to', 'pick', 'up', 'books', 'for', 'the', 'adults', 'and', 'kids', 'as', 'well', 'as', 'DVD', \"'s\", 'for', 'the', 'road', 'trip.', 'We', 'visit', 'this', 'location', 'at', 'least', 'once', 'a', 'week', 'and', 'the', 'kids', 'love', 'it.\"', \"'Loved\", 'the', 'burgers', 'and', 'the', 'onion', 'rings', 'were', 'fabulous!', 'This', 'place', 'is', 'a', 'must', 'visi', 'if', 'you', 'are', 'in', 'the', 'Phoenix', 'area', 'anytime', \"soon!'\", \"'Our\", 'company', 'held', 'our', 'fourth', 'annual', 'user', 'conference', 'here,', 'and', 'compared', 'to', 'our', 'previous', 'venues,', 'this', 'one', 'was', 'a', 'smash', 'hit', 'in', 'terms', 'of', 'facilities.', 'It', 'compares', 'particularly', 'favorably', 'with', 'the', 'doudy,', 'sour', 'old', 'St.', 'Francis', 'in', 'San', 'Francisco,', 'a', 'venue', 'I', 'hope', 'we', 'never', 'book', 'again.\\\\n\\\\nThe', 'standout', 'quality', 'of', 'this', 'place', 'is', 'the', 'hustle', 'and', 'quality', 'of', 'the', 'service.', 'Our', 'opening', 'night', 'reception', 'included', 'an', 'array', 'of', 'food', 'service', 'stations', 'with', 'different', 'themes,', 'including', 'a', 'noodle', 'bar', 'that', 'was', 'particuarly', 'well', 'done.', 'The', 'food', 'was', 'all', 'delicious', 'but', 'what', 'really', 'distinguished', 'this', 'event', 'was', 'the', 'personable,', 'attentive,', 'extra-mile', 'oriented', 'staff.', 'They', 'were', 'reading', 'the', 'nametags', 'of', 'our', '200', 'guests', 'and', 'calling', 'people', 'by', 'name', 'whenever', 'possible', 'and', 'chatting', 'us', 'up', 'in', 'line', 'to', 'make', 'sure', 'we', 'were', 'all', 'happy.\\\\n\\\\nThe', 'event', 'coordinators', 'were', 'all', 'over', 'the', 'venue', 'throughout', 'the', 'ensuing', 'two', 'days.', 'Where', 'at', 'the', 'St.', 'Francis', 'we', 'struggled', 'with', 'temperature', 'and', 'electrical', 'problems', 'and', 'grumpy,', 'uncooperative,', 'disinterested', 'staff,', 'here', 'at', 'the', 'Fairmont,', 'the', 'very', 'few', 'glitches', 'drew', 'aggressive', 'responses', 'by', 'people', 'who', 'cared', 'about', 'our', \"event.'\", '\"Nooooooooo!', 'Curse', 'the', 'the', 'gods', 'of', 'all', 'that', 'is', 'delicious,', 'for', 'Huauchinango', 'is', 'now', 'CLOSED.', 'Replaced', 'by', 'some', 'generic', 'grill', 'that', 'offered', 'us', 'some', 'nachos', 'and', 'quesadillas,', 'thanks', 'for', 'that.', 'So', 'not', 'only', 'did', 'you', 'replace', 'a', 'great', 'eatery,', 'but', 'you', 'also', 'had', 'to', 'throw', 'in', 'a', 'little', 'bit', 'of', 'extra', 'salt', 'in', 'the', 'wound.', 'So,', 'I', \"don't\", 'think', \"I'll\", 'be', 'giving', 'my', 'business', 'to', 'the', 'devil', 'grill', 'anytime', 'soon.', 'Huauchinango,', 'you', 'shall', 'now', 'only', 'be', 'a', 'distant', 'whiff', 'of', 'habanero', 'al', 'pastor', 'memory.', 'You', 'shall', 'be', 'missed.\"', \"'This\", 'is', 'my', 'favorite', 'hotel', 'of', 'all', 'time,', 'so', 'far,', 'at', 'least', 'of', 'the', 'Kimpton', 'ilk.', 'I', 'experienced', 'nearly', 'impeccable', 'service', 'and', 'a', 'super', 'comfy', 'bed,', 'organic', 'and', 'local', 'products,', 'a', 'lovely', 'shower,', 'and', 'general', 'happy', 'relaxation.', 'I', 'love', 'that', 'the', 'gym', 'and', 'pools', 'are', 'open', '24', 'hours', 'a', 'day.', 'The', 'decor,', 'half', 'Asian', 'deco', 'and', 'half', 'Southwestern,', 'works', 'works', \"works.'\", '\"Hands', 'down', 'my', 'favorite', 'coffee', 'shop', 'in', 'town.', 'They', 'used', 'to', 'be', 'located', 'inside', 'the', 'Conspire', 'art', 'collective', 'but', 'have', 'now', 'moved', 'into', 'the', 'old', 'Hood', 'Rides', 'digs', 'up', 'the', 'block', 'and', \"it's\", 'awesome.\\\\n\\\\nPlenty', 'of', 'seating', 'room', 'at', 'the', 'bar', 'and', 'also', 'a', 'really', 'cool', 'little', 'room', 'next', 'door', 'where', 'you', 'can', 'pull', 'up', 'a', 'seat', 'and', 'hang', 'out.', 'From', 'what', 'I', 'understand', 'there', 'will', 'be', 'seating', 'outside', 'too.\\\\n\\\\nMost', 'importantly', 'however', 'is', 'the', 'coffee.', 'They', 'use', 'a', 'special', 'mix', 'roasted', 'specially', 'by', 'Cartel.', \"I'll\", 'be', 'the', 'first', 'to', 'admit', \"I'm\", 'no', 'coffee', 'connoisseur', 'but', 'I', 'do', 'know', 'this,', 'every', 'drink', \"I've\", 'had,', 'no', 'matter', \"who's\", 'behind', 'the', 'bar', 'has', 'been', 'perfect.', 'Not', 'burnt,', 'not', 'too', 'sweet,', 'and', 'not', 'a', 'hint', 'of', 'pretentiousness.\\\\n\\\\nSooooo,', 'why', 'go', 'to', 'S-word', 'Bucks', 'when', 'you', 'can', 'get', 'a', 'better', 'cup', 'of', 'coffee', 'up', 'the', 'street.', 'Oh', 'and', 'for', 'those', 'of', 'us', 'who', 'burn', 'the', 'midnight', 'oil', 'on', 'more', 'than', 'a', 'few', 'occasions,', \"they're\", 'open', 'until', '12am', 'EVERY', 'night.\"', \"'Tacos,\", 'tacos,', 'tacos......how', 'can', 'something', 'so', 'simple', 'be', 'this', 'great?', 'Having', 'seen', 'this', 'place', 'being', 'featured', 'on', 'DDD', 'we', 'had', 'to', 'try', 'it', 'out', 'and', 'it', 'was', 'worth', 'every', 'penny!', 'I', 'have', 'a', 'thing', 'for', 'always', 'trying', 'the', '\"odd\"', 'menu', 'items', 'so', \"I\\\\'ve\", 'tried', 'the', 'tongue', 'tacos', 'and', 'cabeza', '(head/cheek)', 'burrito', 'and', 'to', 'me', 'there', 'is', 'nothing', 'better', 'on', 'the', 'menu!', 'This', 'place', 'is', 'rather', 'small', 'which', 'makes', 'it', 'perfect', 'if', \"you\\\\'re\", 'there', 'with', 'some', 'friends', 'or', 'a', 'special', 'someone!', 'My', 'friend', 'loves', 'the', 'shrimp', 'ceviche', 'though', 'I', 'havent', 'tried', 'it', 'myself.', 'Go', 'to', 'this', 'place', 'for', 'some', 'great', 'authentic,', 'local', 'and', 'quite', 'tasty', 'food.......probably', 'some', 'of', 'the', 'best', 'the', 'east', 'alley', 'has', 'to', \"offer!'\", \"'This\", 'past', 'weekend', 'I', 'went', 'to', 'The', 'Vig', 'Uptown', 'twice', 'because', 'it', 'was', 'that', 'good.', 'This', 'is', 'a', 'perfect', 'place', 'to', 'hangout', 'with', 'friends', 'and', 'get', 'a', 'bite', 'to', 'eat', 'with', 'a', 'really', 'great', 'drink', 'menu.', 'What', 'I', 'love', 'most', 'about', 'this', 'place', 'is', 'that', 'it', 'is', 'very', 'modern', 'and', 'the', 'people', 'are', 'pretty', 'chill.', 'The', 'cherry', 'on', 'top', 'is', 'the', 'games', 'they', 'have', 'to', 'offer,', 'Bocce', 'and', 'Bags!\\\\n\\\\nDrinks\\\\n1.', 'Moscow', 'Mule', 'is', 'a', 'perfect', 'nice', 'refreshing', 'drink', 'to', 'order,', 'made', 'with', 'Vodka/Ginger', 'beer', 'and', 'fresh', 'lime', 'juice.', '\\\\n2.', 'If', 'you', 'bring', 'in', 'your', 'own', '\"pimp', 'cup\"', 'any', 'size,', 'They', 'will', 'fill', 'it', 'up', 'with', 'the', 'mixed', 'drink', 'called', 'Pimms', 'Cup.\\\\n\\\\nFood\\\\n1.', 'VigAzz', 'burger', 'is', 'my', 'favorite', 'food', 'item', 'to', 'order', 'because', 'the', 'pretzel', 'bread', 'is', 'amazing.\\\\n2.', 'Thai', 'spicy', 'Vings', 'here', 'are', 'probably', 'one', 'of', 'my', 'favorite', 'wings', 'that', \"i\\\\'ve\", 'ever', 'had', 'so', 'I', 'highly', 'recommend', 'getting', \"them.'\", '\"Hands-down', 'my', 'favorite', 'pizza', 'place', 'in', 'the', 'East', 'Valley.', 'I', 'have', 'been', 'going', 'to', 'Sourdough', 'pizza', 'for', 'close', 'to', '15', 'years,', 'and', 'it', 'is', 'consistently', 'delicious.', 'I', 'grew', 'up', 'in', 'Mesa,', 'now', 'live', 'in', 'Phoenix,', 'but', 'I', 'make', 'it', 'a', 'point', 'to', 'visit', 'Sourdough', 'Pizza', 'when', 'I', 'am', 'in', 'the', 'Mesa', 'area.', 'The', 'decor', 'definitely', 'leaves', 'something', 'to', 'be', 'desired,', 'as', 'they', 'are', 'in', 'a', 'stucco', 'strip', 'mall,', 'and', 'their', 'interior', 'probably', 'has', 'not', 'been', 'updated', 'all', 'that', 'much', 'in', 'the', '15', 'years', \"I've\", 'been', 'there.', 'But', 'I', 'could', 'care', 'less', 'when', 'the', 'food', 'and', 'prices', 'are', 'this', 'good.\"', '\"I\\'m', 'not', 'a', 'fan', 'of', 'ice', 'cream,', 'I', 'just', \"don't\", 'find', 'it', 'appealing', 'and', \"it's\", 'too', 'high', 'in', 'calories/saturated', 'fat.', 'However', 'I', 'do', 'love', 'frozen', 'yogurt,', 'and', 'ironically', \"it's\", 'much', 'less', 'fattening,', 'yet', 'more', 'satisfying.', 'At', '25', 'calories', 'an', 'ounce,', 'Golden', \"Spoon's\", 'is', 'the', 'best', 'around.', 'There', 'have', 'a', 'large', 'array', 'of', 'flavors', 'to', 'choose', 'from', 'and', 'they', 'rotate', 'flavors', 'each', 'month,', 'they', 'also', 'have', 'seasonal', 'flavors', 'such', 'as', 'pumpkin', 'pie', 'and', 'egg', 'nog.', 'You', 'also', 'can', 'get', 'more', 'than', 'one', 'flavor', 'combined.', 'They', 'also', 'have', 'a', 'wide', 'variety', 'of', 'toppings', 'to', 'choose', 'from,', 'from', 'gummy', 'bears', 'to', 'low-fat', 'brownies.\\\\n\\\\nEven', 'though', 'their', 'yogurt', 'is', 'non-fat', 'and', 'low', 'calorie,', 'adding', 'toppings', 'can', 'quickly', 'add', 'a', 'lot', 'more', 'calories,', 'I', 'suggest', 'going', 'with', 'chocolate', 'or', 'rainbow', 'sprinkles', '(adds', 'less', 'than', '50', 'calories),', 'or', 'if', 'you', 'like', 'fruit,', 'go', 'with', 'that.\"', '\"Phenom.', '\\\\nThe', 'food', 'is', 'always', 'fresh', 'and', 'well', 'seasoned.', 'A', 'good', 'selection', 'of', 'Tequila.', '\\\\nEvery', 'meal', 'that', \"I've\", 'had', 'has', 'been', 'just', 'fantastic.', 'The', 'carnitas', 'and', 'the', 'fish', \"taco's\", 'are', 'very', 'well', 'prepared.', \"It's\", 'fresh,', 'the', 'beans', 'are', 'fresh', 'as', 'is', 'the', 'rice.', '\\\\nIt', 'averages', 'about', '$10', 'a', 'plate', 'but', 'worth', 'it.', 'This', 'is', 'how', 'really', 'good', 'Mexican', 'should', 'be.', '\\\\nThe', 'salsa', 'bar', 'is', 'excellent:', 'you', 'have', 'about', '5', 'different', 'types', 'of', 'salsa', 'from', 'which', 'to', 'choose.', 'All', 'freshly', 'made.', '\\\\nI', \"can't\", 'say', 'enough', 'about', 'the', 'flavoring', 'of', 'the', 'meats', 'and', 'fish.', '\\\\nDecor', 'is', 'a', 'somewhat', 'minimalist/modern,', 'probably', 'to', 'attract', 'a', 'happy', 'hour', 'crowd.', 'They', 'have', \"TV's\", 'for', 'your', 'viewing', 'pleasure.', '\\\\nService', 'is', 'friendly', 'and', 'quick.', \"\\\\nI've\", 'only', 'been', 'to', 'the', 'Chandler', 'location', 'but', 'will', 'start', 'going', 'to', 'the', 'one', 'in', 'Scottsdale.', '\\\\nGood', 'food.', 'You', \"won't\", 'be', 'disappointed.\"', \"'Bring\", 'a', 'flashlight.', 'It', 'is', 'so', 'dark', 'inside', 'you', 'can', 'not', 'read', 'the', 'menu.', 'But', 'the', 'waiter', 'was', 'so', 'well', 'versed', 'we', 'just', 'used', 'his', 'recommendations.', '\\\\n\\\\nWe', 'all', 'had', 'filets', 'cooked', 'to', 'perfection', 'and', 'served', 'on', 'a', '400', 'degree', 'hot', 'plate.', 'They', 'recommend', 'the', 'lobster', 'mashed', 'potatoes', 'but', 'did', 'not', 'feel', 'they', 'were', 'worth', 'the', 'price', 'tag.\\\\n\\\\nThe', 'wine', 'list', 'is', 'extensive', 'and', 'expensive.', 'If', 'you', 'are', 'looking', 'for', 'fancy', 'this', 'is', 'the', 'place', 'but', 'we', 'went', 'after', 'a', 'round', 'of', 'golf', 'and', 'they', 'were', 'very', 'accommodating', '.', '\\\\n\\\\nGreat', 'special', 'occasion', 'dinner', 'but', 'not', 'your', 'everyday', 'steak', 'joint', \".'\", '\"These', 'are', 'the', 'best,', 'most', 'consistent', 'donuts', 'in', 'the', 'valley.', 'I', 'was', 'always', 'a', 'fan', 'of', 'the', 'Chandler', 'location,', 'so', 'I', 'tried', 'this', 'location', 'as', 'soon', 'as', 'it', 'opened.', 'I', 'was', 'pleased', 'that', 'the', 'donuts', 'were', 'as', 'fresh', 'and', 'as', 'varied', 'as', 'the', 'other', 'location.\\\\n\\\\nI', \"don't\", 'care', 'if', 'people', 'go', 'to', 'dunkin', 'for', 'the', 'coffee..a', 'donut', 'shop', 'is', 'about', 'the', 'donuts,', 'and', 'I', \"haven't\", 'yet', 'had', 'any', 'donuts', 'in', 'the', 'valley', 'in', 'the', 'same', 'league', 'as', 'BoSa.\"', \"'I\", 'moved', 'from', 'Philly', 'this', 'past', 'summer', 'and', \"I\\\\'ve\", 'searched', 'all', 'over', 'the', 'Valley', 'for', 'a', '\"GOOD\"', 'Pizza.', 'After', 'eating', 'lots', 'of', 'tasteless', 'and', 'cardboard', 'pizza,', 'I', 'found', 'Momma', 'Mia', 'when', 'I', 'moved', 'into', 'Arcadia!', 'I', 'love', 'the', 'hole', 'in', 'the', 'wall', 'vibe!', 'Just', 'like', 'home', ':)', 'The', 'sauce', 'is', 'great', 'and', 'super', 'tasty!', 'The', 'dough', 'tastes', 'slightly', 'sweet', 'and', 'is', \"fluffy..It\\\\'s\", 'what', 'makes', 'the', 'pizza', 'so', 'great', 'and', 'there', 'is', 'a', 'brickoven!!', 'I', 'love', 'it!', 'My', 'husband', 'and', 'I', 'order', 'the', 'pizza/wing', 'special', '.The', 'wings', 'are', 'so', 'hot', 'and', 'spicy', '(', 'we', 'order', 'the', 'hot,', 'but', 'it', 'comes', 'in', 'buffalo', 'and', 'mild)', 'They', 'have', 'an', 'extensive', 'menu', 'of', 'pasta,', 'sandwiches', 'and', 'salads.', 'I', 'want', 'to', 'try', 'their', 'Philly', 'Steak', 'next,', 'but', 'for', 'the', 'time', 'being', 'I', 'still', 'make', 'mine', 'at', 'home.', '\\\\nEvery', 'pizza', 'place', 'likes', 'to', 'say', 'its', '\"New', 'York', 'Style\",', 'but', 'this', 'place', 'really', 'does', 'a', 'NYC', 'pizza.', 'Well', 'the', 'best', 'nyc', 'pizza', \"you\\\\'re\", 'gonna', 'get', 'in', 'AZ,', 'Something', 'about', 'the', \"water.'\", \"'Very\", 'delicious', 'and', 'friendly!', 'They', 'do', 'happy', 'hour', 'every', 'day', 'which', 'is', 'so', 'great!', 'The', 'sushi', 'is', 'always', 'very', 'delicious', 'and', 'the', 'same', 'with', 'their', 'entrees.', 'I', 'love', 'how', 'close', 'this', 'is', 'to', 'my', 'house.', 'We', 'visit', 'this', 'place', 'quite', \"frequently!'\", '\"Oh,', 'YEAH!!!', 'Coming', 'to', 'Scottsdale.', 'I', 'have', 'used', 'RedSeven', 'in', 'Tempe', 'and', 'Mesa', 'and', 'excited', 'to', 'know', 'that', 'they', 'are', 'coming', 'to', 'Scottsdale.', 'I', 'work', 'on', 'the', 'roads', 'throughout', 'the', 'valley', 'and', 'have', 'a', 'lot', 'of', 'customers', 'in', 'Scottsdale', 'that', 'I', 'continue', 'to', 'brag', 'to', 'them', 'about', \"RedSeven's\", 'Super', 'Quick', 'Service.', 'Getting', 'the', 'job', 'done', 'quick', 'and', 'right', 'and', 'guaranteed', 'to', 'be', 'the', 'fastest', 'to', 'get', 'you', 'back', 'to', 'work!!!!', 'Oh,', 'and', 'they', 'talk', 'to', 'you', 'so', 'you', 'can', 'understand,', 'not', 'computer', 'talk.', \"Can't\", 'wait', 'for', 'Scottsdale!!!!\"', '\"I\\'ve', 'been', 'hearing', 'about', 'these', 'cheesecakes', 'from', 'my', 'husband', 'and', 'his', 'incessant', 'twitter', 'following', 'and', 'I', 'was', 'really', 'excited', 'to', 'try', 'some', 'of', 'the', 'goods', 'at', 'the', 'market', 'this', 'past', 'Saturday.\\\\n\\\\nWe', 'finally', 'woke', 'up', 'early', 'enough', 'on', 'a', 'Saturday', 'morning', 'to', 'hit', 'up', \"Matt's\", 'and', 'then', 'peruse', 'the', 'market', 'before', 'it', 'got', 'too', 'hot.', 'We', 'made', 'our', 'way', 'over', 'to', 'the', 'cheesecake', 'table', 'and', 'then', 'debated', 'between', '10', 'or', 'so', 'flavors.', 'He', 'had', 'key', 'lime', 'and', 'chocolate', 'chip', 'out', 'to', 'sample', 'and', 'I', 'decided', 'to', 'try', 'the', 'key', 'lime.', 'I', 'was', 'amazed', 'at', 'how', 'natural', 'it', 'tasted.', 'There', 'was', 'nothing', 'artificial', 'about', 'it,', 'it', 'just', 'tasted', 'exactly', 'like', 'it', 'should.', 'These', 'are', 'very', 'good,', 'very', 'simple', 'cheesecakes.', 'I', 'ultimately', 'went', 'with', 'the', 'peanut', 'butter', 'chocolate', 'chip', 'which', 'is', 'extremely', 'tasty.', 'There', 'are', 'a', 'bunch', 'of', 'different', 'sizes', 'to', 'choose', 'from,', 'all', 'at', 'very', 'fair', 'prices.', 'YUMMY!\"', \"'The\", 'best', 'gyro', 'you', 'will', 'have', 'in', 'Arizona...\\\\nor', 'maybe', 'anywhere.\\\\n\\\\nLove', 'the', 'grocery', 'selection.\\\\nEveryone', 'there', 'is', 'really', 'nice.\\\\nAnd', 'you', 'can', 'buy', 'a', 'BUCKET', 'of', 'dates', 'for', 'like', \"$6.'\", '\"I\\'ve', 'been', 'going', 'to', 'Jess', '@', 'Chace', 'Salon', 'for', 'almost', '2', 'years', 'now', 'and', 'she', 'is', 'nothing', 'short', 'of', 'amazing!!', 'Cut,', 'color,', 'highlights....she', 'is', 'my', 'super', 'stylist.', ':)', 'If', 'you', 'are', 'looking', 'for', 'someone', 'to', 'give', 'you', 'a', 'new', 'look,', 'or', 'just', 'revamp', 'a', 'style', \"you're\", 'already', 'in', 'love', 'with,', 'ask', 'for', 'her.\"', '\"i', 'love', 'this', 'place.', 'very', 'rarely', 'do', 'i', 'get', 'to', 'go', 'out', 'and', 'tie', 'one', 'on.', 'when', 'i', 'do,', 'this', 'is', 'were', 'i', 'want', 'to', 'be', 'at', 'some', 'point', 'in', 'the', 'night.', 'where', 'else', 'can', 'i', 'go', 'and', 'request', 'the', 'cramps?', 'i...love...this...place,', 'it', 'makes', 'me', 'happy.', 'i', 'suppose', 'i', 'should', 'go', 'on', 'and', 'on', 'about', 'what', \"it's\", 'like,', 'but', 'i', \"won't.\", 'go', 'and', 'experience', 'it', 'for', 'yourself.\"', \"'Hands\", 'down', 'a', 'great', 'lil', 'joint!', 'Gotta', 'get', 'the', 'guac,', 'staff', 'is', 'awesome,', 'way', 'cozy', 'and', 'great', \"food!'\", '\"Maestro', 'Chris', 'Bianco', 'whips', 'up', 'addictive', 'sandwiches', 'at', 'his', 'laboratory', 'on', 'Central', 'Avenue.', 'Ingredients', 'are', 'local', 'and', 'super-fantastic.', 'Check', 'out', 'what', \"today's\", 'market', 'sandwich', 'is', '--', 'if', \"it's\", 'oven-roasted', 'pork,', 'buy', 'it', 'immediately.', \"Don't\", 'miss', 'the', 'rice', 'pudding.\"', \"'Okay\", 'I', 'have', 'found', 'my', 'new', 'favorite', '\"home', 'office!\"', 'I', \"don\\\\'t\", 'have', 'an', 'office', 'for', 'my', 'agency', 'yet', 'so', 'coffee', 'shops', 'tend', 'to', 'be', 'where', 'I', 'get', 'most', 'of', 'my', 'work', 'done.\\\\n\\\\nLast', 'week', 'I', 'checked', 'out', 'Echo', 'Coffee', 'for', 'a', 'client', 'meeting', 'and', 'we', 'both', 'really', 'liked', 'it.', 'Today', 'I', 'returned', 'and', 'spent', 'a', 'few', 'hours', 'working', 'at', 'Echo', 'Coffee', 'on', 'their', 'wi-fi.', 'It', 'was', 'such', 'a', 'nice', 'break', 'from', 'my', 'usual', 'home', 'office', 'at', 'Starbucks.', 'Walking', 'into', 'Echo', 'Coffee', 'you', 'can', 'instantly', 'tell', 'its', 'a', 'different', 'type', 'of', 'coffee', 'experience.', 'The', 'environment', 'is', 'very', 'relaxing,', 'music', 'is', 'not', 'blasting', 'so', 'customers', \"don\\\\'t\", 'have', 'to', 'scream', 'over', 'each', 'other,', 'and', 'they', 'have', 'great', 'big', 'couches', 'in', 'the', 'back.', 'Of', 'course', 'atmosphere', 'and', 'great', 'coffee', 'needs', 'to', 'be', 'in', 'balance', 'and', 'it', 'definitely', 'was', 'at', 'Echo.\\\\n\\\\nThe', 'coffee', 'is', 'really', 'good', 'and', 'love', 'very', 'fair', 'price', 'for', 'the', 'quality', 'you', 'get', '(my', '2', 'favs', 'are', 'Cappuccino', 'at', '$2.75', 'and', '$3.75', 'for', 'large', 'Chai', 'Latte).', 'My', 'chai', 'latte', 'came', 'in', 'a', 'big', 'ceramic', 'mug.', 'I', \"don\\\\'t\", 'know', 'about', 'you', 'but', 'there', 'is', 'just', 'something', 'special', 'enjoying', 'coffee', 'out', 'of', 'big', 'mugs', 'and', 'not', 'recyclable', 'paper', 'cups.\\\\n\\\\nA', 'surprising', 'first', 'for', 'me', 'is', 'getting', 'actual', 'lunch', 'at', 'a', 'coffee', 'place', 'and', 'was', 'pleasantly', 'surprised', 'to', 'find', 'the', 'food', 'was', 'also', 'really', 'good.', 'Can', 'you', 'tell', 'I', 'am', 'a', 'fan', 'yet?', 'I', 'ordered', 'a', 'Curry', 'Chicken', 'sandwich', 'and', 'it', 'was', 'huge', 'and', 'delicious', 'so', 'finished', 'the', 'whole', 'thing.', 'There', 'was', 'a', 'nice', 'bonus', 'on', 'the', 'plate', '-', 'Mango', 'Chutney', 'so', 'make', 'sure', 'you', 'get', 'that', 'if', 'you', 'order', 'lunch', 'at', 'Echo.', 'I', 'would', 'have', 'loved', 'just', 'a', 'bowl', 'of', 'that', 'and', 'bread', 'as', 'its', 'flavor', 'was', 'so', 'good.', 'I', 'need', 'to', 'find', 'out', 'where', 'they', 'get', 'this', 'from', 'as', 'I', 'want', 'to', 'have', 'it', 'at', 'home.', 'About', '$12.50', 'for', 'my', 'huge', 'Chai', 'tea', 'and', 'curry', 'chicken', \"sandwich.'\", \"'This\", 'my', 'favorite', 'Chipotle', 'ever!!!', \"It\\\\'s\", 'so', 'consistent', 'and', 'good!', 'No', 'hormones', 'in', 'the', 'meat', 'makes', 'this', '\"fast\"', 'food', 'an', 'A+', 'for', 'me!!!', \"Yum!!!'\", \"'This\", 'place', 'is', 'amazing.', 'Absolutely', 'LEGIT.', 'Some', 'of', 'the', 'best', 'shawarma', 'and', 'hummus', 'in', 'the', 'US', '(Zankou', 'Chicken', 'in', 'LA', 'is', 'a', 'close', 'competitor).', 'The', 'pita', 'sandwiches', 'are', 'stuffed', 'with', 'delicious', 'fresh', 'meat,', 'traditional', 'pickles,', 'and', 'tahini', 'or', 'garlic', 'dressing', '(depending', 'on', 'preference).', 'Ask', 'for', 'their', 'hot', 'sauce', 'to', 'help', 'spice', 'things', 'up', 'even', 'more.', 'And', 'the', 'Jasmine', 'infused', 'lemonade', 'is', 'crazy', 'sweet,', 'but', 'really', 'good.', '\\\\n\\\\nI', 'love', 'this', 'place,', 'and', 'have', 'been', 'a', 'die-hard', 'fan', 'for', 'over', '4', 'years', \"now.'\", '\"Stop', 'everything', \"you're\", 'doing', 'and', 'go', 'get', 'one', 'of', 'their', 'brownies,', 'warmed', 'up,', 'with', 'an', 'ice', 'cold', 'glass', 'of', 'milk.', \"I'll\", 'never', 'be', 'the', 'same.\"', \"'Suffered\", 'a', 'senior', 'moment', 'today!', 'Did', 'the', 'yelp', 'check', 'and', 'thought', 'this', 'sounds', 'good...the', 'drive', 'was', 'very', 'dejavu', 'and', 'then', 'I', 'discovered', 'why....see', 'previous', 'review!', 'lol', '.....but', 'to', 'update....the', 'volcano', 'appetizer,', 'sedona', 'roll', 'and', 'Mochi', 'Icecream', '(which', 'I', 'am', 'becoming', 'addicted', 'to)', 'were', 'all', 'wonderful.', 'Our', 'waitress', 'was', 'also', 'fantastic', 'bringing', 'plenty', 'of', 'their', 'delicious', 'iced', 'tea', 'and', 'keeping', 'the', 'ginger', 'bowl', 'full....a', 'necessity', 'for', 'me.', 'The', 'place', 'was', 'full', 'tonight', 'and', 'I', 'can', 'see', 'why.', 'Question', 'is', 'will', 'I', \"remember?'\", \"'great\", '3D', 'Imax', 'theater,,,see', 'the', 'Transformers...very', \"spectacular'\", \"'This\", 'is', 'my', 'favorite', 'haunt.', 'Whether', 'it', 'be', 'St.', 'Patricks', 'Day,', 'before', 'a', 'sundevil', 'game', 'or', 'just', 'a', 'place', 'to', 'meet', 'some', 'friends', 'for', 'a', 'quick', 'drink.', 'Gavin', 'and', 'the', 'rest', 'of', 'the', 'peeps', 'are', 'great.', 'The', 'food', 'is', 'the', 'good,', 'whether', 'out', 'on', 'the', 'patio', 'eating', 'bar', 'food', 'or', 'inside', 'the', 'dining', 'room', 'indulging', 'in', 'dinner.', '\\\\n\\\\nThis', 'place', 'will', 'always', 'be', 'the', 'primary', 'place', 'to', 'grab', 'a', 'Guinness', 'for', \"me.'\", \"'I\", 'had', 'Thai', 'coffee', 'and', 'thai', 'fresh', 'rolls.', 'It', 'was', 'good.', 'The', 'vegetables', 'were', 'fresh', 'and', 'delicious.', 'Plans', 'to', 'visit', \"again.'\", \"'Delish\", '&', 'authentic!', 'The', 'serving', 'was', 'generous', '(meat', 'combo', 'fed', '2).', 'The', 'injera', 'was', 'good', '(not', 'too', 'thick/doughy).', 'Spicy', 'and', 'yummy.', 'I', 'would', 'like', 'to', 'return', 'and', 'experience', 'their', 'coffee', \"ceremony.'\", \"'Amazing\", 'clothing', 'and', 'fantastic', 'deals!', 'As', 'a', 'photographer', 'this', 'is', 'my', 'first', 'stop', 'for', 'designing', 'shoots', 'when', 'I', 'need', 'amazing', 'wardrobe', 'items.', 'The', 'owners', 'are', 'really', 'nice', 'and', 'friendly', 'and', 'very', \"helpful.'\", '\"This', 'will', 'be', 'a', 'simple', 'post...I', 'love', 'indian', 'food,', 'and', 'this', 'is', 'HANDS', 'DOWN', 'the', 'very', 'best', 'in', 'Az.', 'The', 'Chicken', 'makhani', 'is', 'so', 'buttery,', 'so', 'savory...the', 'Chicken', 'tikka', 'masala,', 'the', 'best', 'I', 'ever', 'had.', 'Service', 'is', 'always', 'good,', 'the', 'food', 'comes', 'out', 'fast.', \"It's\", 'not', 'super', 'cheap,', 'since', 'you', 'have', 'to', 'pretty', 'much', 'order', 'everything', 'ala', 'cart,', 'but', 'it', 'is', 'worth', 'it.', 'If', 'you', 'go', 'on', 'Friday', 'or', 'Saturday', 'there', 'is', 'also', 'belly', 'dancers.', 'When', 'in', 'rome!\"', \"'The\", 'BEST', 'of', 'the', 'BEST!\\\\n\\\\nI', 'agree', 'with', 'Daren', 'C.', 'Killer', 'Burgers,', 'Steaks,', 'Prime', 'Rib', 'and', 'of', 'course', 'ribs.\\\\n\\\\nFood', 'melts', 'in', 'your', 'mouth.', 'Make', 'this', 'your', 'next', 'restaurant', 'stop.', 'You', 'will', 'not', 'be', \"disappointed.'\", \"'One\", 'of', 'my', 'new', 'favorite', 'lounges', 'to', 'go', 'to', 'with', 'the', 'girls.', '1.', 'I', 'am', 'a', 'HUGE', 'champagne', 'fan', '2.', 'You', 'can', 'smoke', 'on', 'the', 'patio', '3.', 'the', 'drinks', 'are', 'great', 'and', '4.', 'I', 'LOVED', 'the', 'decor', 'and', 'atmosphere.', 'My', 'friend', 'and', 'I', 'were', 'at', 'Salt', 'next', 'door', 'for', 'a', 'friends', 'birthday', 'party', 'on', 'a', 'Friday', 'night', 'and', 'decided', 'to', 'sneak', 'next', 'door', 'for', 'a', 'drink', 'to', 'check', 'it', 'out.', 'The', 'staff', 'as', 'a', 'whole', 'were', 'awesome,', 'everyone', 'was', 'very', 'polite', 'and', 'sweet.', 'It', 'has', 'that', 'chic', 'feel', 'with', 'all', 'the', 'servers', 'wearing', 'cute', 'corsets', 'and', 'dresses.', 'The', 'DJ', 'was', 'great', 'as', 'well,', 'fun', 'music', 'that', 'kept', 'the', 'energy', 'level', 'up', 'without', 'making', 'it', 'too', 'clubby', 'and', 'easy', 'to', 'still', 'cary', 'a', 'conversation.', 'Definitely', 'a', 'great', 'new', 'place', 'to', 'sit', 'back', 'and', 'lounge', 'in', 'a', 'place', 'with', 'a', 'fun', 'atmosphere', 'and', 'good', 'service.', \"Yay!'\", \"'After\", 'reading', 'the', 'great', 'reviews', 'and', 'getting', 'plenty', 'of', 'recommendations', 'to', 'try', 'Fez,', 'I', 'had', 'the', 'awesome', 'opportunity', 'to', 'test', 'it', 'out', 'last', 'night', 'at', 'my', 'first', 'Yelp', 'event', 'and', 'I', 'am', 'in', 'love!', 'From', 'the', 'bright', 'decor', 'to', 'the', 'delicious', 'food', 'to', 'the', 'amazing', 'service', '(I', 'mean', 'everyone', 'who', 'works', 'there', 'actually', 'looks', 'like', 'they', 'enjoy', 'their', 'job', 'and', 'are', 'having', 'a', 'good', 'time!)', 'this', 'place', 'is', '5', 'star.', '\\\\n\\\\nI', 'love', 'the', 'cozy', 'lounge', 'feel', 'and', 'could', 'easily', 'see', 'myself', 'enjoying', 'several', 'hours', 'of', 'delicious', 'cocktails', 'and', 'conversation', 'with', 'friends.', 'This', 'would', 'be', 'a', 'great', 'spot', 'for', 'dinner,', 'drinks,', 'or', 'even', 'an', 'event', '(another', 'Yelp', 'event', 'please!).\\\\n\\\\nHighlights:\\\\nTasty', 'drink', 'menu\\\\nFabulous', 'wicker', 'tables', 'and', 'trendy', 'IKEAish', 'style\\\\nGreat', 'part', 'of', 'town\\\\nSexy', 'servers...dang\\\\n\\\\nImpress', 'someone:', 'Take', 'them', 'to', \"FEZ!'\", '\"Yes,', 'it', 'is', 'small,', 'yes,', 'it', 'takes', 'time', 'to', 'get', 'your', 'order,', 'but', 'the', 'quality', 'of', 'the', 'food', 'serve', 'is', 'excelent', '!!!', 'Celina', 'is', 'the', 'name', 'of', 'the', 'owner', '(not', 'Selena)', 'of', 'this', 'fabulus', 'resturant.', 'She', 'takes', 'your', 'order,', 'runs', 'to', 'the', 'kitchen', 'and', 'then', 'she', 'serves', 'your', 'order', 'too.', 'I', \"wouldn't\", 'say', 'that', 'this', 'is', 'a', 'one', 'person', 'resturant,', 'because', 'she', 'has', 'help', 'in', 'the', 'kitchen.', '\\\\nVery', 'few', 'Mexican', 'resturants', 'in', 'Phoenix', 'serve', 'food', 'as', 'good', 'as', 'this', 'one.', 'The', 'Menu', 'is', 'limited', 'but', 'whatever', 'you', 'order', 'you', 'will', 'not', 'be', 'disappointed.\"', '\"Can\\'t', 'go', 'wrong', 'with', 'an', 'iced', 'gingerbread', 'latte,', 'hot', 'waffle', 'with', 'Nutella', 'spread', 'and', 'free', 'wi-fi', '-', 'especially', 'shared', 'with', 'my', 'beautiful', 'wife.', ':)\"', '\"Yup,', \"I'm\", 'reviewing', 'a', 'gas', 'station.', 'I', 'like', 'the', 'Quiktrip', 'chain', 'in', 'general', 'and', 'this', 'station', 'in', 'particular.\\\\n\\\\nI', 'find', 'Quiktrips', 'to', 'generally', 'be', 'the', 'cheapest', 'gas', 'in', 'town.', 'Sure,', 'the', 'Arco', 'sign', 'down', 'the', 'street', 'might', 'say', \"it's\", '2', 'cents/gallon', 'cheaper,', 'but', 'then', 'you', 'get', 'whacked', 'with', 'the', 'ATM', 'surcharge,', 'not', 'to', 'mention', \"there's\", 'all', 'those', 'bums', 'loitering', 'in', 'the', 'adjacent', 'bus', 'stop.\\\\n\\\\nWith', 'Quiktrip,', 'the', 'place', 'is', 'well', 'lit,', \"there's\", 'always', 'a', 'trash', 'can', 'and', 'window', 'squeegee', 'at', 'every', 'pump,', 'the', 'convenience', 'store', 'is', 'better', 'than', 'most,', 'and', 'unlike', 'most', 'other', 'gas', 'stations,', 'they', \"don't\", 'charge', 'you', 'for', 'the', 'air', 'compressor.', 'Oh,', 'and', 'the', 'person', 'at', 'the', 'register', 'will', 'actually', 'greet', 'you', 'when', 'you', 'step', 'inside', 'the', 'door,', 'while', 'managing', 'to', 'sound', 'sincere', 'about', 'it.', 'Is', 'that', 'the', 'coolest', 'thing', 'for', 'a', 'convenience', 'store', 'or', 'what?', '\\\\n\\\\nBonus:', 'for', 'those', 'of', 'you', 'who', 'enjoy', 'shopping', 'at', 'the', 'Hot', 'Chick', 'Safeway', 'down', 'the', 'street,', 'this', 'is', 'the', 'Hot', 'Chick', 'Gas', 'Station.\"', \"'Tried\", 'going', 'there', 'for', 'my', '1st', 'visit', 'and', 'they', 'were', 'closed', 'during', 'hours', 'they', 'were', 'supposed', 'to', 'be', 'open.', 'Have', 'tried', 'calling', 'them', 'a', 'few', 'times', 'during', 'normal', 'business', 'hours', 'and', 'did', 'not', 'get', 'anyone', 'to', 'pickup.', 'They', 'may', 'be', 'closed', 'for', 'good.', 'Not', \"sure.'\", \"'Piestewa\", 'and', 'Camelback', 'Peaks', 'are', 'the', 'two', 'boobs', 'of', 'Phoenix.', \"They\\\\'re\", 'real,', 'and', \"they\\\\'re\", 'spectacular.', '\\\\n\\\\nOf', 'course,', 'being', 'all-natural', 'one', 'is', 'just', 'a', 'slight', 'bit', 'larger', 'than', 'the', 'other,', 'but', 'this', 'is', 'barely', 'noticeable.', 'Camelback', 'is', 'barely', '100', 'feet', 'higher', 'than', 'Piestewa,', 'whose', 'nipple...', 'er...', 'summit,', 'is', 'at', '2608', 'feet.', 'Climb', 'either', 'one', 'and', 'you', 'can', 'enjoy', 'great', 'views', 'of', 'the', 'other', 'at', 'various', 'vantage', 'points,', 'not', 'to', 'mention', 'views', 'of', 'the', 'city.', '\\\\n\\\\nAlthough', 'Camelback', 'strikes', 'me', 'as', 'a', 'funner', 'climb,', 'I', 'give', 'Piestewa', '5', 'stars', 'because', 'for', 'what', 'it', 'lacks', 'in', 'the', 'intangible', 'fun', 'factor', 'it', 'makes', 'up', 'with', 'being', 'just', 'a', 'tad', 'less', 'insanely', 'crowded.', 'Piestewa', 'Peak', 'Park', 'also', 'has', 'a', 'number', 'of', 'really', 'cool', 'looking', 'trails', 'that', \"don\\\\'t\", 'go', 'up', 'to', 'the', 'summit,', 'which', 'look', 'to', 'me', 'to', 'be', 'worth', 'exploring', 'some', 'day.\\\\n\\\\nSpeaking', 'of', 'female', 'body', 'parts,', 'the', 'former', 'name', 'for', 'this', 'peak', 'was', '\"Squaw\"', 'Peak.', 'This', 'has', 'inspired', 'one', 'of', 'the', 'most', 'ridiculous', 'controversies', 'in', 'modern', 'times', 'in', 'our', 'state.', 'Native', 'Americans', 'are', 'offended', 'by', 'the', 'term', '\"Squaw\",', 'and', 'regardless', 'of', 'the', 'linguistic', 'origins', 'of', 'the', 'word,', 'it', 'is', 'basically', 'the', 'equivalent', 'of', 'terms', 'such', 'as', '\"Negress\"', 'or', '\"Jewess\".', 'In', 'the', '1990s,', 'the', 'State', 'of', 'Arizona', 'proposed', 'ending', 'the', 'controversy', 'by', 'renaming', 'the', 'peak', 'after', 'our', 'greatest', 'political', 'leader', 'ever', 'and', 'the', 'father', 'of', 'American', 'conservatism,', 'Barry', 'Goldwater.', 'The', 'whining', 'dipshits', 'who', 'apparently', 'constitute', 'our', 'voting', 'population', 'rejected', 'the', 'idea.', \"They\\\\'d\", 'rather', 'continue', 'using', 'a', 'stupid', 'name', 'that', 'has', 'no', 'historical', 'or', 'sentimental', 'value', 'whatsoever', 'just', 'to', 'spite', 'Native', 'Americans,', 'rather', 'than', 'honoring', 'one', 'of', 'their', 'finest', 'citizens.\\\\n\\\\nAnd', 'so,', 'in', 'this', 'decade,', 'Democratic', 'Governor', 'Janet', 'Napolitano', 'put', 'an', 'abrupt', 'end', 'to', 'the', 'whole', 'issue.', 'She', 'gave', 'the', 'sqaw-apologists', 'the', 'finger', 'and', 'ordered', 'the', 'renaming', 'of', 'the', 'peak', 'to', 'Piestewa,', 'after', 'Lori', 'Piestewa,', 'the', 'first', 'US', 'woman', 'soldier', 'to', 'be', 'killed', 'in', 'the', '2003', 'Iraq', 'war', 'and', 'a', 'member', 'of', 'the', 'uniquely-Arizonan', 'Hopi', 'Nation.', 'A', 'fitting', 'end', 'to', 'the', 'debate.\\\\n\\\\nNOTE:', 'Even', 'more', 'fitting,', 'the', 'original', 'name', 'of', 'this', 'peak', 'was', 'Squaw', 'Tit', 'Peak,', 'and', 'I', 'swear', 'to', 'God', \"I\\\\'m\", 'not', 'making', 'that', 'up', 'to', 'be', \"funny.'\", '\"I', 'just', 'love', 'Chipotle.', 'Fresh,', 'yummy,', 'spicy', '(if', 'you', 'want', 'it', 'to', 'be).', 'And', 'the', 'restaurant', 'was', 'clean', 'a', 'HUGE', 'plus!', 'My', 'personal', 'fav', 'is', 'the', 'chicken', 'burrito,', 'no', 'rice,', 'no', 'beans', 'w/', 'fajita', 'veggies,', 'pico,', 'cheese,', 'sour', 'cream,', 'and', 'lettuce.', 'Guacamole', 'and', 'hot', 'sauce', 'on', 'the', 'side.', 'So', 'delicious!!!', 'The', 'person', 'who', 'did', 'our', 'order', 'was', 'so', 'nice!', 'It', 'was', 'my', \"friend's\", 'first', 'Chipotle', 'experience!', 'She', 'was', 'impressed', 'by', 'how', 'big', 'the', 'burrito', 'was.', \"I'm\", 'glad', 'I', 'only', 'live', 'a', 'few', 'blocks', 'away...', 'because', 'I', 'will', 'be', 'back.\"', '\"I', 'love', 'you,', 'Marquee', 'Theatre.', '\\\\n\\\\nJust', 'last', 'night', 'I', 'saw', 'Dashboard', 'Confessional', 'here', 'and', 'it', 'was', 'packed.', '\\\\nI', 'have', 'seen', 'many', 'shows', 'here', 'and', 'I', 'have', 'not', 'a', 'single', 'complaint', 'about', 'The', 'Marquee.', 'The', 'bartenders', 'are', 'really', 'friendly,', 'the', 'bouncers', 'do', 'a', 'great', 'job,', 'and', 'the', 'bands', 'they', 'have', 'play', 'here', 'are', 'always', 'phenomenal.', 'Not', 'to', 'mention,', 'the', 'sound', 'guys', 'do', 'an', 'awesome', 'job.', '\\\\n\\\\nI', 'love', 'how', 'big', 'it', 'is', 'in', 'the', 'Marquee,', 'because', 'it', 'allows', 'for', 'tons', 'of', 'people', 'to', 'see', 'a', 'great', 'show.', 'One', 'thing', 'that', 'most', 'venues', 'fail', 'at', 'is', 'keeping', 'it', 'cool', 'inside', 'of', 'the', 'venue,', 'The', 'Marquee', 'on', 'the', 'other', 'hand', 'does', 'a', 'tremendous', 'job', 'of', 'keeping', 'the', 'temperatures', 'bearable', 'in', 'there.', '\\\\n\\\\nThe', 'only', 'thing', 'I', 'hate', '(and', 'this', 'has', 'nothing', 'to', 'do', 'with', 'The', 'Marquee', 'itself)', 'is', 'that', 'I', 'am', 'always', 'standing', 'next', 'to', 'belligerently', 'drunk,', 'annoying', 'girls', 'who', \"can't\", 'seem', 'to', 'keep', 'their', 'mouths', 'shut', 'during', 'a', 'set....', 'Please', \"don't\", 'speak...', 'I', 'am', 'listening', 'to', 'Chris', \"Carrabba's\", 'angelic', 'voice,', 'thanks.', '\\\\n\\\\nAll', 'in', 'all,', 'I', 'think', 'that', 'The', 'Marquee', 'Theatre', 'is', 'my', 'favorite', 'venue', 'of', 'all', 'time.\"', \"'Their\", 'food', 'was', 'GREAT!', 'I', 'had', 'the', 'pancit,', 'lumpia,', 'and', 'that', 'purple', 'rice!', 'The', 'price', 'was', 'not', 'bad', 'for', 'the', 'amount', 'of', 'food', 'that', 'they', 'gave', 'you!\\\\n\\\\nEven', 'though', 'they', 'had', 'a', 'very', 'long', 'line', 'they', 'were', 'still', 'very', 'fast', 'with', \"service!'\", \"'FINALMENTE!!!\\\\n\\\\nAndiamo....\\\\n\\\\nFOOD\\\\n--------\\\\nAppetizer:\", 'Fritto', 'Misto,', 'which', 'is', 'a', 'trio', 'of', 'fried', 'appetizers.', 'For', 'the', 'day,', 'ours', 'included', 'a', 'cheese,', 'a', 'stuffed', 'olive,', 'and', 'whole', 'leaves', 'of', 'broccolini.', 'The', 'cheese', 'wedge', 'was', 'great', '(I', 'wish', 'I', 'remembered', 'what', 'it', 'was),', 'and', 'have', 'you', 'ever', 'had', 'a', 'deep', 'fried', 'veal-stuffed', 'olive?', 'Very', 'interesting.', 'The', 'flash-fried', 'broccolini', 'took', 'a', 'little', 'getting', 'used', 'to,', 'since', 'the', 'leaves', 'kept', 'crumbling', 'as', 'I', 'was', 'trying', 'to', 'eat', 'them,', 'but', 'still', 'tasty,', 'if', 'subtle.\\\\n\\\\nMain:', 'Orecchiette', 'alla', 'Puttanesca.', 'Man.', 'This', 'is', 'the', 'real', 'deal.', 'Orecchiette', 'is', 'the', '\"little', 'ear\"', 'pasta', 'and', '\"alla', 'puttanesca\"', 'means', \"it\\\\'s\", 'made', '\"whore', 'style\".', '\\\\n\\\\nAnd', 'what', 'a', 'beautiful,', 'classy,', 'yet', 'very', 'vibrant', 'whore', 'she', 'is.\\\\n\\\\nThe', 'pasta', 'was', 'cooked', 'just', 'perfectly,', 'and', 'even', 'though', 'puttanesca', 'sauce', 'usually', 'goes', 'with', 'a', 'stringier', 'pasta', '(spaghetti,', 'linguini,', 'etc.)', 'it', 'worked', 'really', 'well', 'with', 'the', 'orecchiette.', '\\\\n\\\\nAnd', 'the', 'sauce.', 'Holy', 'mother,', 'this', \"streetwalkin\\\\'\", 'hussy', 'of', 'a', 'sauce', 'with', 'its', '12', 'ingredients:', 'capers,', 'breadcrumbs,', 'anchovy', 'sauce,', 'garlic,', 'olives,', 'basil,', 'olive', 'oil,', 'and,', 'uh,', 'the', 'other', '5.', 'The', 'flavors', 'were', 'a', 'perfect,', 'clear-heeled', 'harmony.', 'Nothing', 'overpowered', 'the', 'other.', 'Subtle', 'and', 'humble', 'home', 'food.', 'It', 'really', 'tasted', 'just', 'like', 'something', 'my', 'Italian', \"friends\\\\'\", 'mothers', 'would', 'cook', 'in', 'their', 'kitchen.\\\\n\\\\nAs', 'for', 'the', 'servings,', 'when', 'I', 'first', 'got', 'my', 'bowl', 'I', 'was', 'thinking,', '\"oh', 'ok,', 'this', 'is', 'a', 'European', 'serving.', \"I\\\\'m\", 'still', 'going', 'to', 'be', 'starving', 'after', 'this.\"', 'And,', 'um,', 'nope.', 'Why?', 'Because', 'I', 'slowed', 'down.', 'I', 'savored', 'my', 'meal,', 'and', 'took', 'my', 'time', 'with', 'the', 'dish.', 'And', 'by', 'the', 'end,', 'was', 'I', 'hungry?', 'Not', 'at', 'all.', 'I', 'really', 'enjoyed', 'this', 'meal.', 'And', 'the', 'serving', 'was', 'just', 'right.', 'Complimentary', 'packs', 'of', 'long', 'breadsticks', 'are', 'also', 'found', 'on', 'each', 'table.', '\\\\n\\\\nSERVICE\\\\n-------------\\\\nVery', 'friendly,', 'efficient,', 'and', 'willing', 'to', 'go', 'through', 'the', 'menu', 'in', 'detail', 'and', 'answer', 'any', 'more', 'questions', 'about', 'the', 'restaurant.', 'Dishes', 'were', 'brought', 'out', 'in', 'a', 'timely', 'manner', 'and', 'there', 'was', 'never', 'any', 'rush', 'after', 'the', 'meal', 'was', 'completed', 'to', 'clear', 'the', 'table.', '\\\\n\\\\nAnd', 'the', 'mood', 'inside', 'Pastabar', 'was', 'palpable.', 'Everyone', 'looked', 'happy,', 'excited,', 'and', 'relieved', 'that', 'the', 'restaurant', 'was', 'finally', 'open', 'for', 'business.', 'And', 'I', 'felt', 'the', 'same', 'for', 'them.', '\\\\n\\\\nSETTING\\\\n-------------\\\\nI', 'would', 'say', 'the', 'space', 'was', 'just', 'the', 'right', 'size.', 'Not', 'a', 'cavernous', 'place', 'in', 'the', 'least.', 'Probably', 'the', 'same', 'size', 'as', 'Sens,', 'maybe', 'even', 'a', 'little', 'smaller.', \"It\\\\'s\", 'tucked', 'away', 'in', 'the', 'very', 'back', 'of', 'the', 'hallway', 'of', 'the', 'building,', 'so', 'much', 'so', 'that', 'I', 'completely', 'missed', 'it', 'when', 'I', 'was', 'IN', 'THE', 'HALLWAY', 'the', 'previous', 'afternoon', 'looking', 'for', 'it.', 'But', 'I', 'like', 'it', 'a', 'little', 'hidden', 'off,', 'actually.', '\\\\n\\\\nThe', 'colors', 'inside', 'are', 'warm,', 'with', 'a', 'modern', 'bistro', 'feel.', 'No', 'windows', 'looking', 'outside', 'but', 'I', \"didn\\\\'t\", 'mind', 'that.', 'There', 'is', 'seating', 'at', 'the', 'bar,', 'a', 'few', 'two-tops', 'up', 'front,', 'and', 'larger', 'tables', 'in', 'the', 'back.', 'Selections', 'from', 'different', 'Shins', 'albums', 'made', 'up', 'the', 'soundtrack', 'throughout', 'the', 'dinner,', 'and', 'while', 'the', 'music', 'sounds', 'like', 'it', 'could', 'be', 'incongruous', 'with', 'a', 'bunch', 'of', 'little', 'ears', 'cooked', 'whore-style,', 'it', 'worked.', '\\\\n\\\\nI', 'definitely', \"don\\\\'t\", 'think', 'this', 'is', 'going', 'to', 'be', 'as', '\"scene-y\"', 'as', 'Sens.', 'It', 'has', 'a', 'completely', 'different', 'vibe.', '\\\\n\\\\nEXTRA', 'CRIB', 'NOTES\\\\n-----------------------------\\\\n*', 'the', 'main', 'courses', 'of', 'Pastabar', 'are', 'pasta', 'and', 'ONLY', 'pasta.', 'No', 'veal', 'parm', 'here.', 'And', 'no', 'hoikey', 'sauces', 'like', 'Olive', 'Garden-y', 'alfredo', 'or', 'a', 'jar', 'of', 'sugary', 'Prego.\\\\n*', \"It\\\\'s\", 'great\\\\n*', 'Prices', 'for', 'antipasti', 'range', 'from', '$7-$11-ish', 'and', 'mains', '$11-ish', 'to', '$18.', 'I', 'spent', 'around', '$26', 'with', 'tax', 'and', 'a', 'nice', 'tip.\\\\n*', \"it\\\\'s\", 'great\\\\n*', 'No', 'liquor', 'license', '(yet).', 'For', 'now,', 'sparkling', 'waters,', 'lemonades,', 'a', 'number', 'of', 'sodas', '(including', 'root', 'beer', '&', 'cream', 'soda).', '\\\\n*', \"it\\\\'s\", 'great\\\\n*', 'complimentary', 'valet', 'awaits', 'the', 'diners,', 'if', \"you\\\\'re\", 'averse', 'to', 'parking', 'close', 'by', 'yourself.\\\\n*', \"it\\\\'s\", 'great\\\\n*', \"It\\\\'s\", 'open', 'till', 'midnight', 'on', 'weeknights', 'and', '2', 'am', 'on', 'weekends!', 'What', 'more', 'could', 'you', 'ask', 'for?\\\\n*', 'did', 'I', 'tell', 'you', \"it\\\\'s\", 'great?\\\\n\\\\nALL', 'IN', 'ALL\\\\n---------------\\\\nAn', 'awesome', 'asset', 'to', 'the', 'area', 'and', \"I\\\\'m\", 'very', 'content.', 'And', 'as', 'much', 'as', 'I', 'loved', 'my', 'whoreish', 'little', 'ears,', 'all', 'the', 'other', 'pastas', 'on', 'the', 'menu', 'sounded', 'incredible', 'and', 'I', \"can\\\\'t\", 'wait', 'to', 'try', 'them', 'all.', \"\\\\n\\\\nI\\\\'m\", 'wishing', 'these', 'guys', 'much', 'success', 'and', 'giving', 'them', 'gratitude', 'to', 'finally', 'being', 'open.', 'A', 'few', 'minor', 'kinks', 'to', 'be', 'worked', 'out', '(and', 'I', \"wasn\\\\'t\", 'as', 'into', 'the', 'appetizer', 'as', 'I', 'was', 'my', 'entree)', 'so', \"it\\\\'s\", 'not', 'totally', 'perfect', 'but', 'they', 'have', 'started', 'out', 'very', 'strong,', 'and', \"it\\\\'s\", 'only', 'Day', '2.\\\\n\\\\nAnd', 'here', 'I', 'was', 'thinking', 'my', 'days', 'of', 'giving', 'out', '5', 'stars', 'were', 'over', '(ok,', 'more', 'like', '4.55', 'and', 'rounding', \"up)...'\", \"'This\", 'has', 'by', 'far', 'been', 'my', 'favorite', 'movie', 'theater', 'and', 'favorite', 'movie', 'chain', 'in', 'Arizona.', 'This', 'location', 'is', 'better', 'than', 'the', 'others', 'I', 'have', 'been', 'to', '-', 'quieter,', 'friendlier', 'staff.', 'The', 'theaters', 'are', 'clean', 'and', 'usually', 'not', 'packed', 'either.\\\\n\\\\nI', 'love', 'the', 't-shirt', 'and', 'cup', 'program', '-', 'and', 'buying', 'tickets', 'at', 'Costco.', 'I', 'went', 'to', 'AMC', 'last', 'month,', 'and', 'spent', 'a', 'lot', 'more', 'money', 'all', 'the', 'way', 'around', 'and', 'did', 'not', 'like', 'the', 'theater', \"either.'\", \"'If\", \"you\\\\'ve\", 'read', 'some', 'of', 'my', 'other', 'reviews', \"you\\\\'ll\", 'see', 'a', 'trend.', \"\\\\n\\\\nKohl\\\\'s\", 'Department', 'Stores.....Brewers', 'spring', 'training......', '\\\\n\\\\nYep,', \"I\\\\'m\", 'a', 'cheesehead.', '(But', 'if', 'you', 'EVER', 'actually', 'catch', 'me', 'wearing', 'a', 'hunk', 'of', 'fake', 'foam', 'cheese', 'on', 'my', 'head,', 'shoot', 'me.', 'Really.)', '\\\\n\\\\nWhat', 'can', 'I', 'say?', 'I', 'like', \"Culver\\\\'s.\", 'It', 'reminds', 'me', 'of', 'home.', \"It\\\\'s\", 'total', 'comfort', 'food.', '\\\\n\\\\nGot', 'one', 'of', 'their', 'Wisconsin', 'Swiss', 'melts.', 'What', 'other', 'fast', 'food', 'joints', 'offer', 'burgers', 'with', 'Swiss', 'on', 'rye?', 'The', 'crinkle', 'cut', 'fries', 'are', 'always', 'hot', 'and', 'fresh.', 'And', 'tasty.', \"\\\\n\\\\nCulver\\\\'s\", 'is', 'known', 'for', 'their', 'frozen', 'custard.', 'What', 'Wisconsinite', 'has', 'not', 'driven', 'past', 'a', \"Culver\\\\'s,\", 'looked', 'at', 'their', 'sign,', 'checked', 'out', 'the', \"\\\\'flavor\", 'of', 'the', \"day\\\\',\", 'and', 'gone,', '\"Hey,', 'that', 'sounds', 'good!!\",', 'and', 'quickly', 'pulled', 'into', 'the', 'parking', 'lot?', '\\\\n\\\\nIf', \"you\\\\'re\", 'from', 'Wisconsin', 'or', 'the', 'Midwest', 'stop', 'in', 'for', 'a', 'Butterburger', 'and', 'some', 'custard....it', 'will', 'bring', 'back', 'lots', 'of', 'good', 'memories.', '\\\\n\\\\nLike', 'another', 'reviewer', 'noted', 'when', 'he', 'said', 'he', 'felt', 'like', 'he', 'was', 'in', 'Iowa', 'or', \"something.....well.....that\\\\'s\", 'the', 'whole', 'charm', 'behind', \"Culver\\\\'s.\", 'You', 'DO', 'feel', 'like', \"you\\\\'re\", 'in', 'Wisconsin', 'or', 'one', 'of', 'the', 'upper', 'Midwest', 'states.', '\\\\n\\\\nGranted', \"I\\\\'m\", 'not', 'the', 'best', 'person', 'to', 'review', \"Culver\\\\'s....I\\\\'m\", 'a', 'little', 'biased', 'towards', 'it.', 'But', 'if', 'you', 'want', 'a', \"\\\\'different\\\\'\", 'kind', 'of', 'fast', 'food', 'experience', 'and', \"you\\\\'ve\", 'never', 'been', 'to', 'the', 'upper', 'Midwest,', \"it\\\\'s\", 'a', 'heck', 'of', 'a', 'whole', 'lot', 'cheaper', 'than', 'flying', 'there.', '\\\\n\\\\nGive', 'it', 'a', 'chance....see', 'if', 'you', 'like', \"it.'\", '\"Let\\'s', 'be', 'honest,', 'when', 'you', 'walk', 'into', 'a', 'tanning', 'salon', 'if', 'you', 'have', 'high', 'hopes', \"you'll\", 'expect', 'to', 'see', 'a', 'nice', 'person', 'behind', 'the', 'counter', 'who', 'is', 'friendly', 'and', 'can', 'tell', 'you', 'the', 'prices', 'for', 'packages', 'and', 'the', 'max', 'times', 'on', 'the', 'beds.', 'If', 'you', 'have', 'low', 'expectations', \"you'll\", 'expect', 'a', 'bored', 'teenager', 'who', 'hands', 'you', 'a', 'price', 'sheet', 'and', 'stares', 'at', 'you', 'looking', 'bored.\\\\n\\\\nWalking', 'into', 'the', 'Total', 'Tan', 'I', 'had', 'pretty', 'good', 'expectations', 'based', 'on', 'the', 'reviews', 'and', 'even', 'those', 'were', 'blown', 'away.', 'Dallas', 'was', 'the', 'person', 'who', 'helped', 'me', '(I', 'think', \"he's\", 'one', 'of', 'the', 'owners?)', 'and', 'he', 'was', 'sooooo', 'friendly', 'and', 'knowledgeable', 'I', 'spent', 'more', 'than', 'I', 'was', 'originally', 'planning', 'but', 'I', 'feel', 'good', 'about', 'it', 'actually.\\\\n\\\\nI', 'had', 'looked', 'at', 'the', 'pricing', 'online', 'so', 'I', 'had', 'an', 'idea', 'of', 'what', 'I', 'wanted', 'but', 'he', 'explained', 'things', 'about', 'the', 'beds', 'that', 'I', 'never', 'knew', 'and', 'that', 'none', 'of', 'the', 'other', 'salons', \"I'd\", 'been', 'to', 'had', 'ever', 'told', 'me.', 'He', 'was', 'super', 'personable', 'too,', 'even', 'asking', 'for', 'my', 'name', 'just', 'during', 'his', 'explanations', 'of', 'everything', 'before', 'I', 'had', 'committed', 'to', 'buying', 'anything.', 'He', 'made', 'sure', 'I', 'knew', 'every', 'detail', 'of', 'the', 'beds,', 'the', 'differences,', 'gave', 'recommendations', 'and', 'was', 'never', 'pushy', 'with', 'any', 'of', 'it.', 'During', 'our', 'conversation', 'several', 'people', 'came', 'in', 'and', 'he', 'always', 'asked', 'my', 'permission', 'first', 'to', 'take', 'care', 'of', 'them', 'and', 'I', \"don't\", 'think', 'he', 'had', 'to', 'ask', 'for', 'their', 'names', 'once,', 'a', 'good', 'sign', 'that', 'he', 'pays', 'attention', 'and', 'remembers', 'his', 'customers.\\\\n\\\\nI', 'could', 'go', 'on', 'and', 'on', 'because', 'I', 'was', 'so', 'impressed', 'with', 'his', 'service', 'and', 'also', 'the', 'location', 'itself', '(super', 'clean,', 'trendy,', 'nice', 'extras', 'in', 'the', 'rooms', 'like', 'baby', 'wipes', 'and', 'extra', 'towels)', 'but', 'I', 'think', 'you', 'get', 'the', 'point', 'by', 'now.', 'Just', 'check', 'this', 'place', 'out,', \"you'll\", 'be', 'happy', 'you', 'did.\"', '\"This', 'place', 'really', 'made', 'a', 'terrible', 'situation', 'as', 'easy', 'as', 'possible.', 'Our', 'cat', 'was', 'hit', 'by', 'a', 'car', 'or', 'beaten,', 'and', 'my', 'husband', 'found', 'her', 'immobile', 'and', 'crying', 'horribly', 'in', 'pain.', 'We', 'rushed', 'her', 'to', 'the', 'clinic,', 'and', 'the', 'doctor', 'saw', 'her', 'right', 'away.', 'She', 'told', 'us', 'our', 'options,', 'but', 'was', 'very', 'upfront', 'about', 'the', 'liklihood', 'that', 'our', 'kitty', 'would', 'pass', 'no', 'matter', 'what', 'we', 'did.', 'She', \"didn't\", 'pressure', 'us', 'one', 'way', 'or', 'another,', 'and', 'left', 'the', 'room', 'so', 'that', 'we', 'could', 'talk', 'privately', 'and', 'make', 'our', 'decision.', 'My', 'husband', 'asked', 'if', 'they', 'could', 'give', 'her', 'some', 'pain', 'meds', 'while', 'we', 'talked', 'about', 'it,', 'and', 'they', 'gave', 'her', 'some', 'immediately.\\\\n\\\\nOnce', 'we', 'made', 'our', 'difficult', 'decision', 'to', 'put', 'our', 'kitty', 'down,', 'she', 'brought', 'the', 'cat', 'into', 'a', 'private', 'room', 'with', 'us', 'so', 'that', 'we', 'could', 'say', 'goodbye.', 'She', 'left', 'us', 'alone', 'and', 'gave', 'us', 'as', 'much', 'time', 'as', 'we', 'needed.', 'She', 'also', 'let', 'us', 'be', 'present', 'in', 'the', 'room', 'when', 'they', 'gave', 'her', 'the', 'final', 'shot.', 'At', 'all', 'times', 'the', 'doctor', 'and', 'the', 'techs', 'were', 'compassionate', 'and', 'very', 'respectful.', 'I', 'was', 'crying', 'and', 'they', 'were', 'very', 'sensitive', 'to', 'my', 'feelings.', 'They', 'treated', 'my', 'little', 'kitty', 'so', 'gently', 'even', 'after', 'she', 'had', 'passed.', 'They', 'even', 'sent', 'a', 'sympathy', 'card', 'to', 'our', 'house', 'a', 'few', 'days', 'later.', 'I', 'really', 'appreciated', 'how', 'they', 'helped', 'us', 'through', 'this', 'difficult', 'time,', 'and', 'I', 'would', 'definitely', 'reccommend', 'them', 'if', 'anyone', 'else', 'is', 'in', 'a', 'similar', 'situation.\"', \"'OK,\", 'yeah,', 'everyone', 'LOVES', 'teriyaki,', 'we', 'know!\\\\n\\\\nWell,', \"don\\\\'t\", 'so', 'quickly', 'dismiss', 'the', 'other', 'absolutely', 'AMAZING', 'dishes', 'served', 'here!', 'It', 'may', 'look', 'like', 'a', 'little', 'pre-processed', 'Japanese', 'hole', 'in', 'the', 'wall', 'from', 'the', 'outside,', 'but', \"they\\\\'re\", 'a', 'die', 'hard', 'home-made', 'mom', 'and', 'pop', 'your', 'mouth', 'full', 'of', 'great', 'food', \"establishment!\\\\n\\\\nI\\\\'d\", 'highly', 'recommend', 'trying', 'the', 'Katsu', 'bowl!', 'You', 'can', 'hardly', 'find', 'ANY', 'kind', 'of', 'Japanese', 'katsu', 'in', 'AZ,', 'yet', 'they', 'have', 'an', 'excellent', 'one', \"that\\\\'s\", 'very', 'traditional,', 'but', 'not', 'too', 'expensive!', \"I\\\\'d\", 'love', 'to', 'explain', 'the', 'mystique', 'of', 'this', 'dish,', 'but', 'too', 'many', 'people', 'think', 'that', 'fried', 'egg', 'with', 'onions', 'and', 'leeks', 'topped', 'over', 'a', 'diced', 'pork', 'cutlet', \"that\\\\'s\", 'coated', 'in', 'panko', 'bread', 'crumbs', 'is', 'too', 'strange', 'to', 'be', 'palatable.', 'Well,', 'to', 'them', 'I', 'say', 'you', 'should', 'educate', 'your', 'tongue,', 'and', 'expose', 'it', 'to', 'some', 'delicious', 'culture!', \"\\\\n\\\\nThere\\\\'s\", 'also', 'Orange', 'chicken...', 'This', 'dish', 'is', 'completely', 'the', \"bee\\\\'s\", 'knees.', 'It', 'easily', 'and', 'without', 'remorse', 'makes', 'Panda', 'Express', 'look', 'like', 'a', 'burnt', 'out', 'oil', 'can', 'that', 'a', 'homeless', 'person', 'decided', 'to', 'cook', 'some', 'chicken', 'in', 'over', 'a', 'pile', 'of', 'burning', 'newspapers.\\\\n\\\\nTheir', 'house', 'beef?', 'Spicy', 'garlic', 'brown', 'sauce', 'and', 'beef', 'with', 'mushrooms?', 'Heaven.', 'Simple', 'and', 'delicious.\\\\n\\\\nAnd', 'I', \"haven\\\\'t\", 'even', 'mentioned', 'their', 'coup', 'de', 'grace', 'yet.', 'Their', 'fried', 'rice', 'might', 'seem', 'a', 'little', '\"heavy\"', 'on', 'the', 'surface', 'as', \"it\\\\'s\", 'lightly', 'fried', 'with', 'some', 'garlic', 'oil,', 'but', 'it', 'outclasses', 'all', 'competitors.', 'Paired', 'with', 'their', 'lightly', 'fried', 'shrimp,', \"it\\\\'s\", 'sweet', 'garlic', 'love.', 'Seriously,', 'their', 'fried', 'rice', 'is', 'the', 'Sean', 'Connery', 'of', 'fried', 'rices.\\\\n\\\\nAs', \"I\\\\'ve\", 'been', 'eating', 'here', 'for', 'far', 'longer', 'than', \"I\\\\'d\", 'like', 'to', 'admit,', \"I\\\\'d\", 'have', 'to', 'say', 'I', 'might', 'be', 'a', 'little', 'biased.', 'But,', 'for', 'the', 'great', 'unique', 'quality', 'and', 'cheap', 'price,', 'I', 'guarantee', \"you\\\\'re\", 'not', 'going', 'to', 'find', 'any', 'better', 'in', \"AZ!'\", \"'I\", 'first', 'heard', 'about', 'gangplank', 'at', 'the', 'Arizona', 'Entrepreneurship', 'Conference', 'last', 'year.', 'Since', 'then', 'I', 'have', 'been', 'a', 'regular', 'there', 'and', 'the', 'people', 'that', 'co-work', 'or', 'work', 'there', 'are', 'some', 'of', 'the', 'most', 'inspirational', 'ones', 'I', 'know', 'and', 'are', 'passionate', 'about', 'bringing', 'start-up', 'culture', 'to', 'Phoenix', 'area.', '\\\\n\\\\nThe', 'companies', 'that', 'anchor', 'Gangplank', 'are', 'always', 'working', 'overtime', 'to', 'plan', 'events', 'from', 'Gangplank', 'Jr.', 'for', 'kids', 'to', 'learn', 'programming', 'to', 'the', 'Wednesday', '\"brown', 'bag\"', 'talks', 'that', 'have', 'ranged', 'in', 'topics', 'from', 'how', 'to', 'pitch', 'to', 'angel', 'investor', 'to', 'a', 'local', 'news', 'anchor', 'talking', 'about', 'how', 'they', 'are', 'using', 'Twitter', 'as', 'a', 'resource', 'for', 'news', 'leads.\\\\n\\\\nGangplank', 'rocks.', 'Nuff', \"said.\\\\n\\\\n@iamtimhardy'\", '\"I\\'m', 'President', 'of', 'the', 'Local', 'scooter', 'club', 'so', 'I', 'know', 'and', 'deal', 'with', 'most', 'of', 'the', 'dealers', 'Valley', 'Wide.', 'Tylor', 'the', 'GM', 'and', 'team', 'run', 'a', 'good', 'shop.', 'Very', 'friendly.', \"Don't\", 'get', 'me', 'wrong,', 'they', 'are', 'there', 'to', 'make', 'money', 'but', 'they', 'are', 'not', 'push.', 'You', 'are', 'free', 'to', 'hang', 'out', 'and', 'ask', 'lots', 'of', 'questions.', 'Good', 'assortment', 'of', 'accessories', 'and', 'they', 'can', 'pretty', 'much', 'get', 'anything.\\\\n\\\\nThey', 'know', 'bikes', 'and', 'parts', 'inside', 'an', 'out.', 'Service', 'on', 'my', 'Piaggion', 'BV500', 'has', 'been', 'fast', 'and', 'fantastic.', 'I', 'did', 'not', 'say', 'cheap,', 'but', 'fair.', 'Actually', 'they', 'had', 'a', 'Buy', '1', 'tire', 'get', 'the', '2nd', 'for', '1cent', 'event', 'this', 'week.', 'In', 'the', 'past', 'they', 'had', 'a', '1/2', 'price', 'on', 'all', 'their', 'helmets.', 'Got', 'a', 'Scorpion', '$220', 'helmet', 'for', 'about', '$110.', 'Just', 'ask', 'what', 'and', 'when', 'they', 'are', 'having', 'specials.\\\\n\\\\nI', \"don't\", 'buy', 'the', 'review', 'below', 'about', 'bait', 'and', 'switch,', 'pretty', 'serious', 'accusation.', 'However,', 'GoAZ', 'and', 'Gina', 'over', 'there', 'are', 'good', 'people', 'as', 'well.\"', '\"Yep', '--', 'still', 'my', 'favorite', 'hole-in-the-wall', 'eatery', 'awesomeness.', 'The', 'brisket', 'sandwich', 'with', 'cheddar', 'and', 'slaw', 'and', \"dippin'\", 'sauce', 'was', 'to', 'die', 'for.', 'I', 'ate', 'at', 'the', 'bar', 'and', 'just', 'enjoyed', 'my', 'visit.', \"Can't\", 'wait', 'til', 'I', 'can', 'walk', 'here!\"', '\"Having', 'lived', 'in', 'Chicago', 'for', 'most', 'of', 'my', 'life', 'I', 'was', 'more', 'than', 'nervous', 'of', 'what', 'an', 'Arizona', 'pizza', 'experience', 'would', 'be', 'like.', 'For', 'the', 'most', 'part', 'my', 'assumptions', 'were', 'correct', '-', 'but', \"Grimaldi's\", 'is', 'great!', 'We', 'get', 'the', 'margarita', 'pizza', 'and', \"it's\", 'amazing.', \"I'm\", 'normally', 'a', 'deep', 'dish', 'pizza', 'person', 'but', \"Grimaldi's\", 'is', 'slowly', 'winning', 'me', 'over', 'for', 'thin', 'crust.', 'Also,', 'this', 'place', 'has', 'amazing', 'cheesecake', '-', 'the', 'best', \"I've\", 'ever', 'had', 'in', 'a', 'restaurant.\"', '\"Everyone', 'here', 'is', 'very', 'helpful', 'and', 'friendly.', 'No', 'matter', 'who', 'I', 'come', 'in', 'contact', 'with', 'I', 'can', 'tell', 'they', 'love', 'animals', 'and', 'care', 'about', 'me', 'and', 'my', 'pet.', 'The', 'vet', 'calls', 'me', 'himself', 'to', 'discuss', 'my', \"cat's\", 'test', 'results.', 'They', 'also', 'made', 'sure', 'to', 'give', 'me', 'a', 'lot', 'of', 'information', 'regarding', 'the', 'medications', 'they', 'are', 'putting', 'her', 'on.', 'I', 'feel', 'that', 'my', 'family', 'gets', 'good', 'care', 'from', 'this', 'vet.', 'We', 'ended', 'up', 'moving', 'about', '15', 'minutes', 'away,', 'but', 'still', 'make', 'the', 'trip', 'to', 'see', 'this', 'vet.\"', \"'No\", 'matter', 'where', 'you', 'go', 'in', 'the', 'World', 'if', 'you', 'are', 'wearing', 'an', 'in', 'and', 'out', 'shirt', 'or', 'hat', 'some', 'big', 'guy', 'usually', 'yells', 'out', '\"In', 'and', 'Out', 'Man', 'I', 'love', 'that', 'place\"', 'I', 'think', 'that', 'says', 'it', \"all.'\", \"'Video\", 'Paradise', 'is', 'great.', 'For', 'those', 'who', \"aren\\\\'t\", 'financially', 'comfortable', 'enough', 'for', 'the', 'monthly', 'payment', 'to', 'maintain', 'a', 'NetFlix', 'account,', 'or', 'when', 'you', \"don\\\\'t\", 'feel', 'like', 'buying', 'something', 'from', 'Amazon.com,', 'Video', 'Paradise', 'is', 'a', 'wonderful', 'substitute', 'if', 'you', 'want', 'to', 'get', 'something', 'that', 'you', 'know', \"won\\\\'t\", 'be', 'at', 'Blockbuster', 'or', 'Hollywood', 'Video.\\\\n\\\\nThe', 'selection', 'is', 'staggering.', 'I', 'remember', 'the', 'first', 'time', 'I', 'stepped', 'in,', 'I', 'was', 'amazed.', 'The', 'only', 'movie', 'I', 'really', 'wanted', 'to', 'see', 'and', 'they', \"didn\\\\'t\", 'have', 'was', 'The', 'Helstrom', 'Chronicle,', 'but', \"that\\\\'s\", 'okay.', \"I\\\\'m\", 'not', 'going', 'to', 'ding', 'this', 'place', 'because', 'they', \"didn\\\\'t\", 'have', 'it.', '\"You', \"didn\\\\'t\", 'have', 'The', 'Helstrom', 'Chronicle?', 'Lame!\"', 'I', 'mean,', 'come', 'on.', 'No', 'one', 'else', 'has', 'it.', '\\\\n\\\\nThis', 'place', 'had', 'it', 'all,', 'from', 'little', 'indie', 'films', 'to', 'gross-out', 'horror', 'films', 'I', 'had', 'long', 'forgotten', 'from', 'my', 'disturbing', 'adolescence', '(Cannibal', 'Holocaust,', 'Faces', 'of', 'Death,', 'etc.).', 'They', 'even', 'had', 'the', 'worst', 'movie', \"I\\\\'d\", 'ever', 'seen', 'in', 'my', 'life:', 'Hard', 'Rock', 'Zombies.\\\\n\\\\nThe', 'décor', 'is', 'that', 'of', 'sheer,', 'unbridled', 'love', 'for', 'cinema.', 'You', 'can', 'easily', 'spend', 'hours', 'and', 'hours', 'browsing', 'through', 'their', \"selection.'\", \"'Weekend\", 'plans', 'prevented', 'me', 'from', 'kicking', 'off', 'AZ', 'Restaurant', 'Week', 'on', 'Saturday.', 'So', 'on', 'Monday,', 'Venyse', 'and', 'I', 'headed', 'to', 'White', 'Chocolate', 'Grill', 'where', 'we', 'both', 'had', 'our', 'cherries', 'popped.\\\\n\\\\nWe', 'started', 'out', 'with', 'the', 'spinach', 'artichoke', 'dip.', 'The', 'blends', 'of', 'cheeses', 'made', 'this', 'perhaps', 'the', 'single', 'most', 'spectacular', 'dip', \"I\\\\'ve\", 'ever', 'had', 'the', 'honor', 'of', 'putting', 'in', 'my', 'mouth.', 'O.M.G.', 'Venyse', 'and', 'I', 'were', 'practically', 'clawing', 'at', 'the', 'bowl', 'to', 'get', 'the', 'last', 'of', 'its', 'creamy', 'loveliness.', 'But', 'when', 'you', 'hit', 'a', 'home', 'run', 'so', 'soon', 'in', 'the', 'game,', 'the', 'rest', 'of', 'a', 'meal', 'can', 'seem', 'at', 'odds.\\\\n\\\\nHowever,', 'I', 'was', 'not', 'daunted.', 'She', 'ordered', 'the', 'New', 'York', 'Strip', 'with', 'a', 'side', 'of', 'mashed', 'potatoes', '(with', 'good', 'gravy...what', 'exactly', 'is', 'that?)', 'and', 'roasted', 'carrots;', 'I', 'the', 'blackened', 'Mahi', '[*back', 'story', 'to', 'follow]', 'topped', 'with', 'crab', 'and', 'a', 'side', 'of', 'Israeli', 'couscous.', 'We', \"didn\\\\'t\", 'share', 'our', 'protein,', 'but', 'we', 'sampled', 'each', 'others', 'sides.', 'All', 'were', 'very', 'good,', 'but', 'the', 'carrots', 'really', 'stood', 'out.', 'The', 'gravy', 'and', 'the', 'potatoes', 'were', 'good', 'and', 'I', 'loved', 'my', 'couscous.', 'But', 'halfway', 'through', 'here', 'steak', 'and', 'by', 'the', 'last', 'few', 'bites', 'of', 'my', 'fish,', 'we', 'both', 'hit', 'the', 'wall.', 'A', 'food', 'coma', 'was', 'certain.', 'I', 'persevered', 'but', 'Venyse', 'relented', 'and', 'boxed', 'the', 'rest', 'of', 'her', 'meat', 'and', 'carrots.\\\\n\\\\nThen', 'came', 'the', 'white', 'chocolate', 'brownie.', 'So', 'sweet,', 'so', 'rich,', 'so', 'topped', 'with', 'vanilla', 'ice', 'cream.', 'It', 'was', 'all', 'we', 'could', 'to', 'to', 'make', 'a', 'dent', 'in', 'it.', 'We', 'both', 'felt', 'bad,', 'because', \"isn\\\\'t\", 'white', 'chocolate', 'supposed', 'to', 'be', 'their', 'signature', 'ingredient?', '\\\\n\\\\nRegardless,', 'this', 'was', 'a', 'terrific', 'first', 'restaurant', 'to', 'go', 'with', 'which', 'to', 'begin.', 'And', 'we', 'both', 'agreed', 'it', 'would', 'be', 'a', 'place', 'in', 'our', 'future', 'dinner', 'splurges.', 'I', 'also', 'must', 'admit', 'I', 'love', 'LOVE', 'the', 'belt', 'buckles.', 'Having', 'about', '42', 'myself,', 'I', 'was', 'intrigued', 'when', 'I', 'first', 'noticed', 'what', 'I', 'thought', 'read', '\"SWAG\"', 'after', 'staring', 'for', 'perhaps', 'too', 'long', 'in', 'that', 'general', 'region', 'of', 'one', 'of', 'the', 'staff.', '(Really', 'super', 'sorry', 'if', 'that', 'creeped', 'you', 'out.)', \"It\\\\'s\", 'actually', 'WCG.\\\\n\\\\n[*', 'When', 'a', 'group', 'of', 'us', 'went', 'to', 'Key', 'West', 'one', 'December', 'to', 'escape', 'of', 'the', 'harsh', 'winter', 'of', 'NWOhio', 'and', 'Detroit,', 'we', 'went', 'to', 'a', 'restaurant', 'the', 'listed', '\"Dolphin\"', 'as', 'one', 'of', 'its', 'menu', 'items.', 'I', 'asked', 'in', 'a', 'slightly', 'shocked', 'voice', 'if', 'it', 'was', 'really', 'dolphin,', 'to', 'which', 'the', 'server', 'responded', 'it', 'was', 'actually', 'Mahi.', \"\\\\'Oh,\\\\'\", 'I', 'responded.', \"\\\\'Then\", \"I\\\\'ll\", 'have', 'the', 'veggie', \"burger.\\\\'\", 'Because', 'even', 'in', '1998', 'I', 'was', 'a', 'food', \"bitch.]'\", \"'I\", 'am', 'so', 'not', 'a', 'fan', 'of', 'the', 'dentist.', 'But', 'Dr.', 'Ito', 'and', 'his', 'staff', 'changed', 'that.', 'Professional,', 'yet', 'relaxed', 'attitudes.', 'From', 'the', 'moment', 'you', 'book', 'the', 'appointment', 'to', 'the', 'time', 'you', 'leave', 'you', 'feel', 'like', 'are', 'well', 'cared', 'for', 'and', 'that', 'you', \"aren\\\\'t\", 'just', 'a', 'number', 'or', 'a', 'dollar', 'sign.\\\\n\\\\nWhile', 'in', 'the', 'waiting', 'area', 'I', 'flipped', 'through', 'Dr.', \"Ito\\\\'s\", '\"Smile\"', 'book', 'that', 'shows', 'some', 'of', 'his', 'work.', 'WOW!', 'He', 'makes', 'teeth', 'look', 'real,', 'not', 'like', 'Chiclets.', 'He', 'does', 'some', 'fabulous', 'cosmetic', 'work!', '\\\\n\\\\nI', 'went', 'in', 'to', 'have', 'a', 'crown', 'put', 'on', 'and', 'it', 'was', 'quick', 'and', 'painless.', 'So', 'quick', 'that', 'I', \"didn\\\\'t\", 'get', 'to', 'finish', 'watching', 'the', 'movie!', 'Each', 'chair', 'has', 'headphones', 'and', 'a', 'flat', 'screen', 'that', 'shows', 'a', 'movie', '(he', 'keeps', 'a', 'good', 'stock', 'of', 'the', 'latest', 'movies.).', \"Who\\\\'d\", 'have', 'thought', 'that', 'going', 'to', 'the', 'dentist', 'would', 'keep', 'me', 'so', \"entertained?\\\\n\\\\nI\\\\'ve\", 'had', 'to', 'bring', 'my', 'son', 'to', 'each', 'appointment', 'as', 'I', \"haven\\\\'t\", 'had', 'anyone', 'to', 'keep', 'him.', 'Does', 'that', 'matter?', 'Nope.', 'Dr.', \"Ito\\\\'s\", 'office', 'is', 'equipped', 'with', 'a', \"children\\\\'s\", 'area', 'in', 'the', 'back', 'where', 'the', 'kids', 'can', 'watch', 'a', 'movie,', 'read', 'a', 'book', 'or', 'play', 'a', 'game.', 'He', 'thinks', 'of', 'everything.\\\\n\\\\nI', 'have', 'been', 'recommending', 'him', 'to', 'everyone', 'I', 'meet.', 'I', \"can\\\\'t\", 'say', 'enough', 'good', 'things', 'about', 'Dr.', 'Ito', 'and', 'his', 'staff.', 'You', \"won\\\\'t\", 'regret', 'going', 'to', 'the', 'dentist', 'if', 'Sonoran', 'Hills', 'Dental', 'is', 'your', 'new', 'dental', \"office.'\", \"'The\", 'best', 'tai', 'in', 'downtown', 'for', 'the', 'price!', 'Masiman', 'is', 'the', 'most', 'tasty', 'dish', \"here!'\", '\"Man,', 'I', 'love', 'Southwest.', 'Best', 'airline', 'ever.', 'After', 'a', 'bunch', 'of', 'holiday', 'delays', 'on', 'my', 'way', 'home', 'from', 'a', 'business', 'trip', 'they', 'comped', 'us', 'all', 'a', 'round', 'of', 'drinks.', \"It's\", 'nice', 'to', 'have', 'an', 'airline', 'that', 'can', 'give', 'you', 'a', 'glass', 'of', 'wine', 'to', 'compensate', 'for', 'a', 'one', 'hour', 'delay.', 'Cheers', 'to', 'that!\"', \"'Excellent\", \"burger'\", '\"Came', 'here', 'instead', 'of', 'Starbucks', 'to', 'get', 'some', 'much', 'needed', 'study', 'time...', \"It's\", 'too', 'hot', 'for', 'coffee..', 'Close', 'to', 'my', 'university', '...', 'Has', 'all', 'things', 'berry', 'healthy...', 'I', 'personally', 'ordered', 'the', 'Berry', 'Fulfilling', 'w', 'a', 'free', 'energy', 'shot...', 'Free!!', \"I'll\", 'take', 'berries', 'and', 'free', 'any', 'day..', 'My', 'drink', ':', 'all', 'berry', 'and', 'only', '150', 'mere', 'cals..&', 'filling..', 'Actually', 'felt', 'like', 'dessert..', 'Awesomely', 'sweet', 'staff..\"', '\"I', 'have', 'found', 'my', 'new', 'favorite', 'breaksfast/lunch', 'spot!', 'I', 'love', 'the', 'much', 'cozier', 'and', 'homey', 'feel', 'this', 'place', 'has', 'as', 'opposed', 'to', 'chains', 'like', 'Panera', 'and', 'Corner', 'Bakery.', 'We', 'stopped', 'in', 'at', 'Wildflower', 'Bread', 'Company', 'over', 'the', 'weekend', 'because', 'I', 'had', 'heard', 'great', 'reviews', 'about', 'their', 'freshly', 'baked', 'loaves', 'of', 'bread.', 'We', 'were', 'just', 'going', 'to', 'pick', 'up', 'a', 'couple', 'specialty', 'loaves', 'since', 'we', 'needed', 'bread', 'at', 'home', 'anyhow.', 'Instead,', 'we', 'ended', 'up', 'staying', 'for', 'lunch', 'after', 'we', 'got', 'a', 'peek', 'at', 'the', 'menu', 'and', 'the', 'dessert', 'case.', '\\\\n\\\\nMy', 'fiance', 'ordered', 'the', 'salmon', 'alfredo', 'and', 'he', 'loved', 'it.', 'This', 'said', 'a', 'lot', 'to', 'me', 'because', \"he's\", 'normally', 'not', 'a', 'pasta', 'person.', 'The', 'salmon', 'itself', 'was', 'really', 'good', '-', 'soft', 'and', 'flavorful.', 'I', 'had', 'the', 'butternut', 'squash', 'ravioli', '-', 'one', 'of', 'my', 'all', 'time', 'favorite', 'pastas', '-', 'and', \"WBC's\", 'version', 'did', 'not', 'disappoint.', 'I', 'loved', 'the', 'nutmeg', 'flavor', 'it', 'had', '-', 'perfect', 'complement', 'to', 'the', 'creamy', 'sauce', 'and', 'the', 'butternut', 'squash.', 'Both', 'dishes', 'came', 'with', 'big', 'slices', 'of', 'grilled', 'toast.', 'The', 'pasta', 'portion', 'sizes', 'itself', 'were', 'perfect.', 'Just', 'the', 'right', 'amount', 'to', 'feel', 'satisfyingly', 'full', 'but', 'not', 'overly', 'stuffed', 'like', 'the', 'portion', 'sizes', 'at', 'Cheesecake', 'Factory', 'or', 'Macaroni', 'Grill.', 'We', 'ended', 'our', 'meal', 'by', 'splitting', 'a', 'lemon', 'bar', 'which', 'also', 'was', 'devoured', 'down', 'to', 'the', 'last', 'crumb.\\\\n\\\\nIt', 'was', 'a', 'later', 'lunch', 'for', 'us', '(around', '3pm)', 'so', 'it', \"wasn't\", 'crowded', 'inside', 'but', 'there', 'were', 'still', 'a', 'good', 'amount', 'of', 'customers', 'so', 'it', 'seems', 'to', 'be', 'a', 'favorite.', 'Service', 'was', 'pleasant', 'and', 'fast', 'and', 'the', 'menu', 'has', 'a', 'wide', 'variety', 'of', 'items', 'that', \"we're\", 'excited', 'to', 'go', 'back', 'and', 'try', 'more.\"', \"'I\", 'saw', 'this', 'place', 'on', 'a', 'Food', 'Network', 'series', 'in', 'November.', 'When', 'my', 'family', 'went', 'to', 'Phoenix', 'in', 'March', 'for', 'spring', 'training,', 'I', 'knew', 'we', 'had', 'to', 'stop', 'here.', 'It', 'was', 'the', 'first', 'stop', 'after', 'getting', 'off', 'the', 'plane', 'and', 'getting', 'the', 'rental', 'car.', 'It', 'was', 'in', 'a', 'sketchy', 'area', 'in', 'the', 'town,', 'and', 'far', 'enough', 'from', 'the', 'freeway.', 'When', 'we', 'were', 'there,', 'the', 'workers', 'gave', 'us', 'samples', 'of', 'the', 'different', 'foods.', 'I', 'got', 'the', 'chicken', 'fried', 'rice', 'combo', 'with', 'jade', 'red', 'chicken', 'and', 'the', 'pollo', 'diablo.', 'The', 'pollo', 'diablo', 'had', 'a', 'nice', 'spicy', 'flavor,', 'and', 'the', 'jade', 'red', 'chicken', 'was', 'also', 'very', 'good.', 'The', 'snickerdoodle', 'was', 'very', 'soft', 'and', 'chewy,', 'which', 'was', 'a', 'good', 'thing', 'for', 'me.', 'This', 'will', 'be', 'a', 'permanent', 'stop', 'in', 'Phoenix', 'for', 'Spring', 'Training', \"trips.'\", \"'This\", 'is', 'the', 'only', 'auto', 'repair', 'place', \"I\\\\'ve\", 'ever', 'seen', 'with', '5', 'stars', 'solid,', 'and', 'they', 'totally', 'deserve', 'it.\\\\n\\\\nMy', 'boyfriend', 'has', 'a', '1969', 'Pontiac', 'Firebird', 'that', \"hasn\\\\'t\", 'run', 'in', 'several', 'years.', 'After', 'sinking', 'lots', 'of', 'his', 'own', 'time', 'into', 'tinkering', 'with', 'it', 'and', '$1000', 'to', 'the', 'awful', 'Meineke', 'down', 'the', 'street,', 'he', 'gave', 'up...', 'until', 'my', \"car\\\\'s\", 'transmission', 'went', 'for', 'good,', 'and', 'he', 'decided', 'to', 'fix', 'the', 'Bird', '(yeah!)', 'so', 'I', 'could', 'drive', 'it', '(yes,', 'I', 'am', 'super', \"lucky!)\\\\n\\\\nWhitey\\\\'s\", 'diagnosed', 'it', 'as', 'the', 'carburetor', 'dumping', 'fuel', '(which', 'is', 'what', 'Meineke', 'charged', '$500', 'to', 'replace..', 'hmmm...).', 'Upon', 'hearing', 'the', 'story', 'of', 'Meineke,', \"Whitey\\\\'s\", 'told', 'him', 'to', 'order', 'the', 'part', 'himself', 'to', 'avoid', 'the', 'markup', 'and', \"they\\\\'d\", 'put', 'it', 'in', 'for', 'just', 'labor.', 'Awesome!\\\\n\\\\nWe', 'took', 'it', 'home,', 'but', 'it', \"wasn\\\\'t\", 'running', 'quite', 'right', 'still,', 'and', 'then', 'failed', 'emissions.', 'Back', 'to', 'the', 'shop', 'it', \"went.\\\\n\\\\nWhitey\\\\'s\", 'took', 'it', 'back,', 'spent', 'ALL', 'WEEKEND', 'on', 'it', 'doing', 'various', 'minor', 'things.', 'At', 'one', 'point,', 'they', 'called', 'and', 'said', '\"We\\\\\\'ve', 'done', 'this,', 'this', 'and', 'this,', 'and', \"it\\\\'s\", 'still', 'not', 'quite', 'right,', 'so', \"we\\\\'re\", 'gonna', 'keep', 'it', 'another', 'day.\"', 'I', 'was', 'glad', 'they', 'were', 'admitting', 'they', 'actually', 'felt', 'it', 'to', 'be', 'not', 'right', 'and', 'were', 'determined', 'to', 'fix', 'it,', 'versus', 'just', 'handing', 'it', 'back', 'again...', 'but', 'I', 'was', 'dreading', 'the', 'repair', 'bill.\\\\n\\\\nWe', 'picked', 'it', 'up', 'Tuesday.', 'The', 'bill?', '$7.', \"That\\\\'s\", 'right', '-', 'SEVEN', 'DOLLARS.', 'They', 'only', 'charged', 'him', 'for', 'a', 'spark', 'plug', 'and', 'oil', 'filter.', 'That', 'is', 'amazing', 'to', 'me', '-', 'I', 'was', 'expecting', 'several', 'hundred', 'dollars', 'for', 'their', 'time.', '\\\\n\\\\nThe', 'car', 'runs', 'beautifully', 'now,', 'and', 'they', 'were', 'extremely', 'pleasant', 'the', 'entire', 'time.', \"I\\\\'m\", 'taking', 'my', 'alleged', 'defunct', 'car', 'to', 'them', 'for', 'a', 'second', 'opinion', 'next', 'week.', 'I', 'HIGHLY', 'recommend', \"Whitey\\\\'s!'\", '\"I\\'ve', 'rented', 'from', 'Captain', 'Ted', 'many', 'times,', 'and', 'even', 'gone', 'on', 'one', 'of', 'his', 'guided', 'trips', 'down', 'the', 'Salt', 'River.', 'He', 'is', 'helpful', 'and', 'very', 'knowledgeable', 'and', 'I', 'would', 'highly', 'recommend', 'renting', 'here.\"', '\"Have', 'I', 'got', 'a', 'place', 'for', 'you', 'un-health', 'conscious,', 'frugal', 'foodies', 'out', 'there!', 'Rocket', 'Burger', 'and', 'Subs', 'serves', 'up', 'huge', 'sandwiches', 'and', 'fried', 'delights', 'for', 'astonishingly', 'low', 'prices,', 'and', 'much', 'of', 'the', 'food', 'is', 'home-made.', \"There's\", 'also', 'an', 'enormous', 'section', 'of', 'unusual', 'soft', 'drinks;', 'for', 'instance,', \"there's\", 'over', 'two', 'dozen', 'brands', 'of', 'root', 'beer', 'to', 'choose', 'from.', 'Dennis,', 'one', 'of', 'the', 'owners', 'worked', 'for', 'A&W', 'for', '8', 'years,', 'so', 'he', 'probably', 'has', 'root', 'beer', 'running', 'through', 'his', 'veins', 'by', 'now.', '\\\\n\\\\n', 'I', 'saw', 'Rocket', 'Burger', 'in', 'a', 'listing', 'of', 'new', 'valley', 'eateries,', 'then', 'did', 'a', 'little', 'research.', 'The', 'reviews', 'I', 'saw', 'were', 'all', 'stellar,', 'so', 'I', 'knew', 'we', 'had', 'to', 'give', 'it', 'a', 'try.', 'It', \"doesn't\", 'look', 'like', 'much,', 'inside', 'or', 'out', '-', \"it's\", 'in', 'a', 'little', 'strip', 'mall', 'tucked', 'behind', 'Churches', 'Chicken', 'at', '35th', 'Ave.', 'and', 'Cactus.', 'But', \"it's\", 'clean,', 'and', 'everybody', 'is', 'helpful', 'and', 'pleasant.', 'Ken', 'gave', 'a', 'happy', 'whoop', 'when', 'he', 'saw', 'Cheese', 'Curds', '($2.49/$4.49)', 'on', 'the', 'menu.', 'We', 'decided', 'to', 'get', 'an', 'order', 'while', 'waiting', 'for', 'our', 'friends', 'Randy', 'and', 'Marty', 'to', 'join', 'us.', 'The', 'curds', 'came', 'quickly', 'out', 'of', 'the', 'kitchen,', 'piping', 'hot,', 'served', 'with', 'some', 'tasty', 'homemade', 'marinara.', 'They', 'were', 'a', 'touch', 'greasy,', 'as', 'they', 'should', 'be,', 'and', 'the', 'oil', 'was', 'fresh.', 'Marty', 'and', 'Randy', 'arrived', 'in', 'time', 'to', 'save', 'us', 'from', 'ourselves', 'by', 'helping', 'to', 'finish', 'off', 'the', 'curds.', 'Then', 'we', 'took', 'a', 'while', 'trying', 'to', 'make', 'our', 'selections', 'from', 'the', 'extensive', 'menu.', 'Eventually', 'Randy', 'and', 'I', 'both', 'went', 'for', 'the', 'New', 'Yorker:', 'pastrami', 'with', 'homemade', 'slaw', 'and', 'thousand', 'island', 'dressing', '($2.99,', '$3.99', 'or', '$4.99).', 'Ken', 'had', 'a', 'homemade-meatball', 'sub,', 'with', 'more', 'of', 'that', 'good', 'marinara', 'and', 'some', 'provolone.', 'It', 'was', 'the', 'same', 'price', 'structure', 'as', 'our', 'New', 'Yorkers', 'and', 'all', 'the', 'rest', 'of', 'the', 'entries', 'under', 'Classic', 'Subs', 'and', 'Sandwiches.', 'Marty', 'went', 'with', 'a', 'double', 'burger', '($3.89,', 'the', 'singles', 'are', '$1', 'less).', 'He', 'could', 'have', 'opted', 'for', 'a', 'Rocket', 'Burger', '-', '!0', 'inch', 'sub', 'with', 'three', 'burgers', 'and', 'the', 'fixings', 'in', 'either', 'plain,', 'cheese,', 'bacon,', 'teriyaki,', 'or', 'chili', 'style', '($4.99', 'to', '$5.99).', 'Of', 'course', 'we', 'had', 'to', 'try', 'the', 'fries', 'and', 'onion', 'rings.\\\\n\\\\n', 'Again', 'our', 'food', 'arrived', 'quickly,', 'served', 'in', 'plastic', 'baskets.', 'It', 'became', 'very', 'quiet,', 'except', 'for', 'the', 'occasional', 'growl', 'of', 'pleasure.', 'The', 'onion', 'rings', '($1.99)', 'had', 'been', 'dipped', 'in', 'a', 'thin', 'cornmeal', 'batter', 'which', 'made', 'them', 'nice', 'and', 'crunchy.', 'The', 'handcut', 'fries', '($1.49)', 'were', 'skinny,', 'the', 'way', 'I', 'like', 'them.', 'Randy', 'thought', 'they', 'were', 'undersalted,', 'but', 'I', 'thought', 'they', 'were', 'fine', '-', 'our', 'usual', 'disagreement.', 'At', 'any', 'rate,', 'they', 'disappeared', 'quickly.', 'Unlike', 'the', 'sandwiches.', 'They', 'were', 'so', 'big', 'that', 'we', 'all', 'ended', 'up', 'taking', 'half', 'of', 'each', 'sub', 'home.', 'The', 'slaw', 'on', 'the', 'New', 'Yorkers', 'was', 'delicious,', 'as', 'was', 'my', 'whole', 'wheat', 'sub', 'roll.', 'The', 'meat', 'balls', 'were', 'nice', 'and', 'tender,', 'and', 'there', 'was', 'plenty', 'of', 'cheese', 'on', 'top.', 'Randy', 'had', 'found', 'a', 'bottle', 'of', 'ginger', 'beer', 'imported', 'from', 'Australia', 'that', 'had', 'a', 'wonderfully', 'refreshing', 'true', 'ginger', 'taste.', 'There', 'seemed', 'to', 'be', 'actual', 'pieces', 'of', 'ginger', 'in', 'it', '-', 'instructions', 'on', 'the', 'label', 'said', 'to', 'invert', 'the', 'bottle', 'before', 'opening.', 'It', 'never', 'did', 'tell', 'you', 'to', 'turn', 'it', 'right', 'side', 'up', 'again', '-', 'the', 'Aussies', 'give', 'us', 'more', 'credit', 'than', 'we', 'deserve.', '\\\\n\\\\n', 'Other', 'food', 'items', 'available:', 'Hebrew', 'National', 'hot', 'dogs', 'in', 'several', 'styles', '($2.49),', 'Pizza', '\\\\nBread', 'with', 'various', 'toppings,', 'Gyros', '($3.69),', 'salads', '($1.99', '-', '$3.99),', 'a', 'fish', 'sandwich', '($2.49)', 'served', 'with', 'homemade', 'tartar', 'sauce.', 'And', 'lots', 'more.', 'I', \"don't\", 'know', 'how', 'Dennis', 'and', 'Steve', 'manage', 'to', 'turn', 'out', 'food', 'of', 'this', 'quality', 'for', 'so', 'little', 'money,', 'but', 'I', 'surely', 'do', 'hope', 'they', 'continue', 'and', 'prosper!\"', '\"I\\'ve', 'been', 'going', 'to', 'La', 'Canasta', 'for', 'as', 'long', 'as', 'I', 'can', 'recall.', 'I', 'live', 'in', 'Tempe', 'and', \"can't\", 'go', 'as', 'often', 'as', \"I'd\", 'like', 'but', 'I', 'go', 'at', 'least', 'once', 'a', 'month.', 'I', 'love', 'this', 'Canasta', 'because', 'they', 'have', 'a', 'green', 'chile', 'salsa', 'and', 'menudo', 'every', 'day!', 'Always', 'quick', 'and', 'fresh.', 'I', 'either', 'get', 'the', 'ground', 'beef', 'tacos', '(yummy),', 'the', 'red', 'chile', 'burrito', '(watch', 'out),', 'or', 'the', 'menudo', '(got', 'a', 'hangover?).', 'It', 'is', 'very', 'consistent', 'and', 'prices,', 'well', 'it', 'adds', 'up,', 'but', 'it', 'is', 'worth', 'it.', 'I', 'have', 'yet', 'to', 'have', 'a', 'bad', 'experience', 'after', '28', 'years!\"', \"'It\", 'cannot', 'get', 'any', 'better', 'than', 'this', 'my', 'favorite', 'is', 'mix', 'of', 'banana', ',', 'hazelnut', 'and', 'lemon.', 'It', 'is', 'quality', 'stuff.', 'If', 'you', 'want', 'something', 'better', 'fly', 'to', \"Italy.'\", '\"Visited', 'the', 'phoenix', 'public', 'market', '-', 'open', 'air', 'market', '-', 'farmers', 'market', 'they', 'have', 'on', 'saturday', 'mornings', 'and', 'decided', 'to', 'give', 'mojo', 'bowl', 'a', 'try!', 'They', 'are', 'at', 'the', 'market', 'for', 'food', 'truck', 'fridays', 'also.', 'Check', 'out', 'their', 'website', 'for', 'their', 'usual', 'schedule.', 'They', 'can', 'take', 'cash', 'or', 'credit', '(with', 'square).\\\\n\\\\nI', 'tried', 'their', 'strawberry', 'banana', 'smoothie', 'and', 'my', 'wife', 'had', 'the', 'Funky', 'Monkey', '(peanut', 'butter', '/', 'chocolate', 'blend).', 'They', 'were', 'both', 'great', 'quality', 'with', 'fresh', 'ingrediants.', 'They', 'serve', 'salads,', 'yogurt', 'parfaits,', 'and', 'soup', 'also', '(which', 'I', \"didn't\", 'try)', 'but', 'Ive', 'heard', 'their', 'smoothies', 'was', 'where', 'they', 'shine', 'and', 'they', 'did', 'not', 'dissapoint.', 'Give', 'them', 'a', 'try,', 'at', '$5.00', 'for', 'a', '24', 'oz', 'smoothie,', 'you', \"can't\", 'really', 'complain', 'about', 'the', 'price', '-', 'its', 'basically', 'a', 'meal', 'itself.\"', '\"what', 'is', 'it', 'with', 'me', 'and', 'pricey', 'phoenix', 'hotels?', 'i', 'swear', 'i', \"don't\", 'just', 'give', 'out', 'fives', 'willy', 'nilly', 'or', 'do', 'i', 'have', 'any', 'particular', 'adoration', 'for', 'phoenix.', '(sorry', 'phx.)', '\\\\n\\\\nI', 'went', 'to', 'the', 'Valley', 'Ho', 'on', 'an', 'amazing', 'business', 'trip', 'that', 'involved', 'rock', 'stars', 'and', 'the', 'Oakland', 'Athletics,', 'which', 'happen', 'to', 'be', 'my', 'favorite', 'team.', 'it', 'was', 'downright', 'magical.', '\\\\n\\\\nthe', 'decor', 'was', 'fantastic,', 'the', 'rooms', 'were', 'huge,', 'with', 'huge', 'tubs,', 'a', 'poolside', 'patio', 'and', 'a', 'comfy', 'chaise', 'lounge.', 'the', 'flatscreen', 'TV', 'had', 'an', 'iPod', 'doc!', 'yaaaaay!', '(why', \"don't\", 'more', 'hotels', 'do', 'this?)', '\\\\n\\\\nthe', 'pool', 'was', 'phenomenal.', 'i', 'sat', 'around', 'for', 'days', 'on', 'couches', 'drinking', 'bloody', \"mary's\", 'and', 'frozen', 'drinks.', 'the', 'lobby', 'bar', 'had', 'a', 'deadly', 'but', 'wonderful', 'drink', 'called', 'the', 'stardust.', '\\\\n\\\\nThe', 'trader', \"vic's\", 'attached', \"isn't\", 'so', 'hot,', 'but', 'i', 'generally', 'liked', 'all', 'the', 'food', 'i', 'got', 'from', 'the', 'pool', 'bar', 'and', 'the', 'restaurant', 'ZuZus.', '(room', 'service', 'too-', 'they', 'make', 'their', 'own', 'english', 'muffins!!!)\\\\n\\\\nIf', \"i'm\", 'comparing', 'it', 'to', 'the', 'royal', 'palms,', 'the', 'other', 'phoenix', 'resort', 'i', 'raved', 'about,', \"it's\", 'tough.', 'Royal', 'Palms', 'is', 'better', 'for', 'chilling', 'and', 'families;', 'Valley', 'Ho', 'is', 'better', 'for', 'singles.', 'Royal', 'Palms', 'is', 'your', 'wedding;', 'Valley', 'Ho', 'the', 'bachelorette', 'party.', 'Valley', 'Ho', 'had', 'better', 'food', 'and', 'more', 'style,', 'but', 'Royal', 'Palms', 'had', 'a', 'bit', 'more', 'to', 'it', 'and', 'better', 'service.', 'Really,', 'you', \"can't\", 'go', 'wrong', 'with', 'either.', '\\\\n\\\\nWhat', 'is', 'it', 'about', 'Phoenix', 'hotels???', 'all', 'i', 'know', 'is', 'i', 'am', 'no', 'longer', 'groaning', 'when', \"i'm\", 'sent', 'on', 'a', 'business', 'trip', 'there!\"', \"'This\", 'is', 'my', 'dad', 'and', 'I', 'favorite', 'lunch', 'spot.', 'Pho-real!', 'Impeccable', 'service', 'and', 'the', 'freshest', 'food.', 'Their', 'spring', 'rolls', 'ate', 'immaculate,', 'fried', 'rice', 'is', 'pretty', 'close', 'to', 'Peruvian', 'friend', 'rice,', 'and', 'their', 'pho', 'is', 'truly', 'unphoghetable.', 'The', 'servers', 'are', 'friendly,', 'the', 'owner', 'always', 'asks', 'you', 'how', 'the', 'food', 'was.', 'Nestled', 'inside', 'the', 'Mekong', 'plaza', 'market', 'this', 'place', 'will', 'meet', 'all', 'your', 'expectations', 'in', 'delicious', 'Vietnamese', \"cuisine.'\", '\"CASH', 'ONLY!', 'But', 'we', 'easily', 'feed', 'a', 'family', 'of', '4', 'hungry', 'people', 'for', 'less', 'than', '$20', 'and', \"it's\", 'not', 'Taco', 'Bell.', 'So', 'with', 'that', 'being', 'said...', 'the', 'Grilled', 'Pork', '#5', 'sandwich...', 'oh', 'hell', 'ya...', \"it's\", 'good', 'ringing', 'in', 'at', 'only', '$2.85.', 'The', 'regular', 'Turkey', '/', 'Ham', 'on', 'a', 'crossaint', 'is', 'about', '$4.25', 'and', \"it's\", 'the', 'size', 'of', 'a', 'small', 'football...', 'great', 'value...', 'you', 'could', 'probalby', 'get', 'by', 'with', 'the', 'small', 'croissant', 'sandwich', 'instead', 'for', 'only', '$1.95...', 'yeah...', \"it's\", 'crazy', 'cheap.', 'Hot', 'wings', 'are', 'generic', 'prebreaded', 'with', 'a', 'kick', 'of', 'spiciness.', 'The', 'steamed', 'bun', 'is', 'sweet', 'dough..however,', 'not', 'my', 'favorite...', 'my', 'husband', 'and', 'sister', 'seem', 'to', 'love', 'the', 'egg', 'and', 'meat', 'inside.', 'The', 'ice', 'cream', 'is', 'all', 'homemade...also', 'another', 'great', 'deal', 'at', '$.99', 'cents', 'for', 'a', 'cone...', 'check', 'out', 'the', 'icecream...looks', 'crazy', 'good.', \"Don't\", 'miss', 'out', 'on', 'taking', 'home', 'some', 'baked', 'goods...', 'the', 'baguettes', 'are', 'crusty-soft', 'and', 'warm', 'when', 'you', 'get', 'them.', 'The', 'croissants', 'are', 'delicious', 'and', 'some', 'of', 'the', 'better', 'ones', 'here', 'in', 'the', 'valley.', 'I', 'did', 'try', 'and', 'Avacodo', 'boba...had', 'to', 'send', 'it', 'back...not', 'sure', 'what', 'the', 'heck', 'it', 'was...it', 'was', 'green...', 'but', \"didn't\", 'taste', 'anything', 'like', 'Avacado...', 'so', 'I', 'did', 'head', 'across', 'the', 'way', 'to', 'Boba', 'tea', 'house', 'for', 'my', 'bobas.', 'The', 'Viet', 'coffee,', 'also', 'great', 'kick', 'for', 'you', 'mentally', 'if', 'you', 'need', 'a', 'boost,', 'very', 'strong=very', 'good.', \"Don't\", 'miss', 'out', 'on', 'this', 'place...', \"it's\", 'a', 'good', 'go', 'to', 'place', 'for', 'a', 'great', 'lunch', 'or', 'snack.\"', '\"Had', 'a', 'late', 'night', 'plumbing', 'emergency', 'last', 'night.', 'Called', 'a', 'friend', 'who', 'recommended', \"Kevin's\", 'Classic', 'Plumbing.', 'Within', 'an', 'hour', 'the', 'plumber', 'was', 'at', 'my', 'home', 'repairing', 'my', 'problem.', 'At', '10:00pm', 'my', 'water', 'was', 'back', 'on', 'with', 'kids', 'taking', 'showers,', 'toilets', 'being', 'flushed,', 'and', 'my', 'wife', 'was', 'talking', 'to', 'me', 'again.', 'Sounds', 'great', 'right?', \"Get's\", 'even', 'better!', 'The', 'price', 'they', 'charged', 'me', 'for', 'the', 'after', 'hours', 'repair', 'was', 'the', 'most', 'reasonable', 'ever.', 'Last', 'but', 'not', 'least', 'he', 'was', 'a', 'heck', 'of', 'a', 'nice', 'guy.', \"Kevin's\", 'Classic', 'Plumbing', 'will', 'be', 'my', 'plumbing', 'company', 'for', 'both', 'home', 'and', 'work', 'from', 'now', 'on.\\\\n\\\\nOn', 'another', 'note...', 'I', 'had', 'called', 'one', 'of', 'those', 'companys', 'that', 'advertise', 'on', 'TV', 'all', 'day', 'long.', 'They', 'were', 'not', 'able', 'to', 'come', 'out', 'last', 'night', 'and', 'when', 'they', 'did', 'call', 'me', 'they', 'indicated', 'that', 'it', 'was', 'probably', 'not', 'something', 'they', 'could', 'fix', 'and', 'would', 'most', 'likely', 'require', 'a', 'two', 'man', 'crew.', 'Thanks', 'Parker', '&', 'Son\\'s.\"', \"'The\", 'best', 'fish', 'tacos,', 'period!', 'And', 'I', 'hate', 'chain', \"restaurants!'\", '\"This', 'is', 'hands', 'down', 'the', 'best', 'burrito', 'in', 'the', 'East', 'Valley!', \"Fav's\", 'is', 'always', 'consistent', 'and', 'their', 'prices', 'are', 'excellent!', 'My', 'standard', 'meal', 'is', 'a', 'California', 'Carne', 'Asada', 'burrito,', 'it', 'comes', 'with', 'the', 'most', 'tender', 'carne', 'asada', \"I've\", 'ever', 'had.', 'Also,', 'their', 'green', 'and', 'red', 'sauce', 'is', 'a', 'step', 'above', 'the', 'competition,', 'and', 'they', 'have', 'great', 'mexican', 'rice,', 'it', 'comes', 'with', 'peas', 'and', 'carrots!', 'Guac', 'is', 'exceptional,', 'and', 'they', 'also', 'have', 'really', 'tasty', 'breakfast', 'burritos', 'that', 'are', 'available', 'all', 'day.', 'Five', 'stars', 'for', 'being', 'consistent,', 'clean', 'and', 'for', 'having', 'pleasant', 'and', 'professional', 'employees!', 'One', 'more', 'thing', 'is', 'that', 'they', 'close', 'at', 'midnight', 'except', 'for', 'Sunday', 'when', 'they', 'close', 'at', '10.', 'Bummer', 'but', 'still', 'the', 'best!\"', '\"After', 'a', 'second', 'visit,', 'the', 'chicken', 'was', 'a', 'little', 'dry', 'and', 'lacked', 'flavor.', 'Quite', 'a', 'contrast', 'to', 'my', 'first', 'visit.', 'Still', 'enjoyed', 'the', 'meal,', 'but', \"wasn't\", 'as', 'impressed', 'with', 'the', 'chicken.', \"I'll\", 'have', 'to', 'go', 'back', 'to', 'see', 'if', 'it', 'was', 'a', 'fluke.\"', '\"I', 'would', 'be', 'beside', 'myself', 'if', 'Grinders', 'closed.', \"It's\", 'about', 'time', 'I', 'wrote', 'a', 'review,', 'since', \"I'm\", 'a', 'regular.', 'I', 'can', 'be', 'found', 'sitting', 'on', 'one', 'of', 'the', 'giant', 'chairs', 'surfing', 'on', 'the', 'wi-fi', 'many', \"mornings.\\\\n\\\\nI'm\", 'the', 'one', 'who', 'brought', 'the', 'plants', 'in.', 'I', 'used', 'to', 'water', 'them', 'a', 'couple', 'times', 'a', 'week', 'but', 'nowadays', \"I'm\", 'lazy', 'and', 'they', 'really', 'need', 'to', 'be', 'repotted.', 'I', 'should', 'get', 'on', 'that', '...\\\\n\\\\nThe', 'music', 'is', 'always', 'playing', 'and', 'everyone', 'knows', 'my', 'regular', 'drink', '...', \"they've\", 'continued', 'to', 'memorize', 'it', 'for', 'me', 'even', 'as', 'I', 'started', 'to', 'slowly', 'decrease', 'the', 'fat', '&', 'calories', 'of', 'my', 'regular', 'order.', 'Now', \"it's\", 'an', 'ice', 'skim', 'latte', 'with', 'sugar', 'free', 'vanilla.', 'I', 'used', 'to', 'get', 'an', 'Everything', 'bagel', 'with', 'egg,', 'cheese', 'and', 'potatoes', 'most', 'mornings.', 'Now', 'I', 'get', 'it', 'on', 'multigrain', 'toast.', 'Eh,', \"it's\", 'the', 'little', 'things.\\\\n\\\\nThe', 'coffee', 'at', 'Grinders', 'is', 'really', 'really', 'good.', \"It's\", 'not', 'bitter', 'and', 'sharp,', \"it's\", 'smooth.', 'They', 'grind', 'their', 'beans', 'outside', 'many', 'mornings', 'per', 'week.', 'Sometimes', 'it', 'gets', 'too', 'warm', 'inside', 'during', 'the', 'winter', 'so', 'we', 'prop', 'the', 'doors', 'open,', 'but', 'if', 'the', 'grinder', 'is', 'going', 'outside,', \"it'll\", 'blow', 'coffee', 'bean', 'fumes', 'in', 'the', \"door.\\\\n\\\\nThere's\", 'some', 'retired', 'motorcycle', 'cops', 'who', 'meet', 'up', 'every', 'morning', 'and', 'sit', 'around', 'the', 'big', 'round', 'table.', 'They', 'often', 'park', 'their', 'motorcycles', 'in', 'front', 'of', 'the', 'place', 'together.', 'They', 'call', 'themselves', 'the', \"Geezerados.\\\\n\\\\nThere's\", 'sometimes', 'a', 'few', 'right-wingers', 'having', 'conversations', 'mid-day.', 'One', 'time', 'I', 'listened', 'to', 'their', 'meeting', 'and', 'heard', 'them', 'trying', 'to', 'come', 'up', 'with', 'controversial', 'topics', 'to', 'get', 'people', 'to', 'come', 'to', 'church.', 'They', 'spent', 'a', 'long', 'time', 'trying', 'to', 'figure', 'out', 'who', 'could', 'get', 'them', 'proof', 'that', 'global', 'warming', \"isn't\", 'happening,', 'so', 'they', 'could', 'use', 'that', 'as', 'their', 'hook.\\\\n\\\\nA', 'lot', 'of', 'moms', 'come', 'in', 'with', 'their', 'kids.', 'Seeing', 'siblings', 'piled', 'up', 'in', 'one', 'of', 'the', 'oversized', 'chairs', 'together', 'is', 'common.', 'There', 'are', 'a', 'few', 'regulars', 'who', 'come', 'in', 'specifically', 'to', 'sit', 'on', 'the', 'internet', 'all', 'day.', \"I'm\", 'not', 'there', 'all', 'day,', 'but', \"I'm\", 'there', 'at', 'all', 'times', 'of', 'the', 'day', 'because', 'I', 'have', 'a', 'home', 'office,', 'and', 'you', 'never', 'know', 'when', 'you', 'suddenly', 'need', 'caffeine.\\\\n\\\\nEarly', 'in', 'the', 'morning', 'and', 'after', '3pm', 'the', 'place', 'becomes', 'flooded', 'with', 'Sunnyslope', 'High', 'School', 'kids.', 'They', 'range', 'from', 'ROTC', 'kids', 'wearing', 'pickle', 'suits', 'to', 'trendy', 'girls', 'in', 'neon', 'to', 'the', 'alternative', 'crowd.', 'They', 'often', 'lay', 'around', 'the', 'couch', 'splayed', 'across', 'each', 'other', 'or', 'gazing', 'into', 'each', \"others'\", 'eyes.', '\\\\n\\\\nOrdinarily', \"I'm\", 'a', 'real', 'talker', 'and', 'I', \"can't\", 'usually', 'keep', 'my', 'mouth', 'shut,', 'but', 'Grinders', 'is', 'the', 'one', 'place', 'that', 'I', 'go', 'where', 'I', 'barely', 'make', 'a', 'peep.', 'I', 'just', 'eavesdrop', 'on', \"everyone's\", 'conversations', 'and', 'sometimes', 'run', 'into', 'friends', 'I', 'know.', 'I', 'usually', 'go', 'before', 'my', 'brain', 'is', 'fully', 'awake', 'in', 'the', 'morning,', \"that's\", 'part', 'of', 'it.', 'For', 'the', 'record,', 'a', 'couple', 'months', 'ago', 'one', 'of', 'the', 'girls', 'there', 'said', 'I', 'was', 'practically', 'invisible', 'and', 'she', 'hardly', 'knew', 'I', 'was', 'there,', 'because', 'I', 'was', 'so', \"quiet.\\\\n\\\\nThere's\", 'nothing', 'pretentious', 'about', 'Grinders', 'at', 'all,', 'and', \"it's\", 'also', 'down', 'to', 'earth', 'without', 'being', 'ghetto.', 'It', 'has', 'character.', 'Some', 'months', 'the', 'art', 'is', 'better', 'than', 'other', 'months.', 'Hannah', 'has', 'been', 'there', 'for', 'years', '(they', 'call', 'her', 'Big', 'Hannah', 'now,', 'only', 'because', \"there's\", 'another', 'girl', 'named', 'Hannah', 'who', 'is', 'tiny', 'and', 'they', 'call', 'her', 'Little', 'Hannah)', 'and', 'Hannah', 'rocks', 'and', 'makes', 'the', 'best', 'breakfast', 'ever.', '\\\\n\\\\nI', 'can', 'ride', 'my', 'bike', 'in', 'the', 'morning', 'and', 'be', 'wearing', 'my', 'pajamas', 'and', 'not', 'have', 'anyone', 'really', 'bat', 'an', 'eye.', \"That's\", 'the', 'beauty', 'of', 'Grinders.', \"I've\", 'seen', 'other', 'people', 'come', 'in', 'wearing', 'their', 'pajamas,', 'too.', \"It's\", 'a', 'little', 'bit', 'like', 'the', 'cafeteria', 'in', 'a', 'college', 'dorm,', 'except', 'the', 'people', 'are', 'of', 'all', 'ages', 'and', 'we', 'live', 'down', 'the', 'street', 'from', 'each', 'other', 'instead', 'of', 'down', 'the', 'hall', 'from', 'each', 'other.\\\\n\\\\nGrinders', 'has', 'a', 'location', 'inside', 'the', 'John', 'C.', 'Lincoln', 'hospital', 'across', 'the', 'street,', 'too.', \"It's\", 'common', 'to', 'see', 'the', 'hospital', 'workers', 'walk', 'in', 'wearing', 'their', 'scrubs.', 'I', 'think', \"they're\", 'also', 'opening', 'one', 'at', 'Devry,', 'or', 'they', 'just', 'did.', 'I', 'was', 'frustrated', 'to', 'hear', 'that', 'they', 'tried', 'to', 'open', 'a', 'location', 'at', 'the', 'Art', 'Institute', 'but', 'they', 'were', 'one', 'week', 'too', 'late,', 'Stupid', 'Starbucks', 'had', 'just', 'gotten', 'there.', 'LAME!\"', \"'In\", 'my', 'opinion,', 'one', 'of', 'the', 'best', 'steakhouses', 'in', 'town.', 'My', 'husband', 'and', 'I', 'go', 'here', 'for', 'all', 'our', 'special', 'occasions', 'and', 'have', 'never', 'had', 'one', 'bad', 'meal.', 'The', 'service', 'is', 'the', 'best', 'just', 'like', 'their', 'steaks.', 'I', 'recommend', 'the', 'Caesar', 'salad,', 'fillet,', 'creamed', 'spinach,', 'cream', 'corn,', 'garlic', 'and', 'lobster', 'mashed', 'potatoes.', 'We', 'will', 'continue', 'our', 'tradition', 'and', 'keep', 'coming', 'back', \"here.'\", '\"We', 'have', 'been', 'here', 'many', 'times', 'in', 'the', 'last', '10+', 'years.', 'The', 'Stetson', 'Salad', 'is', 'the', 'best', 'salad', 'I', 'have', 'ever', 'had.', 'The', 'combination', 'of', 'sweet,', 'crunchy,', 'savory', 'and', 'acidic', 'is', 'perfect', 'to', 'me.', 'Lately,', 'I', 'have', 'also', 'tried', 'the', 'Scallops', 'on', 'Beet', 'risotto.', 'The', 'scallops', 'are', 'great,', 'but', 'the', 'risotto', 'just', \"doesn't\", 'work,', 'though', 'I', 'love', 'beets', 'and', 'I', 'love', 'risotto.', 'I', 'have,', 'of', 'course,', 'had', 'the', 'mushroom', 'stir', 'fry,', 'which', 'is', 'very', 'good', 'but', 'very', 'hearty', 'and', 'heavy.', 'Soups', 'have', 'been', 'excellent.', 'The', 'current', 'best', 'desert', 'is', 'that', 'peanut', 'butter', 'brownie.', 'But', 'beware...it', 'is', 'really', 'rich', 'and', 'sweet.', 'I', 'also', 'enjoy', 'the', 'wine', 'flights', 'here.', 'Most', 'recently,', 'I', 'took', 'my', '8', 'and', '11', 'year', 'olds', 'at', 'lunch.', 'Though', 'they', 'were', 'the', 'only', 'kids', 'there,', 'they', 'thoroughly', 'enjoyed', 'the', 'Kobe', 'beef', 'burgers.', 'This', 'is', 'still', 'my', 'favorite', 'place', 'in', 'Old', 'Town.\"', '\"This', 'place', 'literally', 'just', 'opened.', 'I', \"didn't\", 'really', 'know', 'what', 'to', 'expect,', 'but', 'when', 'I', 'walked', 'in', 'the', 'doors', 'I', 'was', 'immediately', 'greeted', 'by', 'Nick,', 'and', 'he', 'was', 'very', 'nice', 'and', 'down', 'to', 'earth.', 'This', 'is', 'a', 'shop', 'for', 'people', 'who', 'like', 'to', 'garden/grow', 'plants', 'hydroponically', 'or', 'in', 'the', 'ground.', 'They', 'have', 'all', 'kinds', 'of', 'gardening', 'supplies', 'and', 'Nick', 'said', 'they', 'will', 'be', 'receiving', 'their', 'seed', 'shipment', 'from', 'Seeds', 'of', 'Change', 'any', 'day', 'now.', 'I', 'will', 'definitely', 'be', 'back,', 'as', 'my', 'green', 'thumb', '(or', 'lack', 'thereof)', 'has', 'been', 'sparked:)', 'P.S.', 'I', 'was', 'informed', 'that', 'the', 'in', 'the', 'next', 'issue', 'of', 'the', 'New', 'Times,', 'Grotown', 'will', 'have', 'an', 'add', 'to', 'clip', 'out', 'and', 'bring', 'in', 'to', 'save', '20%', '!!Yay', 'plants:)\"', '\"FnB', 'is', 'how', 'every', 'restaurant', 'should', 'be.', 'Unfortunately', 'this', 'will', 'not', 'happen', 'because', 'Pavle', 'Milic,', 'who', 'runs', 'the', 'place,', 'cannot', 'be', 'at', 'every', 'restaurant.', '\\\\n\\\\nThis', 'is', 'a', 'small,', 'friendly', 'restaurant', 'in', 'my', 'hood,', 'that', 'just', 'happens', 'to', 'have', 'some', 'of', 'the', 'best', 'food', 'you', 'will', 'find.', 'I', 'always', 'feel', 'welcomed', '&', 'taken', 'care', 'of', 'by', 'the', 'staff.', \"I've\", 'come', 'here', 'with', 'friends,', 'but', \"I've\", 'also', 'come', 'alone', '&', 'felt', 'totally', 'welcome.', 'I', 'like', 'sitting', 'up', 'at', 'the', 'counter,', 'and', \"I've\", 'actually', 'met', 'some', 'really', 'great', 'people', 'to', 'chat', 'with', 'there.', 'Pavle', '&', 'his', 'wife', 'run', 'the', 'place,', '&', 'they', 'are', 'the', 'kind', 'of', 'people', 'who', 'always', 'make', 'you', 'feel', 'like', 'they', 'are', 'glad', 'you', 'are', 'there.\\\\n\\\\nChef', 'Charlene', 'does', 'things', 'with', 'food', 'that', 'make', 'it', 'amazing,', '&', 'these', 'are', 'things', 'that', 'I', 'myself', 'could', 'never', 'accomplish.', 'My', 'main', 'cooking', 'skills', 'involve', 'a', 'microwave', 'or', 'a', 'menu.', 'I', 'just', 'wish', 'I', 'had', 'the', 'funds', 'to', 'eat', 'here', 'more', 'often.\\\\n\\\\nIn', 'conclusion,', 'fabulous', 'food', 'combined', 'with', 'wonderful', 'service', 'make', 'me', 'feel', 'lucky', 'to', 'have', 'FnB', 'in', 'my', 'neighborhood.', ':)\"', '\"I', 'LOVE', 'Laser', 'for', 'Less', '(Chandler)!', 'If', 'you', 'are', 'going', 'anywhere', 'else', 'for', 'Laser', 'hair', 'removal', 'you', 'need', 'to', 'stop', 'now', 'and', 'call', 'to', 'make', 'an', 'appointment', 'with', 'Laser', 'for', 'Less,', 'Chandler.', 'I', 'wasted', 'a', 'lot', 'of', '$$$', 'at', 'another', 'Laser', 'removal', 'place', 'before', 'I', 'found', 'Laser', 'for', 'Less', 'and', 'now', 'I', 'am', 'kicking', 'myself', 'for', 'not', 'going', 'to', 'them', 'first.', 'If', 'you', 'pay', 'to', 'wax', 'any', 'part', 'of', 'your', 'body', 'you', 'should', 'be', 'lasering', 'that', 'hair', 'off.', 'It', 'works', 'better,', 'lasts', 'longer,', 'and', 'in', 'the', 'long', 'run', 'is', 'cheaper.', '\\\\n\\\\nPros', '-', '\\\\n1.', 'Free', 'touch', 'ups', '14-18', 'days', 'after', 'your', 'first', 'appointment', 'if', 'they', 'missed', '1', 'hair', 'they', 'will', 'touch', 'up', 'for', 'free.', 'Never', 'had', 'a', 'problem', 'with', 'them', 'discouraging', 'me,', 'in', 'fact', 'it', 'was', 'the', 'opposite', 'they', 'give', 'me', 'reminder', 'cards', 'so', 'I', 'know', 'when', 'my', 'touch', 'ups', 'are', 'due.', 'They', 'encourage', 'you', 'to', 'come', 'in.\\\\n2.', 'They', 'can', 'also', 'charge', 'you', 'by', 'the', 'laser', 'shot', 'instead', 'of', 'a', 'whole', 'area.', 'So', 'if', 'you', 'only', 'have', 'a', 'few', 'random', 'hairs', 'they', 'will', 'just', 'charge', '10', 'cent', 'per', 'shot', 'on', 'the', 'legs', 'or', '70', 'cents', 'on', 'the', 'face', 'or', 'smaller', 'areas.', 'You', \"can't\", 'beat', 'that', 'deal.\\\\n3.', 'I', 'am', 'pretty', 'sure', 'they', 'beat', 'or', 'match', 'all', 'prices', 'in', 'town.\\\\n4.', 'Once', 'they', 'laser', 'the', 'hair,', 'all', 'your', 'hair', 'will', 'fall', 'out', 'and', 'wont', 'grow', 'back', 'for', 'like', '2', 'months,', 'its', 'better', 'than', 'waxing.', 'Not', 'all', 'laser', 'removal', 'places', 'use', 'the', 'type', 'of', 'laser', 'that', 'does', 'this', 'place', 'does.', 'That', 'is', 'why', 'I', 'recommend', 'them,', 'it', 'works', 'a', 'lot', 'better!\\\\n5.', 'They', 'actually', 'care', 'about', 'getting', 'rid', 'of', 'unwanted', 'hair', 'and', 'will', 'go', 'over', 'all', 'their', 'policies', 'with', 'you.', 'Kristen', 'is', 'who', 'I', 'go', 'to', 'and', 'she', 'is', 'great.', 'I', 'have', 'been', 'to', 'almost', 'all', 'their', 'girls', 'and', 'they', 'are', 'good.', '\\\\n6.', 'In', 'fact', 'when', 'it', 'was', 'my', 'birthday', 'month', 'I', \"didn't\", 'know', 'I', 'got', 'some', 'discount', 'and', 'they', 'back', 'credited', 'me', 'for', 'it,', 'I', 'feel', 'like', 'they', 'are', 'always', 'trying', 'to', 'get', 'me', 'the', 'best', 'deal.', '\\\\n7.', 'They', 'always', 'have', 'deals.', 'Just', 'last', 'month', 'they', 'had', 'their', 'underarm', 'extravaganza', 'where', 'you', 'can', 'get', 'your', 'underarms', 'done', 'for', '$30!!!', 'That', 'is', 'so', 'cheap.', 'They', 'let', 'you', 'buy', 'up', 'to', '3', 'sessions.', 'I', 'referred', 'a', 'friend', 'and', 'she', 'loved', 'it', 'so', 'much', 'because', 'she', \"didn't\", 'have', 'to', 'shave', 'her', 'underarms', 'the', 'WHOLE', 'summer.', '\\\\n8.', 'I', 'love', 'Laser', 'for', 'Less,', 'CHANDLER!!!\\\\n\\\\nCons', '-', 'never', 'having', 'to', 'shave', 'again,', 'darn.\"', \"'Excellent\", 'service', 'and', 'food.', 'Best', 'tex-mex', 'in', 'the', \"valley.'\", \"'This\", 'store', 'has', 'the', 'most', 'pleasant', 'employees', 'of', 'any', 'Forever', '21', 'I', 'have', 'ever', 'been', 'to.', 'The', 'girls', 'are', 'always', 'smiling', 'and', 'they', 'take', 'the', 'time', 'to', 'esquire', 'if', 'you', 'need', 'help.', 'The', 'other', 'day,', 'I', 'went', 'in', 'and', 'an', 'employee', 'spent', 'over', '10', 'minutes', 'helping', 'me', 'locate', 'a', 'particular', 'skirt', 'my', 'sister', 'wanted', 'for', \"Christmas.'\", '\"I', 'love', 'cupcakes.', 'Its', 'true.', 'I', 'really', 'do.', 'I', 'have', 'waited', 'in', 'an', 'hour', 'long', 'line', 'outside', 'of', 'Magnolia', 'Bakery', 'in', 'NYC', 'to', 'experience', 'the', 'bakery', 'that', 'started', 'the', 'cupcake', 'craze.', 'That', 'said,', 'if', 'there', 'is', 'a', 'good', 'cupcake', 'to', 'be', 'had,', \"I'm\", 'on', 'my', 'way', 'to', 'experience', 'it.', 'I', 'must', 'note-', 'that', 'I', 'am', 'not', 'a', 'fan', 'of', 'Sprinkles;', 'as', 'I', 'think', 'they', 'are', 'overly', 'dry', 'and', 'waayy', 'too', 'hyped.\\\\n\\\\nWe', 'just', 'ordered', 'two', 'dozen', 'different', 'flavors', 'from', 'Mind', 'Over', 'Batter', 'to', 'celebrate', 'our', 'August', 'birthdays', '(its', 'a', 'tradition', 'we', 'do', 'once', 'a', 'month', 'from', \"baker's\", 'around', 'town).', 'Because', 'of', 'my', 'love', 'for', 'all', 'thinks', 'coffee-', 'I', 'got', 'the', 'Carmel', 'Mocchiato.', 'Let', 'me', 'just', 'say-', 'i', 'wished', 'I', 'took', 'a', 'picture.', 'But', 'I', \"couldn't\", 'help', 'but', 'to', 'dive', 'in.', 'Mocha', 'Buttercream', 'frosting-piled', 'high,', 'crushed', 'coffee', 'toffee', 'and', 'carmel', 'drizzle.', '\\\\n\\\\nI', 'also', 'heard', 'rave', 'reviews', 'from', 'the', 'office', 'about', 'the', 'Birthday', 'Cake', 'and', 'the', 'Chocolate', 'Red', 'Velvet.', 'The', 'one', 'I', 'most', 'want', 'to', 'try', 'is', 'the', 'Lemon', 'Drop', '(because', 'I', 'love', \"lemon).\\\\n\\\\nI'll\", 'be', 'back', 'in', 'very', 'soon', 'to', 'check', 'out', 'more', 'flavors', 'and', 'cake', 'pops.\"', '\"I', 'love', 'this', 'place!', 'Everything', 'about', 'it!', 'The', 'great', 'food,', 'the', 'grocery', 'section,', 'the', 'cramped', 'seating', '(it', 'gives', 'character).', 'It', 'all', 'goes', 'together', 'perfectly.', \"Haven't\", 'found', 'one', 'bad', 'thing', 'yet:)\"', \"'Best\", 'Chinese', 'food', 'in', 'the', 'Valley.', 'As', 'others', 'have', 'said,', 'salad', 'dressing', 'is', 'addictive', 'as', 'IS', 'available', 'to', 'take', 'home', 'in', 'containers.', 'Shrimp', 'dishes', 'are', 'outstanding', 'with', 'large,', 'plump', 'high', 'quality', 'pieces', 'of', 'shrimp.', 'I', 'have', 'never', 'had', 'even', 'an', 'average', 'dish', 'here.', 'Go', 'and', \"enjoy!'\", '\"Here\\'s', 'the', 'deal.', 'I', 'said', 'I', 'was', 'done', 'with', 'OT,', 'but', 'a', 'friend', 'told', 'me', 'the', 'management', 'had', 'changed', 'and', 'it', 'was', 'worth', 'another', 'shot.', '\\\\n\\\\nMy', 'friend', 'was', 'right.\\\\n\\\\nEverything', 'I', 'had', 'a', 'problem', 'with', 'before', 'was', 'remedied.', 'I', 'went', 'in', 'unannounced,', \"didn't\", 'tell', 'anyone', 'about', 'a', 'previous', 'bad', 'experience,', 'and', 'I', 'was', 'given', 'some', 'of', 'the', 'best', 'service', \"I've\", 'received', 'in', 'town.', 'When', 'we', 'went', 'in,', 'we', 'were', 'sat', 'quickly', 'and', 'tended', 'to', 'very', 'well', 'for', 'our', 'entire', 'visit.\\\\n\\\\nNo', 'texting', 'employees,', 'no', 'indifferent', 'waitstaff.', 'The', 'chef', 'was', 'in', 'the', 'food', 'window', 'expediting', 'food,', 'making', 'sure', 'it', 'went', 'out', 'promptly', 'and', 'correctly.', 'Not', 'only', 'was', 'our', 'server', 'attentive,', 'but', 'there', 'was', 'a', 'team', 'service', 'atmosphere', 'and', 'other', 'servers', 'came', 'by', 'our', 'table', 'when', 'we', 'had', 'empty', 'drinks,', 'debris', 'on', 'the', 'table,', 'etc.', '\\\\n\\\\nThe', 'decor', 'has', 'been', 'refreshed,', 'and', 'although', 'I', \"didn't\", 'dislike', 'the', 'decor', 'originally,', 'it', 'is', 'definitely', 'an', 'upgrade', 'as', 'well.', 'Now', 'its', 'much', 'cleaner,', 'but', 'still', 'maintains', 'the', 'character', 'that', 'was', 'part', 'of', 'its', 'charm', 'before.', '\\\\n\\\\nProps', 'to', 'the', 'new', 'management.', 'Well', 'done.', \"I'll\", 'be', 'back.\\\\n\\\\nPS', '-', 'forgot', 'to', 'order', 'side', 'syrup.', 'Curious', 'to', 'see', 'if', 'they', 'still', 'charge', '$2.\"', \"'Have\", 'alread', 'posted', 'a', 'review', 'but', 'had', 'to', 'add', 'that', 'a', 'friend', 'at', 'work', 'ordered', 'vegan', 'chocolate', 'cupcakes', 'for', 'my', 'birthday', 'and', 'they', 'were', 'sooooooo', 'delicious!!', 'All', 'my', 'nonvegan', 'coworkers', 'LOVED', \"them.'\", '\"The', 'BEST', 'SPORTS', 'BAR', 'in', 'chandler', 'hands', 'down!!', 'A', 'great', 'place', 'to', 'meet', 'friends', 'and', 'even', 'bring', 'the', 'kids!!', 'The', 'owners', 'are', 'always', 'around', 'to', 'ensure', 'ur', 'experience!!', \"TV's\", 'everywhere,', 'if', 'you', 'love', 'sports', 'and', 'beer', 'this', 'is', 'the', 'place', 'for', 'you!!', 'The', 'nob', 'has', 'events', 'all', 'week', 'and', 'food', 'specials', 'to', 'go', 'along...', 'the', 'ribs', 'are', 'amazing!!', 'however', 'the', 'GYRO', 'is', 'good', 'as', 'it', 'gets!!', 'The', 'best', 'gyro', 'in', 'the', 'valley', 'you', 'can', 'write', 'that', 'one', 'down!!', 'and', 'the', 'wings...', 'once', 'you', 'pop', 'u', 'just', 'cant', 'stop!!\\\\n\\\\nHOB', 'NOB', 'SPORTS', 'BAR', '&', 'GRILL', 'cheers', 'to', 'you!!\"', '\"Beautiful', 'restaurant!', 'Terrrific', 'service!', '\\\\n\\\\nWonderful,', 'fresh', 'and', 'authentic', 'cuisine', '-', 'what', 'more', 'can', 'I', 'say', 'but', \"don't\", 'miss', 'the', 'Carpaccio!\"', '\"I\\'ve', 'always', 'been', 'treated', 'well', '@', \"D'ambrosio's\", 'despite', 'my', 'not', 'exactly', 'being', \"'N\", 'Scottsdale', \"plastic'.\", ':)\"', '\"Ben', '&', \"Jerry's\", 'is', 'still', 'the', 'best', 'chain', 'ice', 'cream', 'shop!', 'The', 'employees', 'are', 'always', 'helpful', 'and', 'polite,', 'and', 'their', 'flavors', 'are', 'just', 'outrageous!', 'The', 'smell', 'of', 'the', 'waffle', 'cones', 'and', 'waffle', 'bowls', 'wafts', 'out', 'the', 'doors', 'as', 'you', 'walk', 'by,', 'and', 'you', \"can't\", 'resist.', 'Whether', 'you', 'go', 'for', 'new', 'flavors', 'or', 'classics', 'like', 'Cherry', 'Garcia', 'and', 'Phish', 'Food,', 'you', 'can', 'expect', 'the', 'most', 'flavorful', 'ice', 'cream', 'with', 'the', 'perfect', 'consistency.\"', '\"Did', 'you', 'know', 'that', \"Malee's\", 'on', 'Main', 'offers', 'cooking', 'classes!?', 'They', 'offer', 'them', 'twice', 'a', 'month', 'during', 'tourist', 'season', 'and', 'once', 'per', 'month', 'during', 'the', 'rest', 'of', 'the', 'year.', 'I', 'attended', 'two', 'weeks', 'ago,', 'and', 'it', 'was', 'OUTSTANDING!', 'Not', 'only', 'did', 'we', 'learn', 'to', 'cook', 'Thai', '(which,', 'incidentally,', 'it', 'was', 'significant', 'to', 'learn', 'that', 'Thai', 'gets', 'its', 'flavor', 'by', 'layering', 'is', 'sauces),', 'but', 'we', 'were', 'given', 'the', 'recipes', 'for', 'some', 'of', 'the', 'signature', 'dishes,', 'served', 'tastings,', 'a', 'meal,', 'and', 'wine', 'pairings,', 'and', 'we', 'were', 'even', 'given', 'goody', 'bags.', 'It', 'was', 'a', 'great', 'way', 'to', 'spend', 'a', 'Saturday', 'afternoon', 'with', 'another', 'foodie!\"', '\"Even', 'though', \"I've\", 'rarely', 'had', 'anything', 'else', 'on', 'their', 'menu', 'except', 'for', 'hummus,', 'I', 'highly', 'recommend', 'this', 'little', 'greek', 'hot', 'spot.', 'They', 'have', 'tons', 'of', 'regulars', 'because', 'the', 'food', 'keeps', 'them', 'coming', 'back.', 'The', 'hummus', 'is', 'to', 'die', 'for', '(it', 'only', 'comes', 'with', 'one', 'pita', 'however,', 'so', 'I', 'always', 'order', '2-3', 'extra).', 'I', 'have', 'also', 'tried', 'their', 'veggie', 'gyro', 'which', 'is', 'great.', 'I', 'have', 'brought', 'many', 'meat-loving', 'friends', 'here', 'and', \"I've\", 'never', 'heard', 'anything', 'but', 'great', 'things', 'about', 'their', 'experience', 'with', 'their', 'food.', '\\\\n\\\\nThe', 'staff', 'is', 'completely', 'Greek.', 'They', 'are', 'friendly', 'in', 'their', 'own', 'unique', 'kind', 'of', 'way.', 'Because', 'I', 'usually', 'saunter', 'in', 'with', 'a', 'drink', 'from', 'Starbucks', '(same', 'parking', 'lot),', 'the', 'female', 'owner', 'assumes', 'I', 'work', 'there', 'and', 'she', 'always', 'asks', 'me', 'how', 'business', 'is', 'going', 'at', 'SB.', 'I', 'corrected', 'her', 'the', 'first', 'few', 'times,', 'but', 'she', 'continued', 'to', 'ask,', 'so', 'now', 'I', 'just', 'keep', 'it', 'going', 'and', 'tell', 'her', \"it's\", 'going', 'great', 'but', 'that', 'I', 'hate', 'my', 'job', '(because', \"I'm\", 'assuming', 'I', 'would,', 'if', 'I', 'worked', 'there).', 'I', 'love', 'her', 'personality...very', 'intense.', 'Never', 'smiles,', 'even', 'when', 'a', 'smile', 'would', 'be', 'just', 'right.', 'But', 'she', 'is', 'still', 'very', 'kind.', 'Always', 'look', 'forward', 'to', 'seeing', 'her', 'and', 'eating', 'her', 'food.\"', \"'I\", 'came', 'here', 'hoping', 'to', 'catch', 'brunch', 'but', 'I', 'guess', 'it', 'ends', 'at', '11:30am', 'or', '12pm.', 'Luckily', 'the', 'lunch', 'menu', 'looked', 'just', 'as', 'tasty.', 'We', 'ordered', 'the', 'Luau', 'pulled', 'pork', 'sandwich', '(the', 'jalapeno', 'cole', 'slaw', 'gives', 'it', 'a', 'nice', 'kick)', 'and', 'the', 'Monte', 'Cristo', '(french', 'toast', 'instead', 'of', 'regular', 'bread', 'slices', '=', 'delicious).', 'Service', 'was', 'friendly', 'and', 'attentive.', 'The', 'dining', 'area', 'is', 'decorated', 'like', 'a', 'household-', 'very', 'comfortable', 'and', \"clean.'\", \"'My\", 'husband', 'and', 'I', 'enjoyed', 'a', '\"staycation\"', 'here', 'for', 'my', 'birthday.', 'We', 'had', 'an', 'amazing', 'time!', 'We', 'took', 'advantage', 'of', 'the', 'great', 'happy', 'hour', 'specials', 'at', 'the', 'poolside', 'bar', 'and', 'at', 'the', 'Sangria', 'bar.', 'The', 'Sangria', 'bar', 'had', 'billiards', 'and', 'a', 'card', 'table.', 'They', 'also', 'had', 'a', 'wonderful', 'Happy', 'Hour', 'menu', 'where', 'everything', 'is', '$5.', 'Excellent', 'hamburgers', 'and', 'margaritas.', 'We', 'enjoyed', 'a', 'beautiful', 'dinner', 'at', 'Palm', 'Court', 'and', 'a', 'breakfast', 'buffet', 'at', 'Vista', 'Verde.', 'We', 'took', 'advantage', 'of', 'the', 'free', 'bike', 'rentals', 'and', 'the', 'exercise', 'facility.', 'The', 'staff', 'was', 'amazing', 'and', 'very', 'accommodating.', 'They', 'have', 'definitely', 'earned', 'our', 'business', 'and', 'will', 'refer', 'our', \"friends.'\", '\"Okay,', 'if', 'you', 'actually', 'like', 'the', 'taste', 'of', 'good', 'whole', 'foods', 'and', 'fresh', 'ingredients', 'this', 'place', 'is', 'an', 'Oasis', 'of', 'goodness.', 'If', 'your', 'looking', 'for', 'a', 'place', 'that', 'says', 'they', 'make', 'natural', 'foods', 'but', 'uses', '2nd', 'rate', 'ingredients', 'and', 'comes', 'up', 'with', 'recipes', 'to', 'hide', 'the', 'fact', 'by', 'using', 'spices', 'to', 'cover', 'it', 'up', 'your', 'better', 'off', 'going', 'somewhere', 'else.\\\\nMy', 'family', 'took', 'me', 'here', 'when', 'we', 'were', 'visiting,', 'and', 'it', 'is', 'wonderful.', 'I', 'had', 'the', 'Pesto', 'Presto', 'sandwich', 'and', 'it', 'was', 'divine!', 'I', 'also', 'tried', 'my', \"family's\", 'strawberry', 'fields', 'salad', 'and', 'Arizona', 'rolls.', 'They', 'were', 'all', 'really', 'good.', 'The', 'vegetables', 'were', 'fresh', 'and', 'high', 'quality', 'and', 'the', 'price', 'for', 'the', 'portion', 'and', 'quality', 'was', 'a', 'good', 'price.\\\\nI', 'was', 'amazed', 'that', 'they', 'had', 'a', 'couple', 'of', 'options', 'for', 'people', 'on', 'the', 'raw', 'foods', 'diet.', 'The', 'juices', 'are', 'different,', 'but', 'surprisingly', 'refreshing.\\\\nThis', 'place', 'is', 'a', 'great', 'example', 'that', 'eating', 'well', 'and', 'health', 'can', 'be', 'tasty', 'and', 'satisfying.\"', \"'Just\", 'perfect', '!!!', 'For', 'what', 'it', 'is!!!', 'Down', 'to', 'the', 'Edison', 'light', 'bulbs', 'from', \"rejuvanation!!'\", \"'It\\\\'s\", 'a', 'beautiful', 'day.', 'Clear', 'sky', 'and', 'around', '65', 'degrees', 'in', 'the', 'late', 'morning!', 'What', 'to', 'do?', 'My', 'little', 'guy', 'had', 'been', 'riding', 'his', 'bike', 'without', 'training', 'wheels.', 'Woo-hoo!', 'Is', 'he', 'ready', 'to', 'go', 'on', 'a', 'dirt', 'trail?', \"We\\\\'re\", 'gearing', 'him', 'up', 'to', 'go', 'mountain', 'biking', 'up', 'North.', 'Hubby', 'suggested', 'Riparian', 'Preserve.', 'It', 'was', 'an', 'excellent', 'choice.', '\\\\n\\\\n\"This', 'is', 'awesome!\"', 'my', 'little', 'one', 'exclaimed,', 'as', 'he', 'bounced', 'up', 'and', 'down', 'on', 'the', 'trail.', 'Then,', \"he\\\\'ll\", 'just', 'stop', 'right', 'in', 'front', 'of', 'me', 'without', 'warning.', 'Five', 'year', 'olds', 'get', 'distracted', 'so', 'easily.', '\"Is', 'that', 'a', 'wasp?', 'Look', 'at', 'that', 'hover', 'fly!', 'What', 'kind', 'of', 'ant', 'is', 'that?', 'What', 'kind', 'of', 'beetles', 'live', 'here!\"', 'asks', 'my', 'little', 'future', 'entomologist.', \"We\\\\'ll\", 'be', 'taking', 'some', 'tours', 'and', 'classes', 'the', 'Riparian', 'offers', 'soon!\\\\n\\\\nMy', 'little', 'one', 'did', 'bite', 'the', 'dust', 'several', 'times', 'due', 'to', 'some', 'excessively', 'gravelly', 'paths.', 'He', 'learned', 'to', 'either', 'walk', 'his', 'bike', 'over', 'or', 'slow', 'down', 'a', 'bit.', 'Such', 'a', 'sport!', '\"Let\\\\\\'s', 'come', 'back', 'here', 'again.,', 'That', 'was', 'fun!\"', 'It', 'was', 'fun', 'for', 'us', \"too!\\\\n\\\\nWe\\\\'re\", 'so', 'lucky', 'we', 'live', 'not', 'far', 'from', 'here.', 'It', 'is', 'a', 'very', 'well', 'maintained', 'park.', 'As', 'it', 'gets', 'hotter,', 'we', 'would', 'walk', 'and', 'feed', 'the', 'ducks', 'in', 'the', 'morning', 'and', 'spend', 'the', 'rest', 'of', 'the', 'time', 'in', 'the', 'Regional', 'Library.', 'I', 'highly', 'recommend', 'you', 'check', 'this', 'place', \"out.'\", \"'The\", 'Thai', 'menu', 'is', 'totally', 'amazing!', 'I', 'had', 'the', 'Panang;', 'and', 'the', 'coconut', 'curry', 'was', 'to', 'die', 'for.', 'I', 'have', 'been', 'mistakenly', 'driving', 'past', 'this', 'wonderful', 'place', 'for', 'a', 'year.', 'Do', 'yourself', 'a', 'favor,', 'try', 'Na', 'Rai,', 'you', 'will', 'be', 'so', 'pleased', 'you', 'did.', '\\\\nThey', 'have', 'a', 'lunch', 'menu', 'as', \"well.'\", \"'Tiffany\", '@', 'the', 'chanel', 'counter.', '\\\\nTana', 'in', 'the', 'lingerie', 'department.', '\\\\n\\\\nthese', 'are', 'my', 'go-to', 'girls', 'for', 'everything.', 'i', 'bring', 'all', 'of', 'my', 'purchases', 'to', 'them', 'bc', 'they', 'are', 'THAT', 'much', 'better', 'than', 'everyone', 'else.', 'except', 'shoes', 'because', 'the', 'shoe', 'people', 'know', 'how', 'to', 'work', 'that', 'confusing', 'back', 'shoe', 'room.', '\\\\n\\\\nbut', 'everything', 'else:', 'make', 'up,', 'accessories,', 'clothes....all', 'to', 'one', 'of', 'these', 'girls.', 'i', 'recommend', 'you', 'only', 'work', 'with', 'them', 'as', 'well', \":)'\", \"'Yeah\", 'it', 'was', 'good.', 'My', 'wife', '&', 'I', 'went', 'with', '2', 'other', 'foodie', 'couples,', 'who', 'are', 'good', 'friends,', 'for', 'our', 'monthly', '\"side', 'dish\"', 'function.', 'The', 'food', 'was', 'all', 'fantastic.', 'All', '5', 'of', 'the', 'other', 'people', 'in', 'our', 'group', 'were', 'drinking', 'martinis,', 'which', 'they', 'all', 'said', 'were', 'very', 'tasty', 'as', 'well,', 'but', 'at', '$12-$16', 'per,', \"I\\\\'m\", 'a', 'little', 'put', 'off.', \"I\\\\'m\", 'more', 'of', 'a', 'beer', 'guy', 'anyway,', 'so', 'I', 'had', 'a', 'couple', 'of', 'craft-brews', 'that', 'are', 'not', 'available', 'everywhere,', 'and', 'then', 'settled', 'on', 'a', 'Firestone', 'DBA', '--', 'a', 'very', 'very', 'tasty', 'beer', '--', 'and', 'had', 'several', 'of', 'those.', 'Great', 'food,', 'great', 'booze,', 'club', 'music', 'atmosphere', 'is', 'pretty', 'cool.', 'Outdoor', 'area', 'is', 'excellent.', 'Felt', 'like', 'an', 'idiot', 'when', 'I', 'had', 'to', 'ask', 'where', 'the', 'mens', 'room', 'was', 'only', 'to', 'turn', 'around', 'and', 'find', 'that', 'the', 'huge', 'wall', 'of', 'a', 'door', 'was', 'right', 'behind', 'me', 'and', 'said', '\"he\"', 'in', 'huge', 'letters', 'on', 'the', 'bottom', 'of', 'the', 'door.', 'Oh', 'and', 'then', '(6', 'or', '7', 'strong', 'beers', 'into', 'the', 'evening)', 'I', 'found', 'that', 'the', 'mirror', 'next', 'to', 'the', '(only)', 'urinal', 'in', 'the', 'mens', 'room', 'misled', 'me', 'into', 'believing', 'there', 'was', 'a', 'second', 'urinal,', 'which', 'I', 'tried', 'unsuccessfully', 'to', 'walk', 'to.', 'Why', 'is', 'that', 'guy', 'walking', 'directly', 'toward', 'me?', 'Oh,', \"it\\\\'s\", 'me.', 'In', 'the', 'mirror.', 'Dumbass.', 'So', 'then', '(after', 'relieving', 'myself', 'in', 'the', 'actual', 'urinal)', 'I', 'go', 'back', 'out', 'to', 'the', 'table', 'to', 'tell', 'the', 'story', 'about', 'trying', 'to', 'use', 'the', 'urinal', 'in', 'the', 'mens', 'room', 'that', \"doens\\\\'t\", 'exist,', 'and', 'somebody', 'else', 'says', '\"yeah', 'the', 'same', 'fucking', 'thing', 'happened', 'to', 'me', 'too!\"', 'so', 'I', \"don\\\\'t\", 'feel', 'like', 'such', 'a', 'dumbass', 'anymore.', 'Fun', \"night.'\", '\"I', 'love', 'this', 'place!', 'I', 'love', 'that', \"it's\", 'to-go', 'only', '(no', '3', 'hour', 'waits,', 'like', 'Pizzaria', 'Bianco),', 'and', 'the', 'mozzarella', 'is', 'mouth', 'watering.', '\\\\nPlease', 'try', 'the', 'mozzarella,', 'tomato,', 'basil', 'sandwich.', 'You', \"won't\", 'regret', 'it!\"', '\"Ice', 'Ice', 'Baby...\\\\nIce', 'Ice', 'Baby...\\\\n\\\\nAll', 'right', 'stop', 'collaborate', 'and', 'listen;\\\\nIce', 'Now', 'is', 'here', 'and', \"it's\", 'got', 'my', 'attention', '\\\\nMake', 'some', 'drinks', '-', 'not', 'warm', 'but', 'frosty;\\\\nAnd', 'believe', 'me', 'when', 'I', 'say', 'they', 'are', 'not', 'costly\\\\nWill', 'it', 'ever', 'melt?', 'yo', 'I', \"don't\", 'know.\\\\nGive', 'them', 'a', 'call', 'and', \"they'll\", 'show\\\\nTo', 'the', 'extreme', 'I', 'yelp', 'like', 'a', 'sandal;\\\\nIce', 'your', 'drinks', 'and', 'get', 'lit', 'like', 'a', 'candle\\\\n...', 'Ice', 'ice', 'baby\\\\n\\\\nPS', '-', 'not', 'sure', 'where', 'the', 'sandal', 'line', 'came', 'in', 'but', 'writing', 'a', 'review', 'in', 'lyric', 'form', 'is', 'a', 'challenge!', 'This', 'is', 'the', 'best', 'I', 'can', 'do', 'for', 'now...\\\\n\\\\nNeed', 'ice', 'for', 'an', 'event?', 'Call', 'Ice', 'Now!', 'They', 'offer', 'free', 'delivery', 'and', 'their', 'pricing', 'is', 'surprisingly', 'cheap.\\\\n\\\\nAnd', 'good', 'luck', 'getting', 'the', 'Ice', 'Ice', 'Baby', 'lyrics', 'out', 'of', 'your', 'head...', '(sorry)!\"', '\"I', 'love', 'Dr.', 'Scott!!', 'He', 'is', 'the', 'funniest', 'doctor', \"I've\", 'ever', 'met', 'and', 'he', 'makes', 'me', 'feel', 'good', 'too!', 'Dr.', 'Scott', 'is', 'always', 'willing', 'to', 'bend', 'over', 'backwards', 'to', 'make', 'sure', 'you', 'are', 'provided', 'the', 'best', 'service', 'and', 'treatment', 'possible.', 'The', 'massage', 'therapists', 'rock', 'too!', 'I', 'will', 'be', 'a', 'lifelong', 'patient', 'of', 'Integrated', 'Chiropractic.\"', '\"Total', 'wine', 'totally', 'takes', 'a', 'crap', 'on', 'Bev', 'Mo.', 'This', 'store', 'has', 'everything!', 'The', 'employees', 'are', 'also', 'very', 'knowledgeable.', 'The', 'other', 'day', 'we', 'went', 'in', 'and', 'my', 'husband', 'insisted', 'I', 'try', 'red', 'wine', 'instead', 'of', 'sticking', 'to', 'my', 'usual', 'Riesling', '(I', \"don't\", 'like', 'change).', 'So', 'we', 'asked', 'one', 'of', 'the', 'employees', 'and', 'he', 'asked', 'me', 'a', 'few', 'questions', 'then', 'suggested', 'a', 'bottle', 'of', 'Malbec.', 'The', 'Malbec', 'tasted', 'amazing!', 'I', 'was', 'so', 'happy.', 'For', 'those', 'of', 'you', 'who', \"don't\", 'know,', \"it's\", 'not', 'only', 'wine!', 'You', 'can', 'find', 'everything', 'else.', 'Total', 'wine', 'has', 'helped', 'us', 'stock', 'our', 'bar', 'and', 'entertain', 'our', 'guests.', 'Also,', \"don't\", 'forget', 'to', 'chill', 'your', 'bottles', 'before', 'you', 'leave!\"', \"'Try\", 'the', 'Moroccan', 'Chicken', 'on', 'the', 'low', 'calorie', 'menu.', 'I', 'was', 'really', 'surprised', 'at', 'how', 'great', 'it', \"is.'\", '\"Wow.\\\\n\\\\nBeen', 'there', '2', 'times.', 'I', 'wanted', 'to', 'revisit', 'to', 'see', 'if', 'it', 'was', 'a', 'fluke,', 'and', 'to', 'my', 'pleasant', 'surprise', '-', 'it', \"wasn't.\", \"I'm\", 'from', 'NW', 'Indiana', 'originally.', 'I', 'know', 'corn.', 'Indiana', 'sweet', 'corn', 'cannot', 'be', 'beat', '-', 'well', '-', 'until', 'I', 'had', 'the', 'corn', 'from', \"America's\", 'Taco', 'Shop.', 'This', 'corn', 'has', 'cotija', 'cheese,', 'hot', 'sauce,', 'mayo,', 'and', 'I', 'swear', 'crack.', 'There', 'has', 'to', 'be', 'crack', 'in', 'there...', 'I', 'have', 'viscous', 'dreams', 'about', 'that', 'corn', 'and', 'wake', 'up', 'in', 'a', 'cold', 'sweat.', 'I', 'need', 'that', 'corn...', \"it's\", 'just', 'so', 'good.', '\\\\n\\\\nI', \"don't\", 'eat', 'beef', 'and', \"that's\", 'the', 'only', 'meat', 'they', 'serve', 'but', 'that', \"won't\", 'stop', 'me.', 'Their', \"vampiro's\", 'minus', 'the', 'carne', 'asada,', 'bean', 'and', 'cheese', 'burritos,', 'chips', 'and', 'salsa,', 'quesadilla', 'are', 'all', 'awesome.', 'They', 'also', 'have', 'delicious', 'horchata....', 'but', 'that', 'corn....', '\\\\n\\\\nI', 'know', 'where', \"I'm\", 'going', 'tonight.\"', '\"Expect', 'no', 'com', 'TAM-foolery', 'here....this', 'joint', 'is', 'serious', 'about', 'their', 'broken', 'rice', 'business!', '\\\\n\\\\nEndless', 'options', 'of', 'different', 'broken', 'rice', '(aka', 'com', 'tam=', 'deliciousness)', 'dishes', 'which', 'typically', 'include', 'shredded', 'pork', 'and', 'whatever', 'type', 'of', 'meat', 'flavors', 'your', 'fancy,', 'all', 'within', 'your', '$6-10', 'wallet', 'budget!', 'Service', 'is', 'prompt', 'and', 'efficient,', 'menu', 'is', 'ez', 'to', 'follow,', 'focus', 'your', 'energy', 'on', 'the', 'broken', 'rice', 'dishes;', 'thats', 'what', 'theyre', 'known', 'for.', '\\\\n\\\\nI', 'highly', 'recommend', 'the', 'shredded', 'pork', '+', 'pork', 'chop', '+', 'steamed', 'egg', 'combo', 'that', 'comes', 'with', 'a', 'light', 'pork', 'broth', 'on', 'the', 'side.', 'The', 'portion', 'is', 'HUGE', 'and', 'each', 'component', 'of', 'the', 'dish', 'is', 'so', 'flavorful', 'and', 'unique,', 'bringing', 'together', 'a', 'fantastic', 'symphony', 'for', 'your', 'palate.', 'My', 'personal', 'favorite', 'is', 'the', 'steamed', 'egg;', \"there's\", 'just', 'something', 'about', 'the', 'soft', 'and', 'moist', 'texture', 'that', 'compliments', 'the', 'broken', 'rice.', 'Go', 'easy', 'on', 'the', 'fish', 'sauce', '(ngoc', 'mam)', 'they', 'give', 'you', 'on', 'the', 'side', '(try', 'adding', 'Sriracha', 'to', 'the', 'sauce', 'to', 'add', 'some', 'spice', 'in', 'your', 'life),', 'the', 'dish', 'is', 'by', 'far', 'no', 'means', 'lacking', 'in', 'flavor/sodium.', 'All', 'at', 'a', 'pansy', '$5.99,', 'I', 'could', 'really', 'eat', 'this', 'all', 'day...everyday!\"', \"'Woo\", 'Hoo!', 'Little', 'Caesars', 'opens', 'in', 'Fountain', 'Hills!', 'Yummy', \"pizza.'\", '\"Covet', 'is', 'an', 'excellent', 'clothing', 'store.\\\\nIn', 'Arizona,', 'there', 'is', 'almost', 'nowhere', 'decent', 'to', 'shop.', '\\\\nunless', 'of', 'course', 'you', 'loooooove', 'Juicy', 'Couture,', 'in', 'the', 'event', 'of', 'which,', 'you', 'should', 'probably', 'not', 'even', 'bother', 'reading', 'this', 'review,', 'because', 'this', 'kind', 'of', 'fashion', 'forward', 'clothing', \"won't\", 'appeal', 'to', 'you.', '\\\\n\\\\nAcne', 'Jeans?', 'check.\\\\nEndovenera?', 'check.\\\\nKsubi?', 'check.', '\\\\nNike?', 'check.', '\\\\n\\\\nCovet', 'starts', 'off', 'with', 'an', 'excellent', \"men's\", 'shoe', 'section,', '\\\\ncontinues', 'with', 'an', 'excellent', \"men's\", 'clothing', 'selection,', '\\\\nand', 'finishes', 'off', 'with', 'excellent', \"women's\", 'wear.', '\\\\n\\\\nIt', 'really', 'is', 'a', 'shame', 'if', 'you', \"haven't\", 'been', 'to', 'Covet', 'yet.', 'Do', 'yourself', 'a', 'serious', 'favor', 'and', 'support', 'a', 'small', 'business', 'at', 'the', 'same', 'time.\"', '\"Love,', 'love,', 'love!', 'Service', 'is', 'always', 'fabulous', 'and', 'every', 'dish', 'has', 'been', 'perfect.', 'The', 'local', 'cheese', 'plate', 'and', 'AZ', 'wine', 'selections', 'are', 'amazing.', 'I', 'think', 'between', 'the', '5', 'of', 'us', 'we', 'have', 'had', 'everything', 'on', 'the', 'menu,', 'and', 'it', 'was', 'all', 'delicious.', 'This', 'is', 'my', 'fave', 'place', 'in', 'the', 'country', 'right', 'now.', \"Can't\", 'wait', 'to', 'go', 'back', 'over', 'the', 'holidays!\"', '\"This', 'place', 'pushes', 'out', 'some', 'delicious', 'food,', 'Red', 'chile', 'burro', 'with', 'rice', 'and', 'beans', 'is', 'better', 'than', 'any', \"I've\", 'had,', 'and', 'their', 'Nachos', 'are', 'soooo', 'freaking', 'cheesey', 'and', 'good', \"you'll\", 'want', 'to', 'order', 'both', 'for', 'one', 'sitting.', 'Unfortunately', 'only', 'outside', 'seating', 'but', 'cool', 'art', 'work', 'on', 'the', 'building', 'to', 'enjoy', 'while', 'eating', 'and', \"don't\", 'be', 'discouraged', 'by', 'there', 'greedy', 'practice', 'of', 'charging', 'for', 'extra', 'hot', 'sauce.', 'But', 'of', 'all', 'things', 'to', 'remember', 'make', 'sure', 'you', 'bring', 'cash', 'the', 'place', \"can't\", 'afford', 'a', 'card', 'processing', 'machine', 'which', 'is', 'a', 'good', 'thing', 'other', 'wise', \"I'd\", 'be', 'there', 'too', 'often', 'and', 'a', 'fat', 'face', 'looks', 'weird', 'on', 'me\"', \"'My\", 'husband', 'and', 'I', 'have', 'been', 'going', 'here', 'for', 'a', 'few', 'years', 'now.', 'It', 'is', 'one', 'of', 'our', 'favorite', 'places.', 'Really', 'low', 'key,', 'affordable,', 'amazing', 'food!', 'Between', 'the', '2', 'of', 'us', 'our', 'bill', 'is', 'never', 'more', 'than', '$10', 'and', 'we', 'are', 'always', 'stuffed!', 'I', 'love', 'how', 'casual', 'it', 'is', 'and', 'the', 'humus', 'cannot', 'be', \"beat!'\", '\"I', 'came', 'here', 'after', 'receiving', 'a', 'free', 'pizza', 'at', 'a', 'Yelp', 'event.', 'Upper', 'Crust', 'had', 'some', 'of', 'the', 'best', 'food', 'at', 'the', 'event', 'so', 'I', \"couldn't\", 'wait', 'to', 'have', 'dinner', 'at', 'the', 'restaurant.', '\\\\n\\\\nMy', 'friend', 'and', 'I', 'came', 'here', 'on', 'a', 'Wednesday', 'and', 'were', 'pleasantly', 'surprised', 'it', 'was', '1/2', 'off', 'a', 'bottle', 'of', 'wine', 'day.', 'I', \"can't\", 'remember', 'exactly', 'which', 'wine', 'we', 'ordered,', 'but', 'it', 'was', 'a', 'Shiraz', 'and', 'it', 'was', 'good.', 'We', 'shared', 'a', 'happy', 'hour', 'appetizer', 'of', 'mild', 'wings', 'and', 'a', 'large', 'pepperoni', 'pizza', 'with', 'basil.', 'It', 'was', 'all', 'so', 'delicious!', '\\\\n\\\\nI', 'also', 'came', 'here', 'a', 'different', 'day', 'with', 'my', 'boyfriend', 'and', 'we', 'shared', 'the', 'meatballs', 'with', 'cheese', 'on', 'top', 'and', 'a', 'large', 'pizza', 'with', 'pepperoni,', 'sausage,', 'and', 'basil.', 'Again,', 'it', 'was', 'very', 'tasty!', '\\\\n\\\\n', 'Everyone', 'was', 'very', 'friendly', 'and', 'prompt.', 'I', 'will', 'be', 'back', 'to', 'Upper', 'Crust!\"', \"'Yes\", 'it', 'is', 'bad', 'for', 'you.', 'Yes', 'it', 'is', 'delicious.', 'Great', 'customer', 'service.', 'Clean,', 'fast', 'and', \"predictable.'\", \"'I\", 'love', 'pita', 'Jungle!', 'Everytime', 'I', 'am', 'in', 'town,', 'I', 'make', 'it', 'a', 'point', 'to', 'get', 'here.', 'The', 'food', 'is', 'fresh', 'and', 'healthy(ish).', 'There', 'ice', 'tea', 'comes', 'in', 'a', 'variety', 'of', 'wonderful', 'flavors', 'and', 'is', 'so', 'delicious.', 'I', 'would', 'recommend', 'you', 'eat', 'here,', 'especially', 'if', 'you', 'like', 'yummy', 'food', 'with', 'a', 'medditeranean', \"flare.'\", '\"I', 'love', 'the', 'girls', 'there.', 'I', 'get', 'my', 'eyebrows', 'done', 'every', 'two', 'weeks', 'and', 'I', 'get', 'my', 'nails', 'done', 'there', 'as', 'often', 'as', 'I', 'can.', 'Recently,', 'I', 'just', 'did', 'the', 'gel', 'nails', '(just', 'the', 'gel', 'polish', 'not', 'like', 'the', 'fake', 'nail', 'stuff)', 'and', 'I', 'LOVE', 'it.', 'I', \"can't\", 'tell', 'you', 'how', 'happy', 'I', 'am', 'that', 'I', 'did', 'it.', 'I', 'always', 'just', 'did', 'my', 'toes', 'because', \"I'd\", 'always', 'manage', 'to', 'goof', 'up', 'my', 'fingernails', 'in', 'the', 'first', 'hour', 'after', 'I', 'get', 'them', 'done-', 'but', 'with', 'gels,', 'you', \"can't\", 'do', 'that', 'because', 'after', \"they're\", 'put', 'under', 'the', 'UV', 'Light,', 'they', 'dry', 'immediately.', 'No', 'goof', 'ups!', 'Plus,', 'they', \"don't\", 'chip.', 'The', 'lady', 'said', \"they'd\", 'last', 'around', 'two', 'weeks.', \"I'm\", 'so', 'happy', 'with', 'them.', \"It's\", 'been', 'a', 'week', 'and', 'they', 'still', 'look', 'pretty', 'good.', ':)\"', '\"An', 'oasis', 'of', 'little', 'kid', 'fun', 'in', 'Phoenix,', 'we', \"hadn't\", 'been', 'in', 'over', 'a', 'year', 'and', 'came', 'for', 'a', 'birthday', 'party.', \"They're\", 'always', 'running', 'a', 'deal,', 'so', 'look', 'for', 'one', 'before', 'departing.', 'One', 'year', 'we', 'did', 'an', 'annual', 'pass.', 'It', 'was', 'a', 'good', 'deal.', 'There', 'are', 'also', 'lots', 'of', 'special', 'events', 'that', 'include', 'deals.', 'One', 'time', 'we', 'met', 'spiderman.\\\\n\\\\nThere', 'are', 'lots', 'of', 'rides,', 'mostly', 'for', 'shorter', 'kids.', 'Some', 'have', 'modest', 'height', 'requirement', 'that', 'exclude', 'the', 'very', 'young', 'and', 'some', 'that', 'exclude', 'the', 'tall.', \"There's\", 'a', 'train,', 'carousel,', 'mini-coaster,', 'tea', 'cup', 'ride,', 'an', 'up', 'and', 'down', 'parachute', 'ride,', 'several', 'rides', 'that', 'go', 'in', 'circles', 'in', 'different', 'vehicles', '(e.g.,', 'planes,', 'cars,', 'and', 'helicopters', 'and', 'futuristic', 'flying', 'machines),', 'and', 'a', 'bumper', 'boats', 'ride', 'that', 'turns', 'into', 'a', 'splash', 'pad', 'in', 'the', 'summer.', 'Determining', 'whether', 'the', 'adults', 'need', 'a', 'wrist', 'band', 'or', 'tickets', 'is', 'always', 'a', 'little', 'tricky', 'as', 'adults', 'are', 'needed', 'on', 'some', 'rides,', 'but', 'not', 'others,', 'and', 'it', 'also', 'depends', 'on', 'the', 'age', 'of', 'the', 'child.', 'The', 'place', 'has', 'a', 'little', 'bit', 'of', 'a', 'rundown', 'feel,', 'but', 'kids', \"don't\", 'notice', 'and', 'have', 'loads', 'of', 'fun.', 'The', 'arcade', 'is', 'really', 'rundown,', 'but', 'the', 'ATM', 'is', 'really', 'nice.', 'There', \"isn't\", 'much', 'shade,', 'so', 'be', 'prepared.', 'All', 'of', 'the', 'staff', 'are', 'really', 'nice.\\\\n\\\\nThere', 'are', 'usually', 'a', 'few', 'game', 'and', 'art', 'vendors', 'about:', 'ball', 'toss', 'game,', 'sand', 'art,', 'and/or', 'face', 'painting.', 'All', 'are', 'a', 'big', 'hit', 'with', 'the', 'kids,', 'but', 'also', 'hit', 'up', 'the', 'wallet', 'for', 'a', 'few', 'bucks', 'a', 'piece.', 'Everyone', 'is', 'a', 'winner', 'at', 'ball', 'toss,', 'by', 'the', 'way.\"', '\"Took', 'us', 'a', 'while', 'to', 'find', 'a', 'good', 'Greek', 'restaurant.', 'We', 'have', 'been', 'here', 'many', 'times', 'and', 'have', 'yet', 'to', 'have', 'a', 'bad', 'meal.\\\\n\\\\nGyro', 'combo', 'this', 'trip.', 'Meat', 'was', 'very', 'flavorful', 'and', 'great', 'texture.', 'Tzatziki', 'sauce', 'is', 'one', 'of', 'the', 'best', \"I've\", 'tasted.\"', '\"Sushi', 'ken', 'I', 'love', 'you', 'so', 'much,', 'I', \"don't\", 'even', 'know', 'where', 'to', 'start!', \"It's\", 'about', 'time', 'I', 'write', 'a', 'review.', 'This', 'place', 'in', 'my', 'opinion', 'is', 'the', 'best', 'quality', 'for', 'largest', 'portion', 'size', 'in', 'the', 'valley.\\\\n', 'Let', 'me', 'just', 'say', 'now', 'that', 'if', 'are', 'one', 'those', 'people', 'who', 'A.', 'Like', 'California', 'rolls', 'B.', 'like', 'spicy', 'whatever', 'rolls', 'C.', 'Want', 'to', 'go', 'somewhere', 'trendy', 'and', 'have', 'sake', 'bombers', 'then', 'this', 'is', 'NOT', 'the', 'place', 'for', 'you,', 'please', 'just', \"don't\", 'come', 'and', 'spare', 'me', 'your', 'stupid', 'review,', 'just', 'go', 'to', 'Ra', 'or', 'Stingray', 'or', 'somewhere', 'like', 'that.\\\\nMy', 'husband', 'and', 'I', 'eat', 'here', 'a', 'least', 'every', 'couple', 'of', 'weeks,', 'I', 'feel', 'like', 'the', 'staff', 'is', 'our', 'family.', 'They', 'are', 'very', 'nice', 'and', 'polite.', 'A', 'lot', 'of', 'families', 'here,', 'restaurant', 'is', 'decorated', 'simply.', '\\\\nNigeri', 'and', 'sashimi', 'are', 'very', 'good.', 'UNI', 'here', 'is', 'amazing!', 'Yellow', 'tail', 'belly', 'is', 'awesome', 'also', 'love', 'the', 'seaweed', 'salad.\\\\nFrom', 'the', 'regular', 'menu', 'I', 'love', 'the', 'yellow', 'tail', 'Kama', 'and', 'the', 'cold', 'soba', 'bowl.\\\\nI', 'also', 'really', 'like', 'that', 'they', 'are', 'open', '7', 'days', 'a', 'week', 'pretty', 'late', 'since', 'most', 'places', 'in', 'AZ', 'close', 'at', 'like', '9.\"', \"'Best\", 'BBQ', 'ever.', 'Go', 'here', 'and', 'thank', 'me', \"later.'\", '\"There', 'are', 'many', 'places', 'in', 'the', 'valley', 'and', 'its', 'surrounding', 'cities', 'to', 'eat', 'Mexican', 'food;', 'however,', 'there', 'is', 'one', 'and', 'only', 'La', 'Canasta.\\\\n\\\\nIn', 'the', 'last', 'two', 'years', 'the', 'boyfriend', 'and', 'I', 'have', 'eaten', 'at', 'this', 'restaurant', 'location', 'quite', 'often.', 'For', 'the', 'money,', 'you', 'get', 'exactly', 'what', 'you', 'pay', 'for:', 'a', 'decent', 'meal', 'and', 'generous', 'portions.\\\\n\\\\nThe', 'chips', 'and', 'salsa', 'are', 'ever-flowing', 'and', 'the', 'salsa', 'is', 'some', 'of', 'the', 'best', \"I've\", 'tasted.\\\\n\\\\nThe', 'wait', 'staff', 'are', 'generally', 'pleasant,', 'attentive', 'and', 'very', 'accommodating.', 'Plus', 'they', 'frequently', 'recall', 'what', 'you', 'had', 'during', 'your', 'previous', 'visits.', 'I', 'recommend', 'you', 'try', 'the', 'Machaca', 'dinner', 'or', 'my', \"boyfriend's\", 'favorite', 'dish,', 'the', 'number', '5', 'lunch', 'special.\\\\n\\\\nThere', 'are', 'multiple', 'locations', 'in', 'the', 'valley,', 'but', 'this', 'one', 'beats', 'them', 'all', 'hands', 'down.\"', \"'I\", 'do', 'a', 'lot', 'of', 'traveling', 'and', 'during', 'a', 'quick', 'trip', 'to', 'Phoenix,', 'I', 'was', 'able', 'to', 'get', 'two', 'classes', 'in', 'at', 'their', 'studio.', 'It', 'was', 'very', 'clean', 'and', 'the', 'people', 'were', 'friendly.', 'I', 'did', 'think', 'the', 'studio', 'was', 'excessively', 'hot', 'my', 'second', 'class', 'but', 'everyone', 'else', 'seemed', 'to', 'be', 'ok', 'with', 'it', 'so', 'perhaps', 'it', 'was', 'just', 'me.', '\\\\n\\\\nI', 'would', 'defiantly', 'return', 'if', 'I', 'were', 'in', 'the', 'area', \"again.'\", '\"Evil', \"Place!!!\\\\n\\\\nThat's\", 'right..', 'I', 'walked', 'in', 'there', 'and', 'I', 'couldnt', 'believe', 'it.', 'The', 'people', 'were', 'nice', 'to', 'me,', 'asking', 'me', 'if', 'I', 'needed', 'help', 'and', 'by', 'the', 'end', 'of', 'the', 'day,', 'i', 'had', 'a', 'new', 'kitten!\\\\n\\\\nAll', 'joking', 'aisde,', 'I', 'love', 'this', 'place.', 'I', 'know', 'you', 'can', 'buy', 'food', 'and', 'other', 'things', 'cheaper', 'at', 'grocery', 'stores,', 'but', 'I', 'kinda', 'like', 'a', 'specialty', 'store', 'like', 'Petsmart.', 'The', 'staff', 'is', 'great', 'and', 'anything', 'you', 'need', 'they', 'are', 'more', 'than', 'willing', 'to', 'help', 'out.\\\\n\\\\nTo', 'this', 'day', 'I', 'have', 'purchased', 'two', 'cats', 'here', 'and', 'both', 'are', 'still', 'awesome', 'and', 'amazing.', 'The', 'last', 'kitten', 'my', 'girlfriend', 'actually', 'picked', 'up', 'and', 'when', 'I', 'went', 'in', 'there', 'to', 'pick', 'up', 'some', 'food,', 'they', 'remembered', 'which', 'kitten', 'we', 'got.', 'Apparently', 'she', 'was', 'among', 'the', 'favorites', 'that', 'was', 'adopted.', '\\\\n\\\\nYou', 'want', 'good', 'service', 'and', 'a', 'great', 'place', 'for', 'your', 'pets..', 'Petsmart', 'is', 'the', 'best!\"', '\"I', 'love', \"guerrero's!\", 'I', 'worked', 'in', 'Mesa', '15', 'years', 'ago', 'and', 'we', 'did', 'burrito', 'runs', 'here', 'all', 'the', 'time.', \"I'm\", 'a', 'huera,', 'but', 'my', 'Hispanic', 'pals', 'all', 'rated', 'this', 'place', 'authentic.', \"It's\", 'a', 'husband', 'and', 'wife', 'team', 'that', 'runs', 'it.', 'The', 'best', 'thing', 'are', 'the', 'beans', '-', 'incidentally,', \"that's\", 'how', 'I', 'rate', 'the', 'authenticity', 'of', 'Mexican', 'fare-', 'They', 'are', 'the', 'kind', 'of', 'beans', 'I', 'ate', 'in', 'Nogales', 'during', 'college', '(at', 'a', 'place', 'I', 'could', 'only', 'locate', 'while', 'intoxicated).', 'Thinner,', 'lighter', 'colored,', 'and', 'delicious', 'compared', 'to', 'any', \"I've\", 'EVER', 'had', 'this', 'side', 'of', 'the', 'border.', 'I', 'live', 'in', 'PV', 'now-', 'super', 'far', '-', 'but', 'after', 'this', 'I', 'think', \"I'm\", 'gonna', 'have', 'to', 'take', 'a', 'road', 'trip', 'tomorrow', 'to', 'Mesa!', 'Yum!\"', \"'I\", 'love', 'the', 'Superstition', 'Mountains!', 'It', 'is', 'the', 'most', 'convenient', 'place', 'to', 'get', 'away', 'from', 'it', 'all.', 'The', 'last', 'time', 'I', 'was', 'there', 'I', 'hiked', 'Siphon', 'Draw', 'up', 'to', 'the', 'Flat', 'Iron.', 'There', 'were', 'a', 'lot', 'of', 'people', 'on', 'the', 'trail', 'but', 'I', 'still', 'felt', 'like', 'I', 'was', 'in', 'the', 'wilderness.', 'Camping', 'sites', 'fill', 'up', 'fast', 'here,', 'so', 'I', 'would', 'recommend', 'checking', 'out', 'the', 'Canyon', 'Lake', 'area', 'as', 'it', 'is', 'close', 'and', 'a', 'pretty', \"drive.'\", '\"I', 'have', 'never', 'had', 'BBQ', 'in', 'the', 'South,', 'Texas,', 'or', 'anywhere', 'outside', 'of', 'California', '(except', 'Bobby', 'Q),', 'but', 'of', 'all', 'the', 'places', \"I've\", 'tried,', 'Bobby', 'Q', 'is', 'my', 'current', 'favorite', 'BBQ', 'place', 'EVER!', 'I', 'found', 'this', 'place', 'on', 'Yelp', 'and', 'came', 'here', 'while', 'on', 'a', 'trip', 'to', 'Arizona.', 'The', 'place', 'was', 'pretty', 'crowded', 'but', 'we', 'only', 'waited', 'about', '15-20', 'minutes.', 'We', 'ordered', 'babyback', 'ribs,', 'St.', 'Louis', 'ribs,', 'corn,', 'and', 'mac&cheese.', 'They', 'also', 'give', 'you', 'DELICIOUS', 'AMAZING', 'CORNBREAD!\\\\n\\\\nEverything', 'was', 'excellent.', 'The', 'St.', 'Louis', 'ribs', 'were', 'the', 'best', 'ribs', 'I', 'have', 'ever', 'had.', 'They', 'were', 'extremely', 'tender', 'and', 'had', 'a', 'nice', 'flavorful', 'bark', 'on', 'the', 'outside', 'with', 'dark', 'grill', 'marks.', 'Their', 'BBQ', 'sauce', 'was', 'equally', 'awesome', 'and', 'the', 'kind', 'I', 'like', '--', 'a', 'bit', 'more', 'on', 'the', 'sweeter', 'side,', 'less', 'on', 'the', 'vinegary', 'side.', 'The', 'babyback', 'ribs', 'were', 'also', 'tasty,', 'but', 'not', 'as', 'flavorful', '(and', 'less', 'meat', 'of', 'course)', 'than', 'the', 'St.', 'Louis', 'ones.', 'The', 'sides', 'were', 'good', 'but', 'more', 'forgettable', 'due', 'to', 'the', 'sheer', 'perfection', 'of', 'their', 'ribs.\\\\n\\\\nI', \"don't\", 'know', 'if', 'I', 'will', 'ever', 'be', 'in', 'Phoenix', 'again,', 'but', 'this', 'place', 'is', 'a', 'must-return', 'if', 'I', 'ever', 'am.', 'Oh', 'and', 'at', 'the', 'end', 'of', 'the', 'meal,', 'they', 'gave', 'us', 'complimentary,', 'piping', 'hot', 'FRESH', 'cinnamon', 'donuts!', 'That', 'double-won', 'me', 'over.', 'I', 'want', 'Bobby', 'Q', 'right', 'now.\"', '\"I', 'am', 'sad', 'that', \"Lucky's\", 'is', 'so', 'far', 'from', 'where', 'we', 'live.', 'I', 'worked', 'near', \"Lucky's\", 'last', 'year', 'and', 'just', 'happened', 'to', 'walk', 'in', 'for', 'lunch.', 'My', 'lunch', 'was', 'so', 'good', 'I', 'took', 'a', 'huge', 'meat', 'lovers', 'pie', 'home,', 'which', 'was', 'so', 'good', 'my', 'husband', 'proposed', 'all', 'over', 'again!\\\\n\\\\nThe', 'employees', 'were', 'so', 'friendly', 'and', 'explained', 'that', 'their', 'pizza', 'might', 'take', 'a', 'little', 'longer', 'than', 'normal,', 'but', 'they', 'want', 'to', 'make', 'sure', \"it's\", 'right.', 'I', 'loved', 'everything', 'about', 'my', 'visit', 'there,', 'and', 'was', 'able', 'to', 'stop', 'in', 'a', 'couple', 'more', 'times', 'throughout', 'the', 'year.', \"It's\", 'about', 'an', 'hour', 'drive', 'from', 'where', 'I', 'live,', 'but', 'the', 'more', 'I', 'think', 'about', 'it,', 'I', 'think', \"we're\", 'going', 'to', 'have', 'to', 'go', 'get', 'some', 'more', \"Lucky's\", 'pizza.', 'Great', 'neighborhood', 'pizza', 'place!\"', '\"Rarely', 'crowded.', '4', 'tables', 'indoors,', 'many', 'more', 'outdoors.', 'Wifi', 'is', 'usually', 'fast.', 'Only', 'downside', 'is', 'that', \"it's\", 'next', 'to', 'a', 'gas', 'station,', 'so', 'the', 'visuals', 'out', 'the', 'window', \"aren't\", 'exactly', 'spectacular.', 'But', 'if', 'you', 'care', 'about', 'that,', 'why', 'are', 'you', 'in', 'Scottsdale?\"', '\"Attended', 'the', 'Pink', 'charity', 'event', 'at', 'the', 'Shade', 'bar.', 'Great', 'time', 'and', 'the', 'scene', 'was', 'fantastic.\\\\n\\\\nNeed', 'to', 'highlight', 'the', 'job', 'that', 'Jason', 'and', 'Halley', 'do', 'with', 'VIP', 'tables.', \"I've\", 'worked', 'with', 'both', 'of', 'them', 'twice', 'now', 'and', 'the', 'experience', 'is', 'always', 'top', 'notch.', 'Always', 'ensure', 'that', 'the', 'experience', 'is', 'better', 'than', 'expected.\"', '\"I', \"can't\", 'add', 'much', 'to', 'what', 'has', 'already', 'been', 'said....BUT', \"I'll\", 'try,', 'haha!\\\\n\\\\nUm,', \"don't\", 'come', 'here', 'without', 'a', 'map,', 'or', 'some', 'sort', 'of', 'gps', 'device', '(NOTE:', 'some', 'spots', 'in', 'the', 'mountain', 'do', 'not', 'get', 'good', 'reception,', 'so', 'a', 'map', 'on', 'your', 'phone', 'may', 'not', 'always', 'fully', 'come', 'in).', 'It', 'is', 'VERY', 'easy', 'to', 'get', 'lost!\\\\n\\\\nThere', 'are', 'many', 'trails,', 'I', 'look', 'forward', 'to', 'getting', 'to', 'know', 'them', 'better.', 'So', 'far,', 'all', 'I', 'have', 'really', 'done', 'is', 'Mormon', 'Trail', 'and', 'the', 'Hidden', 'Valley', 'Loop.....Fat', \"Man's\", 'pass', 'is', 'probably', 'my', 'most', 'favorite', 'spot...OH!', 'AND', 'there', 'are', 'some', 'really', 'cool', 'rock', 'formations', 'on', 'the', 'way', 'there', '(including', 'a', 'natural', 'tunnel)', 'look', 'for', 'the', 'rock', 'that', 'looks', 'like', 'a', 'big', 'mushroom!\\\\n\\\\nThis', 'is', 'a', 'good', 'area', 'to', 'do', 'a', 'hike', 'in', 'the', 'dark....but', \"don't\", 'do', 'it', 'until', \"you've\", 'done', 'the', 'trail', 'a', 'couple', 'times', 'in', 'daylight.', 'You', 'can', 'see', 'what', 'seems', 'like', 'the', 'whole', 'valley', 'from', 'up', 'there!', 'If', 'you', 'do', 'the', 'night', 'hike,', 'make', 'sure', 'the', 'moon', 'is', 'full.....you', 'can', 'actually', 'see', 'pretty', 'well', 'with', 'that', 'and', 'the', 'city', 'lights.', 'Plus,', \"it's\", 'GORGEOUS!', '(if', 'you', 'did', 'mormon', 'trail', 'at', 'night,', 'you', 'could', 'start', 'about', 'an', 'hour', 'before', 'sunset,', 'then', 'head', 'back', 'as', 'the', 'sun', 'goes', \"down)\\\\n\\\\nDon't\", 'forget', 'water,', 'it', 'is', 'a', 'moderate', 'level', 'hike.....and', 'flashlights', 'would', 'be', 'a', 'good', 'idea', 'too,', 'just', 'in', 'case', ':)\"', '\"When', 'Hoa', 'called', 'and', 'said', 'we', 'were', 'having', 'a', 'reunion', 'of', 'former', 'branch', 'employees', 'at', 'a', 'Chinese', 'buffet,', 'I', \"wasn't\", 'at', 'all', 'apprehensive.', 'My', 'normal', 'concerns', 'with', 'such', 'eateries--will', 'the', 'food', 'be', 'maintained', 'at', 'a', 'proper', 'food-safe', 'temperature,', 'is', 'this', 'seafood', 'fresh,', 'how', 'long', 'has', 'the', 'sushi', 'been', 'sitting', 'out,', 'will', 'I', 'be', 'able', 'to', 'make', 'it', 'home', 'before', 'my', 'intestines', 'rupture--dissipated', 'because', 'Hoa', 'knows', 'good', 'Asian', 'cuisine.', 'She', 'is,', 'of', 'course,', 'born', 'to', 'Vietnam', 'and', 'world', 'traveled.', \"\\\\n\\\\nLet's\", 'start', 'with', 'my', 'happiest', 'aspect', 'about', 'HKGB:', 'the', 'sushi.', 'No,', \"it's\", 'not', 'the', 'best', 'sushi', 'in', 'the', 'Valley,', 'but', 'they', 'make', 'it', 'fresh', 'for', 'you', 'on', 'site.', 'You', 'can', 'stand', 'there', 'and', 'watch', 'it', 'being', 'make,', 'grab', 'a', 'soup', 'or', 'something', 'else', 'to', 'munch', 'on,', 'or', 'just', 'sit', 'at', 'your', 'table', 'and', 'chat', 'awhile.', 'Afterwards,', 'you', 'can', 'head', 'back', 'for', 'more', 'sushi', 'or', 'veer', 'over', 'to', 'the', 'more', 'traditional', 'offerings', 'of', 'a', 'Chinese', 'buffet:', 'sweet', 'and', 'sour', 'chicken,', 'fried', 'rice,', 'crab', 'legs.', '\\\\n\\\\nNow', \"let's\", 'review', 'the', 'not-so-shiny', 'aspect:', 'the', 'price.', 'Yes,', 'it', 'seems', 'a', 'little', 'steep', 'that', 'we', 'paid', 'about', '$25', 'per', 'person', 'with', 'tip', '(and', 'I', 'made', 'only', 'two', 'rounds)', 'but', 'when', 'you', 'factor', 'in', 'the', '2', 'hours', 'we', 'spent', 'there,', 'grazing,', 'catching', 'up,', 'grazing,', 'passing', \"Lisette's\", 'daughter', 'around,', 'grazing', 'and', 'making', 'plans', 'to', 'keep', 'in', 'touch,', \"it's\", 'really', 'not', 'such', 'an', 'outrageous', 'amount', 'to', 'pay.', '\\\\n\\\\nIf', 'you', 'find', 'yourself', 'in', 'this', 'part', 'of', 'town,', 'craving', 'Chinese', 'and', 'are', 'wicked', 'crazy', 'hungry,', 'give', 'HKGB', 'a', 'shot.\"', \"'LOVE\", 'Chino', 'Bandido.', 'The', 'snickerdoodle', 'cookie', 'they', 'give', 'you', 'with', 'your', 'meal', 'is', 'heaven.', 'Well,', 'all', 'of', 'the', 'food', 'might', 'actually', 'be', 'heaven,', 'but', 'usually', 'by', 'the', 'time', 'I', 'get', 'to', 'the', 'snickerdoodle', 'I', 'could', 'die', 'happy', 'on', 'the', \"spot.'\", \"'I\", 'pride', 'myself', 'on', 'being', \"\\\\'that\", \"girl\\\\'\", 'that', 'tries', 'out', 'every', 'restaurant', 'I', 'come', 'across.', \"It\\\\'s\", 'practically', 'a', 'hobby', 'for', 'me.', 'For', 'YEARS', 'I', 'kept', 'saying,', '\"I', 'want', 'to', 'go', 'to', 'Cowboy', 'Ciao\"', 'but', 'we', 'never', 'made', 'it.', 'Then,', 'thankfully,', 'the', \"hubs\\\\'\", 'best', 'friend', 'had', 'a', 'big', 'birthday', 'dinner', 'there,', 'so', 'we', 'just', 'HAD', 'to', 'go.', '(Thank', 'you', \"hubs\\\\'\", 'best', 'friend!)\\\\n\\\\nI', 'have', 'to', 'say', 'that', 'the', 'service', 'was', 'incredible,', 'and', 'the', 'menu', 'was', 'almost', 'overwhelming.', 'There', 'were', 'SO', 'many', 'interesting', 'choices,', 'but', 'I', 'had', 'to', 'stick', 'to', 'the', 'tried', 'and', 'true', 'chopped', 'salad', '-', 'everyone', 'and', 'their', 'mother', 'has', 'told', 'me', 'about', 'this', 'salad,', 'and', 'I', \"wasn\\\\'t\", 'about', 'to', 'miss', 'out.', 'The', 'hubs', 'ordered', 'the', 'Tenderbelly', 'Pork', 'Shank.', '\\\\n\\\\nThe', 'chopped', 'salad', 'has', 'earned', 'its', 'reputation.', 'That', 'thing', 'is', 'de-freaking-licious.', 'The', 'Pork', 'Shank', 'dish', 'was', 'fabulous', 'as', 'well,', 'but', 'I', \"couldn\\\\'t\", 'get', 'over', 'how', 'great', 'the', 'salad', 'was!', 'AND', 'the', 'server', 'always', 'came', 'over', 'to', 'make', 'sure', 'that', 'my', 'wine', 'glass', 'was', 'never', 'empty.', 'Seriously,', 'can', 'it', 'get', 'any', 'better?\\\\n\\\\nFor', 'dessert', 'we', 'ordered', 'the', 'spumoni-', 'I', 'have', 'had', 'better', '(no', 'offense)', 'but', \"I\\\\'m\", 'not', 'sure', 'anything', 'served', 'after', 'that', 'salad', 'would', 'have', 'made', 'me', 'happy', \":)\\\\n\\\\nI\\\\'m\", 'very', 'glad', 'we', 'finally', 'made', 'it', 'to', 'Cowboy', 'Ciao', 'and', 'I', 'look', 'forward', 'to', 'going', 'back', '-', \"SOON!'\", '\"The', 'facility', 'is', 'a', 'bit', 'dated,', 'but', 'the', 'service', 'is', 'great.', 'Dr.', 'Rios', 'is', 'patient', 'and', 'thorough,', 'and', 'his', 'staff', 'are', 'friendly', 'and', 'efficient.', 'Dr.', 'Rios', 'gave', 'me', 'several', 'different', 'alternative', 'contacts', 'to', 'try', 'in', 'order', 'to', 'make', 'sure', 'that', 'I', 'was', 'getting', 'the', 'right', 'fit', 'for', 'me', '-', 'it', 'made', 'a', 'big', 'difference.', 'Who', 'knew', 'that', 'they', 'make', 'bi-focal', 'contacts', 'now?', \"They're\", 'great.\"', \"'Went\", 'wed', 'nite,', 'wife', 'tells', 'me', 'best', 'gnocchi', 'since', 'Europe,', 'were', 'cooked', 'perfectly', '.', 'I', 'had', 'pollo', 'erbe,', 'terrific.\\\\n\\\\n', '\"', 'wine', 'tasting', 'director\"', 'very', 'good,', 'with', 'tasty', 'selections.', 'Will', 'be', 'back,', 'OFTEN.', 'Highly', 'recommend.', 'Rich', \"D'\", \"'Our\", 'family', 'have', 'used', 'this', 'Discount', 'Tire', 'for', '11', 'years', 'now.', 'Amazing', 'service', 'and', 'warranty', 'on', 'tires.', 'Thank', \"you!'\", '\"I', \"can't\", 'think', 'of', 'a', 'better', 'Thai', 'rest.', 'In', 'PHX.', 'Consistently', 'good', 'food', 'and', 'service.', 'They', 'have', 'Thai', 'staples', 'like', 'rice', 'paper', 'rolls,', 'Tom', 'Ka', 'Gai', 'and', 'Pad', 'Thai', 'as', 'well', 'as', 'more', 'creative', 'items', 'such', 'as', 'Crispy', 'Mango', 'Fish.', 'Average', 'Thai', 'food', 'pricing,', 'free', 'parking.', 'There', 'are', 'a', 'good', 'number', 'of', 'tables,', 'so', \"don't\", 'let', 'a', 'short', 'line', 'dissuade', 'you.', 'Like', 'any', 'rest.,', 'scope', 'your', 'table', 'before', 'you', 'sit', 'to', 'be', 'sure', 'it', 'suits', 'your', 'mood.', 'Boisterous', 'din', 'in', 'the', 'main', 'room', 'when', 'busy.\"', \"'The\", 'new', 'Harkins', 'Cine', 'Capri,', 'one', 'of', 'the', 'first', 'things', 'to', 'open', 'in', 'Tempe', 'Marketplace,', 'boasts', '16', 'theatres', 'and', 'offers', 'more', 'than', 'the', 'norm', 'when', 'it', 'comes', 'to', 'movie', 'snacks.', 'Moviegoers', 'can', 'order', 'brownie', 'bites,', 'mozzarella', 'sticks', 'and', 'pizza.\\\\n\\\\nThe', 'theatre', 'is', 'super', 'spacious', 'and', 'the', 'seats', 'are', 'plush', 'and', 'comfy.', 'And', 'the', 'screen', 'is', 'huge.', 'This', 'is', 'my', 'new', 'favorite', 'movie', \"theatre.'\", '\"Postinos', 'a', 'spot', 'for', 'high', \"rollin'\", 'winos.', '\\\\n\\\\nYou', 'woke', 'up', 'at', 'noon', 'and', 'had', 'breakfast', 'during', 'lunchtime,', 'so', 'the', 'next', 'logical', 'step', 'is', 'to', 'have', 'lunch', 'food', 'during', 'dinner', 'time,', 'with', 'some', 'wine.', 'This', 'is', 'where', \"postino's\", 'comes', 'in.', '\\\\n\\\\nThe', 'menu', 'is', 'full', 'of', 'salads,', 'Paninis,', 'bruschetta', 'and', 'a', 'few', 'apps.', 'There', 'is', 'a', 'large', 'by', 'the', 'glass', 'wine', 'menu', '($8-$14)', 'and', 'hipster', 'cool', 'ambiance.', '\\\\n\\\\nService', 'here', 'is', 'great,', 'the', 'patio', 'is', 'quite', 'nice', 'with', 'heaters,', 'a', 'fire', 'place', 'and', 'even', 'a', 'few', 'patio', 'furniture', 'loungers.', 'Great', 'for', 'a', 'date,', 'hanging', 'with', 'friends', 'and', 'conversation.\\\\n\\\\nWe', 'started', 'with', 'the', 'Bella', 'Postino', '$9', 'Crustini', 'with', 'a', 'artichoke', 'dip', 'and', 'a', 'hummus.', 'The', 'artichoke', 'dip', 'was', 'great', 'as', 'any', 'fat', 'laden', 'dip', 'would', 'be.', 'The', 'humus', 'was', 'ok', 'but', 'I', 'am', 'a', 'hummus', 'snob.\\\\n\\\\nFor', 'our', 'main', 'we', 'had', 'the', 'Vegetarian', 'Panini', '($9.75)', 'It', 'was', 'good', 'and', 'moist', 'with', 'hummus', 'roasted', 'tomatoes', 'olives', 'and', 'an', 'artichoke', 'spread,', 'the', 'focaccia', 'bread', 'was', 'well', 'toasted', 'from', 'the', 'Panini', 'press.\\\\n\\\\nWe', 'also', 'had', 'the', 'mediterranean', 'salad', '8.75', 'which', 'is', 'a', 'romaine', 'salad', 'with', 'copious', 'amounts', 'of', 'feta.', 'Pretty', 'good', 'as', 'I', 'do', 'like', 'cheese', 'but', 'maybe', 'not', 'as', 'healthy', 'as', 'one', 'would', 'want', 'from', 'a', 'salad.\\\\n\\\\nFor', 'desert', 'we', 'had', 'a', 'crem', 'burle,', 'simple', 'not', 'to', 'sweet', 'and', 'well', 'executed', 'a', 'classic.\"', '\"Soooo', 'this', 'location', 'is', 'even', 'better', 'than', 'the', 'one', 'in', 'Superstition', 'Springs.', 'They', 'also', 'have', 'a', 'play', 'place,', 'which', 'is', 'pretty', 'cool.', 'I', 'ordered', 'the', 'deluxe', 'chicken', 'and', 'it', 'was', 'simply', 'amazing.', 'Fantastic', 'service', 'as', 'well.', 'I', 'ordered', 'and', 'set', 'my', 'stuff', 'down', 'and', 'within', 'a', 'couple', 'minutes', 'my', 'food', 'was', 'brought', 'out', 'to', 'me', 'with', 'a', 'smile.', 'Very', 'polite', 'staff,', 'and', 'delicious', 'food....', 'what', 'more', 'could', 'one', 'ask', 'for?', 'I', 'totally', 'wish', 'Chick-fil-A', 'would', 'sell', 'thier', 'Chick-fil-A', 'sauce', 'by', 'the', 'bottle', 'cuz', \"it's\", 'sooo', 'good\"', '\"Just', 'because', 'i', 'feel', 'like', 'doing', 'something', 'different.', \":P\\\\ni'm\", 'just', 'going', 'to', 'paste', 'some', 'song', 'lyrics', 'that', 'i', 'feel', 'sum', 'up', 'Pei', 'Wei', 'on', 'McDowell...\\\\n\\\\nTruth', 'is', 'here', 'the', 'truth', 'is', 'here\\\\nTruth', 'is', 'here', 'the', 'truth', 'is', 'here\\\\nTruth', 'is', 'here', 'the', 'truth', 'is', 'here\\\\nI', 'said', 'the', 'truth', 'is', 'here', 'the', 'truth', 'is', 'here\\\\n\\\\nI', 'want', 'more\\\\nGive', 'me', 'more\\\\nWe', 'want', 'more\\\\nGod', 'damn', 'it', \"I'm\", 'back', 'to', 'demand', 'we', 'get', 'more\\\\nWe', 'want', 'more\\\\nI', 'want', 'more', 'and', 'more', 'and', 'more\\\\nI', 'want', 'more\\\\nWe', 'need', 'more\\\\nI', 'want', 'more\\\\nGod', 'damn', 'it', \"I'm\", 'back', 'to', 'demand', 'we', 'get', 'more\\\\nGive', 'me', 'more\\\\nI', 'want', 'more', 'and', 'more', 'and', 'more\\\\n\\\\n[Verse', '1:]\\\\nI', 'stand', 'here', 'naked', 'as', 'the', 'day', 'I', 'was', 'born\\\\nFace', 'to', 'the', 'dawn', 'and', 'my', 'faith', 'in', 'the', 'song\\\\nBlood', 'soaking', 'the', 'pages', 'I', 'painted', \"em'\", 'on\\\\nAnd', 'none', 'of', \"ya'll\", 'will', 'take', 'my', 'place', 'when', \"I'm\", \"gone\\\\nI'm\", 'the', 'pure', 'raw', 'uncut,', 'who', 'the', 'fuck', 'want', 'what\\\\nHere', 'to', 'show', 'you', 'sucker', 'ass', 'mutts', \"what's\", 'the', 'fucks', 'what\\\\nBrother', 'Ali', 'vow', 'solemnly', 'not', 'to', 'die', 'while', 'the', 'music', 'is', 'still', 'inside', 'of', \"me\\\\nIt's\", 'got', 'to', 'be', 'allowed', 'to', 'breathe\\\\nGot', 'to', 'let', 'it', 'out', 'enough', 'at', 'least', 'to', 'let', 'the', 'monster', 'flee\\\\nI', 'want', 'more', 'than', 'what', 'your', 'offering', 'me\\\\nSongs', 'that', 'make', 'me', 'feel', 'like', \"I'm\", 'already', \"free\\\\nI'm\", 'a', 'rebel', 'in', 'my', 'own', \"right\\\\nYa'll\", \"don't\", 'want', 'to', 'write', 'or', 'think', 'or', 'speak', 'a', 'rhyme', 'standing', 'next', 'to', 'me\\\\nWhen', 'the', 'game', 'need', 'it', \"I'm\", 'exactly', 'what', 'it', 'need\\\\nPut', 'the', 'soul', 'in', 'the', 'speech,', 'let', 'it', 'go,', 'let', 'it', 'be\\\\n\\\\n[Chorus:', 'x2]\\\\nI', 'want', 'more\\\\nWe', 'need', 'more\\\\nI', 'want,', 'god', 'damn', 'it', \"I'm\", 'back', 'to', 'demand', 'we', 'get', 'more\\\\nGive', 'me', 'more\\\\nI', 'want', 'more', 'and', 'more', 'and', 'more\\\\n\\\\nI', 'said', 'the', 'truth', 'is', 'here', 'the', 'truth', 'is', 'here\\\\nTruth', 'is', 'here', 'the', 'truth', 'is', 'here\\\\nTruth', 'is', 'here', 'the', 'truth', 'is', 'here\\\\nTruth', 'is', 'here', 'the', 'truth', 'is\\\\n\\\\n[Verse', '2:]\\\\nNot', 'nearly', 'a', 'single', 'solitary', 'soul\\\\nStill', 'put', 'the', 'kind', 'of', 'passion', 'to', 'the', 'mic', 'that', 'I', 'hold\\\\nOne', 'day', \"it'll\", 'have', 'to', 'be', 'pried', 'from', 'my', 'cold', 'dead', 'hand\\\\nUntil', 'then', 'the', 'big', 'man', 'is', 'gold\\\\nGot', 'one', 'lone', 'reason', 'to', 'go', 'on', 'breathing\\\\nClimb', 'into', 'the', 'zone', 'of', 'the', 'evening,', 'keep', 'reaching\\\\nJust', 'to', 'pull', 'more', 'out', 'the', 'core', 'of', 'the', 'deamon\\\\nThe', 'people', 'need', 'to', 'see', 'them', 'pure', 'human', 'being\\\\nBlood,', 'sweat,', 'love,', 'hate,', 'life,', 'death,', 'joy,', 'pain\\\\nLittle', 'child', 'running', 'wild', 'striped', 'to', 'the', 'raw', 'veins\\\\nRugged', 'junkyard', 'dog', 'off', 'the', 'chain,', 'barefoot', 'balls', 'out', 'marching', 'in', 'the', 'rain\\\\nSacred', 'war', 'dance', 'suspended', 'in', 'the', 'moment\\\\nWe', 'throw', 'the', 'fuck', 'down', 'like', 'our', 'lives', 'depended', 'on', 'it\\\\nJaws', 'of', 'the', 'streets', 'with', 'our', 'heart', 'on', 'our', 'sleeve\\\\nThrowing', 'shots', 'at', 'the', 'law', 'which', 'is', 'all', 'I', 'believe\\\\n\\\\n[Chorus', 'x2]\\\\n\\\\n[Verse', '3:]\\\\nOur', 'songs', 'are', 'supposed', 'to', 'be', 'the', 'voice', 'of', 'our', 'soul\\\\nNot', 'bought', 'and', 'sold,', 'not', 'all', 'controlled\\\\nBring', 'a', 'little', 'fire', 'when', 'the', 'world', 'get', 'cold\\\\nLet', 'me', 'shed', 'a', 'few', 'tears', 'and', 'to', 'me', 'you', 'went', 'gold\\\\nPeople', 'need', 'more', 'freedom\\\\nChildren', 'need', 'to', 'hear', 'more', 'truth', 'when', \"ya'll\", 'teach', \"em'\\\\nDamn\", 'I', 'want', 'to', 'hear', 'a', 'plan', 'from', 'the', 'dude', 'preaching\\\\nGot', 'new', 'seeds', 'with', 'true', 'needs', 'and', \"who's\", 'leading\\\\nI', 'truly', 'believe', 'every', 'word', \"I've\", 'ever', 'uttered', 'on', 'a', 'drum', 'break\\\\nRight', 'or', 'wrong,', 'life', 'go', 'on', 'but', 'it', \"wasn't\", 'nothing', 'fake\\\\nI', 'demand', 'you', 'start', 'listening', 'to', 'the', 'crowd\\\\nIf', 'not', '-', 'we', 'gon', 'burn', 'this', 'bitch', 'to', 'the', 'ground\\\\n\\\\n[Chorus', 'x2]\\\\n\\\\nI', 'said', 'the', 'truth', 'is', 'here', 'the', 'truth', 'is', 'here\\\\nTruth', 'is', 'here', 'the', 'truth', 'is', 'here\\\\nTruth', 'is', 'here', 'the', 'truth', 'is', 'here\\\\nTruth', 'is', 'here', 'the', 'truth', 'is\\\\n\\\\n\\\\nthe', 'atmosphere', 'is', 'pretty', 'hot', 'here', 'too..exposed', 'brick', 'always', 'makes', 'me', 'Yelp!\"', \"'One\", 'of', 'my', 'favorite', 'brunch', 'spots.', 'Not', 'the', 'cheapest,', 'but', 'you', 'come', 'here', 'to', 'admire', 'the', 'Arcadia', 'families/couples', 'coming', 'into', 'have', 'brunch.', 'There', 'is', 'sometimes', 'a', 'wait', 'but', 'it', 'is', 'worth', 'it.', 'I', 'have', 'a', 'hard', 'time', 'deciding', 'between', 'the', 'lunch', 'salads', 'and', 'breakfast.', 'I', 'usually', 'cave', 'and', 'get', 'the', 'french', 'toast', 'or', 'ginormous', 'belgian', 'waffle.', 'Parking', 'is', 'plentiful', 'but', 'it', 'is', 'on', 'a', 'weird', 'corner', 'in', 'the', 'strip', 'mall,', 'if', 'you', 'are', 'going,', 'look', 'for', 'cork', 'and', \"cleaver.'\", '\"Seriously.', 'I', 'seldom', 'give', '5', 'stars,', 'but', 'it', 'deserves', 'at', 'least', 'this', 'much.\\\\nIf', 'it', \"wasn't\", 'for', 'the', 'location', 'and', 'the', 'super', 'scary', 'after', 'dinner', 'club', 'scene,', 'I', 'would', 'go', 'every.single.day.\\\\n\\\\nTruly', 'one', 'the', 'best', 'BBQ', 'places', 'in', 'greater', 'Phoenix.', 'My', 'mouth', 'is', 'watering', 'as', \"I'm\", 'thinking', 'about', 'the', 'Hog', 'Heaven', 'special.', 'In', 'fact,', 'my', 'puppies', 'mouths', 'are', 'watering', 'too.', 'Decent', 'prices,', 'giant', 'selection.', 'One', 'of', 'those', 'places', 'where', 'the', 'early', 'cowboys', 'of', 'the', 'SW', 'would', 'appreciate.', '\\\\n', '\\\\nIf', 'you', 'are', 'a', 'cracker', 'family,', 'I', 'suggest', 'going', 'super', 'early,', 'like', 'super', 'early', 'bird', 'special', 'early', ',', 'like', 'when', 'the', 'snow', 'birds', 'come', 'out', 'for', 'the', 'senior', 'special', 'early,', 'because', 'after', 'dusk,', 'the', 'whole', 'place', 'transforms', 'into', 'a', 'pulsating', 'super', 'loud,', 'super', 'dicey', 'Mexican', 'Dance', 'Club,', 'and', 'the', 'blue', 'hairs', 'are', 'sure', 'to', 'have', 'a', 'coronary', 'attack', 'after', 'indulging', 'in', 'such', 'a', 'lipid', 'laden', 'meal', 'as', 'they', 'attempt', 'to', 'make', 'their', 'way', 'out', 'of', 'the', 'Club.', '\\\\n', '\\\\nAh', 'the', 'sacrifice', 'for', 'decent', 'BBQ....\"', '\"I', 'live', 'in', 'two', 'cities', 'in', 'two', 'different', 'states', 'and', 'travel', 'back', 'and', 'forth', 'each', 'month.', 'I', 'tend', 'to', 'use', 'services', 'where', 'I', 'find', 'them', 'and', \"haven't\", 'really', 'found', 'a', 'really', 'great', 'barbershop', 'in', 'the', 'last', 'three', 'years.', 'While', 'I', 'was', 'in', 'Anthem', 'this', 'week,', 'I', 'decided', 'to', 'give', 'Vs', 'Barbershop', 'at', 'Happy', 'Valley', 'Road', 'a', 'try.', 'I', 'rarely', 'use', 'chains', 'and', 'prefer', 'a', 'more', 'intimate', 'and', 'personal', 'hair', 'stylist,', 'but', 'I', 'was', 'pleasantly', 'surprised', 'this', 'time.', 'I', 'was', 'able', 'to', 'make', 'my', 'appoinmtnt', 'online', 'and', 'choose', 'the', 'services', 'I', 'wanted', 'to', 'have', 'with', 'the', 'haircut--very', 'efficient.', 'I', \"didn't\", 'know', 'any', 'of', 'the', 'barbers,', 'so', 'I', 'just', 'let', 'the', 'shop', '(?software)', 'choose', 'one.', 'I', 'was', 'treated', 'to', 'a', 'superb', 'haircut,', 'a', 'very', 'satisfying', 'shave,', 'and', 'a', 'facial', 'mask', 'and', 'massage.', 'My', 'barber,', 'Manuel,', 'was', 'precise,', 'experienced,', 'and', 'he', 'went', 'about', 'his', 'business', 'with', 'style.', 'I', 'cannot', 'imagine', 'how', 'many', 'hot', 'towels', 'he', 'used', 'but', 'I', 'would', 'not', 'want', 'their', 'laundry', 'bill.', 'Finally,', 'Manuel', 'washed', 'my', 'hair', 'AFTER', 'the', 'cut,', 'which', 'makes', 'all', 'the', 'difference', 'for', 'the', 'rest', 'of', 'the', 'day.', 'The', 'overall', 'experience', 'was', 'excellent', 'and', 'I', 'am', 'sure', 'to', 'return', 'the', 'next', 'time', 'I', 'am', 'in', 'town.', 'Yes,', 'the', 'package', 'was', 'pricey', 'but', 'the', 'haircut', 'was', 'standard', 'price', 'for', 'this', 'type', 'of', 'service.', 'This', 'is', 'no', 'Supercuts', 'or', 'Hair', 'Salon--trust', 'me', 'on', 'that.', 'If', 'you', 'are', 'looking', 'for', 'that', 'old', 'style', 'Barber', 'experience', 'with', 'more', 'than', 'just', 'a', 'clipped', 'head,', 'please', 'give', 'Vs', 'a', 'try.', 'By', 'the', 'way,', 'it', 'is', 'just', 'behind', 'Paradise', 'Bakery', 'in', 'The', 'Shops', 'at', 'Norterra.\"', '\"Awesome', 'place!!', 'EXCELLENT', 'food/apps(try', 'the', 'bleu', 'cheese', 'figs)!', 'Ask', 'for', 'Dizzy', 'Dre,', \"he's\", 'AWSOME', 'and', 'listens', 'to', 'your', 'likes', 'and', 'customizes', 'drinks', 'for', 'you!!', 'Very', 'patient', 'with', 'women!!', ';)\"', \"'Do\", 'not', 'bother', 'going', 'anywhere', 'else.', 'This', 'is', 'the', 'place', 'to', 'go', 'for', 'laser.', 'No', 'contracts,', 'easy', 'to', 'get', 'appointments,', 'very', 'reasonable.', 'The', 'staff', 'is', 'fantastic,', 'every', 'one', 'of', 'them.', 'I', 'usually', 'go', 'to', 'Kristen,', 'but', 'all', 'others', 'are', 'as', 'equally', 'friendly', 'and', 'competent.', 'Location', 'is', 'very', 'convenient', 'also.', 'I', 'have', 'looked,', 'and', 'I', 'have', 'received', 'many', 'groupon', 'and', 'living', 'social', 'offers', 'from', 'other', 'places,', 'but', 'I', 'never', 'bothered.', 'This', 'is', 'the', \"one.'\", \"'I\", 'realize', 'L&L', 'is', 'a', 'chain,', 'but', 'I', 'love', 'their', 'food.', 'My', 'favorites', 'are', 'the', 'Loco', 'Moco', 'and', 'the', 'BBQ', 'Chicken.', 'I', 'also', 'enjoy', 'their', 'haupia-filled', 'donuts.', 'The', 'family', 'that', 'runs', 'this', 'place', 'is', 'very', 'friendly', 'and', 'do', 'a', 'great', 'job', 'in', 'making', 'sure', 'you', 'will', 'enjoy', 'your', 'meal.', 'Go', \"there.'\", '\"This', 'is', 'my', 'favorite', 'pho', 'joint', 'in', 'all', 'of', 'Arizona.', 'I', 'have', 'been', 'to', 'about', '17', 'from', 'flagstaff', 'to', 'mesa', 'to', 'central', 'and', 'Tucson!', 'The', 'owners', 'are', 'so', 'welcoming', 'and', 'very', 'proud', 'of', 'their', 'business', 'and', 'it', 'shows!', 'The', 'place', 'is', 'always', 'clean', 'and', 'the', 'bathrooms', 'are', 'immaculate!', 'I', 'always', 'order', 'pho', 'Tai', 'and', 'water..', 'But', \"I've\", 'had', 'both', 'their', 'egg', 'rolls', 'and', 'spring', 'rolls', 'both', 'excellent!', 'I', 'love', 'the', 'broth!', \"It's\", 'true', 'pho', 'broth..', \"It's\", 'not', 'the', 'beef', 'bullion', 'cubes', 'other', 'place', 'use', 'and', 'you', 'can', 'defiantly', 'taste', 'the', 'difference!', 'The', 'sprouts', 'are', 'the', 'cleanest', 'I', 'have', 'ever', 'seen!', 'I', 'love', 'this', 'pho', 'place', '...', 'try', 'the', 'greatest', 'pho', 'in', 'Arizona!\"', '\"I', 'have', 'been', 'visiting', 'Mrs.', \"White's\", 'going', 'on', '30', 'years,', 'but', 'after', 'looking', 'up', 'the', 'phone', 'number', 'this', 'afternoon', 'to', 'verify', 'if', 'they', 'were', 'open', 'and', 'still', 'had', 'fried', 'chicken,', 'my', 'wife', 'started', 'reading', 'some', 'of', 'the', 'reviews', 'following', 'a', 'recent', 'Food', 'Network', 'recommendation', '-', 'I', 'almost', 'got', 'cold', 'feet.\\\\n\\\\nGood', 'thing', 'I', \"didn't.\", 'The', 'food', 'is', 'as', 'awesome', 'as', 'ever.', 'The', 'service', 'is', 'much', 'as', 'it', 'has', 'always', 'been.', 'Be', 'forewarned,', 'trendy', 'restaurant', 'goers,', 'who', 'glom', 'onto', 'TV', 'reviews,', 'Mrs.', \"White's\", 'is', 'not', 'trendy;', 'there', 'are', 'no', 'bubbly', 'fresh', 'blonde', 'girls', 'waiting', 'to', 'seat', 'you.', 'The', 'service', 'is', 'matter', 'of', 'fact,', 'no', 'goofing', 'around,', 'you', 'must', 'get', 'to', 'the', 'business', 'of', 'ordering', 'and', 'pretend', 'you', 'know', 'what', 'you', 'are', 'doing', '-', 'this', 'is', 'the', 'way', 'it', 'has', 'always', 'been', 'at', 'Mrs.', \"White's.\", 'If', 'you', 'are', 'looking', 'for', 'others', 'to', 'pamper', 'you,', 'this', 'is', 'not', 'the', 'place', 'for', 'that.', 'Mrs.', \"White's\", 'is', 'where', 'you', 'go', 'to', 'pamper', 'your', 'indulgence', 'for', 'perfect', 'soul', 'food.', 'If', 'you', 'want', 'Scottsdale', 'ambiance,', 'again,', 'this', 'joint', \"won't\", 'work', 'for', 'you.\\\\n\\\\nWhen', 'you', 'go,', 'be', 'prepared', 'that', 'not', 'all', 'dishes', 'may', 'be', 'on', 'the', 'menu', 'during', 'your', 'visit.', 'There', 'are', 'no', 'corporate', 'owned', 'semi-trailers', 'that', 'deliver', 'two', 'tons', 'of', 'food', 'every', 'other', 'day.', 'This', 'is', 'a', 'small', 'and', 'very', 'cramped', 'operation', 'that', 'makes', 'homemade', 'food', 'for', 'those', 'who', 'know', 'how', 'to', 'appreciate', 'it.', 'In', 'these', 'days', 'of', 'flash', 'frozen', 'prepared', 'dishes', 'that', 'are', 'uniform', 'from', 'visit', 'to', 'visit', 'at', 'chain', 'restaurants,', 'this', 'food', 'is', 'made', 'in', 'a', 'tiny', 'hot', 'kitchen.', 'If', 'they', 'run', 'out', 'of', 'your', 'favorite', 'dish', 'that', 'has', 'been', 'cooking', 'for', 'hours', 'prior', 'to', 'your', 'arrival,', 'there', 'is', 'no', 'way', 'they', 'can', 'whip', 'up', 'another', 'pot', 'of', 'green', 'beans', 'and', 'potatoes', 'in', '20', 'minutes.', '\\\\n\\\\nI', 'often', 'call', 'ahead', 'to', 'verify', 'if', 'they', 'have', 'what', 'I', 'want', 'because', 'years', 'ago', 'it', 'was', 'not', 'uncommon', 'that', 'by', '12:30', 'they', 'would', 'be', 'out', 'of', 'half', 'of', 'everything', 'on', 'the', 'menu,', 'which', 'was', 'OK', 'because', 'if', 'forced', 'me', 'to', 'try', 'new', 'things', 'Back', 'then,', 'Mrs.', \"White's\", 'was', 'open', 'Monday', 'through', 'Friday', 'from', '11:00', 'till', '3:00,', 'but', \"I'd\", 'swear', \"you'd\", 'be', 'lucky', 'to', 'get', 'anything', 'after', '1:00', '-', 'and', 'that', 'was', 'perfectly', 'fine', 'as', 'you', 'knew', 'they', 'were', 'doing', 'all', 'they', 'could', 'with', 'their', 'limited', 'space', 'to', 'do', 'their', 'best', 'for', 'us', 'customers.', \"I'd\", 'just', 'come', 'back', 'on', 'another', 'day.', '\\\\n\\\\nTo', 'say', 'I', 'have', 'the', 'utmost', 'respect', 'for', 'the', 'White', 'family', 'would', 'be', 'an', 'understatement,', 'today', 'I', 'was', 'afraid', 'I', 'might', 'have', 'to', 'lose', 'that', 'based', 'on', 'those', 'poor', 'reviews', 'below.', 'I', 'do', 'not', 'believe', 'those', 'reviews', 'are', 'an', 'accurate', 'representation', 'of', 'The', 'Golden', 'Rule', 'Cafe.', 'They', 'are', 'the', 'distortions', 'and', 'disappointments', 'of', 'people', 'who', 'have', 'skewed', 'expectations.', 'Funky', 'little', 'hole-in-the-wall', 'family-run', 'operations', 'that', 'attract', 'a', 'loyal', 'customer', 'base', 'may', 'not', 'be', 'the', 'place', 'for', 'everyone,', 'but', 'if', 'you', 'understand', 'that', 'wonderful', 'stuff', \"doesn't\", 'always', 'come', 'wrapped', 'in', 'a', 'sterile', 'designer', 'package,', 'then', 'you', 'might', 'get', 'along', 'with', 'Mrs.', \"White's.\\\\n\\\\nI\", 'love', 'this', 'place', 'and', 'hope', 'I', 'always', 'will.\"', '\"Best', 'happy', 'hour', 'on', 'this', 'side', 'of', 'town.', 'The', 'bartenders', 'are', 'very', 'friendly', 'and', 'service', 'is', 'always', 'prompt.', \"I've\", 'never', 'had', 'a', 'bad', 'drink', 'or', 'a', 'bad', 'meal', 'here.', 'I', 'only', 'go', 'in', 'if', 'Jennifer', 'is', 'working', 'though!', 'The', 'bar', 'has', 'plenty', 'of', 'TVs', 'too.\"', '\"I', 'have', 'been', 'to', \"Mabel's\", 'a', 'few', 'times', 'now', 'and', 'I', 'think', 'it', 'is', 'a', 'pretty', 'stellar', 'place.', 'The', 'food', 'is', 'awesome', '(try', 'the', 'chicken', 'lollypops', 'and', 'the', 'deviled', 'eggs)', 'and', 'the', 'drinks', 'are', 'strong.', 'The', 'ambiance', 'is', 'nice', 'and', 'cozy', 'and', 'I', 'think', 'it', 'works', 'well', 'for', 'a', 'romantic', 'dinner', 'or', 'a', 'big', 'group', 'of', 'friends.', 'The', 'staff', 'has', 'always', 'been', 'pleasant', 'and', 'accommodating', 'and', 'that', 'goes', 'a', 'long', 'way', 'for', 'me', 'in', 'Snottsdale.', '\\\\n\\\\nLast', 'night', 'I', 'was', 'wowed', 'by', \"Mabel's.\", 'We', 'had', 'a', 'fundraiser', 'for', 'a', 'great', 'friend', 'who', 'has', 'cancer', 'and', 'they', 'not', 'only', 'let', 'us', 'throw', 'it', 'there', 'FOR', 'FREE,', 'but', 'generously', 'offered', 'to', 'donate', '20%', 'of', 'the', 'bar', 'tab', 'to', 'the', 'cause.', 'The', 'service', 'was', 'great', 'that', 'night', 'and', 'they', 'earned', 'a', 'fan', 'for', 'life.', 'Thanks', \"Mabel's,\", 'for', 'being', 'so', 'cool,', \"you're\", 'a', 'breath', 'of', 'fresh', 'air.\"', \"'Great\", 'place', 'for', 'Italian', 'food.', 'Very', 'family', 'friendly.', 'Mellow', 'atmosphere', 'with', 'friendly', 'and', 'knowledgeable', 'staff.', 'Never', 'had', 'a', 'bad', 'meal.', 'My', 'favorite', 'is', 'Sirloin', 'Marsala', 'and', 'you', 'can', 'choose', 'any', 'pasta', 'they', 'have', 'to', 'go', 'with', 'it', 'at', 'no', 'charge.', 'Recommend', 'to', 'anyone', 'who', 'enjoys', 'quality', 'Italian', 'for', 'a', 'good', \"price.'\", '\"I', 'never', 'write', 'these', 'things.', 'But', 'I', 'have', 'to', 'say', 'that', 'you', 'will', 'not', 'be', 'disappointed', 'with', 'Paletas', 'Betty.', 'Especially', 'with', 'the', 'weather', 'right', 'now,', 'it', 'is', 'a', 'delicious', 'and', 'healthy', 'treat,', 'made', 'with', 'seasonal', 'ingredients.', 'I', 'highly', 'recommend', 'the', 'limón', 'amarillo', 'when', 'in', 'season.', 'Delicious', 'frozen', 'lemondade/lemon', 'drop', 'on', 'a', 'stick,', 'tossed', 'in', 'a', 'sugar', 'rub.', 'It', 'is', 'for', 'certain', 'served', 'in', 'heaven.', 'That', 'is', 'all.\\\\n\\\\nP.S.', 'check', 'out', 'the', 'hours,', 'yo.', 'You', 'know', \"what's\", 'up.\"', '\"I', 'almost', 'wish', 'I', \"hadn't\", 'discovered', 'this', 'place', 'because', \"it's\", 'so', 'good!', \"Ton's\", 'of', 'flavors', 'and', 'every', 'kind', 'of', 'topping', 'you', 'could', 'want', '(even', 'cake', 'frosting)', '\\\\nSo', 'much', 'better', 'than', 'MoJo', 'and', 'to', 'top', 'it', 'off', 'the', 'staff', \"couldn't\", 'have', 'been', 'nicer.\"', '\"Gotta', 'love', 'Sweet', 'Republic....', 'great', 'philosophy', 'and', 'great', 'icecream', 'and', 'sorbets.', \"I've\", 'loved', 'every', 'single', 'flavor', \"I've\", 'had', 'there', '(peanut', 'butter,', 'brownie', 'swirl,', 'mint', 'chip,', 'salted', 'butter', 'caramel,', 'mayan', 'chocolate,', 'and', 'more).', 'Everything', 'is', 'made', 'from', 'all', 'natural,', 'fresh', 'ingredients', '(virginia', 'peanuts,', 'fresh', 'mint', 'leaves,', 'etc).', '\\\\n\\\\nWhen', 'I', 'really', 'want', 'to', 'splurge', 'I', 'make', 'my', 'own', 'sundae,', 'you', 'get', 'to', 'pick', 'two', 'flavors', 'of', 'icecream,', 'a', 'sauce,', 'and', 'a', 'topping.', '\\\\n\\\\nIf', 'you', \"haven't\", 'been', 'to', 'Sweet', 'Republic,', 'go!', 'If', \"you're\", 'far', 'from', 'Shea', '&', '101,', 'find', 'them', 'at', 'First', 'Fridays', 'downtown,', 'farmers', 'markets,', 'and', 'more.\"', '\"This', 'was', 'our', 'first', 'time', 'at', 'Texas', 'BBQ', 'House.', 'They', 'gave', 'us', 'a', 'sample', 'and', 'help', 'us', 'with', 'our', 'order.', 'The', 'brisket', 'was', 'fantastic.', 'I', 'got', 'the', 'moist', 'and', 'my', 'wife', 'got', 'the', 'lean.', 'We', 'both', 'enjoyed', 'our', 'choices', 'immensely.', 'I', 'will', 'definitely', 'go', 'back.', 'I', 'wanted', 'some', 'spicy', 'BBQ', 'sauce', 'and', 'apparently', 'they', 'have', 'it', 'but', 'I', \"didn't\", 'see', 'it.\"', \"'My\", 'husband', 'and', 'I', 'have', 'been', 'here', 'twice', 'in', 'the', 'last', 'week', 'for', 'dinner...it', 'is', 'a', 'bit', 'pricey', 'as', 'other', 'reviewers', 'have', 'said', '(around', '$20', 'for', 'dinner', 'entrees),', 'but', 'for', 'vegetarian', 'and', 'organic', 'food,', 'what', 'exactly', 'do', 'folks', 'expect?', 'You', 'get', 'what', 'you', 'pay', 'for.', 'We', 'were', 'happily', 'surprised', 'after', 'reading', 'the', 'reviews...the', 'food', 'was', 'amazing,', 'the', 'portions', 'are', 'huge', 'and', 'we', 'had', 'leftovers', 'both', 'times.', '(and', 'p.s.,', 'we', 'paid', 'with', 'a', 'debit', 'card', 'both', 'times', 'and', 'have', 'had', 'no', 'trouble,', 'despite', 'the', 'review', 'about', 'only', 'paying', 'cash.)\\\\n\\\\nOur', 'first', 'visit,', 'we', 'were', 'greeted', 'kindly', 'and', 'given', 'a', 'plate', 'of', 'fruit', 'to', 'munch', 'on', 'until', 'we', 'ordered.', 'My', 'husband', 'ordered', 'the', 'mint', 'tea', 'and', 'it', 'was', 'delish!', 'For', 'an', 'appetizer,', 'we', 'had', 'the', 'sabzi...which', 'is', 'a', 'huge', 'plate', 'of', 'green', 'herbs,', 'homemade', 'wheat', 'nan,', 'feta', 'cheese,', 'and', 'walnuts.', 'The', 'herbs', 'were', 'FRESH', 'and', 'the', 'nan', 'was', 'delicious...just', 'the', 'smell', 'of', 'it', 'was', 'enough', 'to', 'get', 'us', 'drooling!\\\\n\\\\nFor', 'entrees,', 'we', 'had', 'the', 'spinach', 'herb', 'stew', 'and', 'the', 'vegetable', 'stew', 'with', 'eggplant.', 'I', 'am', 'currently', 'pregnant', 'and', 'garlic', 'is', 'not', 'something', \"that\\\\'s\", 'agreeing', 'with', 'me.', 'I', 'asked', 'if', 'the', 'vegetable', 'stew', 'had', 'garlic', 'in', 'it', 'and', 'the', 'waiter', 'said', '\"we', 'can', 'make', 'it', 'however', 'you', 'want...every', 'dish', 'is', 'made', 'when', 'you', 'order', 'it\"....what??', 'the', 'dishes', 'are', 'made', 'to', 'order??', 'I', \"haven\\\\'t\", 'heard', 'that', 'at', 'a', 'lot', 'of', 'restaurants!', 'After', 'about', '20', 'minutes,', 'our', 'stews', 'arrived...steaming', 'hot', 'and', 'smelling', 'delicious.', 'They', 'were', 'HEAVENLY!', 'So', 'many', 'flavors', 'and', 'so', 'fresh!!\\\\n\\\\nOur', 'second', 'time', 'here,', 'we', 'had', 'the', 'dolmeh', 'plate', 'and', 'Mast', 'Va', 'Mosear', '(a', 'spinach', 'dip)...both', 'were', 'ok...but', 'I', 'like', 'the', 'Sabzi', 'better.', 'The', 'entrees', 'we', 'had', 'were', 'amazing...I', 'had', 'a', 'special', 'of', 'the', 'day', '(pomegranate', 'walnut', 'sauce', 'over', 'tofu,', 'which', 'was', 'blissful', 'to', 'smell', 'and', 'eat)', 'and', 'hubby', 'had', 'the', 'vegetarian', 'sampler', 'to', 'get', 'his', 'falafel', 'fix.\\\\n\\\\nOverall,', 'if', 'you', 'are', 'willing', 'to', 'pay', 'a', 'little', 'more', 'for', 'a', 'nice,', 'organic', 'foods', 'dinner,', 'go', 'here', 'and', 'check', 'it', 'out.', 'Everything', 'will', 'be', 'fresh...everything', 'will', 'smell', 'and', 'taste', 'delicious...and', 'the', \"restaurant\\\\'s\", 'atmosphere', 'is', 'perfect', 'for', 'a', 'relaxed,', 'decadent', \"evening.'\", '\"I', 'went', 'here', 'for', 'lunch', 'a', 'couple', 'of', 'weeks', 'ago', 'with', 'my', 'bosses.', 'It', 'was', 'packed', 'on', 'a', 'Friday', '-', 'we', 'sat', 'at', 'the', 'bar', 'and', 'our', 'cook', 'was', 'fantastic!', 'We', 'got', 'to', 'sit', 'and', 'chat', 'with', 'him', 'while', 'he', 'worked', 'away', 'at', 'the', 'orders.', 'I', 'had', 'the', 'chicken', 'pesto', 'pasty', 'and', 'it', 'was', 'wonderful!', 'the', 'bread', 'used', 'is', 'similar', 'to', 'a', 'pastry', 'dough', 'type...but', 'not', 'as', 'sweet.', 'The', 'pasty', 'was', 'so', 'filling,', 'I', 'could', 'barely', 'finish', 'it.\\\\n\\\\nMy', 'bosses', 'have', 'been', 'there', 'before', 'and', 'have', 'always', 'wanted', 'to', 'try', 'the', 'peanut', 'butter', 'and', 'jelly', 'pasty', '-', 'so', 'we', 'all', 'split', 'it', 'as', 'dessert', 'and', 'it', 'was', 'so', 'good.', 'They', 'put', 'bananas', 'in', 'it', 'and', 'drizzle', 'jelly', 'over', 'the', 'whole', 'pasty.', \"It's\", 'definitely', 'rich', 'and', 'gooey.', '\\\\n\\\\nI', 'would', 'totally', 'go', 'back', 'here', 'again', 'and', 'have', 'told', 'my', 'friends', 'about', 'it', 'too!', 'Amazing', 'place.\"', '\"This', 'is', 'an', 'adorable', 'little', 'gallery', 'located', 'in', 'the', 'middle', 'of', 'nowhere,', 'Downtown', 'Phoenix.', 'My', 'art', 'teacher', 'friend', 'got', 'fixated', 'on', 'bringing', 'me', 'here', 'when', 'she', 'heard', 'me', 'complaining', 'about', 'Phoenix', 'being', 'chain', 'hell', '(and', 'thanks', 'to', 'her', 'and', 'Yelp,', 'I', \"don't\", 'believe', 'that', 'anymore).', 'I', 'think', 'she', 'chose', 'wisely', 'as', 'I', 'loved', 'this', 'little', 'space.', '\\\\n\\\\nIt', 'was', 'a', 'nice', 'place', 'to', 'stop', 'and', 'check', 'out,', 'and', 'then', 'of', 'course', 'we', 'had', 'lunch', 'at', 'the', 'attached', 'City', 'Bakery.', 'A', 'perfect', 'activity', 'for', 'a', 'half-day', 'of', 'school!', 'Hooray', 'creativity', 'and', 'uniqueness!\"', '\"Very', 'very', 'nice', 'family', 'owned', 'bookstore', 'that', 'allows', 'you', 'to', 'trade', 'in', 'your', 'books', 'and', 'buy', 'other', 'books', 'for', 'half', 'price.', 'The', 'owners', 'have', 'also', 'recommended', 'many', 'books/authors', 'to', 'my', 'family', 'over', 'the', 'years.\\\\n\\\\nI', 'came', 'in', 'today', 'still', 'seeking', 'a', 'book', 'that', 'I', 'have', 'gone', 'to', 'numerous', 'libraries', 'looking', 'for.', 'I', 'found', 'a', 'copy', 'on', 'the', 'shelf', 'that', 'was', 'much', 'bigger', 'than', 'an', 'ordinary', 'paperback.', 'I', 'asked', 'if', 'they', 'might', 'have', 'any', 'additional', 'copies.', 'The', 'owner', 'was', 'so', 'nice', 'and', 'went', 'in', 'the', 'back', 'room', 'not', 'once', 'but', 'twice', 'to', 'find', 'me', 'the', 'book', 'and', \"it's\", 'sequel.', 'I', 'was', 'so', 'thrilled', 'to', 'have', 'found', 'the', 'books!\\\\n\\\\nI', 'believe', 'that', 'almost', 'every', 'year', 'they', 'have', 'a', 'book', 'clearance', 'where', 'they', 'sell', 'off', 'many', 'books', 'for', 'only', '$1.', 'I', \"won't\", 'be', 'in', 'town', 'for', 'it', 'but', 'if', 'anyone', 'is,', 'I', 'recommend', 'checking', 'it', 'out!\"', \"'OK,\", 'so', 'this', 'is', 'how', 'much', 'I', 'love', 'this', 'product.', 'I', 'first', 'tasted', \"Lee\\\\'s\", 'at', 'a', 'Yelp', 'Elite', 'event', 'and', 'waited', 'and', 'dreamed', 'a', 'whole', 'year', 'to', 'eat', 'it', 'again.', 'When', 'I', 'was', 'invited', 'to', 'the', 'next', \"year\\\\'s\", 'Elite', 'Pleydate', 'it', 'was', 'the', 'topic', 'of', 'the', 'first', 'question', 'out', 'of', 'my', 'mouth.', '\"Is', \"Lee\\\\'s\", 'gonna', 'be', 'there?\"', '(', 'Ok,', 'maybe', 'the', 'whole', 'French', \"restaurant\\\\'s\", 'Bone', 'Marrow', 'gravy', 'came', 'to', 'mind', 'too,', 'but', 'I', 'digress)', 'When', 'I', 'made', 'it', 'inside', 'to', 'Pleydate', 'I', 'literally', 'ran', 'to', 'that', 'booth', 'having', 'desert', 'before', 'dinner.', 'I', 'am', 'all', 'about', 'the', 'alcohol', 'infused', 'ice', 'cream', 'now.', 'The', 'funny', 'thing', 'about', 'that', 'is', 'I', 'am', 'not', 'even', 'a', 'big', 'ice', 'cream', 'lover.', 'I', 'will', 'have', 'to', 'visit', 'the', 'shop', \"soon.'\", \"'If\", 'you', 'are', 'a', 'big', 'tea', 'drinker', 'like', 'myself', 'then', 'you', 'must', 'check', 'this', 'place', 'out!', 'They', 'offer', 'a', 'HUGE', 'variety', 'of', 'loose', 'teas', 'from', 'all', 'around', 'the', 'world.', 'They', 'have', 'herbal,', 'rooibos,', 'green,', 'black,', 'and', 'white', 'teas.', 'The', 'selection', 'is', 'phenomenal', 'and', 'there', 'is', 'some', 'loose', 'teas', 'here', 'for', 'every', 'type', 'of', 'tea', 'drinker', 'out', 'there.', 'They', 'also', 'offer', 'high', 'quality', 'tea', 'accessories', 'that', 'are', 'beautiful', 'like', 'the', 'teapots', 'and', 'tea', 'mugs', 'which', 'are', 'very', 'classy', 'and', 'not', 'overly', 'expensive.', 'Great', 'place', 'for', 'those', 'looking', 'to', 'pick', 'up', 'a', 'unique', 'gift', 'for', 'a', 'tea', 'lover', 'or', 'for', 'the', 'tea', 'lovers', 'like', 'myself', 'it', 'is', 'like', 'stepping', 'into', 'tea', 'HEAVEN.', 'The', 'owner', 'is', 'also', 'very', 'nice', 'and', 'offers', 'good', 'advice', 'if', 'you', 'are', 'looking', 'for', 'a', 'particular', 'taste', 'or', 'type', 'of', 'tea', 'since', 'there', 'are', 'at', 'least', '50-60', 'loose', 'teas', 'to', 'choose', 'from.', 'Hear', 'my', 'teapot', 'whistling......gotta', \"go!'\", '\"I', 'go', 'to', \"Regio's\", 'a', 'lot;', 'today', 'I', 'went', 'and', 'want', 'to', 'reiterate', 'how', 'great', 'I', 'think', 'it', 'is.', 'I', 'have', 'been', 'going', 'there', 'for', 'a', 'couple', 'years', '-', 'have', 'never', 'been', 'disappointed', 'in', 'anything', \"I've\", 'ordered.', 'Their', 'beans', 'are', 'delicious,', 'as', 'is', 'their', 'menudo', '(only', 'on', 'Saturday', 'and', 'Sunday,', 'unfortunately),', 'and', 'eveything', 'else:', 'tacos,', 'burritos,', 'enchiladas,', 'chile', 'rellenos,', 'etc,', 'etc,', 'etc.', 'is', 'great.', 'It', 'is', 'so', 'inexpensive', \"it's\", 'hard', 'to', 'believe.', 'Today', 'my', 'bff', 'and', 'I', 'had', '5', 'tacos', 'and', 'an', 'order', 'of', 'beans', '(between', 'us)', 'and', 'it', 'was', '$10.', 'HELLO!', 'We', 'had', 'the', 'mini-tacos,', 'but', 'we', 'were', 'stuffed', 'and', 'left', 'there', 'saying', 'how', 'wonderful', 'it', 'was', 'and', 'how', 'full', 'we', 'were.\\\\n', 'Check', 'it', 'out', 'next', 'time', \"you're\", 'in', 'the', 'mood', 'for', 'some', 'awesome,', 'authentic', 'Mexican', 'food.', 'You', 'will', 'be', 'glad', 'you', 'did.', 'Yummy.\"', \"'Every\", 'time', 'I', 'head', 'to', 'ABC', 'cake', 'supply', 'I', 'see', 'this', 'wonderful', 'store', 'on', 'the', 'way.', 'I', 'often', 'say,', '\"I', 'need', 'to', 'stop', 'there.\"', 'Today', 'I', 'did.', 'It', 'is', 'a', 'wonderful', 'ecclectic', 'store', 'filled', 'with', 'unique', 'items.', 'From', 'baby,', 'wedding,', 'kitchen', 'and', 'on!', 'I', 'picked', 'up', 'some', 'of', 'their', 'mini', 'cupcake', 'stands!', \"LOVE!!!']\"]\n",
            "\n",
            "\n",
            "Most commmon words for 5 star reviews:  [('the', 1613), ('and', 1320), ('a', 949), ('I', 931), ('to', 884), ('of', 579), ('is', 569), ('was', 442), ('for', 412), ('in', 408), ('it', 330), ('you', 297), ('with', 295), ('that', 292), ('my', 274), ('have', 268), ('The', 240), ('but', 237), ('are', 223), ('on', 216)]\n"
          ]
        }
      ],
      "source": [
        "from collections import Counter\n",
        "\n",
        "# Set the number of stars to select reviews\n",
        "num_stars =  5 #@param {type:\"integer\"}\n",
        "\n",
        "# Get text for star rating\n",
        "text_for_star = yelp[yelp['stars'] == num_stars]['text'].values\n",
        "\n",
        "# Convert text to one string\n",
        "string_text_for_star= str(text_for_star)\n",
        "\n",
        "# Split the string by words\n",
        "words_for_star = string_text_for_star.split()\n",
        "print(f\"Words for {num_stars} star reviews: \", words_for_star)\n",
        "\n",
        "# Pass the list of words to an instance of Counter class\n",
        "Counter = Counter(words_for_star)\n",
        "\n",
        "# Get most common 20 words\n",
        "most_common_words = Counter.most_common(20)\n",
        "\n",
        "print(\"\\n\")\n",
        "print(f\"Most commmon words for {num_stars} star reviews: \", most_common_words)"
      ]
    },
    {
      "cell_type": "markdown",
      "metadata": {
        "id": "ZpU7nrWTEvov"
      },
      "source": [
        "### 💡 Exercise: Crafting Rules for Sentiment Analysis\n",
        "\n",
        "Think about the reviews you've looked at. Imagine you're designing a simple system to tell if a review is **positive** or **negative** based only on what words it uses. This is the basis of a rule-based classifier: it uses specific rules you set to make decisions.\n",
        "\n",
        "For example, reviews containing the word \"good\" could be positive, while those with the word \"bad\" might be negative.\n",
        "\n",
        "As a group, let's come up with set of rules using combinations of words that might help identify the sentiment of a review. Write down your ideas below!\n"
      ]
    },
    {
      "cell_type": "code",
      "execution_count": null,
      "metadata": {
        "cellView": "form",
        "id": "dxuZyKOKy6Cc"
      },
      "outputs": [],
      "source": [
        "#@title Define Your Sentiment Analysis Rules\n",
        "\n",
        "#@markdown Rule 1: Describe a combination of words or a pattern that typically indicates a positive review.\n",
        "rule_1 = \"\" #@param {type:\"string\"}\n",
        "\n",
        "#@markdown Rule 2: Describe a combination of words or a pattern that typically indicates a negative review.\n",
        "rule_2 = \"\" #@param {type:\"string\"}\n",
        "\n",
        "#@markdown Rule 3: Enter an additional rule or an exception you observed.\n",
        "rule_3 = \"\" #@param {type:\"string\"}\n",
        "\n"
      ]
    },
    {
      "cell_type": "markdown",
      "metadata": {
        "id": "J4PQg8FhEvow"
      },
      "source": [
        "**Discuss**:\n",
        "\n",
        "Do you think the rules you've created will perform well in accurately classifying review sentiments? Why or why not?"
      ]
    },
    {
      "cell_type": "markdown",
      "metadata": {
        "id": "xoAIiKE9WisH"
      },
      "source": [
        "---\n",
        "\n",
        "### 💡 Bonus Exercise: Implement and Test Your Sentiment Analysis Rules\n",
        "\n",
        "Now it's time to put your rules to the test! Write a function that uses one of the rules you developed to determine whether a review is **positive** or **negative**. We've provided the basic structure of the function below. Replace the `pass` statement with your own code to implement your rule.\n",
        "\n"
      ]
    },
    {
      "cell_type": "code",
      "execution_count": null,
      "metadata": {
        "id": "_GjzoXUjW0YU"
      },
      "outputs": [],
      "source": [
        "def classify(text):\n",
        "    # YOUR CODE HERE\n",
        "    # Implement your rule to classify the sentiment of the review.\n",
        "    # You might start with a simple 'if' statement checking for certain words or phrases.\n",
        "    pass  # Remove 'pass' and replace it with your implementation."
      ]
    },
    {
      "cell_type": "code",
      "execution_count": null,
      "metadata": {
        "cellView": "form",
        "id": "Gf7S02lHsUUq"
      },
      "outputs": [],
      "source": [
        "#@title  🧪  Let's Test Your Sentiment Classification Function\n",
        "#@markdown Enter your own review text below to see how your function classifies it:\n",
        "\n",
        "# User inputs their own review text.\n",
        "input_review = \"hey there i love this stuff and it is amazing\" #@param {type:\"string\"}\n",
        "\n",
        "# Call the classify function with the user input.\n",
        "if input_review:  # Check if the input string is not empty\n",
        "    sentiment = classify(input_review)\n",
        "    print(f\"Review: {input_review}\")\n",
        "    print(f\"Sentiment: {sentiment}\")\n",
        "else:\n",
        "    print(\"Please enter a review text to classify.\")\n"
      ]
    },
    {
      "cell_type": "markdown",
      "metadata": {
        "id": "dArbYofKN206"
      },
      "source": [
        "# ⚙️ Processing the Data for Machine Learning\n",
        "\n",
        "As we transition from manually crafting rules to employing more sophisticated machine learning techniques, we will prepare our data for analysis using a Recurrent Neural Network (RNN). This type of model is particularly effective for processing sequences, such as text, due to its ability to maintain information across inputs!\n"
      ]
    },
    {
      "cell_type": "markdown",
      "metadata": {
        "id": "0bwasn11BfD4"
      },
      "source": [
        "### 💡 Exercise: Binary Classification of Review Sentiments\n",
        "\n",
        "Here we want to classify Yelp reviews into two sentiment categories: **positive** and **negative**. To simplify our task into a binary classification problem, we will:\n",
        "\n",
        "- Label reviews with 4 and 5 stars as 'positive'.\n",
        "- Label reviews with 1, 2, and 3 stars as 'negative'.\n",
        "\n",
        "We've already provided the function definition `is_good_review`. Fill in the `None` with the correct expression to corretly divide the dataset into two goups, good or bad!\n",
        "\n",
        "Please complete the function below and run it to create a new `is_good_review` column."
      ]
    },
    {
      "cell_type": "code",
      "execution_count": null,
      "metadata": {
        "id": "ck4iX6PITzHS"
      },
      "outputs": [],
      "source": [
        "def is_good_review(num_stars):\n",
        "    # This function categorizes reviews based on the number of stars.\n",
        "    # It returns True if the review is positive (4 or 5 stars).\n",
        "    # It returns False if the review is negative (1, 2, or 3 stars).\n",
        "\n",
        "    # Replace 'None' with the appropriate condition for a positive review.\n",
        "    if num_stars > 3:  # YOUR CODE HERE\n",
        "        return True\n",
        "    else:\n",
        "        return False"
      ]
    },
    {
      "cell_type": "code",
      "execution_count": null,
      "metadata": {
        "colab": {
          "base_uri": "https://localhost:8080/",
          "height": 206
        },
        "id": "RQ_J7L6KtkYQ",
        "outputId": "2294dfcc-2bc9-4073-a117-960adb373144"
      },
      "outputs": [
        {
          "data": {
            "application/vnd.google.colaboratory.intrinsic+json": {
              "summary": "{\n  \"name\": \"yelp\",\n  \"rows\": 1000,\n  \"fields\": [\n    {\n      \"column\": \"stars\",\n      \"properties\": {\n        \"dtype\": \"number\",\n        \"std\": 1,\n        \"min\": 1,\n        \"max\": 5,\n        \"num_unique_values\": 5,\n        \"samples\": [\n          4,\n          1,\n          3\n        ],\n        \"semantic_type\": \"\",\n        \"description\": \"\"\n      }\n    },\n    {\n      \"column\": \"text\",\n      \"properties\": {\n        \"dtype\": \"string\",\n        \"num_unique_values\": 1000,\n        \"samples\": [\n          \"Apparently I'm late to the party on this one, but my first visit to Sierra Bonita Grill was last weekend for brunch. I'm hesitant to add another good review of this great place because I didn't have to fight anyone for a table, and I would like to be able get one in the future.\\n\\nAnyway... I'm a huge fan of brunch (and especially of Mexican/Latin American-type brunches), so I was thrilled to try this place. My friend ordered the Verde Vaqueros, which are their verison of biscuits and gravy. But the biscuits are no ordinary biscuits, they're Green chile beer biscuits (!) with smoked sausage gravy from Schreiners. The biscuits were delicious. I could eat them with anything... or really without anything else. My friend cleaned his plate. I got the stacked chicken enchiladas because I'm a sucker for anything with hatch chiles, and they did not disappoint. The sauce was flavorful, and the crispy tortillas were a nice texture contrast to the rest of the dish.\\n\\nWill definitely be back, and would definitely recommend that people check this place out for brunch... just don't take my table.\",\n          \"Kabuki was great....A lovely little middle-of-the-afternoon oasis found in Tempe Marketplace!  I scoped out the menu had some some sushi for happy hour, including some rare beef sashimi, some unusual and unique rolls and complimentary edamame.  Although I did not dine here for a full meal, I feel justified in expressing my enjoyment of their happy hour.  The tiny bar was cozy and the service was good.  The happy hour prices were enticing and I would definitely return for it:)  Although for my personal taste the ambiance of Kabuki seemed a little too corporate for me I definitely would return for their happy hour and maybe to sample other menu items.  I will keep you posted on my next visit:)\",\n          \"Whew!  What a hike.  Coming from Colorado, though, the relative comparison makes it just a 3.  \\n\\nFirstly, it's definitely treacherous.  When we arrived between 730 and 8 on a Saturday morning, there were about four, maybe five firetrucks in the parking area...these rescue/aid teams just camp out there, I think, because of all the doofuses who don't plan accordingly waterwise or overestimate their ability to make this climb.  Also, two different areas of the Echo Canyon trail are especially steep and potentially slick, so they've installed some metal railings to help you along there...but only if you've got some gloves or if the temperature is moderate (uhhhh,...that doesn't really happen in Phoenix during the day in summer), because those damn things get hot enough to fry an egg.  Also - water, water, water.  Bring a LOT, or top off at the start of the trail before you go up (though the water out of that tap attached to the water fountain is about 85 degrees, yuk). \\n\\nIt was a fun jaunt.  The view was worth it - not entirely picturesque as far as nature goes, but it was nice view of the city and surrounding area.  If you go, just be wary of the sun/heat, and know that you'll be clambering over and around boulders and such.  (If you trip, it's CURTAINS!)\"\n        ],\n        \"semantic_type\": \"\",\n        \"description\": \"\"\n      }\n    },\n    {\n      \"column\": \"is_good_review\",\n      \"properties\": {\n        \"dtype\": \"boolean\",\n        \"num_unique_values\": 2,\n        \"samples\": [\n          false,\n          true\n        ],\n        \"semantic_type\": \"\",\n        \"description\": \"\"\n      }\n    }\n  ]\n}",
              "type": "dataframe",
              "variable_name": "yelp"
            },
            "text/html": [
              "\n",
              "  <div id=\"df-353894f8-d27b-4b30-8494-ed06af6755e0\" class=\"colab-df-container\">\n",
              "    <div>\n",
              "<style scoped>\n",
              "    .dataframe tbody tr th:only-of-type {\n",
              "        vertical-align: middle;\n",
              "    }\n",
              "\n",
              "    .dataframe tbody tr th {\n",
              "        vertical-align: top;\n",
              "    }\n",
              "\n",
              "    .dataframe thead th {\n",
              "        text-align: right;\n",
              "    }\n",
              "</style>\n",
              "<table border=\"1\" class=\"dataframe\">\n",
              "  <thead>\n",
              "    <tr style=\"text-align: right;\">\n",
              "      <th></th>\n",
              "      <th>stars</th>\n",
              "      <th>text</th>\n",
              "      <th>is_good_review</th>\n",
              "    </tr>\n",
              "  </thead>\n",
              "  <tbody>\n",
              "    <tr>\n",
              "      <th>0</th>\n",
              "      <td>5</td>\n",
              "      <td>My wife took me here on my birthday for breakf...</td>\n",
              "      <td>True</td>\n",
              "    </tr>\n",
              "    <tr>\n",
              "      <th>1</th>\n",
              "      <td>5</td>\n",
              "      <td>I have no idea why some people give bad review...</td>\n",
              "      <td>True</td>\n",
              "    </tr>\n",
              "    <tr>\n",
              "      <th>2</th>\n",
              "      <td>5</td>\n",
              "      <td>Rosie, Dakota, and I LOVE Chaparral Dog Park!!...</td>\n",
              "      <td>True</td>\n",
              "    </tr>\n",
              "    <tr>\n",
              "      <th>3</th>\n",
              "      <td>5</td>\n",
              "      <td>General Manager Scott Petello is a good egg!!!...</td>\n",
              "      <td>True</td>\n",
              "    </tr>\n",
              "    <tr>\n",
              "      <th>4</th>\n",
              "      <td>5</td>\n",
              "      <td>Drop what you're doing and drive here. After I...</td>\n",
              "      <td>True</td>\n",
              "    </tr>\n",
              "  </tbody>\n",
              "</table>\n",
              "</div>\n",
              "    <div class=\"colab-df-buttons\">\n",
              "\n",
              "  <div class=\"colab-df-container\">\n",
              "    <button class=\"colab-df-convert\" onclick=\"convertToInteractive('df-353894f8-d27b-4b30-8494-ed06af6755e0')\"\n",
              "            title=\"Convert this dataframe to an interactive table.\"\n",
              "            style=\"display:none;\">\n",
              "\n",
              "  <svg xmlns=\"http://www.w3.org/2000/svg\" height=\"24px\" viewBox=\"0 -960 960 960\">\n",
              "    <path d=\"M120-120v-720h720v720H120Zm60-500h600v-160H180v160Zm220 220h160v-160H400v160Zm0 220h160v-160H400v160ZM180-400h160v-160H180v160Zm440 0h160v-160H620v160ZM180-180h160v-160H180v160Zm440 0h160v-160H620v160Z\"/>\n",
              "  </svg>\n",
              "    </button>\n",
              "\n",
              "  <style>\n",
              "    .colab-df-container {\n",
              "      display:flex;\n",
              "      gap: 12px;\n",
              "    }\n",
              "\n",
              "    .colab-df-convert {\n",
              "      background-color: #E8F0FE;\n",
              "      border: none;\n",
              "      border-radius: 50%;\n",
              "      cursor: pointer;\n",
              "      display: none;\n",
              "      fill: #1967D2;\n",
              "      height: 32px;\n",
              "      padding: 0 0 0 0;\n",
              "      width: 32px;\n",
              "    }\n",
              "\n",
              "    .colab-df-convert:hover {\n",
              "      background-color: #E2EBFA;\n",
              "      box-shadow: 0px 1px 2px rgba(60, 64, 67, 0.3), 0px 1px 3px 1px rgba(60, 64, 67, 0.15);\n",
              "      fill: #174EA6;\n",
              "    }\n",
              "\n",
              "    .colab-df-buttons div {\n",
              "      margin-bottom: 4px;\n",
              "    }\n",
              "\n",
              "    [theme=dark] .colab-df-convert {\n",
              "      background-color: #3B4455;\n",
              "      fill: #D2E3FC;\n",
              "    }\n",
              "\n",
              "    [theme=dark] .colab-df-convert:hover {\n",
              "      background-color: #434B5C;\n",
              "      box-shadow: 0px 1px 3px 1px rgba(0, 0, 0, 0.15);\n",
              "      filter: drop-shadow(0px 1px 2px rgba(0, 0, 0, 0.3));\n",
              "      fill: #FFFFFF;\n",
              "    }\n",
              "  </style>\n",
              "\n",
              "    <script>\n",
              "      const buttonEl =\n",
              "        document.querySelector('#df-353894f8-d27b-4b30-8494-ed06af6755e0 button.colab-df-convert');\n",
              "      buttonEl.style.display =\n",
              "        google.colab.kernel.accessAllowed ? 'block' : 'none';\n",
              "\n",
              "      async function convertToInteractive(key) {\n",
              "        const element = document.querySelector('#df-353894f8-d27b-4b30-8494-ed06af6755e0');\n",
              "        const dataTable =\n",
              "          await google.colab.kernel.invokeFunction('convertToInteractive',\n",
              "                                                    [key], {});\n",
              "        if (!dataTable) return;\n",
              "\n",
              "        const docLinkHtml = 'Like what you see? Visit the ' +\n",
              "          '<a target=\"_blank\" href=https://colab.research.google.com/notebooks/data_table.ipynb>data table notebook</a>'\n",
              "          + ' to learn more about interactive tables.';\n",
              "        element.innerHTML = '';\n",
              "        dataTable['output_type'] = 'display_data';\n",
              "        await google.colab.output.renderOutput(dataTable, element);\n",
              "        const docLink = document.createElement('div');\n",
              "        docLink.innerHTML = docLinkHtml;\n",
              "        element.appendChild(docLink);\n",
              "      }\n",
              "    </script>\n",
              "  </div>\n",
              "\n",
              "\n",
              "<div id=\"df-4a0a5a7c-1a55-43bd-a30e-9d5760885ecb\">\n",
              "  <button class=\"colab-df-quickchart\" onclick=\"quickchart('df-4a0a5a7c-1a55-43bd-a30e-9d5760885ecb')\"\n",
              "            title=\"Suggest charts\"\n",
              "            style=\"display:none;\">\n",
              "\n",
              "<svg xmlns=\"http://www.w3.org/2000/svg\" height=\"24px\"viewBox=\"0 0 24 24\"\n",
              "     width=\"24px\">\n",
              "    <g>\n",
              "        <path d=\"M19 3H5c-1.1 0-2 .9-2 2v14c0 1.1.9 2 2 2h14c1.1 0 2-.9 2-2V5c0-1.1-.9-2-2-2zM9 17H7v-7h2v7zm4 0h-2V7h2v10zm4 0h-2v-4h2v4z\"/>\n",
              "    </g>\n",
              "</svg>\n",
              "  </button>\n",
              "\n",
              "<style>\n",
              "  .colab-df-quickchart {\n",
              "      --bg-color: #E8F0FE;\n",
              "      --fill-color: #1967D2;\n",
              "      --hover-bg-color: #E2EBFA;\n",
              "      --hover-fill-color: #174EA6;\n",
              "      --disabled-fill-color: #AAA;\n",
              "      --disabled-bg-color: #DDD;\n",
              "  }\n",
              "\n",
              "  [theme=dark] .colab-df-quickchart {\n",
              "      --bg-color: #3B4455;\n",
              "      --fill-color: #D2E3FC;\n",
              "      --hover-bg-color: #434B5C;\n",
              "      --hover-fill-color: #FFFFFF;\n",
              "      --disabled-bg-color: #3B4455;\n",
              "      --disabled-fill-color: #666;\n",
              "  }\n",
              "\n",
              "  .colab-df-quickchart {\n",
              "    background-color: var(--bg-color);\n",
              "    border: none;\n",
              "    border-radius: 50%;\n",
              "    cursor: pointer;\n",
              "    display: none;\n",
              "    fill: var(--fill-color);\n",
              "    height: 32px;\n",
              "    padding: 0;\n",
              "    width: 32px;\n",
              "  }\n",
              "\n",
              "  .colab-df-quickchart:hover {\n",
              "    background-color: var(--hover-bg-color);\n",
              "    box-shadow: 0 1px 2px rgba(60, 64, 67, 0.3), 0 1px 3px 1px rgba(60, 64, 67, 0.15);\n",
              "    fill: var(--button-hover-fill-color);\n",
              "  }\n",
              "\n",
              "  .colab-df-quickchart-complete:disabled,\n",
              "  .colab-df-quickchart-complete:disabled:hover {\n",
              "    background-color: var(--disabled-bg-color);\n",
              "    fill: var(--disabled-fill-color);\n",
              "    box-shadow: none;\n",
              "  }\n",
              "\n",
              "  .colab-df-spinner {\n",
              "    border: 2px solid var(--fill-color);\n",
              "    border-color: transparent;\n",
              "    border-bottom-color: var(--fill-color);\n",
              "    animation:\n",
              "      spin 1s steps(1) infinite;\n",
              "  }\n",
              "\n",
              "  @keyframes spin {\n",
              "    0% {\n",
              "      border-color: transparent;\n",
              "      border-bottom-color: var(--fill-color);\n",
              "      border-left-color: var(--fill-color);\n",
              "    }\n",
              "    20% {\n",
              "      border-color: transparent;\n",
              "      border-left-color: var(--fill-color);\n",
              "      border-top-color: var(--fill-color);\n",
              "    }\n",
              "    30% {\n",
              "      border-color: transparent;\n",
              "      border-left-color: var(--fill-color);\n",
              "      border-top-color: var(--fill-color);\n",
              "      border-right-color: var(--fill-color);\n",
              "    }\n",
              "    40% {\n",
              "      border-color: transparent;\n",
              "      border-right-color: var(--fill-color);\n",
              "      border-top-color: var(--fill-color);\n",
              "    }\n",
              "    60% {\n",
              "      border-color: transparent;\n",
              "      border-right-color: var(--fill-color);\n",
              "    }\n",
              "    80% {\n",
              "      border-color: transparent;\n",
              "      border-right-color: var(--fill-color);\n",
              "      border-bottom-color: var(--fill-color);\n",
              "    }\n",
              "    90% {\n",
              "      border-color: transparent;\n",
              "      border-bottom-color: var(--fill-color);\n",
              "    }\n",
              "  }\n",
              "</style>\n",
              "\n",
              "  <script>\n",
              "    async function quickchart(key) {\n",
              "      const quickchartButtonEl =\n",
              "        document.querySelector('#' + key + ' button');\n",
              "      quickchartButtonEl.disabled = true;  // To prevent multiple clicks.\n",
              "      quickchartButtonEl.classList.add('colab-df-spinner');\n",
              "      try {\n",
              "        const charts = await google.colab.kernel.invokeFunction(\n",
              "            'suggestCharts', [key], {});\n",
              "      } catch (error) {\n",
              "        console.error('Error during call to suggestCharts:', error);\n",
              "      }\n",
              "      quickchartButtonEl.classList.remove('colab-df-spinner');\n",
              "      quickchartButtonEl.classList.add('colab-df-quickchart-complete');\n",
              "    }\n",
              "    (() => {\n",
              "      let quickchartButtonEl =\n",
              "        document.querySelector('#df-4a0a5a7c-1a55-43bd-a30e-9d5760885ecb button');\n",
              "      quickchartButtonEl.style.display =\n",
              "        google.colab.kernel.accessAllowed ? 'block' : 'none';\n",
              "    })();\n",
              "  </script>\n",
              "</div>\n",
              "    </div>\n",
              "  </div>\n"
            ],
            "text/plain": [
              "   stars                                               text  is_good_review\n",
              "0      5  My wife took me here on my birthday for breakf...            True\n",
              "1      5  I have no idea why some people give bad review...            True\n",
              "2      5  Rosie, Dakota, and I LOVE Chaparral Dog Park!!...            True\n",
              "3      5  General Manager Scott Petello is a good egg!!!...            True\n",
              "4      5  Drop what you're doing and drive here. After I...            True"
            ]
          },
          "execution_count": 11,
          "metadata": {},
          "output_type": "execute_result"
        }
      ],
      "source": [
        "# Apply the function to the 'stars' column to create a new 'is_good_review' column.\n",
        "# This column will have a Boolean value where True represents a 'good' review and False represents a 'bad' review.\n",
        "yelp['is_good_review'] = yelp['stars'].apply(is_good_review)\n",
        "\n",
        "# Display the first few rows to verify the changes.\n",
        "yelp.head()"
      ]
    },
    {
      "cell_type": "code",
      "execution_count": null,
      "metadata": {
        "cellView": "form",
        "colab": {
          "base_uri": "https://localhost:8080/",
          "height": 332
        },
        "id": "0i1Ja6ZfESWr",
        "outputId": "aa88fcc6-ad09-47b0-9404-3c1862052c01"
      },
      "outputs": [
        {
          "ename": "NameError",
          "evalue": "name 'classify' is not defined",
          "output_type": "error",
          "traceback": [
            "\u001b[0;31m---------------------------------------------------------------------------\u001b[0m",
            "\u001b[0;31mNameError\u001b[0m                                 Traceback (most recent call last)",
            "\u001b[0;32m<ipython-input-12-739c68c1e4b2>\u001b[0m in \u001b[0;36m<cell line: 15>\u001b[0;34m()\u001b[0m\n\u001b[1;32m     13\u001b[0m \u001b[0my_true\u001b[0m \u001b[0;34m=\u001b[0m \u001b[0myelp\u001b[0m\u001b[0;34m[\u001b[0m\u001b[0;34m\"is_good_review\"\u001b[0m\u001b[0;34m]\u001b[0m\u001b[0;34m\u001b[0m\u001b[0;34m\u001b[0m\u001b[0m\n\u001b[1;32m     14\u001b[0m \u001b[0;31m#Use classify_rb to make predictions\u001b[0m\u001b[0;34m\u001b[0m\u001b[0;34m\u001b[0m\u001b[0m\n\u001b[0;32m---> 15\u001b[0;31m \u001b[0my_pred\u001b[0m \u001b[0;34m=\u001b[0m \u001b[0;34m[\u001b[0m\u001b[0mclassify\u001b[0m\u001b[0;34m(\u001b[0m\u001b[0mreview\u001b[0m\u001b[0;34m)\u001b[0m \u001b[0;32mfor\u001b[0m \u001b[0mreview\u001b[0m \u001b[0;32min\u001b[0m \u001b[0mreviews\u001b[0m\u001b[0;34m]\u001b[0m \u001b[0;31m# a list of predictions\u001b[0m\u001b[0;34m\u001b[0m\u001b[0;34m\u001b[0m\u001b[0m\n\u001b[0m\u001b[1;32m     16\u001b[0m \u001b[0;31m#Display the tweet with predicted and True category\u001b[0m\u001b[0;34m\u001b[0m\u001b[0;34m\u001b[0m\u001b[0m\n\u001b[1;32m     17\u001b[0m \u001b[0mshow_pred\u001b[0m\u001b[0;34m(\u001b[0m\u001b[0my_true\u001b[0m\u001b[0;34m,\u001b[0m\u001b[0my_pred\u001b[0m\u001b[0;34m)\u001b[0m\u001b[0;34m\u001b[0m\u001b[0;34m\u001b[0m\u001b[0m\n",
            "\u001b[0;32m<ipython-input-12-739c68c1e4b2>\u001b[0m in \u001b[0;36m<listcomp>\u001b[0;34m(.0)\u001b[0m\n\u001b[1;32m     13\u001b[0m \u001b[0my_true\u001b[0m \u001b[0;34m=\u001b[0m \u001b[0myelp\u001b[0m\u001b[0;34m[\u001b[0m\u001b[0;34m\"is_good_review\"\u001b[0m\u001b[0;34m]\u001b[0m\u001b[0;34m\u001b[0m\u001b[0;34m\u001b[0m\u001b[0m\n\u001b[1;32m     14\u001b[0m \u001b[0;31m#Use classify_rb to make predictions\u001b[0m\u001b[0;34m\u001b[0m\u001b[0;34m\u001b[0m\u001b[0m\n\u001b[0;32m---> 15\u001b[0;31m \u001b[0my_pred\u001b[0m \u001b[0;34m=\u001b[0m \u001b[0;34m[\u001b[0m\u001b[0mclassify\u001b[0m\u001b[0;34m(\u001b[0m\u001b[0mreview\u001b[0m\u001b[0;34m)\u001b[0m \u001b[0;32mfor\u001b[0m \u001b[0mreview\u001b[0m \u001b[0;32min\u001b[0m \u001b[0mreviews\u001b[0m\u001b[0;34m]\u001b[0m \u001b[0;31m# a list of predictions\u001b[0m\u001b[0;34m\u001b[0m\u001b[0;34m\u001b[0m\u001b[0m\n\u001b[0m\u001b[1;32m     16\u001b[0m \u001b[0;31m#Display the tweet with predicted and True category\u001b[0m\u001b[0;34m\u001b[0m\u001b[0;34m\u001b[0m\u001b[0m\n\u001b[1;32m     17\u001b[0m \u001b[0mshow_pred\u001b[0m\u001b[0;34m(\u001b[0m\u001b[0my_true\u001b[0m\u001b[0;34m,\u001b[0m\u001b[0my_pred\u001b[0m\u001b[0;34m)\u001b[0m\u001b[0;34m\u001b[0m\u001b[0;34m\u001b[0m\u001b[0m\n",
            "\u001b[0;31mNameError\u001b[0m: name 'classify' is not defined"
          ]
        }
      ],
      "source": [
        "# FIRST: Make sure your classifier returns True or False (for good vs. bad reviews)\n",
        "\n",
        "# Helper function to show predictions\n",
        "def show_pred(y_test,y_pred):\n",
        "  table=pd.DataFrame([[t for t in reviews],y_pred, y_true]).transpose()\n",
        "  table.columns = ['Text', 'Predicted Category', 'True Category']\n",
        "  accuracy = (sum(table['Predicted Category'] == table['True Category'])/len(table['True Category']))\n",
        "  print(\"Accuracy: {:.2%}\".format(accuracy))\n",
        "  return table\n",
        "\n",
        "reviews = yelp['text']\n",
        "#@title Bonus: test your rule based classifier's accuracy on all the reviews\n",
        "y_true = yelp[\"is_good_review\"]\n",
        "#Use classify_rb to make predictions\n",
        "y_pred = [classify(review) for review in reviews] # a list of predictions\n",
        "#Display the tweet with predicted and True category\n",
        "show_pred(y_true,y_pred)"
      ]
    },
    {
      "cell_type": "markdown",
      "metadata": {
        "id": "pby7LlwhEvpN"
      },
      "source": [
        "## ✂️ Tokenization\n",
        "\n",
        "The first step in processing text is **tokenization**, which involves breaking down the text from a single string into individual words, or \"tokens.\" Try it out yourself by entering some text into the cell below to see how it's tokenized into a list of words."
      ]
    },
    {
      "cell_type": "code",
      "execution_count": null,
      "metadata": {
        "cellView": "form",
        "colab": {
          "base_uri": "https://localhost:8080/"
        },
        "id": "7XOaa1uEEvpY",
        "outputId": "7b2a2b38-c758-4bfd-9a83-5ec7d1d61a7d"
      },
      "outputs": [
        {
          "name": "stdout",
          "output_type": "stream",
          "text": [
            "Tokens: ['What', \"'s\", 'the', 'word', '?']\n",
            "Number of tokens: 5\n"
          ]
        }
      ],
      "source": [
        "#@title Basic Tokenization Example\n",
        "#@markdown Enter any text in the field below to see how it is broken down into tokens. Tokenization splits the text into words or symbols.\n",
        "\n",
        "example_text = \"What's the word?\" #@param {type:\"string\"}\n",
        "\n",
        "# Check if the example text is not empty\n",
        "if example_text:\n",
        "    tokens = word_tokenize(example_text)\n",
        "    print(\"Tokens:\", tokens)\n",
        "    print(\"Number of tokens:\", len(tokens))\n",
        "else:\n",
        "    print(\"Please enter some text to tokenize.\")\n"
      ]
    },
    {
      "cell_type": "markdown",
      "metadata": {
        "id": "FFR1kisnXXYI"
      },
      "source": [
        "### 💬 Discussion: Analyzing Tokenization Rules\n",
        "\n",
        "1. **Tokenization Patterns:**\n",
        "   - Observe and discuss the rules the tokenizer follows when splitting text into tokens, especially how it handles punctuation like periods, commas, and hyphens.\n",
        "\n",
        "2. **Evaluation and Modification:**\n",
        "   - How does the tokenizer handle punctuation? What would you change about it?\n",
        "\n",
        "Reflect on these aspects and share your insights!"
      ]
    },
    {
      "cell_type": "markdown",
      "metadata": {
        "id": "XfIUrRtEWr3H"
      },
      "source": [
        "\n",
        "---\n",
        "\n",
        "## 📚 Understanding Word Embeddings with Word2Vec\n",
        "\n",
        "When we work with text in machine learning, we can't use words directly. Instead, we need to convert words into **vectors** or **embeddings**. Think of these as lists of numbers that represent each word in a way that a computer can understand and process.\n",
        "\n",
        "### What is Word2Vec?\n",
        "\n",
        "**Word2Vec** is a popular method to create these embeddings. It was developed by researchers at Google and has become a standard tool in machine learning for handling text. Word2Vec transforms each word into a dense vector that captures much more information about the word than just its meaning. For instance, words that appear in similar contexts, like \"school\" and \"teacher,\" will have vectors that are closer together or are more 'similar'.\n",
        "\n",
        "### How Does Word2Vec Work?\n",
        "\n",
        "Word2Vec models are trained to understand language based on actual sentences. It looks at each word and its neighboring words to predict words from context, or the other way around.\n",
        "\n",
        "\n",
        "### Visualizing Word2Vec Embeddings\n",
        "\n",
        "The image below displays a Word2Vec model's word embeddings plotted in a three-dimensional space. Each dot represents a word, and its position is determined by the similarity its' meaning has to other words. Words that are similar are clustered together. Don't worry about what the axis represents; all the matters is how close they are to each other!\n",
        "\n",
        "[Word2Vec Visualization](https://projector.tensorflow.org/)\n",
        "\n",
        "**Explore the Visualization:**\n",
        "- **Feel free to zoom in on the clusters to observe how closely related the words are.**\n",
        "\n",
        "### Why Use Word2Vec?\n",
        "\n",
        "Word2Vec allows computers to understand words in a more human-like way, recognizing synonyms, related terms, and even grammatical patterns. This ability is incredibly powerful for tasks like translation, search engines, and of course as it applies to us, sentiment analysis."
      ]
    },
    {
      "cell_type": "markdown",
      "metadata": {
        "id": "OsbhSYwqYMzC"
      },
      "source": [
        "## 🔍 Exploring Word Embeddings with spaCy\n",
        "\n",
        "Having seen how Word2Vec can visualize semantic relationships between words, let's now apply these concepts practically using the spaCy!\n",
        "\n",
        "### Understanding Our Tools\n",
        "\n",
        "- **Model Overview:** We will use `en_core_web_md`, a medium-sized Word2Vec model provided by spaCy. This model has been trained on a vast corpus of text from the internet, enabling it to understand language by analyzing the contexts in which words appear.\n",
        "- **Helper Function:** We've provided a function `word2vec(word)` that uses this model to convert any given word into its corresponding word embedding. This representation captures the word's semantic essence based on its usage across millions of sentences.\n",
        "\n",
        "You can use the function like this: `vec = word2vec(word)`\n",
        "\n",
        "Let's start by converting words to their emebddings!"
      ]
    },
    {
      "cell_type": "code",
      "execution_count": null,
      "metadata": {
        "cellView": "form",
        "id": "7GxKgy5uv1Jz"
      },
      "outputs": [],
      "source": [
        "#@title Click here to load the word2vec function!\n",
        "import warnings\n",
        "warnings.filterwarnings('ignore')\n",
        "\n",
        "# Load the SpaCy Word2Vec model\n",
        "# spacy.prefer_gpu()\n",
        "text_to_nlp = en_core_web_md.load()\n",
        "\n",
        "# Function to convert a word to its vector representation\n",
        "def word2vec(word):\n",
        "    return text_to_nlp(word).vector"
      ]
    },
    {
      "cell_type": "markdown",
      "metadata": {
        "id": "qY5fq4YadDC5"
      },
      "source": [
        "### 💡 Exercise: Word Embeddings\n",
        "\n",
        "Retrieve the word embedding for the word \"student\" using the provided `word2vec` function. Then, discuss the following:\n",
        "\n",
        "- Determine the length of the embedding vector for \"student.\" What does this tell you about the nature of word embeddings?\n",
        "- Compare the length of vectors for different words. Are they consistent across various words?\n"
      ]
    },
    {
      "cell_type": "code",
      "execution_count": null,
      "metadata": {
        "colab": {
          "base_uri": "https://localhost:8080/"
        },
        "id": "TzpMqkYdYMzD",
        "outputId": "50b44609-ed55-452d-b8cd-9b74ba159b9f"
      },
      "outputs": [
        {
          "name": "stdout",
          "output_type": "stream",
          "text": [
            "Word Embedding: [ 0.70947  -1.447    -0.91373  -2.9556   -1.8241    2.8345    2.3923\n",
            " -0.57477  -1.621     0.16752   6.0839    2.2164   -1.8643   -0.045152\n",
            "  0.012287 -0.15279   0.91832   1.7335   -2.5788    5.3738   -2.3706\n",
            " -1.8094    2.4631   -0.071349  4.012     0.19972  -1.8621    4.0959\n",
            "  0.36226   2.6169   -2.9393   -0.78333  -1.9259    1.9466   -2.272\n",
            "  3.4981   -0.34451  -1.5301   -0.66375   0.84459  -2.8242    1.4232\n",
            " -0.51231   1.9394    3.4234   -0.72208  -1.1099   -3.4392    0.91627\n",
            "  0.43979  -1.1705    2.3298   -0.78921   0.97319   0.54315   2.2152\n",
            "  0.97623  -3.1421   -0.16487  -2.8262    1.4849    0.472    -0.23798\n",
            "  1.32      2.3619    1.8796    1.1579   -4.5594    1.9785    4.7272\n",
            " -0.12843   1.1377    1.5821   -0.14067   2.7665   -0.64967  -5.7703\n",
            "  2.2519   -2.2623    2.5459   -4.0099   -3.7141    0.051947 -2.3854\n",
            " -3.3662    5.1974   -1.6506   -1.8332   -0.78364  -2.3839   -0.20345\n",
            " -2.15      1.2225   -1.9629   -0.92054   0.53595  -3.0698    1.3871\n",
            "  4.7269    2.6456    1.0894    2.4332   -0.12417   0.18999  -1.984\n",
            "  0.16824   1.2675   -2.2256    0.84759  -1.9464    2.4558   -1.7543\n",
            " -0.18964   0.70252   2.0826    0.20544  -2.4866    0.23239  -3.2184\n",
            " -3.9418   -1.6156    1.4325    0.18878   2.1641    2.3628   -0.95899\n",
            "  0.54927   1.9055    1.5498   -3.3534   -2.3527   -0.37247   1.9874\n",
            " -3.6495    1.2118    1.0175   -2.1522    2.7743    3.3495   -0.86207\n",
            " -0.12995   2.568    -0.46287   3.3049    5.3392   -0.64468  -1.7931\n",
            " -2.9638    0.51137   0.13061   2.1364   -0.12424   2.986     0.23239\n",
            " -3.0907   -2.324     3.0722    2.5611   -1.4127   -6.1002    0.035993\n",
            " -1.394    -0.76628   3.4725   -0.6315   -3.7604   -1.6658    1.2853\n",
            " -4.659    -2.6611    4.5365    0.69496  -0.52665   2.3041    4.6735\n",
            "  1.7798    2.2445   -4.2873   -2.6357   -2.6928   -2.4297    2.7716\n",
            "  5.726    -1.7643   -0.92635  -0.035677  2.2747   -2.0395    0.49284\n",
            "  3.4228   -1.5456   -2.6671   -2.1221    2.1802    2.6581   -1.6159\n",
            " -1.0565    2.1486    3.6129    3.1161    0.14918   1.8654    0.77676\n",
            " -2.6957    1.4187   -2.8448   -0.96848   0.09929  -2.8094   -5.2168\n",
            " -0.17105  -2.0869    1.8223    1.4159   -4.4582   -1.0473   -0.3567\n",
            "  0.24652   1.4764    4.1413   -1.5471   -1.3931   -0.32671   4.1901\n",
            " -1.3366    0.38609   1.2676   -1.311     0.039975  4.1982    0.12244\n",
            " -0.45435  -1.4101   -0.4097   -0.10984   1.9088    0.19341  -2.0329\n",
            " -5.6642    0.37861  -3.3106    5.4562    2.3917    2.2912    3.0971\n",
            "  3.4797   -1.8387    0.56386  -0.08991   2.1928    2.0966    2.682\n",
            " -3.9737    1.8486   -6.148     4.1374    1.5236   -2.3925    1.0386\n",
            "  1.5475    0.48318  -2.2499    2.3008   -3.5072    3.0178   -0.6159\n",
            " -0.53144   0.3869   -3.816    -0.51553  -3.2457    5.81     -3.8823\n",
            " -4.4532   -1.9151   -2.0928    1.5206   -0.40617  -3.1583    4.1603\n",
            "  0.90876  -2.5585    2.05     -2.9593    4.8512    1.4994    3.3431\n",
            "  2.4239   -2.1634   -4.1827    1.6985   -2.43     -4.2066   -6.362\n",
            " -0.90859  -4.7226    2.5538    4.3294   -3.931     0.83486 ]\n",
            "Length of Word Embedding: 300\n"
          ]
        }
      ],
      "source": [
        "# Define the word you want to analyze\n",
        "word = \"student\"\n",
        "word2 = \"teacher\"\n",
        "# Retrieve the word embedding vector for the word \"student\"\n",
        "word_embedding = word2vec(word) # Replace None with the function call to get the vector\n",
        "\n",
        "# Get the length of the word embedding vector\n",
        "length_word_embedding = word_embedding.size  # Replace None with code to calculate the length of the vector\n",
        "\n",
        "# Print the word embedding vector and its length\n",
        "print(\"Word Embedding:\", word_embedding)\n",
        "print(\"Length of Word Embedding:\", length_word_embedding)\n"
      ]
    },
    {
      "cell_type": "markdown",
      "metadata": {
        "id": "t2euEDp-YMzE"
      },
      "source": [
        "# ✍ Similarity Using Word Vectors\n",
        "\n",
        "Word vectors allow us to quantify how similar two words are by comparing their embeddings (i.e. vectors). To measure this similarity, we use the cosine similarity metric, which can be calculated using the function `cosine(vector1, vector2)`.\n",
        "\n"
      ]
    },
    {
      "cell_type": "markdown",
      "metadata": {
        "id": "kCIwyK2WNx2R"
      },
      "source": [
        "![](https://storage.googleapis.com/lds-media/images/cosine-similarity-vectors.original.jpg)"
      ]
    },
    {
      "cell_type": "markdown",
      "metadata": {
        "id": "-GsnUMqQOEn5"
      },
      "source": [
        "### 💡 Exercise\n",
        "\n",
        "Your task is to explore the similarity between word pairs:\n",
        "\n",
        "**Compute Similarity:**\n",
        "   - Write code to compute the similarity score between the words \"walk\" and \"run\".\n",
        "\n",
        "**Experiment with Pairs:**\n",
        "   - Find pairs of words where:\n",
        "     - The similarity score is greater than 0.8.\n",
        "     - The similarity score is less than 0.2.\n",
        "     - The similarity score is unexpectedly high or low based on your intuition about the words.\n",
        "\n",
        "Use the cosine similarity function mentioned above to carry out these comparisons, and discuss your findings. Remember, you'll need to transform your words to vectors first!\n"
      ]
    },
    {
      "cell_type": "code",
      "execution_count": null,
      "metadata": {
        "colab": {
          "base_uri": "https://localhost:8080/"
        },
        "id": "Pu5iHeVvYMzF",
        "outputId": "e8da7ec5-043a-4ef7-fc2e-47196faae78f"
      },
      "outputs": [
        {
          "data": {
            "text/plain": [
              "0.6769846"
            ]
          },
          "execution_count": 36,
          "metadata": {},
          "output_type": "execute_result"
        }
      ],
      "source": [
        "### YOUR CODE HERE\n",
        "def similarity(word1, word2):\n",
        "  embed1 = word2vec(word1)\n",
        "  embed2 = word2vec(word2)\n",
        "  return cosine(embed1, embed2)\n",
        "\n",
        "similarity('create', 'creative')\n",
        "### END CODE"
      ]
    },
    {
      "cell_type": "markdown",
      "metadata": {
        "id": "y0TWV1RLYMzF"
      },
      "source": [
        "## 🎓 **[Optional]** Advanced Challenge Exercise: Computing Cosine Similarity\n",
        "\n",
        "Cosine similarity measures the cosine of the angle between two non-zero vectors. This is used to assess how close two items are. It ranges from -1 (exactly opposite) to 1 (exactly the same), with 0 typically indicating no similarity."
      ]
    },
    {
      "cell_type": "markdown",
      "metadata": {
        "id": "K0aSqswQvzuP"
      },
      "source": [
        "### 📐 Cosine Similarity Formula\n",
        "\n",
        "The cosine similarity between two vectors $ \\mathbf{A} $ and $ \\mathbf{B} $ is calculated as follows:\n",
        "\n",
        "$$ \\text{Cosine Similarity} = \\frac{\\mathbf{A} \\cdot \\mathbf{B}}{\\|\\mathbf{A}\\| \\|\\mathbf{B}\\|} $$\n",
        "\n",
        "Where:\n",
        "- $ \\mathbf{A} \\cdot \\mathbf{B} $ is the dot product of the vectors,\n",
        "- $ \\|\\mathbf{A}\\| $ and $ \\|\\mathbf{B}\\| $ are the norms (or magnitudes) of the vectors. Really, this is just another fancy way of saying \"length\".\n",
        "\n",
        "To successfully implement this, here are some helpful hints regarding the functions and libraries you might need:\n",
        "\n"
      ]
    },
    {
      "cell_type": "markdown",
      "metadata": {
        "id": "vomAid3tv-PJ"
      },
      "source": [
        "#### Functions and Methods to Use:\n",
        "1. **`np.dot()` or `@` operator:** Use this to compute the dot product of two vectors. This function takes two arrays and returns their dot product.\n",
        "   \n",
        "   ```python\n",
        "   dot_product = np.dot(vector1, vector2)\n",
        "   # or\n",
        "   dot_product = vector1 @ vector2\n",
        "   ```\n",
        "\n",
        "2. **`np.linalg.norm()`:** This function computes the norm (magnitude) of a vector. You'll need to calculate the norm for both vectors involved in the cosine similarity.\n",
        "\n",
        "   ```python\n",
        "   norm_vector = np.linalg.norm(vector1)\n",
        "   ```\n",
        "   \n",
        "Use these functions to calculate the cosine similarity according to the formula:\n",
        "\n",
        "$$ \\text{Cosine Similarity} = \\frac{\\mathbf{A} \\cdot \\mathbf{B}}{\\|\\mathbf{A}\\| \\|\\mathbf{B}\\|} $$"
      ]
    },
    {
      "cell_type": "code",
      "execution_count": null,
      "metadata": {
        "collapsed": true,
        "id": "BMYUC8E1n3Os"
      },
      "outputs": [],
      "source": [
        "#Your code here! Assume the vectors are numpy arrays already!\n",
        "def my_cosine_similarity(vec1, vec2):\n",
        "    dot_product = np.dot(vec1, vec2) #Fill me in\n",
        "    norm_vec1 = (np.sum(vec1**2))**0.5   #Fill me in\n",
        "    norm_vec2 = (np.sum(vec2**2))**0.5   #Fill me in\n",
        "    similarity = dot_product / (norm_vec1 * norm_vec2)  #Fill me in\n",
        "    return similarity\n"
      ]
    },
    {
      "cell_type": "code",
      "execution_count": null,
      "metadata": {
        "cellView": "form",
        "colab": {
          "base_uri": "https://localhost:8080/"
        },
        "id": "sUsZqA6zyn54",
        "outputId": "f3cf3b52-30c5-4339-bd57-4e021f62613e"
      },
      "outputs": [
        {
          "name": "stdout",
          "output_type": "stream",
          "text": [
            "Cosine Similarity: 0.9875414397573881\n",
            "Correct answer: 0.9875414397573881\n"
          ]
        }
      ],
      "source": [
        "#@title Run this to check if your function is correct!\n",
        "\n",
        "# Example vectors\n",
        "vector1 = np.array([1, 2, 3])\n",
        "vector2 = np.array([1, 5, 7])\n",
        "\n",
        "# Compute the cosine similarity\n",
        "similarity_score = my_cosine_similarity(vector1, vector2)\n",
        "print(\"Cosine Similarity:\", similarity_score)\n",
        "print(\"Correct answer: 0.9875414397573881\")"
      ]
    },
    {
      "cell_type": "markdown",
      "metadata": {
        "id": "4zb-eRcBSe8Y"
      },
      "source": [
        "## 🔄 Putting it all together: Preparing Your Data for the Model\n",
        "\n",
        "Having explored tokenization and word embeddings, we're now ready to apply these concepts to prepare our data for the model! This step is crucial as it transforms raw text into a structured format that our machine learning algorithms can understand and learn from."
      ]
    },
    {
      "cell_type": "markdown",
      "metadata": {
        "id": "VMdxEB-kTVHu"
      },
      "source": [
        "### 💡 Exercise\n",
        "Identify which columns in the `yelp` dataframe should be used as your X (inputs/features) and which should be your y (outputs/labels). Complete the following code to specify these columns:\n"
      ]
    },
    {
      "cell_type": "code",
      "execution_count": null,
      "metadata": {
        "id": "6t6HQm1vEvrQ"
      },
      "outputs": [],
      "source": [
        "# Specify the input features (X) and output labels (y) from the 'yelp' dataframe\n",
        "X_columns = \"text\" # Replace with the names of column to be used as input features\n",
        "y_column = \"is_good_review\"  # Replace with the name of the column to be used as output labels\n",
        "\n",
        "\n",
        "X_text = yelp[X_columns]\n",
        "y = yelp[y_column]"
      ]
    },
    {
      "cell_type": "markdown",
      "metadata": {
        "id": "osD1DSmXTl_w"
      },
      "source": [
        "##💡 Exercise: Preparing Text Data for Machine Learning\n",
        "\n",
        "In this exercise, you'll use some functions we wrote  to prepare text data for a machine learning model. This involves tokenizing the text, converting it into numerical embeddings, and making sure each text entry is the same length before feeding it into the model!\n",
        "\n",
        "1. **Load and Tokenize Text:**\n",
        "   - Use the function `tokenize_and_embed(text_data)` to process your text data in batches. This function handles the tokenization and conversion of text into embeddings for you.\n",
        "\n",
        "2. **Standardize Text Length:**\n",
        "   - Apply `standardize_length(embeddings)` to ensure that all text data have the same number of features. This function finds the longest text and pads the others accordingly.\n",
        "\n",
        "3. **Convert to Machine Learning Format:**\n",
        "   - Finally, use `convert_to_array(padded_embeddings)` to transform your standardized text data into a format suitable for machine learning models.\n",
        "\n",
        "<!--\n",
        "\n",
        "**Disclaimer: Simplifying Text Processing for Educational Purposes**\n",
        "\n",
        "In this educational module, we are focusing on higher-level concepts and applications of machine learning rather than delving deeply into every preprocessing step. One such step we are simplifying is the process of standardizing the length of text entries before they are fed into a machine learning model.\n",
        "\n",
        "Ensuring that each text entry is the same length is crucial for many machine learning algorithms, especially neural networks, as they require fixed-size inputs. This process, often achieved through padding shorter texts with zeros, can involve intricate choices about text truncation, padding strategies, and the handling of embeddings.\n",
        "\n",
        "However, to keep our focus on the broader application of natural language processing (NLP) techniques and to ensure that students are not overwhelmed by the complexity of data preprocessing, we are using predefined functions to manage this step. This approach allows students to concentrate on understanding how machine learning models operate on text data and the impact of NLP in real-world applications, rather than getting bogged down in the details of text length standardization.\n",
        "\n",
        "By abstracting away these details, we aim to make the learning experience more accessible and engaging, allowing students to build a foundational understanding before tackling more complex aspects of NLP and AI. -->"
      ]
    },
    {
      "cell_type": "code",
      "execution_count": null,
      "metadata": {
        "cellView": "form",
        "id": "Zso1fJYg0KC5"
      },
      "outputs": [],
      "source": [
        "#@title Run This to Load Our Functions!\n",
        "\n",
        "def tokenize_and_embed(text_data):\n",
        "    \"\"\"\n",
        "    Tokenizes the text data and converts it to word embeddings using SpaCy.\n",
        "    Args:\n",
        "        text_data (list): A list of text strings to be processed.\n",
        "    Returns:\n",
        "        list: A list of lists containing embeddings for each token in each document.\n",
        "    \"\"\"\n",
        "    docs = list(text_to_nlp.pipe(text_data))\n",
        "    embeddings = [[token.vector for token in doc] for doc in docs]\n",
        "    return embeddings\n",
        "\n",
        "def standardize_length(embeddings):\n",
        "    \"\"\"\n",
        "    Ensures all embedding lists are the same length by padding shorter ones with zero vectors.\n",
        "    Args:\n",
        "        embeddings (list): A list of lists of embeddings.\n",
        "    Returns:\n",
        "        list: A list of lists with padded embeddings to ensure uniform length.\n",
        "    \"\"\"\n",
        "    max_length = max(len(tokens) for tokens in embeddings)\n",
        "    embedding_dim = len(embeddings[0][0]) if embeddings[0] else 0\n",
        "    padded_embeddings = [[np.zeros(embedding_dim)] * (max_length - len(tokens)) + tokens for tokens in embeddings]\n",
        "    return padded_embeddings\n",
        "\n",
        "def convert_to_array(padded_embeddings):\n",
        "    \"\"\"\n",
        "    Converts a list of padded embeddings into a numpy array.\n",
        "    Args:\n",
        "        padded_embeddings (list): A list of lists of padded embeddings.\n",
        "    Returns:\n",
        "        numpy.ndarray: A numpy array containing the embeddings suitable for machine learning input.\n",
        "    \"\"\"\n",
        "    return np.array(padded_embeddings)"
      ]
    },
    {
      "cell_type": "code",
      "execution_count": null,
      "metadata": {
        "colab": {
          "base_uri": "https://localhost:8080/"
        },
        "id": "Ar52_VyM0s6Y",
        "outputId": "390a4d88-8fdb-47a6-e27b-ce5d3d0d2265"
      },
      "outputs": [
        {
          "name": "stdout",
          "output_type": "stream",
          "text": [
            "The shape of our dataset is now: (1000, 1085, 300)\n"
          ]
        }
      ],
      "source": [
        "# X_text contains our text data to be processed\n",
        "X_embeddings = tokenize_and_embed(X_text)  # Tokenize and get embeddings\n",
        "\n",
        "X_padded = standardize_length(X_embeddings)  # Standardize lengths\n",
        "\n",
        "X = convert_to_array(X_padded)  # Convert to numpy array suitable for model input\n",
        "\n",
        "print(f\"The shape of our dataset is now: {X.shape}\")"
      ]
    },
    {
      "cell_type": "markdown",
      "metadata": {
        "id": "Jr5XHuLmVciq"
      },
      "source": [
        "## Exercise: Splitting Data into Training and Testing Sets\n",
        "\n",
        "Now that you have processed your reviews, the next step is to divide this data into training and testing sets.\n",
        "\n",
        "Use the `train_test_split()` function to create training and testing datasets.\n",
        "\n",
        "```python\n",
        "X_train, X_test, y_train, y_test = train_test_split(features, labels, test_size=.2, random_state=1)\n",
        "```\n",
        "\n",
        "- **test_size**: This parameter controls the proportion of the data that will be split into the testing set.\n",
        "\n",
        "<!--\n",
        "- **random_state**: Setting this parameter ensures that the split is reproducible. -->"
      ]
    },
    {
      "cell_type": "code",
      "execution_count": null,
      "metadata": {
        "id": "PThy6pNUEvsA"
      },
      "outputs": [],
      "source": [
        "#Fill in None!\n",
        "X_train, X_test, y_train, y_test = train_test_split(X, y, test_size=.2, random_state=1)"
      ]
    },
    {
      "cell_type": "markdown",
      "metadata": {
        "id": "42rl41sUXr0-"
      },
      "source": [
        "\n",
        "# Recurrent Neural Networks (RNNs)\n",
        "\n",
        "We are now going to explore a special type of neural network called a Recurrent Neural Network (RNN). While we have briefly touched on other types of neural networks before, RNNs are unique because they can process sequences of data in order. This makes them particularly useful for tasks where the sequence or the order of data points is important.\n",
        "\n",
        "\n",
        "**How Do RNNs Work?**\n",
        "\n",
        "<img src=\"https://stanford.edu/~shervine/teaching/cs-230/illustrations/rnn-many-to-many-different-ltr.png?8ca8bafd1eeac4e8c961d9293858407b\" width=\"500\">\n",
        "\n",
        "\n",
        "Unlike traditional neural networks, which treat each input independently, RNNs have loops in them that allow information to persist. In simpler terms, RNNs can remember information about what has been processed so far, enabling them to make predictions based on the sequence of data received.\n",
        "\n",
        "**Examples of RNN Applications:**\n",
        "\n",
        "- **Stock Prices Prediction:** RNNs can predict future stock prices by learning from past stock price trends.\n",
        "- **Language Modeling:** They can predict the next word in a sentence based on the words that came before, which is useful in text auto-completion tools.\n",
        "- **Weather Forecasting:** RNNs can predict future weather conditions by analyzing the patterns in past weather data.\n",
        "\n",
        "RNNs are well-suited and indispensable for many tasks in fields like finance, natural language processing, and meteorology!\n"
      ]
    },
    {
      "cell_type": "markdown",
      "metadata": {
        "id": "6yANSd0QWWu1"
      },
      "source": [
        "# Exercise\n",
        "\n",
        "We've built the RNN model for you! All you need to do is train it using the .fit() function."
      ]
    },
    {
      "cell_type": "code",
      "execution_count": null,
      "metadata": {
        "cellView": "form",
        "id": "m1zLNp8IRSbp"
      },
      "outputs": [],
      "source": [
        "#@title Run this to load the RNN Model!\n",
        "from tensorflow.keras.models import Sequential\n",
        "from tensorflow.keras.layers import LSTM, Dense, Dropout\n",
        "from tensorflow.keras.optimizers import Adam\n",
        "from tensorflow.keras.regularizers import l2\n",
        "from tensorflow.keras.callbacks import EarlyStopping\n",
        "\n",
        "class RNNClassifier:\n",
        "    def __init__(self, num_epochs=30, lstm_units=50, dropout_rate=0.7):\n",
        "        self.num_epochs = num_epochs\n",
        "        self.lstm_units = lstm_units\n",
        "        self.dropout_rate = dropout_rate\n",
        "        self.model = self.build_model()\n",
        "\n",
        "    def build_model(self):\n",
        "        model = Sequential()\n",
        "        model.add(LSTM(self.lstm_units, return_sequences=True))\n",
        "        model.add(Dropout(self.dropout_rate))\n",
        "        model.add(LSTM(self.lstm_units))\n",
        "        model.add(Dropout(self.dropout_rate))\n",
        "        model.add(Dense(1, activation='sigmoid'))\n",
        "        optimizer = Adam(learning_rate=0.001)\n",
        "        model.compile(loss='binary_crossentropy', optimizer=optimizer, metrics=['accuracy'])\n",
        "        return model\n",
        "\n",
        "    def fit(self, X_train, y_train, X_val=None, y_val=None, **kwargs):\n",
        "\n",
        "        \"\"\"\n",
        "        Comment is necessary due to how over complicated I made this. - joel\n",
        "\n",
        "        Fits the model to the training data. Supports optional validation data.\n",
        "        If validation data is provided, early stopping is used if not it's not! haha\n",
        "\n",
        "        Args:\n",
        "            X_train (array): Training data features.\n",
        "            y_train (array): Training data labels.\n",
        "            X_val (array, optional): Validation data features.\n",
        "            y_val (array, optional): Validation data labels.\n",
        "            **kwargs: Additional keyword arguments to pass to the model's fit method.\n",
        "\n",
        "        Returns:\n",
        "            A history object containing training history.\n",
        "        \"\"\"\n",
        "\n",
        "        if X_train is None and y_train is None:\n",
        "          print(\"Arguments are none. Retry with correct arguments.\")\n",
        "          return None\n",
        "\n",
        "        callbacks = kwargs.pop('callbacks', [])\n",
        "\n",
        "        if X_val is not None and y_val is not None:\n",
        "            early_stopping = EarlyStopping(monitor='val_loss', patience=5, restore_best_weights=True)\n",
        "            callbacks.append(early_stopping)\n",
        "            return self.model.fit(X_train, y_train, epochs=self.num_epochs, validation_data=(X_val, y_val), callbacks=callbacks, batch_size=32, verbose=1, **kwargs)\n",
        "        else:\n",
        "            return self.model.fit(X_train, y_train, epochs=self.num_epochs, batch_size=32, verbose=1, callbacks=callbacks, **kwargs)\n",
        "\n",
        "    def predict(self, *args, **kwargs):\n",
        "        predictions = self.model.predict(*args, **kwargs)\n",
        "        return (predictions > 0.5).astype(int)\n",
        "\n",
        "    def predict_proba(self, *args, **kwargs):\n",
        "        return self.model.predict(*args, **kwargs)\n",
        "\n",
        "    def score(self, X, y):\n",
        "        predictions = self.predict(X)\n",
        "        return accuracy_score(y, predictions)\n",
        "\n",
        "    def __getattr__(self, name):\n",
        "        if name != 'predict' and name != 'predict_proba':\n",
        "            return getattr(self.model, name)\n",
        "        else:\n",
        "            raise AttributeError(f\"'{self.__class__.__name__}' object has no attribute '{name}'\")"
      ]
    },
    {
      "cell_type": "code",
      "execution_count": null,
      "metadata": {
        "colab": {
          "background_save": true,
          "base_uri": "https://localhost:8080/"
        },
        "id": "VK-rAOubzVUi",
        "outputId": "f2737072-5ce6-48c0-e1da-a1008b0e41bf"
      },
      "outputs": [
        {
          "name": "stdout",
          "output_type": "stream",
          "text": [
            "Epoch 1/30\n",
            "25/25 [==============================] - 35s 1s/step - loss: 0.6421 - accuracy: 0.6575\n",
            "Epoch 2/30\n",
            "25/25 [==============================] - 34s 1s/step - loss: 0.5990 - accuracy: 0.6862\n",
            "Epoch 3/30\n",
            "25/25 [==============================] - 30s 1s/step - loss: 0.5567 - accuracy: 0.6925\n",
            "Epoch 4/30\n",
            "25/25 [==============================] - 30s 1s/step - loss: 0.4890 - accuracy: 0.7663\n",
            "Epoch 5/30\n",
            "25/25 [==============================] - 31s 1s/step - loss: 0.4390 - accuracy: 0.7962\n",
            "Epoch 6/30\n",
            "25/25 [==============================] - 35s 1s/step - loss: 0.3597 - accuracy: 0.8438\n",
            "Epoch 7/30\n",
            "25/25 [==============================] - 32s 1s/step - loss: 0.2896 - accuracy: 0.8838\n",
            "Epoch 8/30\n",
            "25/25 [==============================] - 31s 1s/step - loss: 0.2229 - accuracy: 0.9275\n",
            "Epoch 9/30\n",
            "25/25 [==============================] - 31s 1s/step - loss: 0.1642 - accuracy: 0.9588\n",
            "Epoch 10/30\n",
            "25/25 [==============================] - 31s 1s/step - loss: 0.1327 - accuracy: 0.9538\n",
            "Epoch 11/30\n",
            "25/25 [==============================] - 34s 1s/step - loss: 0.0832 - accuracy: 0.9800\n",
            "Epoch 12/30\n",
            "25/25 [==============================] - 31s 1s/step - loss: 0.0664 - accuracy: 0.9775\n",
            "Epoch 13/30\n",
            "25/25 [==============================] - 31s 1s/step - loss: 0.0693 - accuracy: 0.9775\n",
            "Epoch 14/30\n",
            "25/25 [==============================] - 31s 1s/step - loss: 0.0778 - accuracy: 0.9775\n",
            "Epoch 15/30\n",
            "25/25 [==============================] - 32s 1s/step - loss: 0.0496 - accuracy: 0.9812\n",
            "Epoch 16/30\n",
            "25/25 [==============================] - 34s 1s/step - loss: 0.0590 - accuracy: 0.9775\n",
            "Epoch 17/30\n",
            "25/25 [==============================] - 31s 1s/step - loss: 0.0627 - accuracy: 0.9825\n",
            "Epoch 18/30\n",
            "25/25 [==============================] - 31s 1s/step - loss: 0.0264 - accuracy: 0.9900\n",
            "Epoch 19/30\n",
            "25/25 [==============================] - 39s 2s/step - loss: 0.0498 - accuracy: 0.9887\n",
            "Epoch 20/30\n",
            "25/25 [==============================] - 31s 1s/step - loss: 0.0426 - accuracy: 0.9875\n",
            "Epoch 21/30\n",
            "25/25 [==============================] - 31s 1s/step - loss: 0.0633 - accuracy: 0.9825\n",
            "Epoch 22/30\n",
            "25/25 [==============================] - 30s 1s/step - loss: 0.0363 - accuracy: 0.9912\n",
            "Epoch 23/30\n",
            "25/25 [==============================] - 31s 1s/step - loss: 0.0381 - accuracy: 0.9862\n",
            "Epoch 24/30\n",
            "25/25 [==============================] - 32s 1s/step - loss: 0.0287 - accuracy: 0.9937\n",
            "Epoch 25/30\n",
            "25/25 [==============================] - 30s 1s/step - loss: 0.0206 - accuracy: 0.9962\n",
            "Epoch 26/30\n",
            "25/25 [==============================] - 32s 1s/step - loss: 0.0147 - accuracy: 0.9975\n",
            "Epoch 27/30\n",
            "25/25 [==============================] - 30s 1s/step - loss: 0.0094 - accuracy: 1.0000\n",
            "Epoch 28/30\n",
            "25/25 [==============================] - 32s 1s/step - loss: 0.0210 - accuracy: 0.9937\n",
            "Epoch 29/30\n",
            "25/25 [==============================] - 30s 1s/step - loss: 0.0238 - accuracy: 0.9950\n",
            "Epoch 30/30\n",
            "25/25 [==============================] - 30s 1s/step - loss: 0.0208 - accuracy: 0.9937\n"
          ]
        },
        {
          "data": {
            "text/plain": [
              "<keras.src.callbacks.History at 0x786ece867be0>"
            ]
          },
          "execution_count": 54,
          "metadata": {},
          "output_type": "execute_result"
        }
      ],
      "source": [
        "#YOUR CODE HERE! Replace the nones!\n",
        "rnn = RNNClassifier(num_epochs=30, lstm_units=50, dropout_rate=0.5)\n",
        "rnn.fit(X_train, y_train)"
      ]
    },
    {
      "cell_type": "markdown",
      "metadata": {
        "id": "8hFMR7NUV84D"
      },
      "source": [
        "### ✍ Exercise: Testing Your Model\n",
        "Now, let's evaluate our model's accuracy! Your model needs to **predict** the sentiment, and then you'll **calculate the accuracy** using the `accuracy_score()` function. **Which dataset** should you use?"
      ]
    },
    {
      "cell_type": "code",
      "execution_count": null,
      "metadata": {
        "colab": {
          "background_save": true
        },
        "id": "obd1a2L1I1Cc",
        "outputId": "12c03e70-0353-48a8-90bb-74b3e015f823"
      },
      "outputs": [
        {
          "name": "stdout",
          "output_type": "stream",
          "text": [
            "7/7 [==============================] - 5s 494ms/step\n",
            "0.71\n"
          ]
        }
      ],
      "source": [
        "y_pred = rnn.predict(X_test) # YOUR CODE HERE\n",
        "accuracy = accuracy_score(y_test, y_pred) # YOUR CODE HERE\n",
        "print(accuracy)"
      ]
    },
    {
      "cell_type": "markdown",
      "metadata": {
        "id": "Zct-JZPQaXno"
      },
      "source": [
        "Congratulations - you've trained and tested your model! It's not perfect, but a whole lot better than a coin flip :)\n"
      ]
    },
    {
      "cell_type": "markdown",
      "metadata": {
        "id": "qiUFnTXrased"
      },
      "source": [
        "### ✍ Exercise: Trying Out Reviews\n",
        "\n",
        "Accuracy only tells us so much! It's often useful to figure out **what sorts** of mistakes your model makes.\n",
        "\n",
        "Try enterning some reviews below and explore:\n",
        "\n",
        "*   What kind of reviews does your model classify correctly? For example, do long or short reviews work better?\n",
        "*   What kind of reviews does your model get wrong? Does it understand sarcasm or other \"tricky\" language?\n",
        "*   Does it seem like your model pays attention to particular words?\n",
        "\n"
      ]
    },
    {
      "cell_type": "code",
      "execution_count": null,
      "metadata": {
        "cellView": "form",
        "id": "euuR1VWWEvsX"
      },
      "outputs": [],
      "source": [
        "#@title Enter a review to see your model's classification\n",
        "example_review = \"This was an amazing good place!\" #@param {type:'string'}\n",
        "\n",
        "# Assuming the functions tokenize_and_embed, standardize_length, and convert_to_array are defined in the same script or imported\n",
        "# First, wrap the example review in a list since our functions expect a list of texts\n",
        "example_reviews = [example_review]\n",
        "\n",
        "# Tokenize and convert the review text to embeddings\n",
        "X_embeddings = tokenize_and_embed(example_reviews)  # Tokenize and get embeddings\n",
        "\n",
        "# Standardize lengths of the embeddings\n",
        "X_padded = standardize_length(X_embeddings)  # Standardize lengths\n",
        "\n",
        "# Convert the padded embeddings into a numpy array suitable for the model\n",
        "X = convert_to_array(X_padded)  # Convert to numpy array suitable for model input\n",
        "\n",
        "prediction = rnn.predict(X)\n",
        "if prediction[0]:\n",
        "  print (\"This was a GOOD review!\")\n",
        "else:\n",
        "  print (\"This was a BAD review!\")\n",
        "\n"
      ]
    },
    {
      "cell_type": "markdown",
      "metadata": {
        "id": "HCpibGeVgy2i"
      },
      "source": [
        "#Exploring Impact and Ethics"
      ]
    },
    {
      "cell_type": "markdown",
      "metadata": {
        "id": "6cAMr90IfcQE"
      },
      "source": [
        "\n",
        "\n",
        "Whenever we explore a new potential use of AI, it is crucial to have a discussion about the **societal and ethical impact** if it were to be implemented at a large scale.\n",
        "\n",
        "*Illustration: erhui1979/iStock*"
      ]
    },
    {
      "cell_type": "markdown",
      "metadata": {
        "id": "eDboCWKLlh6g"
      },
      "source": [
        "<center> <img src=\"https://storage.googleapis.com/inspirit-ai-data-bucket-1/Data/AI%20Scholars/Sessions%201%20-%205/Session%203%20-%20NLP/AI%20Ethics.png\"> </center>"
      ]
    },
    {
      "cell_type": "markdown",
      "metadata": {
        "id": "xEOJTWJxmEoI"
      },
      "source": [
        "### 📈 Who might this AI impact?\n",
        "\n",
        "An imporant part of incorporating AI into your businesses is discuss how it would impact all areas of business.\n",
        "Let's come up with 3 groups people that would be impacted by an AI that can classify reviews as positive or negative. We will call these groups `stakeholders`.\n",
        "\n"
      ]
    },
    {
      "cell_type": "code",
      "execution_count": null,
      "metadata": {
        "cellView": "form",
        "id": "4qISnUEcmumt"
      },
      "outputs": [],
      "source": [
        "stakeholder = '' #@param {type:\"string\"}\n",
        "stakeholder = '' #@param {type:\"string\"}\n",
        "stakeholder = '' #@param {type:\"string\"}\n"
      ]
    },
    {
      "cell_type": "markdown",
      "metadata": {
        "id": "OLzQjhkpgoiY"
      },
      "source": [
        "\n",
        "\n",
        "*   **Discuss**: For each of those stakeholders, what are some benefits of this AI model? What are some drawbacks?\n",
        "\n",
        "\n",
        "> *Hint: What do each of those stakeholders care about?*\n",
        "\n",
        "\n",
        "\n",
        "* **Discuss**: What are some societal outcomes that can occur to if we had a lot of **false positives** (negative reviews misclassified as positive reviews)? How about **false negatives** (positive reviews misclassified as negative reviews)?\n",
        "\n",
        "*   **Discuss**: What are some potential sources of bias?\n",
        "\n",
        "*   **Discuss**: What are some other ethical questions you can come up with?\n",
        "\n",
        "\n",
        "\n",
        "\n"
      ]
    },
    {
      "cell_type": "markdown",
      "metadata": {
        "id": "zcqbg3NSNriB"
      },
      "source": [
        "# Optional Advanced Challenge: Linear Algebra and Embeddings\n",
        "\n",
        "(Heads-up: this challenge section is math-heavy!)"
      ]
    },
    {
      "cell_type": "markdown",
      "metadata": {
        "id": "kTyeFBh0CbNO"
      },
      "source": [
        "One reason text embeddings are cool is that we can use them to explore connections in meaning between different words, including calculating similarity between words and completing [analogies](http://epsilon-it.utu.fi/wv_demo/).\n",
        "\n",
        "To get started, we'll first create a vocabulary of the most common words from our Yelp reviews dataset. We'll use a technique called the Bag of Words (BOW) model with a Counter Vectorizer, which counts how often each word appears. From this, we'll select the top 500 most frequently used words to form our vocabulary.\n",
        "\n",
        "Next, we'll create a dictionary containing the vectors for all the words in our vocabulary. This dictionary will help us analyze the relationships between words. If you want to use more than 500 words, feel free to change that number!"
      ]
    },
    {
      "cell_type": "code",
      "execution_count": null,
      "metadata": {
        "cellView": "form",
        "id": "1obyb1GHppIV"
      },
      "outputs": [],
      "source": [
        "#@title Run this to define our vocabulary builder!\n",
        "nltk.download('stopwords')\n",
        "\n",
        "from nltk.corpus import stopwords\n",
        "from collections import Counter\n",
        "\n",
        "def build_vocab_dict(texts, top_n=500):\n",
        "    \"\"\"\n",
        "    Builds a dictionary of the most common words and their embeddings using SpaCy.\n",
        "\n",
        "    Args:\n",
        "        texts (list of str): The list of texts from which to build the vocabulary.\n",
        "        top_n (int): The number of top words to include in the vocabulary.\n",
        "\n",
        "    Returns:\n",
        "        dict: A dictionary mapping words to their embeddings.\n",
        "    \"\"\"\n",
        "    # Tokenize the text and lower case each word\n",
        "    tokens = [word.lower() for text in texts for word in word_tokenize(text)]\n",
        "\n",
        "    # Remove stopwords and non-alphabetic tokens\n",
        "    filtered_tokens = [token for token in tokens if token.isalpha() and token not in stopwords.words('english')]\n",
        "\n",
        "    # Count the occurrences of each word\n",
        "    word_counts = Counter(filtered_tokens)\n",
        "\n",
        "    # Select the top 'top_n' most common words\n",
        "    most_common_words = [word for word, count in word_counts.most_common(top_n)]\n",
        "\n",
        "    # Create a dictionary for the most common words and their embeddings\n",
        "    vocab_dict = {}\n",
        "    for word in most_common_words:\n",
        "        token = text_to_nlp.vocab[word]\n",
        "        if token.has_vector:  # Check if the token has a vector in the model's vocabulary\n",
        "            vocab_dict[word] = token.vector\n",
        "        else:\n",
        "            # Handle out-of-vocabulary words by assigning a zero vector\n",
        "            embedding_dim = text_to_nlp.vocab.vectors_length\n",
        "            vocab_dict[word] = np.zeros((embedding_dim,))\n",
        "\n",
        "    return vocab_dict\n",
        "\n",
        "# Example usage:\n",
        "# X_text_example = [\"This is the first document.\", \"This document is the second document.\", \"And this is the third one.\"]\n",
        "# vocab_dict = build_vocab_dict(X_text_example)\n",
        "# print(vocab_dict)\n"
      ]
    },
    {
      "cell_type": "code",
      "execution_count": null,
      "metadata": {
        "id": "cHlGBkBKoUPI"
      },
      "outputs": [],
      "source": [
        "vocab_dict = build_vocab_dict(X_text, top_n = 800)\n",
        "\n",
        "for word, vec in vocab_dict.items():\n",
        "  print(word)\n",
        "\n",
        "print ('{} words in our dictionary'.format(len(vocab_dict)))"
      ]
    },
    {
      "cell_type": "markdown",
      "metadata": {
        "id": "WPCcIyTpDuab"
      },
      "source": [
        "### Cosine Similarity\n",
        "Next, let's calculate the similarity between two words, using their Word2Vec representations. As before, we'll use cosine similarity to measure the similarity between our vectors.\n",
        "\n",
        "As an example, imagine we had two three-dimensional vectors:"
      ]
    },
    {
      "cell_type": "code",
      "execution_count": null,
      "metadata": {
        "id": "omAmAv88GZUp"
      },
      "outputs": [],
      "source": [
        "v0 = [2,3,1]\n",
        "v1 = [2,4,1]"
      ]
    },
    {
      "cell_type": "markdown",
      "metadata": {
        "id": "owbBQZUgGgjs"
      },
      "source": [
        "Run the code below to plot those vectors, and try changing the numbers above.\n",
        "How can you make a very small angle between the vectors? How can you make a very large angle?"
      ]
    },
    {
      "cell_type": "code",
      "execution_count": null,
      "metadata": {
        "cellView": "form",
        "id": "QtbbBLgcFmE0"
      },
      "outputs": [],
      "source": [
        "#@title Run this to create an interactive 3D plot\n",
        "#NOTE: Would be extra cool with sliders for the vector coordinates! - DREW\n",
        "#Code from https://stackoverflow.com/questions/47319238/python-plot-3d-vectors\n",
        "import numpy as np\n",
        "import plotly.graph_objs as go\n",
        "\n",
        "def vector_plot(tvects,is_vect=True,orig=[0,0,0]):\n",
        "    \"\"\"Plot vectors using plotly\"\"\"\n",
        "\n",
        "    if is_vect:\n",
        "        if not hasattr(orig[0],\"__iter__\"):\n",
        "            coords = [[orig,np.sum([orig,v],axis=0)] for v in tvects]\n",
        "        else:\n",
        "            coords = [[o,np.sum([o,v],axis=0)] for o,v in zip(orig,tvects)]\n",
        "    else:\n",
        "        coords = tvects\n",
        "\n",
        "    data = []\n",
        "    for i,c in enumerate(coords):\n",
        "        X1, Y1, Z1 = zip(c[0])\n",
        "        X2, Y2, Z2 = zip(c[1])\n",
        "        vector = go.Scatter3d(x = [X1[0],X2[0]],\n",
        "                              y = [Y1[0],Y2[0]],\n",
        "                              z = [Z1[0],Z2[0]],\n",
        "                              marker = dict(size = [0,5],\n",
        "                                            color = ['blue'],\n",
        "                                            line=dict(width=5,\n",
        "                                                      color='DarkSlateGrey')),\n",
        "                              name = 'Vector'+str(i+1))\n",
        "        data.append(vector)\n",
        "\n",
        "    layout = go.Layout(\n",
        "             margin = dict(l = 4,\n",
        "                           r = 4,\n",
        "                           b = 4,\n",
        "                           t = 4)\n",
        "                  )\n",
        "    fig = go.Figure(data=data,layout=layout)\n",
        "    fig.show()\n",
        "\n",
        "\n",
        "vector_plot([v0,v1])"
      ]
    },
    {
      "cell_type": "markdown",
      "metadata": {
        "id": "IJ2JQmZELItA"
      },
      "source": [
        "## Exercise: Identifying Similar Words Using Your Cosine Similarity Function\n",
        "\n",
        "In this exercise, you will apply your own implementation of cosine similarity to find the most similar word to a given target word in a vocabulary. You’ll be using the `my_cosine_similarity` function that you wrote earlier, leveraging it to compare word vectors and identify the closest matches.\n",
        "\n",
        "### What You'll Do\n",
        "\n",
        "Write a function named `find_most_similar` that utilizes your `my_cosine_similarity` function to determine which word in a predefined vocabulary is most similar to a specified target word. The function should return both the most similar word and its similarity score!\n",
        "\n",
        "### Some Guidelines\n",
        "\n",
        "1. **Check Vocabulary**: Initially, ensure the target word is present in the vocabulary. If it’s not, the function should notify the user and not proceed with calculations.\n",
        "2. **Calculate Similarity**: Use your `my_cosine_similarity` function to compute the similarity between the target word's vector and each vector in the vocabulary.\n",
        "3. **Track the Highest Score**: As you compute similarities, keep track of the word with the highest similarity score.\n",
        "4. **Return Results**: After checking all words, return the word with the highest similarity score and the score itself.\n",
        "\n",
        "Here's an example of how your code will be used!\n",
        "\n",
        "```python\n",
        "similar_word, similarity_score = find_most_similar('burger')\n",
        "if similar_word is not None:\n",
        "    print(f\"The most similar word to 'burger' is '{similar_word}' with a similarity score of {similarity_score:.2f}.\")\n",
        "```\n"
      ]
    },
    {
      "cell_type": "code",
      "execution_count": null,
      "metadata": {
        "id": "KwC6EioNJHKR"
      },
      "outputs": [],
      "source": [
        "def find_most_similar(target_word):\n",
        "    # Check if the target word is in the vocabulary dictionary\n",
        "    if target_word not in vocab_dict:\n",
        "        print(\"Word not in dictionary\")\n",
        "        return None, None\n",
        "\n",
        "    # Retrieve the vector for the target word from the vocabulary dictionary\n",
        "    vec1 = vocab_dict[target_word]\n",
        "\n",
        "    # Initialize variables to keep track of the most similar word and the highest similarity score\n",
        "    most_similar_word = None\n",
        "    highest_similarity = -np.inf  # Start with the lowest possible similarity\n",
        "\n",
        "    # Iterate over each word and its vector in the vocabulary dictionary\n",
        "    for word, vec2 in vocab_dict.items():\n",
        "        # YOUR CODE HERE: Calculate the similarity using the my_cosine_similarity function\n",
        "        # Make sure to remove the continue\n",
        "        continue\n",
        "    # Return the most similar word along with the similarity score\n",
        "    return most_similar_word, highest_similarity"
      ]
    },
    {
      "cell_type": "markdown",
      "metadata": {
        "id": "NSNAwNv3Ru8D"
      },
      "source": [
        "### Let's test your function below!"
      ]
    },
    {
      "cell_type": "code",
      "execution_count": null,
      "metadata": {
        "cellView": "form",
        "id": "jJmAeGIPJA3z"
      },
      "outputs": [],
      "source": [
        "word = \"eat\" #@param {type:'string'}\n",
        "\n",
        "similar_word, similarity_score = find_most_similar(word)\n",
        "if similar_word is not None:\n",
        "    print(f\"The most similar word to '{word}' is '{similar_word}' with a similarity score of {similarity_score:.2f}.\")"
      ]
    },
    {
      "cell_type": "markdown",
      "metadata": {
        "id": "rxcyY1YZO9u5"
      },
      "source": [
        "## Using Word Analogies\n",
        "\n",
        "We can use the functions we've built to complete word analogies, similar to the examples found [here](http://epsilon-it.utu.fi/wv_demo/). For instance, consider the analogy:\n",
        "\n",
        "- Breakfast is to bagel as lunch is to ________,\n",
        "\n",
        "This involves a bit of \"word arithmetic\". Suppose $A_1$, $A_2$, and $B_1$ are vectors representing three known words. Our task is to find $B_2$ to complete the analogy:\n",
        "\n",
        "- $A_1$ is to $A_2$ as $B_1$ is to $B_2$.\n",
        "\n",
        "Intuitively, this implies that the vector difference between $A_1$ and $A_2$ should be the same as the vector difference between $B_1$ and $B_2$. Thus, we can express this relationship mathematically as:\n",
        "\n",
        "- $A_1 - A_2 = B_1 - B_2$\n",
        "\n",
        "### Solving for $B_2$:\n",
        "\n",
        "To find $B_2$, we rearrange the above equation:\n",
        "\n",
        "- $B_2 = B_1 - (A_1 - A_2)$\n",
        "\n",
        "This formulation allows us to compute the expected vector for $B_2$ directly by using vector arithmetic. Once we have the vector for $B_2$, we can use our previously developed functions to identify the word whose vector representation is closest to this computed vector. Try it out and explore different analogies!\n"
      ]
    },
    {
      "cell_type": "code",
      "execution_count": null,
      "metadata": {
        "id": "FSMQEm1JQkVZ"
      },
      "outputs": [],
      "source": [
        "# Complete the function below!\n",
        "def find_analogy(word_a1, word_a2, word_b1):\n",
        "    # Retrieve vectors for each word\n",
        "    # Use the word2vec function to get the vector for each word\n",
        "    a1 = word2vec(word_a1)\n",
        "    a2 = word2vec(word_a2)\n",
        "    b1 = word2vec(word_b1)\n",
        "\n",
        "    # Check if any vectors are None (word not in vocabulary)\n",
        "    # If any of the words are not in the vocabulary, print a message and return None\n",
        "    if a1 is None or a2 is None or b1 is None:\n",
        "        missing = [word for word, vec in zip([word_a1, word_a2, word_b1], [a1, a2, b1]) if vec is None]\n",
        "        print(f\"Missing vector for: {', '.join(missing)}\")\n",
        "        return None\n",
        "\n",
        "    # Calculate the expected vector for b2 based on the analogy\n",
        "    # The analogy is: word_a1 is to word_a2 as word_b1 is to what word?\n",
        "    # Calculate vec1 by subtracting the difference between a1 and a2 from b1\n",
        "    vec1 = b1 - (a1 - a2)\n",
        "\n",
        "    # Initialize variables to keep track of the most similar word and the highest similarity score\n",
        "    most_similar_word = None\n",
        "    highest_similarity = None  # Initialize with None or a very low value\n",
        "\n",
        "    # Iterate over each word and its vector in the vocabulary dictionary\n",
        "    # vocab_dict is a dictionary where keys are words and values are their vectors\n",
        "    for word, vec2 in vocab_dict.items():\n",
        "        # Skip the current word_b1 to avoid trivial matches\n",
        "\n",
        "        # Calculate the similarity using the my_cosine_similarity function\n",
        "        # Your code to calculate similarity goes here\n",
        "\n",
        "        # Update the most similar word and the highest similarity score if the current word is more similar\n",
        "        # Your code to update most_similar_word and highest_similarity goes here\n",
        "\n",
        "    # Return the most similar word along with the similarity score\n",
        "    return most_similar_word, highest_similarity\n"
      ]
    },
    {
      "cell_type": "markdown",
      "metadata": {
        "id": "HHmE4xoyQHYN"
      },
      "source": [
        "### Let's test your function to see how it does!"
      ]
    },
    {
      "cell_type": "code",
      "execution_count": null,
      "metadata": {
        "cellView": "form",
        "id": "WbazWL9BPDYQ"
      },
      "outputs": [],
      "source": [
        "worda1 = \"cars\" #@param {type:'string'}\n",
        "worda2 = \"wheels\" #@param {type:'string'}\n",
        "wordb1 = \"birds\" #@param {type:'string'}\n",
        "\n",
        "similar_word, similarity_score = find_analogy(worda1, worda2, wordb1)\n",
        "if similar_word is not None:\n",
        "    print(f\"The word analogous to '{wordb1}' in the context of '{worda1}' to '{worda2}' is '{similar_word}', with a similarity score of {similarity_score:.2f}.\")\n",
        "else:\n",
        "    print(f\"No analogous word found for '{wordb1}' in the context of '{worda1}' to '{worda2}'.\")\n"
      ]
    },
    {
      "cell_type": "markdown",
      "metadata": {
        "id": "zlDcBn9kQxNR"
      },
      "source": [
        "Word arithmetic doesn't always work perfectly - it's pretty tricky to find good examples! Which can you discover?\n",
        "\n",
        "If you're looking for a way to expand further on this exercise, you can try seeing what happens when you use [Euclidean distance](https://en.wikipedia.org/wiki/Euclidean_distance), another common measurement, instead of cosine similarity."
      ]
    }
  ],
  "metadata": {
    "colab": {
      "provenance": [],
      "include_colab_link": true
    },
    "kernelspec": {
      "display_name": "Python 3",
      "name": "python3"
    },
    "language_info": {
      "codemirror_mode": {
        "name": "ipython",
        "version": 3
      },
      "file_extension": ".py",
      "mimetype": "text/x-python",
      "name": "python",
      "nbconvert_exporter": "python",
      "pygments_lexer": "ipython3",
      "version": "3.6.4"
    }
  },
  "nbformat": 4,
  "nbformat_minor": 0
}